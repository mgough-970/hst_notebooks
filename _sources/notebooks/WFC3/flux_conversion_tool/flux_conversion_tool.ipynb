{
 "cells": [
  {
   "cell_type": "markdown",
   "id": "6077aec5",
   "metadata": {},
   "source": [
    "<a id=\"title\"></a>\n",
    "# Flux Unit Conversions with synphot and stsynphot\n",
    "***\n",
    "## Learning Goals\n",
    "By the end of this tutorial, you will:\n",
    "\n",
    "- Perform conversions between various systems of flux and magnitude using the `synphot` and `stsynphot` packages.\n",
    "- Extrapolate an output flux at a different wavelength than the input flux, by using a spectrum defined using the same packages.\n",
    "- Provide a framework to adapt a more personalized and streamlined conversion process, if desired.\n",
    "\n",
    "## Table of Contents\n",
    "[Introduction](#intro) <br>\n",
    "[1. Imports](#imports) <br>\n",
    "[2. Input and output setup](#input) <br>\n",
    "- [2.1 Units](#unit) <br>\n",
    "- [2.2 Bandpasses](#band) <br>\n",
    "- [2.3 Choosing a spectrum](#spec) <br>\n",
    "- [2.4 User settings](#user) <br>\n",
    "\n",
    "[3. Set up the conversion](#setting) <br>\n",
    "[4. Perform the conversion and create a plot](#perform) <br>\n",
    "[5. Examples](#ex) <br>\n",
    "- [5.1 Flux in Jy to AB mag with a flat spectrum in $F_\\nu$](#ex1) <br>\n",
    "- [5.2 Flux in flam to Flux in flam along a blackbody](#ex2) <br>\n",
    "- [5.3 Flux in fnu to flux in photnu, any spectrum (same wavelength)](#ex3) <br>\n",
    "- [5.4 mag to mag from an HST bandpass to a Johnson bandpass, flat spectrum in $F_\\lambda$](#ex4) <br>\n",
    "\n",
    "[6. Conclusions](#conclusion) <br>\n",
    "[Additional Resources](#resources) <br>\n",
    "[About the Notebook](#about) <br>\n",
    "[Citations](#cite) <br>"
   ]
  },
  {
   "cell_type": "markdown",
   "id": "53a3fa89",
   "metadata": {},
   "source": [
    "<a id=\"intro\"></a>\n",
    "## Introduction\n",
    "This notebook is based on the prior \"HST Photometric Conversion Tool\" that returns unit conversions between various flux units and magnitude systems. It is not intended to replace more detailed functionality such as that provided by the [Exposure Time Calculator](https://etc.stsci.edu/) (ETC). Rather, it is intended to provide a simple, quick result for flux unit conversions.\n",
    "\n",
    "`stsynphot` requires access to data distributed by the [Calibration Data Reference System](https://hst-crds.stsci.edu/) (CRDS) in order to operate. Both packages look for an environment variable called `PYSYN_CDBS` to find the directory containing these data.\n",
    "\n",
    "Users can obtain these data files from the CDRS. Information on how to obtain the most up-to-date reference files (and what they contain) can be found [here](https://www.stsci.edu/hst/instrumentation/reference-data-for-calibration-and-tools/synphot-throughput-tables). An example of how to download these files using `curl` and set up this environment variable is presented in the imports section below.\n",
    "\n",
    "For detailed instructions on how to install and set up these packages, see the [synphot](https://synphot.readthedocs.io/en/latest/#installation-and-setup) and [stsynphot](https://stsynphot.readthedocs.io/en/latest/#installation-and-setup) documentation."
   ]
  },
  {
   "cell_type": "markdown",
   "id": "746e504f",
   "metadata": {},
   "source": [
    "<a id=\"imports\"></a>\n",
    "## 1. Imports\n",
    "\n",
    "This notebook assumes you have created the virtual environment in [WFC3 notebooks’](https://github.com/spacetelescope/hst_notebooks/blob/main/notebooks/WFC3/README.md) installation instructions.\n",
    "\n",
    "We import:\n",
    "- *os* for setting environment variables\n",
    "- *tarfile* for extracting a .tar archive\n",
    "\n",
    "- *numpy* for handling array functions\n",
    "- *matplotlib.pyplot* for plotting data\n",
    "\n",
    "- *synphot* and *stsynphot* for evaluating synthetic photometry\n",
    "- *astropy.units* and *synphot.units* for handling units\n",
    "\n",
    "Additionally, we will need to set the `PYSYN_CDBS` environment variable *before* importing stsynphot. We will also create a Vega spectrum using synphot's inbuilt `from_vega()` method, as the latter package will supercede this method's functionality and require a downloaded copy of the latest Vega spectrum to be provided."
   ]
  },
  {
   "cell_type": "code",
   "execution_count": 1,
   "id": "7f440831",
   "metadata": {
    "execution": {
     "iopub.execute_input": "2024-03-07T15:09:06.187084Z",
     "iopub.status.busy": "2024-03-07T15:09:06.186917Z",
     "iopub.status.idle": "2024-03-07T15:09:07.022018Z",
     "shell.execute_reply": "2024-03-07T15:09:07.021562Z"
    }
   },
   "outputs": [],
   "source": [
    "import os\n",
    "import tarfile\n",
    "\n",
    "import numpy as np\n",
    "import matplotlib.pyplot as plt\n",
    "\n",
    "from synphot import SourceSpectrum\n",
    "from synphot.models import BlackBody1D, PowerLawFlux1D\n",
    "from synphot.units import convert_flux\n",
    "\n",
    "from astropy import units as u\n",
    "from synphot import units as su\n",
    "\n",
    "%matplotlib inline\n",
    "vegaspec = SourceSpectrum.from_vega() "
   ]
  },
  {
   "cell_type": "markdown",
   "id": "03e60162",
   "metadata": {},
   "source": [
    "This section obtains the WFC3 throughput component tables for use with `stsynphot`. This step only needs to be done once. If these reference files have already been downloaded, this section can be skipped."
   ]
  },
  {
   "cell_type": "code",
   "execution_count": 2,
   "id": "528e42d3",
   "metadata": {
    "execution": {
     "iopub.execute_input": "2024-03-07T15:09:07.024464Z",
     "iopub.status.busy": "2024-03-07T15:09:07.024063Z",
     "iopub.status.idle": "2024-03-07T15:09:14.800190Z",
     "shell.execute_reply": "2024-03-07T15:09:14.799714Z"
    }
   },
   "outputs": [
    {
     "name": "stderr",
     "output_type": "stream",
     "text": [
      "  % Total    % Received % Xferd  Average Speed   Time    Time     Time  Current\n",
      "                                 Dload  Upload   Total   Spent    Left  Speed\n",
      "\r",
      "  0     0    0     0    0     0      0      0 --:--:-- --:--:-- --:--:--     0"
     ]
    },
    {
     "name": "stderr",
     "output_type": "stream",
     "text": [
      "\r",
      "  8  796M    8 66.4M    0     0  67.5M      0  0:00:11 --:--:--  0:00:11 67.5M"
     ]
    },
    {
     "name": "stderr",
     "output_type": "stream",
     "text": [
      "\r",
      " 24  796M   24  196M    0     0  99.3M      0  0:00:08  0:00:01  0:00:07 99.3M"
     ]
    },
    {
     "name": "stderr",
     "output_type": "stream",
     "text": [
      "\r",
      " 36  796M   36  294M    0     0  98.6M      0  0:00:08  0:00:02  0:00:06 98.6M"
     ]
    },
    {
     "name": "stderr",
     "output_type": "stream",
     "text": [
      "\r",
      " 52  796M   52  420M    0     0   105M      0  0:00:07  0:00:03  0:00:04  105M"
     ]
    },
    {
     "name": "stderr",
     "output_type": "stream",
     "text": [
      "\r",
      " 69  796M   69  552M    0     0   110M      0  0:00:07  0:00:04  0:00:03  110M"
     ]
    },
    {
     "name": "stderr",
     "output_type": "stream",
     "text": [
      "\r",
      " 85  796M   85  683M    0     0   114M      0  0:00:06  0:00:05  0:00:01  123M"
     ]
    },
    {
     "name": "stderr",
     "output_type": "stream",
     "text": [
      "\r",
      "100  796M  100  796M    0     0   116M      0  0:00:06  0:00:06 --:--:--  123M\n"
     ]
    },
    {
     "data": {
      "text/plain": [
       "0"
      ]
     },
     "execution_count": 2,
     "metadata": {},
     "output_type": "execute_result"
    }
   ],
   "source": [
    "cmd_input = 'curl -O https://archive.stsci.edu/hlsps/reference-atlases/hlsp_reference-atlases_hst_multi_everything_multi_v11_sed.tar'\n",
    "os.system(cmd_input)"
   ]
  },
  {
   "cell_type": "markdown",
   "id": "a60c88ec",
   "metadata": {},
   "source": [
    "Once the downloaded is complete, extract the file and set the environment variable `PYSYN_CDBS` to the path of the `trds` subdirectory.  The next cell will do this for you, as long as the `.tar` file downloaded above has not been moved."
   ]
  },
  {
   "cell_type": "code",
   "execution_count": 3,
   "id": "f80d0021",
   "metadata": {
    "execution": {
     "iopub.execute_input": "2024-03-07T15:09:14.802313Z",
     "iopub.status.busy": "2024-03-07T15:09:14.801990Z",
     "iopub.status.idle": "2024-03-07T15:09:18.053570Z",
     "shell.execute_reply": "2024-03-07T15:09:18.053057Z"
    }
   },
   "outputs": [],
   "source": [
    "tar_archive = 'hlsp_reference-atlases_hst_multi_everything_multi_v11_sed.tar'\n",
    "extract_to = 'hlsp_reference-atlases_hst_multi_everything_multi_v11_sed'\n",
    "with tarfile.open(tar_archive, 'r') as tar:\n",
    "    tar.extractall(path=extract_to)\n",
    "\n",
    "os.environ['PYSYN_CDBS'] = 'hlsp_reference-atlases_hst_multi_everything_multi_v11_sed/grp/redcat/trds/'"
   ]
  },
  {
   "cell_type": "markdown",
   "id": "c4bbc869",
   "metadata": {},
   "source": [
    "Now, after having set up `PYSYN_CDBS`, we import stsynphot. A warning regarding the Vega spectrum is expected here."
   ]
  },
  {
   "cell_type": "code",
   "execution_count": 4,
   "id": "5e4bba39",
   "metadata": {
    "execution": {
     "iopub.execute_input": "2024-03-07T15:09:18.056003Z",
     "iopub.status.busy": "2024-03-07T15:09:18.055676Z",
     "iopub.status.idle": "2024-03-07T15:09:18.088737Z",
     "shell.execute_reply": "2024-03-07T15:09:18.088232Z"
    }
   },
   "outputs": [
    {
     "name": "stderr",
     "output_type": "stream",
     "text": [
      "WARNING: Failed to load Vega spectrum from hlsp_reference-atlases_hst_multi_everything_multi_v11_sed/grp/redcat/trds//calspec/alpha_lyr_stis_010.fits; Functionality involving Vega will be cripped: FileNotFoundError(2, 'No such file or directory') [stsynphot.spectrum]\n"
     ]
    }
   ],
   "source": [
    "import stsynphot as stsyn"
   ]
  },
  {
   "cell_type": "markdown",
   "id": "9ddf5c75",
   "metadata": {},
   "source": [
    "<a id=\"input\"></a>\n",
    "## 2. Input and output setup\n",
    "\n",
    "<a id=\"unit\"></a>\n",
    "### 2.1 Units\n",
    "\n",
    "The conversion framework below will accept any `astropy` or `synphot` unit with dimensions of spectral flux density ($F_\\lambda$ or $F_\\nu$) or photon flux density. Flux units with any of the following dimensions will be supported by the tool:\n",
    "- [power] [area] [wavelength]$^{-1}$\n",
    "- [power] [area] [frequency]$^{-1}$\n",
    "- photons [area] [wavelength]$^{-1}$\n",
    "- photons [area] [frequency]$^{-1}$\n",
    "\n",
    "Alternatively, a magnitude system may be specified as the unit for the input or the output in the same way that a flux density would be. The tables below lists flux units which are defined by name in `astropy` and `synphot`, and the magnitude systems supported by the tool.\n",
    "\n",
    "| Unit | Definition | astropy/synphot attribute |\n",
    "|:---|:---:|:---\n",
    "| Jansky | $$10^{-26} \\text{ W} \\text{ m}^{-2} \\text{ Hz}^{-1}$$ | `astropy.units.Jy` |\n",
    "| fnu | $$\\text{erg} \\text{ s}^{-1} \\text{ cm}^{-2} \\text{ Hz}^{-1}$$ | `synphot.units.FNU` |\n",
    "| flam | $$\\text{erg} \\text{ s}^{-1} \\text{ cm}^{-2} \\text{ Å}^{-1}$$ |`synphot.units.FLAM` |\n",
    "| photnu | $$\\text{photons} \\text{ s}^{-1} \\text{ cm}^{-2} \\text{ Hz}^{-1}$$ | `synphot.units.PHOTNU` |\n",
    "| photlam | $$\\text{photons} \\text{ s}^{-1} \\text{ cm}^{-2} \\text{ Å}^{-1}$$ | `synphot.units.PHOTLAM` |\n",
    "\n",
    "| Mag System | astropy/synphot attribute |\n",
    "|:---|:---|\n",
    "| ABmag | `astropy.units.ABmag` |\n",
    "| STmag | `astropy.units.STmag` |\n",
    "| vegamag | `synphot.units.VEGAMAG` |\n",
    "\n",
    "For more information on accepted units in `synphot`, refer to the documentation [here](https://synphot.readthedocs.io/en/latest/synphot/units.html). \n",
    "\n",
    "<a id=\"band\"></a>\n",
    "### 2.2 Bandpasses\n",
    "\n",
    "When selecting a magnitude as an input or output, the tool will need a bandpass to be defined, which is done with a string of [observation mode](https://stsynphot.readthedocs.io/en/latest/stsynphot/obsmode.html#), or obsmode, keywords. The pivot wavelength for that bandpass will then serve as the characteristic wavelength to be used for the conversion.\n",
    "\n",
    "For HST bandpasses, `stsynphot` accounts for the telescope's optics by combining throughput information along the entire optical path. As an example, `'wfc3, uvis2, f475w, mjd#59367'` tells `stsynphot` to retrieve the latest throughput tables for the UVIS2 detector on WFC3, through the F475W filter for the Modified Julian Date 59367 (June 1, 2021). The option to specify a Julian date is provided for instruments which show changes in sensitivity over time. If no date is specified, `stsynphot` will use the reference epoch for each instrument as default.\n",
    "\n",
    "As the required and optional obsmode keywords vary from instrument to instrument, it would be impractical to list the available options here in their entirety. Please refer to the [full list](https://stsynphot.readthedocs.io/en/latest/stsynphot/appendixb.html#stsynphot-appendixb) of available obsmode keywords for details on how to specify HST bandpasses.\n",
    "\n",
    "For non-HST filter systems, the only required keywords are the filter system's name and that of the desired filter within that system (e.g. `'johnson, v'`). A list of the non-HST filter systems accepted by `stsynphot` is given here:\n",
    "\n",
    "| System    | Bands               |\n",
    "|:----------|:--------------------|\n",
    "| cousins   | r, i                |\n",
    "| galex     | nuv, fuv            |\n",
    "| johnson   | u, b, v, r, i, j, k |\n",
    "| landolt   | u, b, v, r, i       |\n",
    "| sdss      | u, g, r, i, z,      |\n",
    "| stromgren | u, v, b, y          |\n",
    "\n",
    "<a id=\"spec\"></a>\n",
    "### 2.3 Choosing a spectrum\n",
    "\n",
    "You'll also need to define a spectrum, which the tool will use to extrapolate your input flux to an output at a different wavelength.\n",
    "\n",
    "The embedded code below shows how to generate or load various useful spectra. You can simply copy one of them into the cell below and modify as appropriate, or create your own. For more information, see the [Source Spectrum documentation](https://synphot.readthedocs.io/en/latest/synphot/spectrum.html#).\n",
    "\n",
    "Some notes:\n",
    "- For evaluation and plotting, these models default to outputting flux in photlam, however, the output unit may be specified with the `flux_unit` keyword argument.\n",
    "\n",
    "- `synphot.models.BlackBody1D` outputs a function according to Planck's law, which means that the output unit carries an implicit \"per unit solid angle,\" in steradians. For a normalized blackbody, you can use `BlackBodyNorm1D`, whose output is normalized to a 1 solar radius star at a distance of 1 kpc, or multiply your source spectrum by some solid angle of your choosing.\n",
    "\n",
    "- `synphot.models.PowerLawFlux1D` uses the definition $f(x) = A (\\frac{x}{x_0})^{-\\alpha}$, where $A$ is input flux (`flux_in`), and $x_0$ is the input wavelength (`wavelength_in`). Note the negative sign in front of the power law index $\\alpha$. The model can generate curves with $x$ as either frequency or wavelength, but the example here assumes that wavelength will be used. The y-axis unit will be taken from $A$. \n",
    "\n",
    "- A wide array of reference spectra are available for download from spectral atlases located [here](https://www.stsci.edu/hst/instrumentation/reference-data-for-calibration-and-tools/astronomical-catalogs).\n",
    "\n",
    "\n",
    "\n",
    "Example spectrum definitions:\n",
    "\n",
    "```python\n",
    "# Blackbody\n",
    "bb_temp = 5800 * u.K\n",
    "\n",
    "model = BlackBody1D(bb_temp)\n",
    "spectrum = SourceSpectrum(model)\n",
    "\n",
    "# Power law \n",
    "pl_index = 0\n",
    "\n",
    "model = PowerLawFlux1D(amplitude=flux_in, x_0=wavelength_in, alpha=pl_index)\n",
    "spectrum = SourceSpectrum(model)\n",
    "                                             \n",
    "# Load from a FITS table\n",
    "spectrum = SourceSpectrum.from_file('/path/to/your/spectrum.fits')\n",
    "```\n",
    "\n",
    "The notebook has been set up to perform an extrapolation from $V = 0.0$ in the Vega system to the R-band in the same system, using the Vega spectrum defined in the imports cell. Further examples of input and output settings are available at the bottom of this notebook.\n",
    "\n",
    "<a id=\"user\"></a>\n",
    "### 2.4 User settings\n",
    "\n",
    "First, we define our conversion input settings:\n",
    "- `value_in`: numerical value of input flux/mag (float)\n",
    "- `unit_in`: unit or mag system for input value\n",
    "- `waveband_in`: input's wavelength (float) for flux, or bandpass obsmode (string) for magnitudes. The use of \"waveband\" here is only for the purpose of variable naming, since this can be either a wavelength or a bandpass.\n",
    "- `wavelength_unit`: wavelength unit (used for plots, so needs to be specified even when using a bandpass)"
   ]
  },
  {
   "cell_type": "code",
   "execution_count": 5,
   "id": "de540dfe",
   "metadata": {
    "execution": {
     "iopub.execute_input": "2024-03-07T15:09:18.090924Z",
     "iopub.status.busy": "2024-03-07T15:09:18.090540Z",
     "iopub.status.idle": "2024-03-07T15:09:18.092968Z",
     "shell.execute_reply": "2024-03-07T15:09:18.092594Z"
    }
   },
   "outputs": [],
   "source": [
    "value_in = 0.0\n",
    "unit_in = su.VEGAMAG\n",
    "waveband_in = 'johnson, v'\n",
    "wavelength_unit = u.nm "
   ]
  },
  {
   "cell_type": "markdown",
   "id": "42d7a951",
   "metadata": {},
   "source": [
    "Next, we define our conversion output settings:\n",
    "- `unit_out`: unit or mag system for the output\n",
    "- `waveband_out`: wavelength (float) or bandpass obsmode (string) to find output for; if a wavelength, the unit specified in the cell above by `wavelength_unit` will be used."
   ]
  },
  {
   "cell_type": "code",
   "execution_count": 6,
   "id": "3d477832",
   "metadata": {
    "execution": {
     "iopub.execute_input": "2024-03-07T15:09:18.094846Z",
     "iopub.status.busy": "2024-03-07T15:09:18.094536Z",
     "iopub.status.idle": "2024-03-07T15:09:18.096690Z",
     "shell.execute_reply": "2024-03-07T15:09:18.096298Z"
    }
   },
   "outputs": [],
   "source": [
    "unit_out = su.VEGAMAG\n",
    "waveband_out = 'cousins, r'"
   ]
  },
  {
   "cell_type": "markdown",
   "id": "ee4dd82c",
   "metadata": {},
   "source": [
    "Finally, we define our spectrum to use (copy/paste from above, or define your own)."
   ]
  },
  {
   "cell_type": "code",
   "execution_count": 7,
   "id": "b542e3c2",
   "metadata": {
    "execution": {
     "iopub.execute_input": "2024-03-07T15:09:18.098580Z",
     "iopub.status.busy": "2024-03-07T15:09:18.098271Z",
     "iopub.status.idle": "2024-03-07T15:09:18.100405Z",
     "shell.execute_reply": "2024-03-07T15:09:18.100051Z"
    }
   },
   "outputs": [],
   "source": [
    "spectrum = vegaspec"
   ]
  },
  {
   "cell_type": "markdown",
   "id": "d8d4e50f",
   "metadata": {},
   "source": [
    "<a id=\"setting\"></a>\n",
    "## 3. Set up the conversion\n",
    "\n",
    "Now, we need to run a few cells that will set up the conversion. First, we check whether the input and output are a flux or a magnitude, and set some variables appropriately. Then, we scale the chosen spectrum such that it passes through the defined input so the extrapolation to the output wavelength will give an accurate result.\n",
    "\n",
    "Note that the default plotting unit is set to the input unit for conversions made from flux units, and photlam for conversions from magnitudes. This may be altered, if desired, by changing the `plot_unit` variable definitions in the cell below."
   ]
  },
  {
   "cell_type": "markdown",
   "id": "0a54da3b",
   "metadata": {},
   "source": [
    "**Note: No inputs required for the cells below. All the inputs were assigned in [Section 2.4](#user).**\n",
    "\n",
    "First, let's combine input value and unit as a quantity, then list the systems that will work for the tool."
   ]
  },
  {
   "cell_type": "code",
   "execution_count": 8,
   "id": "1caf81ab",
   "metadata": {
    "execution": {
     "iopub.execute_input": "2024-03-07T15:09:18.102293Z",
     "iopub.status.busy": "2024-03-07T15:09:18.101989Z",
     "iopub.status.idle": "2024-03-07T15:09:18.104574Z",
     "shell.execute_reply": "2024-03-07T15:09:18.104089Z"
    }
   },
   "outputs": [],
   "source": [
    "quantity_in = value_in * unit_in\n",
    "mag_systems = [u.STmag, u.ABmag, su.VEGAMAG]\n",
    "flux_systems = ['spectral flux density', 'spectral flux density wav', \n",
    "                'photon flux density', 'photon flux density wav']"
   ]
  },
  {
   "cell_type": "markdown",
   "id": "bfe5d48f",
   "metadata": {},
   "source": [
    "Next, let's get inputs set up for following steps. Here are the three possible outcomes:\n",
    "- **If the input is a magnitude,**\n",
    "    - define bandpass with input obsmode string\n",
    "    - pivot wavelength of input bandpass\n",
    "    - set `flux_in` to equivalent flux in photlam at pivot wavelength (Vega spectrum needed if using VEGAMAG)\n",
    "    - set plotting unit and flux for later\n",
    "    \n",
    "    \n",
    "- **If the input is a flux,**\n",
    "    - combine wavelength for flux and unit as the input wavelength\n",
    "    - set plotting unit and flux for later\n",
    "\n",
    "\n",
    "- **If anything else, print**\n",
    "    - `unit_in not a flux density unit or magnitude system`"
   ]
  },
  {
   "cell_type": "code",
   "execution_count": 9,
   "id": "5338d317",
   "metadata": {
    "execution": {
     "iopub.execute_input": "2024-03-07T15:09:18.106640Z",
     "iopub.status.busy": "2024-03-07T15:09:18.106274Z",
     "iopub.status.idle": "2024-03-07T15:09:18.310807Z",
     "shell.execute_reply": "2024-03-07T15:09:18.310268Z"
    }
   },
   "outputs": [],
   "source": [
    "if unit_in in mag_systems:\n",
    "    mag_in = quantity_in\n",
    "    bandpass_in = stsyn.band(waveband_in)\n",
    "    wavelength_in = bandpass_in.pivot().to(wavelength_unit)\n",
    "    flux_in = convert_flux(wavelength_in, quantity_in, su.PHOTLAM,\n",
    "                           vegaspec=vegaspec)\n",
    "    plot_unit = su.PHOTLAM\n",
    "    plot_flux_in = convert_flux(wavelength_in, flux_in, plot_unit)\n",
    "elif unit_in.physical_type in flux_systems:\n",
    "    flux_in = quantity_in\n",
    "    wavelength_in = waveband_in * wavelength_unit \n",
    "    plot_unit = unit_in\n",
    "    plot_flux_in = convert_flux(wavelength_in, flux_in, plot_unit)\n",
    "else:\n",
    "    print('unit_in not a flux density unit or magnitude system')"
   ]
  },
  {
   "cell_type": "markdown",
   "id": "9f3b3f26",
   "metadata": {},
   "source": [
    "We perform a similar setup for outputs:\n",
    "- **If the output is a magnitude,**\n",
    "    - use output wavelength to calculate output bandpass\n",
    "    - output bandpass's pivot wavelength\n",
    "    \n",
    "    \n",
    "- **If the output is a flux,**\n",
    "    - combine wavelength for flux and unit as output wavelength\n",
    "    \n",
    "\n",
    "- **If anything else, print**\n",
    "    - `unit_out not a flux density unit or magnitude system`"
   ]
  },
  {
   "cell_type": "code",
   "execution_count": 10,
   "id": "5928f11f",
   "metadata": {
    "execution": {
     "iopub.execute_input": "2024-03-07T15:09:18.313417Z",
     "iopub.status.busy": "2024-03-07T15:09:18.313049Z",
     "iopub.status.idle": "2024-03-07T15:09:18.321780Z",
     "shell.execute_reply": "2024-03-07T15:09:18.321399Z"
    }
   },
   "outputs": [],
   "source": [
    "if unit_out in mag_systems:\n",
    "    bandpass_out = stsyn.band(waveband_out)\n",
    "    wavelength_out = bandpass_out.pivot().to(wavelength_unit)\n",
    "elif unit_out.physical_type in flux_systems:\n",
    "    wavelength_out = waveband_out * wavelength_unit\n",
    "else:\n",
    "    print('unit_out not a flux density unit or magnitude system')    "
   ]
  },
  {
   "cell_type": "markdown",
   "id": "339e2f19",
   "metadata": {},
   "source": [
    "Finally, we convert the flux, scale, and multiply by our spectrum. The default evaluation unit is set to photlam."
   ]
  },
  {
   "cell_type": "code",
   "execution_count": 11,
   "id": "c747a9e6",
   "metadata": {
    "execution": {
     "iopub.execute_input": "2024-03-07T15:09:18.323781Z",
     "iopub.status.busy": "2024-03-07T15:09:18.323414Z",
     "iopub.status.idle": "2024-03-07T15:09:18.327849Z",
     "shell.execute_reply": "2024-03-07T15:09:18.327376Z"
    }
   },
   "outputs": [],
   "source": [
    "scale = convert_flux(wavelength_in, flux_in, su.PHOTLAM) / spectrum(wavelength_in)\n",
    "scaled_spectrum = spectrum * scale"
   ]
  },
  {
   "cell_type": "markdown",
   "id": "e54c6137",
   "metadata": {},
   "source": [
    "<a id=\"perform\"></a>\n",
    "## 4. Perform the conversion and create a plot\n",
    "\n",
    "We can now find our output by using the `convert_flux` function from `synphot`. We will first scale the spectrum defined above such that its value at the input wavelength is that of the input flux. Then, we convert the scaled spectrum's value at the *output* wavelength to the selected output units, as well as the unit that will be used for plotting. "
   ]
  },
  {
   "cell_type": "code",
   "execution_count": 12,
   "id": "317c99b2",
   "metadata": {
    "execution": {
     "iopub.execute_input": "2024-03-07T15:09:18.329833Z",
     "iopub.status.busy": "2024-03-07T15:09:18.329524Z",
     "iopub.status.idle": "2024-03-07T15:09:18.336026Z",
     "shell.execute_reply": "2024-03-07T15:09:18.335545Z"
    }
   },
   "outputs": [],
   "source": [
    "if unit_out in mag_systems:\n",
    "    flux_out = convert_flux(wavelength_out, scaled_spectrum(wavelength_out), unit_out,\n",
    "                            vegaspec=vegaspec)\n",
    "    plot_flux_out = convert_flux(wavelength_out, scaled_spectrum(wavelength_out), plot_unit)\n",
    "else:\n",
    "    flux_out = convert_flux(wavelength_out, scaled_spectrum(wavelength_out), unit_out)\n",
    "    plot_flux_out = convert_flux(wavelength_out, scaled_spectrum(wavelength_out), plot_unit)\n",
    "    \n",
    "value_out = flux_out.value"
   ]
  },
  {
   "cell_type": "markdown",
   "id": "7a086b2d",
   "metadata": {},
   "source": [
    "Print the input and output values."
   ]
  },
  {
   "cell_type": "code",
   "execution_count": 13,
   "id": "82c08695",
   "metadata": {
    "execution": {
     "iopub.execute_input": "2024-03-07T15:09:18.338188Z",
     "iopub.status.busy": "2024-03-07T15:09:18.337822Z",
     "iopub.status.idle": "2024-03-07T15:09:18.341062Z",
     "shell.execute_reply": "2024-03-07T15:09:18.340582Z"
    }
   },
   "outputs": [
    {
     "name": "stdout",
     "output_type": "stream",
     "text": [
      "Input: 0.0000 VEGAMAG at 547.9 nm\n",
      "\n",
      "Input: -0.0000 VEGAMAG at 647.3 nm\n",
      "\n"
     ]
    }
   ],
   "source": [
    "print(f'Input: {value_in:.4f} {unit_in:s} at {wavelength_in.value:.1f} {wavelength_in.unit:s}\\n')\n",
    "print(f'Input: {value_out:.4f} {unit_out:s} at {wavelength_out.value:.1f} {wavelength_out.unit:s}\\n')\n",
    "# print(f'Output: {float(value_out):.4} {} at {:.1f} {}'.format(, str(unit_out), wavelength_out.value, str(wavelength_out.unit)))"
   ]
  },
  {
   "cell_type": "markdown",
   "id": "de0ffd76",
   "metadata": {},
   "source": [
    "While not strictly necessary for performing the conversion, plotting the selected spectrum with the input and output points can be a useful check to see if the spectrum looks like what you're expecting.\n",
    "\n",
    "Let's define a set of wavelengths and minimum/maximum bounds for the plot."
   ]
  },
  {
   "cell_type": "code",
   "execution_count": 14,
   "id": "0b5f1e79",
   "metadata": {
    "execution": {
     "iopub.execute_input": "2024-03-07T15:09:18.342941Z",
     "iopub.status.busy": "2024-03-07T15:09:18.342666Z",
     "iopub.status.idle": "2024-03-07T15:09:18.345828Z",
     "shell.execute_reply": "2024-03-07T15:09:18.345344Z"
    }
   },
   "outputs": [],
   "source": [
    "wavelength_settings = [wl.value for wl in [wavelength_in, wavelength_out]]\n",
    "short = min(wavelength_settings)\n",
    "long = max(wavelength_settings)\n",
    "\n",
    "if short == long:  # In case wavelength_in == wavelength_out\n",
    "    diff = 10.\n",
    "else:\n",
    "    diff = long - short\n",
    "right = long + diff\n",
    "left = max([short - diff, 0.1])\n",
    "wavelength_space = np.linspace(left, right, 10000) * wavelength_unit"
   ]
  },
  {
   "cell_type": "markdown",
   "id": "7805b257",
   "metadata": {},
   "source": [
    "We will also set the colors for the in/out markers."
   ]
  },
  {
   "cell_type": "code",
   "execution_count": 15,
   "id": "358172e8",
   "metadata": {
    "execution": {
     "iopub.execute_input": "2024-03-07T15:09:18.347635Z",
     "iopub.status.busy": "2024-03-07T15:09:18.347475Z",
     "iopub.status.idle": "2024-03-07T15:09:18.349933Z",
     "shell.execute_reply": "2024-03-07T15:09:18.349542Z"
    }
   },
   "outputs": [],
   "source": [
    "if wavelength_in.value > wavelength_out.value:\n",
    "    c_in = 'r'\n",
    "    c_out = 'b'\n",
    "else: \n",
    "    c_in = 'b'\n",
    "    c_out = 'r'"
   ]
  },
  {
   "cell_type": "markdown",
   "id": "8495e6ac",
   "metadata": {},
   "source": [
    "Plot the spectrum, input, and output. If the input was a magnitude, then `plot_unit` ([see Section 3](#setting)) will be used. In addition, if the input and output wavelength are the same, then print the input and output."
   ]
  },
  {
   "cell_type": "code",
   "execution_count": 16,
   "id": "8bea8f73",
   "metadata": {
    "execution": {
     "iopub.execute_input": "2024-03-07T15:09:18.351662Z",
     "iopub.status.busy": "2024-03-07T15:09:18.351506Z",
     "iopub.status.idle": "2024-03-07T15:09:18.542627Z",
     "shell.execute_reply": "2024-03-07T15:09:18.542112Z"
    }
   },
   "outputs": [
    {
     "data": {
      "image/png": "[encoded data removed]",
      "text/plain": [
       "<Figure size 640x480 with 1 Axes>"
      ]
     },
     "metadata": {},
     "output_type": "display_data"
    }
   ],
   "source": [
    "plt.figure()\n",
    "\n",
    "# Plot spectrum\n",
    "plt.plot(wavelength_space, scaled_spectrum(wavelength_space, flux_unit=plot_unit), c='k', label='Source Spectrum')\n",
    "\n",
    "# Plot input\n",
    "plt.plot(wavelength_in.value, plot_flux_in.value,\n",
    "         marker='o', color=c_in, ls='none', \n",
    "         label='Input: {:.4} {} at {:.1f} {}'.format(\n",
    "              float(value_in), str(unit_in), wavelength_in.value, str(wavelength_in.unit)))\n",
    "\n",
    "# Plot output\n",
    "plt.plot(wavelength_out.value, plot_flux_out.value,\n",
    "         marker='s', color=c_out, ls='none', \n",
    "         label='Output: {:.4} {} at {:.1f} {}'.format(\n",
    "              float(value_out), str(unit_out), wavelength_out.value, str(wavelength_out.unit)))\n",
    "\n",
    "# Set heights for dotted lines to markers as % of plot range\n",
    "bottom, top = plt.ylim()\n",
    "yrange = top - bottom\n",
    "inheight = (plot_flux_in.value - bottom) / yrange\n",
    "outheight = (plot_flux_out.value - bottom) / yrange\n",
    "\n",
    "# Plot dotted lines to markers\n",
    "plt.axvline(wavelength_in.to(wavelength_unit).value, ymax=inheight, ls=':', c=c_in)\n",
    "plt.axvline(wavelength_out.to(wavelength_unit).value, ymax=outheight, ls=':', c=c_out)\n",
    "\n",
    "# Miscellaneous\n",
    "plt.ylabel('Flux ({})'.format(str(plot_unit)))\n",
    "plt.xlabel('Wavelength ({})'.format(str(wavelength_unit)))\n",
    "plt.legend(fontsize='small')    \n",
    "plt.tight_layout()"
   ]
  },
  {
   "cell_type": "markdown",
   "id": "c818eec6",
   "metadata": {},
   "source": [
    "<a id=\"ex\"></a>\n",
    "## 5. Examples\n",
    "\n",
    "Here, we provide some examples to illustrate a few of the many conversions which are possible. If desired, you may run an example cell to set the inputs for the tool, then run through the notebook (without running the cells in [Section 2.4](#user)) to see the results. Each cell will define an input, output, and spectrum.\n",
    "\n",
    "<a id=\"ex1\"></a>\n",
    "### 5.1. Flux in Jy to AB mag with a flat spectrum in $F_\\nu$\n",
    "Run cell then go to [Section 3](#setting) to convert flux and plot."
   ]
  },
  {
   "cell_type": "code",
   "execution_count": 17,
   "id": "fd8fe178",
   "metadata": {
    "execution": {
     "iopub.execute_input": "2024-03-07T15:09:18.544923Z",
     "iopub.status.busy": "2024-03-07T15:09:18.544574Z",
     "iopub.status.idle": "2024-03-07T15:09:18.548272Z",
     "shell.execute_reply": "2024-03-07T15:09:18.547788Z"
    }
   },
   "outputs": [],
   "source": [
    "# Input: 3631 Jy at 550. nm\n",
    "value_in = 3631.      \n",
    "unit_in = u.Jy\n",
    "waveband_in = 550.\n",
    "wavelength_unit = u.nm\n",
    "\n",
    "# Output: Johnson V mag (AB)\n",
    "unit_out = u.ABmag\n",
    "waveband_out = 'Johnson, V'\n",
    "    \n",
    "# Spectrum: Flat power law in F_nu\n",
    "pl_index = 0\n",
    "model = PowerLawFlux1D(amplitude=flux_in, x_0=wavelength_in, alpha=pl_index)\n",
    "spectrum = SourceSpectrum(model)"
   ]
  },
  {
   "cell_type": "markdown",
   "id": "0964f2f4",
   "metadata": {},
   "source": [
    "<a id=\"ex2\"></a>\n",
    "### 5.2. Flux in flam to Flux in flam along a blackbody\n",
    "Run cell then go to [Section 3](#setting) to convert flux and plot."
   ]
  },
  {
   "cell_type": "code",
   "execution_count": 18,
   "id": "714bbeb1",
   "metadata": {
    "execution": {
     "iopub.execute_input": "2024-03-07T15:09:18.550482Z",
     "iopub.status.busy": "2024-03-07T15:09:18.550075Z",
     "iopub.status.idle": "2024-03-07T15:09:18.553310Z",
     "shell.execute_reply": "2024-03-07T15:09:18.552887Z"
    }
   },
   "outputs": [],
   "source": [
    "# Input: 1.234e-8 flam at 500. nm\n",
    "value_in = 1.234e-8    \n",
    "unit_in = su.FLAM\n",
    "waveband_in = 500.\n",
    "wavelength_unit = u.nm\n",
    "\n",
    "# Output: flam at 800. nm\n",
    "unit_out = su.FLAM\n",
    "waveband_out = 800.\n",
    "    \n",
    "# Spectrum: 5800 K blackbody\n",
    "bb_temp = 5800 * u.K\n",
    "model = BlackBody1D(bb_temp)\n",
    "spec = SourceSpectrum(model)"
   ]
  },
  {
   "cell_type": "markdown",
   "id": "2735fc75",
   "metadata": {},
   "source": [
    "<a id=\"ex3\"></a>\n",
    "### 5.3. Flux in fnu to flux in photnu, any spectrum (same wavelength)\n",
    "Run cell then go to [Section 3](#setting) to convert flux and plot. Note the spectrum is irrelevant since conversion is at the same wavelength."
   ]
  },
  {
   "cell_type": "code",
   "execution_count": 19,
   "id": "771c6282",
   "metadata": {
    "execution": {
     "iopub.execute_input": "2024-03-07T15:09:18.555354Z",
     "iopub.status.busy": "2024-03-07T15:09:18.555050Z",
     "iopub.status.idle": "2024-03-07T15:09:18.558283Z",
     "shell.execute_reply": "2024-03-07T15:09:18.557802Z"
    }
   },
   "outputs": [],
   "source": [
    "# Input: 1.234e-21 fnu at 686. nm\n",
    "value_in = 1.234e-21    \n",
    "unit_in = su.FNU\n",
    "waveband_in = 686.\n",
    "wavelength_unit = u.nm\n",
    "\n",
    "# Output: photnu at 686. nm\n",
    "unit_out = su.PHOTNU\n",
    "waveband_out = 686.\n",
    "    \n",
    "# Spectrum: 5800 K blackbody\n",
    "bb_temp = 5800 * u.K\n",
    "model = BlackBody1D(bb_temp)\n",
    "spectrum = SourceSpectrum(model)"
   ]
  },
  {
   "cell_type": "markdown",
   "id": "94e3245b",
   "metadata": {},
   "source": [
    "<a id=\"ex4\"></a>\n",
    "### 5.4. mag to mag from an HST bandpass to a Johnson bandpass, flat spectrum in $F_\\lambda$\n",
    "Run cell then go to [Section 3](#setting) to convert flux and plot. Note we run `convert_flux` for the power law amplitude to ensure the spectrum is flat in $F_\\lambda$ rather than in photlam."
   ]
  },
  {
   "cell_type": "code",
   "execution_count": 20,
   "id": "7da9e44e",
   "metadata": {
    "execution": {
     "iopub.execute_input": "2024-03-07T15:09:18.560252Z",
     "iopub.status.busy": "2024-03-07T15:09:18.559954Z",
     "iopub.status.idle": "2024-03-07T15:09:18.565132Z",
     "shell.execute_reply": "2024-03-07T15:09:18.564518Z"
    }
   },
   "outputs": [],
   "source": [
    "# Input: STmag = 12.240, F606W filter on WFC3 UVIS 2\n",
    "value_in = 12.240      \n",
    "unit_in = u.STmag\n",
    "waveband_in = 'wfc3, uvis2, f606w, mjd#59367'\n",
    "wavelength_unit = u.nm\n",
    "\n",
    "# Output: Johnson V mag (AB)\n",
    "unit_out = u.STmag\n",
    "waveband_out = 'Johnson, V'\n",
    "    \n",
    "# Spectrum: Flat power law in F_lambda\n",
    "pl_index = 0\n",
    "model = PowerLawFlux1D(amplitude=convert_flux(606 * u.nm, 1., su.FLAM), x_0=606 * u.nm, alpha=pl_index)\n",
    "spec = SourceSpectrum(model)\n",
    "model = PowerLawFlux1D(amplitude=flux_in, x_0=wavelength_in, alpha=pl_index)"
   ]
  },
  {
   "cell_type": "markdown",
   "id": "4a38c7a9",
   "metadata": {},
   "source": [
    "<a id=\"conclusion\"></a>\n",
    "## 6. Conclusions\n",
    "\n",
    "Thank you for walking through this notebook. Now using WFC3 data, you should be more familiar with:\n",
    "\n",
    "- Performing conversions between various systems of flux and magnitude using the `synphot` and `stsynphot` packages.\n",
    "- Extrapolating an output flux at a different wavelength than the input flux.\n",
    "- Adapting a more personalized and streamlined conversion process.\n",
    "\n",
    "#### Congratulations, you have completed the notebook!"
   ]
  },
  {
   "cell_type": "markdown",
   "id": "aad2523c",
   "metadata": {},
   "source": [
    "<a id=\"resources\"></a>\n",
    "## Additional Resources\n",
    "Below are some additional resources that may be helpful. Please send any questions through the [HST Helpdesk](https://stsci.service-now.com/hst).\n",
    "\n",
    "- [WFC3 Website](https://www.stsci.edu/hst/instrumentation/wfc3)\n",
    "- [WFC3 Instrument Handbook](https://hst-docs.stsci.edu/wfc3ihb)\n",
    "- [WFC3 Data Handbook](https://hst-docs.stsci.edu/wfc3dhb)\n",
    "    - see sections 9.5.2 for reference to this notebook\n",
    "    \n",
    "<a id=\"about\"></a>\n",
    "## About this Notebook\n",
    "\n",
    "**Authors:** Aidan Pidgeon, Joel Green; WFC3 Instrument Team\n",
    "\n",
    "**Updated on:** 2021-09-13\n",
    "\n",
    "<a id=\"cite\"></a>\n",
    "## Citations\n",
    "\n",
    "If you use `numpy`, `astropy`, `synphot`, or `stsynphot` for published research, please cite the\n",
    "authors. Follow these links for more information about citing the libraries below:\n",
    "\n",
    "* [Citing `numpy`](https://numpy.org/citing-numpy/)\n",
    "* [Citing `astropy`](https://www.astropy.org/acknowledging.html)\n",
    "* [Citing `synphot`](https://synphot.readthedocs.io/en/latest/)\n",
    "* [Citing `stsynphot`](https://stsynphot.readthedocs.io/en/latest/index.html)\n",
    "\n",
    "***\n",
    "[Top of Page](#title)\n",
    "<img style=\"float: right;\" src=\"https://raw.githubusercontent.com/spacetelescope/notebooks/master/assets/stsci_pri_combo_mark_horizonal_white_bkgd.png\" alt=\"Space Telescope Logo\" width=\"200px\"/> "
   ]
  },
  {
   "cell_type": "code",
   "execution_count": null,
   "id": "f708c513",
   "metadata": {},
   "outputs": [],
   "source": []
  }
 ],
 "metadata": {
  "kernelspec": {
   "display_name": "Python 3 (ipykernel)",
   "language": "python",
   "name": "python3"
  },
  "language_info": {
   "codemirror_mode": {
    "name": "ipython",
    "version": 3
   },
   "file_extension": ".py",
   "mimetype": "text/x-python",
   "name": "python",
   "nbconvert_exporter": "python",
   "pygments_lexer": "ipython3",
   "version": "3.12.1"
  }
 },
 "nbformat": 4,
 "nbformat_minor": 5
}
