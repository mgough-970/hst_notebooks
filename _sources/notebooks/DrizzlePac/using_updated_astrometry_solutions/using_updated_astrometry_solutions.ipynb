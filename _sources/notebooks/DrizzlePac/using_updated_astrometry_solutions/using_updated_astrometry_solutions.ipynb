{
 "cells": [
  {
   "cell_type": "markdown",
   "metadata": {},
   "source": [
    "# Using updated astrometry solutions"
   ]
  },
  {
   "cell_type": "markdown",
   "metadata": {},
   "source": [
    "As part of an effort to improve the absolute astrometry of HST images, STScI has created multiple new astrometric solutions for ACS and WFC3 images.  These solutions are contained in the World Coordinate System (WCS) of the images, as well as headerlet extesions.  This notebook provides an example workflow showing how to use/change to a different solution."
   ]
  },
  {
   "cell_type": "markdown",
   "metadata": {},
   "source": [
    "The solutions are contained in the exposure files (`flt.fits` and `flc.fits`), so no extra files are required.  However, these updates were implemented in December 2019 as a part of HST Data Processing version 2019.5.  If data were downloaded before that, they can either be redownloaded (and will contain the new solutions) from mast.stsci.edu or via astroquery, or can be updated by connecting to the database cotaining solutions (shown below).\n",
    "\n",
    "For more information, see the overview page here: https://outerspace.stsci.edu/pages/viewpage.action?spaceKey=HAdP&title=Improvements+in+HST+Astrometry\n"
   ]
  },
  {
   "cell_type": "markdown",
   "metadata": {},
   "source": [
    "<div class=\"alert alert-block alert-info\">\n",
    "<b>REQUIREMENT:</b> This notebook was designed around using stwcs version 1.5.3, and python version 3.6.  If versions older than this are used <b>the software will likely not work</b>!\n",
    "</div>"
   ]
  },
  {
   "cell_type": "markdown",
   "metadata": {},
   "source": [
    "<div class=\"alert alert-block alert-warning\">\n",
    "<b>NOTE:</b> The new solutions are used by default by the MAST pipeline!  Some datasets may have certain solutions  such as fitting to Gaia DR2, though other datasets (even in the same visit) may not!  Thus, it is crucial to check the which solution (WCS) is active!  The easiest way to check which solution is active is to check the WCSNAME keyword in the header of the SCI extensions.\n",
    "</div>"
   ]
  },
  {
   "cell_type": "markdown",
   "metadata": {},
   "source": [
    "# Table Of Contents\n",
    "\n",
    " 0. [Example Data Download](#0.-Example-Data-Download)\n",
    " 1.  [New Extensions on FITS Files](#1.-New-extensions-on-fits-files)\n",
    " 2. [Exploring different solutions](2.-Exploring-different-solutions)\n",
    " 3. [Applying a headerlet to the science extensions](#3.-Applying-a-headerlet-to-the-science-extensions)\n",
    " 4. [Restoring the \"old\" solution](#4.-Restoring-the-\"old\"-solution)\n",
    " 5. [Inspecting alignment](#5.-Inspecting-alignment-(optional))\n",
    " 6. [Changing the WCS of drizzled images](#6.-Changing-the-WCS-of-drizzled-images)"
   ]
  },
  {
   "cell_type": "code",
   "execution_count": 1,
   "metadata": {
    "execution": {
     "iopub.execute_input": "2024-04-01T13:15:46.441972Z",
     "iopub.status.busy": "2024-04-01T13:15:46.441794Z",
     "iopub.status.idle": "2024-04-01T13:15:51.135970Z",
     "shell.execute_reply": "2024-04-01T13:15:51.135326Z"
    }
   },
   "outputs": [
    {
     "name": "stdout",
     "output_type": "stream",
     "text": [
      "\n",
      "\n"
     ]
    },
    {
     "name": "stdout",
     "output_type": "stream",
     "text": [
      "The following task in the stsci.skypac package can be run with TEAL:\n",
      "                                    skymatch                                    \n"
     ]
    },
    {
     "name": "stdout",
     "output_type": "stream",
     "text": [
      "The following tasks in the drizzlepac package can be run with TEAL:\n",
      "    astrodrizzle       config_testbed      imagefindpars           mapreg       \n",
      "       photeq            pixreplace           pixtopix            pixtosky      \n",
      "  refimagefindpars       resetbits          runastrodriz          skytopix      \n",
      "     tweakback            tweakreg           updatenpol\n"
     ]
    }
   ],
   "source": [
    "import numpy as np\n",
    "import os\n",
    "import shutil\n",
    "import matplotlib.pyplot as plt\n",
    "\n",
    "from astropy.io import fits\n",
    "from astropy.wcs import WCS\n",
    "from astropy.visualization import PercentileInterval, ImageNormalize, LogStretch\n",
    "from astroquery.mast import Observations\n",
    "from stwcs.wcsutil import headerlet\n",
    "from stwcs import updatewcs\n",
    "from drizzlepac.align import generate_astrometric_catalog\n",
    "from drizzlepac import astrodrizzle\n",
    "\n",
    "%matplotlib notebook"
   ]
  },
  {
   "cell_type": "markdown",
   "metadata": {},
   "source": [
    "Because some steps in this notebook require access to reference files, we will create a temporary 'iref' directory here to place these reference files after download. This step is typically done by defining the 'iref' path in your bash profile so that all reference files for all datasets can be in one static location, but for the portability of this notebook we will just create a temporary directory. Please see the ['Initalization' notebook](../Initialization/Initialization.ipynb) for more information."
   ]
  },
  {
   "cell_type": "code",
   "execution_count": 2,
   "metadata": {
    "execution": {
     "iopub.execute_input": "2024-04-01T13:15:51.138743Z",
     "iopub.status.busy": "2024-04-01T13:15:51.138140Z",
     "iopub.status.idle": "2024-04-01T13:15:51.141873Z",
     "shell.execute_reply": "2024-04-01T13:15:51.141297Z"
    }
   },
   "outputs": [],
   "source": [
    "os.environ['CRDS_SERVER_URL'] = 'https://hst-crds.stsci.edu'\n",
    "os.environ['CRDS_PATH'] = os.path.abspath(os.path.join('.', 'reference_files'))\n",
    "\n",
    "os.environ['iref'] = os.path.abspath(os.path.join('.', 'reference_files', 'references', 'hst', 'wfc3')) + os.path.sep"
   ]
  },
  {
   "cell_type": "markdown",
   "metadata": {},
   "source": [
    "## 0. Example Data Download"
   ]
  },
  {
   "cell_type": "markdown",
   "metadata": {},
   "source": [
    "Lets find some example HST data from MAST and download it:"
   ]
  },
  {
   "cell_type": "code",
   "execution_count": 3,
   "metadata": {
    "execution": {
     "iopub.execute_input": "2024-04-01T13:15:51.143937Z",
     "iopub.status.busy": "2024-04-01T13:15:51.143755Z",
     "iopub.status.idle": "2024-04-01T13:15:52.146774Z",
     "shell.execute_reply": "2024-04-01T13:15:52.146197Z"
    }
   },
   "outputs": [
    {
     "data": {
      "text/html": [
       "<div><i>Table masked=True length=9</i>\n",
       "<table id=\"table139879172876048\" class=\"table-striped table-bordered table-condensed\">\n",
       "<thead><tr><th>obsID</th><th>obs_collection</th><th>dataproduct_type</th><th>obs_id</th><th>description</th><th>type</th><th>dataURI</th><th>productType</th><th>productGroupDescription</th><th>productSubGroupDescription</th><th>productDocumentationURL</th><th>project</th><th>prvversion</th><th>proposal_id</th><th>productFilename</th><th>size</th><th>parent_obsid</th><th>dataRights</th><th>calib_level</th></tr></thead>\n",
       "<thead><tr><th>str8</th><th>str3</th><th>str5</th><th>str37</th><th>str64</th><th>str1</th><th>str69</th><th>str9</th><th>str28</th><th>str11</th><th>str1</th><th>str7</th><th>str19</th><th>str5</th><th>str52</th><th>int64</th><th>str8</th><th>str6</th><th>int64</th></tr></thead>\n",
       "<tr><td>25874804</td><td>HST</td><td>image</td><td>id7307xfq</td><td>DADS FLC file - CTE-corrected calibrated exposure ACS/WFC3</td><td>S</td><td>mast:HST/product/id7307xfq_flc.fits</td><td>SCIENCE</td><td>--</td><td>FLC</td><td>--</td><td>CALWF3</td><td>3.7.1 (Oct-18-2023)</td><td>14689</td><td>id7307xfq_flc.fits</td><td>169032960</td><td>25874840</td><td>PUBLIC</td><td>2</td></tr>\n",
       "<tr><td>25874805</td><td>HST</td><td>image</td><td>id7307xhq</td><td>DADS FLC file - CTE-corrected calibrated exposure ACS/WFC3</td><td>S</td><td>mast:HST/product/id7307xhq_flc.fits</td><td>SCIENCE</td><td>--</td><td>FLC</td><td>--</td><td>CALWF3</td><td>3.7.1 (Oct-18-2023)</td><td>14689</td><td>id7307xhq_flc.fits</td><td>169032960</td><td>25874840</td><td>PUBLIC</td><td>2</td></tr>\n",
       "<tr><td>25874806</td><td>HST</td><td>image</td><td>id7307xlq</td><td>DADS FLC file - CTE-corrected calibrated exposure ACS/WFC3</td><td>S</td><td>mast:HST/product/id7307xlq_flc.fits</td><td>SCIENCE</td><td>--</td><td>FLC</td><td>--</td><td>CALWF3</td><td>3.7.1 (Oct-18-2023)</td><td>14689</td><td>id7307xlq_flc.fits</td><td>169032960</td><td>25874840</td><td>PUBLIC</td><td>2</td></tr>\n",
       "<tr><td>25874807</td><td>HST</td><td>image</td><td>id7307xpq</td><td>DADS FLC file - CTE-corrected calibrated exposure ACS/WFC3</td><td>S</td><td>mast:HST/product/id7307xpq_flc.fits</td><td>SCIENCE</td><td>--</td><td>FLC</td><td>--</td><td>CALWF3</td><td>3.7.1 (Oct-18-2023)</td><td>14689</td><td>id7307xpq_flc.fits</td><td>169032960</td><td>25874840</td><td>PUBLIC</td><td>2</td></tr>\n",
       "<tr><td>25874840</td><td>HST</td><td>image</td><td>id7307030</td><td>DADS ASN file - Association ACS/WFC3/STIS</td><td>D</td><td>mast:HST/product/id7307030_asn.fits</td><td>AUXILIARY</td><td>Minimum Recommended Products</td><td>ASN</td><td>--</td><td>CALWF3</td><td>3.7.1 (Oct-18-2023)</td><td>14689</td><td>id7307030_asn.fits</td><td>11520</td><td>25874840</td><td>PUBLIC</td><td>3</td></tr>\n",
       "<tr><td>26303775</td><td>HST</td><td>image</td><td>hst_14689_07_wfc3_uvis_f814w_id7307xh</td><td>HAP flat-field product</td><td>D</td><td>mast:HST/product/hst_14689_07_wfc3_uvis_f814w_id7307xh_flc.fits</td><td>SCIENCE</td><td>--</td><td>FLC</td><td>--</td><td>HAP-SVM</td><td>DrizzlePac 3.6.2</td><td>14689</td><td>hst_14689_07_wfc3_uvis_f814w_id7307xh_flc.fits</td><td>169148160</td><td>25874840</td><td>PUBLIC</td><td>2</td></tr>\n",
       "<tr><td>26303830</td><td>HST</td><td>image</td><td>hst_14689_07_wfc3_uvis_f814w_id7307xl</td><td>HAP flat-field product</td><td>D</td><td>mast:HST/product/hst_14689_07_wfc3_uvis_f814w_id7307xl_flc.fits</td><td>SCIENCE</td><td>--</td><td>FLC</td><td>--</td><td>HAP-SVM</td><td>DrizzlePac 3.6.2</td><td>14689</td><td>hst_14689_07_wfc3_uvis_f814w_id7307xl_flc.fits</td><td>169148160</td><td>25874840</td><td>PUBLIC</td><td>2</td></tr>\n",
       "<tr><td>26303880</td><td>HST</td><td>image</td><td>hst_14689_07_wfc3_uvis_f814w_id7307xp</td><td>HAP flat-field product</td><td>D</td><td>mast:HST/product/hst_14689_07_wfc3_uvis_f814w_id7307xp_flc.fits</td><td>SCIENCE</td><td>--</td><td>FLC</td><td>--</td><td>HAP-SVM</td><td>DrizzlePac 3.6.2</td><td>14689</td><td>hst_14689_07_wfc3_uvis_f814w_id7307xp_flc.fits</td><td>169148160</td><td>25874840</td><td>PUBLIC</td><td>2</td></tr>\n",
       "<tr><td>26303905</td><td>HST</td><td>image</td><td>hst_14689_07_wfc3_uvis_f814w_id7307xf</td><td>HAP flat-field product</td><td>D</td><td>mast:HST/product/hst_14689_07_wfc3_uvis_f814w_id7307xf_flc.fits</td><td>SCIENCE</td><td>--</td><td>FLC</td><td>--</td><td>HAP-SVM</td><td>DrizzlePac 3.6.2</td><td>14689</td><td>hst_14689_07_wfc3_uvis_f814w_id7307xf_flc.fits</td><td>169148160</td><td>25874840</td><td>PUBLIC</td><td>2</td></tr>\n",
       "</table></div>"
      ],
      "text/plain": [
       "<Table masked=True length=9>\n",
       " obsID   obs_collection dataproduct_type ... parent_obsid dataRights calib_level\n",
       "  str8        str3            str5       ...     str8        str6       int64   \n",
       "-------- -------------- ---------------- ... ------------ ---------- -----------\n",
       "25874804            HST            image ...     25874840     PUBLIC           2\n",
       "25874805            HST            image ...     25874840     PUBLIC           2\n",
       "25874806            HST            image ...     25874840     PUBLIC           2\n",
       "25874807            HST            image ...     25874840     PUBLIC           2\n",
       "25874840            HST            image ...     25874840     PUBLIC           3\n",
       "26303775            HST            image ...     25874840     PUBLIC           2\n",
       "26303830            HST            image ...     25874840     PUBLIC           2\n",
       "26303880            HST            image ...     25874840     PUBLIC           2\n",
       "26303905            HST            image ...     25874840     PUBLIC           2"
      ]
     },
     "execution_count": 3,
     "metadata": {},
     "output_type": "execute_result"
    }
   ],
   "source": [
    "obsTable = Observations.query_criteria(project='HST', proposal_id='14689', obs_id='ID7307030')\n",
    "products = Observations.get_product_list(obsTable)\n",
    "filtered_products = Observations.filter_products(products, mrp_only=False, productSubGroupDescription=['FLC', 'ASN'])\n",
    "filtered_products"
   ]
  },
  {
   "cell_type": "code",
   "execution_count": 4,
   "metadata": {
    "execution": {
     "iopub.execute_input": "2024-04-01T13:15:52.149145Z",
     "iopub.status.busy": "2024-04-01T13:15:52.148802Z",
     "iopub.status.idle": "2024-04-01T13:17:48.747572Z",
     "shell.execute_reply": "2024-04-01T13:17:48.747049Z"
    }
   },
   "outputs": [
    {
     "name": "stdout",
     "output_type": "stream",
     "text": [
      "Downloading URL https://mast.stsci.edu/api/v0.1/Download/file?uri=mast:HST/product/id7307xfq_flc.fits to ./mastDownload/HST/id7307xfq/id7307xfq_flc.fits ..."
     ]
    },
    {
     "name": "stdout",
     "output_type": "stream",
     "text": [
      " [Done]\n"
     ]
    },
    {
     "name": "stdout",
     "output_type": "stream",
     "text": [
      "Downloading URL https://mast.stsci.edu/api/v0.1/Download/file?uri=mast:HST/product/id7307xhq_flc.fits to ./mastDownload/HST/id7307xhq/id7307xhq_flc.fits ..."
     ]
    },
    {
     "name": "stdout",
     "output_type": "stream",
     "text": [
      " [Done]\n"
     ]
    },
    {
     "name": "stdout",
     "output_type": "stream",
     "text": [
      "Downloading URL https://mast.stsci.edu/api/v0.1/Download/file?uri=mast:HST/product/id7307xlq_flc.fits to ./mastDownload/HST/id7307xlq/id7307xlq_flc.fits ..."
     ]
    },
    {
     "name": "stdout",
     "output_type": "stream",
     "text": [
      " [Done]\n"
     ]
    },
    {
     "name": "stdout",
     "output_type": "stream",
     "text": [
      "Downloading URL https://mast.stsci.edu/api/v0.1/Download/file?uri=mast:HST/product/id7307xpq_flc.fits to ./mastDownload/HST/id7307xpq/id7307xpq_flc.fits ..."
     ]
    },
    {
     "name": "stdout",
     "output_type": "stream",
     "text": [
      " [Done]\n"
     ]
    },
    {
     "name": "stdout",
     "output_type": "stream",
     "text": [
      "Downloading URL https://mast.stsci.edu/api/v0.1/Download/file?uri=mast:HST/product/id7307030_asn.fits to ./mastDownload/HST/id7307030/id7307030_asn.fits ..."
     ]
    },
    {
     "name": "stdout",
     "output_type": "stream",
     "text": [
      " [Done]\n"
     ]
    },
    {
     "name": "stdout",
     "output_type": "stream",
     "text": [
      "Downloading URL https://mast.stsci.edu/api/v0.1/Download/file?uri=mast:HST/product/hst_14689_07_wfc3_uvis_f814w_id7307xh_flc.fits to ./mastDownload/HST/hst_14689_07_wfc3_uvis_f814w_id7307xh/hst_14689_07_wfc3_uvis_f814w_id7307xh_flc.fits ..."
     ]
    },
    {
     "name": "stdout",
     "output_type": "stream",
     "text": [
      " [Done]\n"
     ]
    },
    {
     "name": "stdout",
     "output_type": "stream",
     "text": [
      "Downloading URL https://mast.stsci.edu/api/v0.1/Download/file?uri=mast:HST/product/hst_14689_07_wfc3_uvis_f814w_id7307xl_flc.fits to ./mastDownload/HST/hst_14689_07_wfc3_uvis_f814w_id7307xl/hst_14689_07_wfc3_uvis_f814w_id7307xl_flc.fits ..."
     ]
    },
    {
     "name": "stdout",
     "output_type": "stream",
     "text": [
      " [Done]\n"
     ]
    },
    {
     "name": "stdout",
     "output_type": "stream",
     "text": [
      "Downloading URL https://mast.stsci.edu/api/v0.1/Download/file?uri=mast:HST/product/hst_14689_07_wfc3_uvis_f814w_id7307xp_flc.fits to ./mastDownload/HST/hst_14689_07_wfc3_uvis_f814w_id7307xp/hst_14689_07_wfc3_uvis_f814w_id7307xp_flc.fits ..."
     ]
    },
    {
     "name": "stdout",
     "output_type": "stream",
     "text": [
      " [Done]\n"
     ]
    },
    {
     "name": "stdout",
     "output_type": "stream",
     "text": [
      "Downloading URL https://mast.stsci.edu/api/v0.1/Download/file?uri=mast:HST/product/hst_14689_07_wfc3_uvis_f814w_id7307xf_flc.fits to ./mastDownload/HST/hst_14689_07_wfc3_uvis_f814w_id7307xf/hst_14689_07_wfc3_uvis_f814w_id7307xf_flc.fits ..."
     ]
    },
    {
     "name": "stdout",
     "output_type": "stream",
     "text": [
      " [Done]\n"
     ]
    },
    {
     "data": {
      "text/html": [
       "<div><i>Table length=9</i>\n",
       "<table id=\"table139880442768336\" class=\"table-striped table-bordered table-condensed\">\n",
       "<thead><tr><th>Local Path</th><th>Status</th><th>Message</th><th>URL</th></tr></thead>\n",
       "<thead><tr><th>str103</th><th>str8</th><th>object</th><th>object</th></tr></thead>\n",
       "<tr><td>./mastDownload/HST/id7307xfq/id7307xfq_flc.fits</td><td>COMPLETE</td><td>None</td><td>None</td></tr>\n",
       "<tr><td>./mastDownload/HST/id7307xhq/id7307xhq_flc.fits</td><td>COMPLETE</td><td>None</td><td>None</td></tr>\n",
       "<tr><td>./mastDownload/HST/id7307xlq/id7307xlq_flc.fits</td><td>COMPLETE</td><td>None</td><td>None</td></tr>\n",
       "<tr><td>./mastDownload/HST/id7307xpq/id7307xpq_flc.fits</td><td>COMPLETE</td><td>None</td><td>None</td></tr>\n",
       "<tr><td>./mastDownload/HST/id7307030/id7307030_asn.fits</td><td>COMPLETE</td><td>None</td><td>None</td></tr>\n",
       "<tr><td>./mastDownload/HST/hst_14689_07_wfc3_uvis_f814w_id7307xh/hst_14689_07_wfc3_uvis_f814w_id7307xh_flc.fits</td><td>COMPLETE</td><td>None</td><td>None</td></tr>\n",
       "<tr><td>./mastDownload/HST/hst_14689_07_wfc3_uvis_f814w_id7307xl/hst_14689_07_wfc3_uvis_f814w_id7307xl_flc.fits</td><td>COMPLETE</td><td>None</td><td>None</td></tr>\n",
       "<tr><td>./mastDownload/HST/hst_14689_07_wfc3_uvis_f814w_id7307xp/hst_14689_07_wfc3_uvis_f814w_id7307xp_flc.fits</td><td>COMPLETE</td><td>None</td><td>None</td></tr>\n",
       "<tr><td>./mastDownload/HST/hst_14689_07_wfc3_uvis_f814w_id7307xf/hst_14689_07_wfc3_uvis_f814w_id7307xf_flc.fits</td><td>COMPLETE</td><td>None</td><td>None</td></tr>\n",
       "</table></div>"
      ],
      "text/plain": [
       "<Table length=9>\n",
       "                                               Local Path                                               ...\n",
       "                                                 str103                                                 ...\n",
       "------------------------------------------------------------------------------------------------------- ...\n",
       "                                                        ./mastDownload/HST/id7307xfq/id7307xfq_flc.fits ...\n",
       "                                                        ./mastDownload/HST/id7307xhq/id7307xhq_flc.fits ...\n",
       "                                                        ./mastDownload/HST/id7307xlq/id7307xlq_flc.fits ...\n",
       "                                                        ./mastDownload/HST/id7307xpq/id7307xpq_flc.fits ...\n",
       "                                                        ./mastDownload/HST/id7307030/id7307030_asn.fits ...\n",
       "./mastDownload/HST/hst_14689_07_wfc3_uvis_f814w_id7307xh/hst_14689_07_wfc3_uvis_f814w_id7307xh_flc.fits ...\n",
       "./mastDownload/HST/hst_14689_07_wfc3_uvis_f814w_id7307xl/hst_14689_07_wfc3_uvis_f814w_id7307xl_flc.fits ...\n",
       "./mastDownload/HST/hst_14689_07_wfc3_uvis_f814w_id7307xp/hst_14689_07_wfc3_uvis_f814w_id7307xp_flc.fits ...\n",
       "./mastDownload/HST/hst_14689_07_wfc3_uvis_f814w_id7307xf/hst_14689_07_wfc3_uvis_f814w_id7307xf_flc.fits ..."
      ]
     },
     "execution_count": 4,
     "metadata": {},
     "output_type": "execute_result"
    }
   ],
   "source": [
    "dl_tbl = Observations.download_products(filtered_products, mrp_only=False)\n",
    "dl_tbl"
   ]
  },
  {
   "cell_type": "markdown",
   "metadata": {},
   "source": [
    "Now to make the paths easier to work with, lets move those files from their default download locations into the same location as this notebook:"
   ]
  },
  {
   "cell_type": "code",
   "execution_count": 5,
   "metadata": {
    "execution": {
     "iopub.execute_input": "2024-04-01T13:17:48.749977Z",
     "iopub.status.busy": "2024-04-01T13:17:48.749572Z",
     "iopub.status.idle": "2024-04-01T13:17:48.753067Z",
     "shell.execute_reply": "2024-04-01T13:17:48.752625Z"
    }
   },
   "outputs": [],
   "source": [
    "for f in dl_tbl['Local Path']:\n",
    "    filename = os.path.split(f)[-1]\n",
    "    if not os.path.exists(filename):\n",
    "        shutil.move(f, '.')"
   ]
  },
  {
   "cell_type": "markdown",
   "metadata": {},
   "source": [
    "And then download all of the necessary reference files for the images using CRDS (this uses the CRDS paths defined at the top of the notebook, although you would probably want to use a different path for your own data as described above):"
   ]
  },
  {
   "cell_type": "code",
   "execution_count": 6,
   "metadata": {
    "execution": {
     "iopub.execute_input": "2024-04-01T13:17:48.755148Z",
     "iopub.status.busy": "2024-04-01T13:17:48.754821Z",
     "iopub.status.idle": "2024-04-01T13:19:42.499368Z",
     "shell.execute_reply": "2024-04-01T13:19:42.498781Z"
    }
   },
   "outputs": [
    {
     "name": "stderr",
     "output_type": "stream",
     "text": [
      "CRDS - INFO -  Fetching  /home/runner/work/hst_notebooks/hst_notebooks/notebooks/DrizzlePac/using_updated_astrometry_solutions/reference_files/mappings/hst/hst_wfpc2_wf4tfile_0250.rmap      678 bytes  (1 / 141 files) (0 / 1.7 M bytes)\n"
     ]
    },
    {
     "name": "stderr",
     "output_type": "stream",
     "text": [
      "CRDS - INFO -  Fetching  /home/runner/work/hst_notebooks/hst_notebooks/notebooks/DrizzlePac/using_updated_astrometry_solutions/reference_files/mappings/hst/hst_wfpc2_shadfile_0250.rmap      977 bytes  (2 / 141 files) (678 / 1.7 M bytes)\n"
     ]
    },
    {
     "name": "stderr",
     "output_type": "stream",
     "text": [
      "CRDS - INFO -  Fetching  /home/runner/work/hst_notebooks/hst_notebooks/notebooks/DrizzlePac/using_updated_astrometry_solutions/reference_files/mappings/hst/hst_wfpc2_offtab_0250.rmap      642 bytes  (3 / 141 files) (1.7 K / 1.7 M bytes)\n"
     ]
    },
    {
     "name": "stderr",
     "output_type": "stream",
     "text": [
      "CRDS - INFO -  Fetching  /home/runner/work/hst_notebooks/hst_notebooks/notebooks/DrizzlePac/using_updated_astrometry_solutions/reference_files/mappings/hst/hst_wfpc2_maskfile_0250.rmap      685 bytes  (4 / 141 files) (2.3 K / 1.7 M bytes)\n"
     ]
    },
    {
     "name": "stderr",
     "output_type": "stream",
     "text": [
      "CRDS - INFO -  Fetching  /home/runner/work/hst_notebooks/hst_notebooks/notebooks/DrizzlePac/using_updated_astrometry_solutions/reference_files/mappings/hst/hst_wfpc2_idctab_0250.rmap      696 bytes  (5 / 141 files) (3.0 K / 1.7 M bytes)\n"
     ]
    },
    {
     "name": "stderr",
     "output_type": "stream",
     "text": [
      "CRDS - INFO -  Fetching  /home/runner/work/hst_notebooks/hst_notebooks/notebooks/DrizzlePac/using_updated_astrometry_solutions/reference_files/mappings/hst/hst_wfpc2_flatfile_0250.rmap   30.0 K bytes  (6 / 141 files) (3.7 K / 1.7 M bytes)\n"
     ]
    },
    {
     "name": "stderr",
     "output_type": "stream",
     "text": [
      "CRDS - INFO -  Fetching  /home/runner/work/hst_notebooks/hst_notebooks/notebooks/DrizzlePac/using_updated_astrometry_solutions/reference_files/mappings/hst/hst_wfpc2_dgeofile_0250.rmap      801 bytes  (7 / 141 files) (33.7 K / 1.7 M bytes)\n"
     ]
    },
    {
     "name": "stderr",
     "output_type": "stream",
     "text": [
      "CRDS - INFO -  Fetching  /home/runner/work/hst_notebooks/hst_notebooks/notebooks/DrizzlePac/using_updated_astrometry_solutions/reference_files/mappings/hst/hst_wfpc2_darkfile_0250.rmap  178.4 K bytes  (8 / 141 files) (34.5 K / 1.7 M bytes)\n"
     ]
    },
    {
     "name": "stderr",
     "output_type": "stream",
     "text": [
      "CRDS - INFO -  Fetching  /home/runner/work/hst_notebooks/hst_notebooks/notebooks/DrizzlePac/using_updated_astrometry_solutions/reference_files/mappings/hst/hst_wfpc2_biasfile_0250.rmap    3.3 K bytes  (9 / 141 files) (212.8 K / 1.7 M bytes)\n"
     ]
    },
    {
     "name": "stderr",
     "output_type": "stream",
     "text": [
      "CRDS - INFO -  Fetching  /home/runner/work/hst_notebooks/hst_notebooks/notebooks/DrizzlePac/using_updated_astrometry_solutions/reference_files/mappings/hst/hst_wfpc2_atodfile_0250.rmap      874 bytes  (10 / 141 files) (216.1 K / 1.7 M bytes)\n"
     ]
    },
    {
     "name": "stderr",
     "output_type": "stream",
     "text": [
      "CRDS - INFO -  Fetching  /home/runner/work/hst_notebooks/hst_notebooks/notebooks/DrizzlePac/using_updated_astrometry_solutions/reference_files/mappings/hst/hst_wfpc2_0250.imap      782 bytes  (11 / 141 files) (217.0 K / 1.7 M bytes)\n"
     ]
    },
    {
     "name": "stderr",
     "output_type": "stream",
     "text": [
      "CRDS - INFO -  Fetching  /home/runner/work/hst_notebooks/hst_notebooks/notebooks/DrizzlePac/using_updated_astrometry_solutions/reference_files/mappings/hst/hst_wfc3_snkcfile_0003.rmap      681 bytes  (12 / 141 files) (217.8 K / 1.7 M bytes)\n"
     ]
    },
    {
     "name": "stderr",
     "output_type": "stream",
     "text": [
      "CRDS - INFO -  Fetching  /home/runner/work/hst_notebooks/hst_notebooks/notebooks/DrizzlePac/using_updated_astrometry_solutions/reference_files/mappings/hst/hst_wfc3_satufile_0002.rmap    1.0 K bytes  (13 / 141 files) (218.5 K / 1.7 M bytes)\n"
     ]
    },
    {
     "name": "stderr",
     "output_type": "stream",
     "text": [
      "CRDS - INFO -  Fetching  /home/runner/work/hst_notebooks/hst_notebooks/notebooks/DrizzlePac/using_updated_astrometry_solutions/reference_files/mappings/hst/hst_wfc3_pfltfile_0253.rmap   34.2 K bytes  (14 / 141 files) (219.5 K / 1.7 M bytes)\n"
     ]
    },
    {
     "name": "stderr",
     "output_type": "stream",
     "text": [
      "CRDS - INFO -  Fetching  /home/runner/work/hst_notebooks/hst_notebooks/notebooks/DrizzlePac/using_updated_astrometry_solutions/reference_files/mappings/hst/hst_wfc3_pctetab_0004.rmap      698 bytes  (15 / 141 files) (253.7 K / 1.7 M bytes)\n"
     ]
    },
    {
     "name": "stderr",
     "output_type": "stream",
     "text": [
      "CRDS - INFO -  Fetching  /home/runner/work/hst_notebooks/hst_notebooks/notebooks/DrizzlePac/using_updated_astrometry_solutions/reference_files/mappings/hst/hst_wfc3_oscntab_0250.rmap      747 bytes  (16 / 141 files) (254.4 K / 1.7 M bytes)\n"
     ]
    },
    {
     "name": "stderr",
     "output_type": "stream",
     "text": [
      "CRDS - INFO -  Fetching  /home/runner/work/hst_notebooks/hst_notebooks/notebooks/DrizzlePac/using_updated_astrometry_solutions/reference_files/mappings/hst/hst_wfc3_npolfile_0254.rmap    4.0 K bytes  (17 / 141 files) (255.1 K / 1.7 M bytes)\n"
     ]
    },
    {
     "name": "stderr",
     "output_type": "stream",
     "text": [
      "CRDS - INFO -  Fetching  /home/runner/work/hst_notebooks/hst_notebooks/notebooks/DrizzlePac/using_updated_astrometry_solutions/reference_files/mappings/hst/hst_wfc3_nlinfile_0250.rmap      726 bytes  (18 / 141 files) (259.2 K / 1.7 M bytes)\n"
     ]
    },
    {
     "name": "stderr",
     "output_type": "stream",
     "text": [
      "CRDS - INFO -  Fetching  /home/runner/work/hst_notebooks/hst_notebooks/notebooks/DrizzlePac/using_updated_astrometry_solutions/reference_files/mappings/hst/hst_wfc3_mdriztab_0254.rmap      845 bytes  (19 / 141 files) (259.9 K / 1.7 M bytes)\n"
     ]
    },
    {
     "name": "stderr",
     "output_type": "stream",
     "text": [
      "CRDS - INFO -  Fetching  /home/runner/work/hst_notebooks/hst_notebooks/notebooks/DrizzlePac/using_updated_astrometry_solutions/reference_files/mappings/hst/hst_wfc3_imphttab_0256.rmap      683 bytes  (20 / 141 files) (260.7 K / 1.7 M bytes)\n"
     ]
    },
    {
     "name": "stderr",
     "output_type": "stream",
     "text": [
      "CRDS - INFO -  Fetching  /home/runner/work/hst_notebooks/hst_notebooks/notebooks/DrizzlePac/using_updated_astrometry_solutions/reference_files/mappings/hst/hst_wfc3_idctab_0254.rmap      661 bytes  (21 / 141 files) (261.4 K / 1.7 M bytes)\n"
     ]
    },
    {
     "name": "stderr",
     "output_type": "stream",
     "text": [
      "CRDS - INFO -  Fetching  /home/runner/work/hst_notebooks/hst_notebooks/notebooks/DrizzlePac/using_updated_astrometry_solutions/reference_files/mappings/hst/hst_wfc3_flshfile_0256.rmap    5.8 K bytes  (22 / 141 files) (262.1 K / 1.7 M bytes)\n"
     ]
    },
    {
     "name": "stderr",
     "output_type": "stream",
     "text": [
      "CRDS - INFO -  Fetching  /home/runner/work/hst_notebooks/hst_notebooks/notebooks/DrizzlePac/using_updated_astrometry_solutions/reference_files/mappings/hst/hst_wfc3_drkcfile_0189.rmap  226.2 K bytes  (23 / 141 files) (267.9 K / 1.7 M bytes)\n"
     ]
    },
    {
     "name": "stderr",
     "output_type": "stream",
     "text": [
      "CRDS - INFO -  Fetching  /home/runner/work/hst_notebooks/hst_notebooks/notebooks/DrizzlePac/using_updated_astrometry_solutions/reference_files/mappings/hst/hst_wfc3_dfltfile_0002.rmap   17.1 K bytes  (24 / 141 files) (494.1 K / 1.7 M bytes)\n"
     ]
    },
    {
     "name": "stderr",
     "output_type": "stream",
     "text": [
      "CRDS - INFO -  Fetching  /home/runner/work/hst_notebooks/hst_notebooks/notebooks/DrizzlePac/using_updated_astrometry_solutions/reference_files/mappings/hst/hst_wfc3_darkfile_0487.rmap  267.3 K bytes  (25 / 141 files) (511.2 K / 1.7 M bytes)\n"
     ]
    },
    {
     "name": "stderr",
     "output_type": "stream",
     "text": [
      "CRDS - INFO -  Fetching  /home/runner/work/hst_notebooks/hst_notebooks/notebooks/DrizzlePac/using_updated_astrometry_solutions/reference_files/mappings/hst/hst_wfc3_d2imfile_0251.rmap      605 bytes  (26 / 141 files) (778.5 K / 1.7 M bytes)\n"
     ]
    },
    {
     "name": "stderr",
     "output_type": "stream",
     "text": [
      "CRDS - INFO -  Fetching  /home/runner/work/hst_notebooks/hst_notebooks/notebooks/DrizzlePac/using_updated_astrometry_solutions/reference_files/mappings/hst/hst_wfc3_crrejtab_0250.rmap      803 bytes  (27 / 141 files) (779.1 K / 1.7 M bytes)\n"
     ]
    },
    {
     "name": "stderr",
     "output_type": "stream",
     "text": [
      "CRDS - INFO -  Fetching  /home/runner/work/hst_notebooks/hst_notebooks/notebooks/DrizzlePac/using_updated_astrometry_solutions/reference_files/mappings/hst/hst_wfc3_ccdtab_0250.rmap      799 bytes  (28 / 141 files) (779.9 K / 1.7 M bytes)\n"
     ]
    },
    {
     "name": "stderr",
     "output_type": "stream",
     "text": [
      "CRDS - INFO -  Fetching  /home/runner/work/hst_notebooks/hst_notebooks/notebooks/DrizzlePac/using_updated_astrometry_solutions/reference_files/mappings/hst/hst_wfc3_bpixtab_0303.rmap   11.2 K bytes  (29 / 141 files) (780.7 K / 1.7 M bytes)\n"
     ]
    },
    {
     "name": "stderr",
     "output_type": "stream",
     "text": [
      "CRDS - INFO -  Fetching  /home/runner/work/hst_notebooks/hst_notebooks/notebooks/DrizzlePac/using_updated_astrometry_solutions/reference_files/mappings/hst/hst_wfc3_biasfile_0267.rmap   23.4 K bytes  (30 / 141 files) (791.9 K / 1.7 M bytes)\n"
     ]
    },
    {
     "name": "stderr",
     "output_type": "stream",
     "text": [
      "CRDS - INFO -  Fetching  /home/runner/work/hst_notebooks/hst_notebooks/notebooks/DrizzlePac/using_updated_astrometry_solutions/reference_files/mappings/hst/hst_wfc3_biacfile_0003.rmap      692 bytes  (31 / 141 files) (815.3 K / 1.7 M bytes)\n"
     ]
    },
    {
     "name": "stderr",
     "output_type": "stream",
     "text": [
      "CRDS - INFO -  Fetching  /home/runner/work/hst_notebooks/hst_notebooks/notebooks/DrizzlePac/using_updated_astrometry_solutions/reference_files/mappings/hst/hst_wfc3_atodtab_0250.rmap      651 bytes  (32 / 141 files) (816.0 K / 1.7 M bytes)\n"
     ]
    },
    {
     "name": "stderr",
     "output_type": "stream",
     "text": [
      "CRDS - INFO -  Fetching  /home/runner/work/hst_notebooks/hst_notebooks/notebooks/DrizzlePac/using_updated_astrometry_solutions/reference_files/mappings/hst/hst_wfc3_0584.imap    1.3 K bytes  (33 / 141 files) (816.6 K / 1.7 M bytes)\n"
     ]
    },
    {
     "name": "stderr",
     "output_type": "stream",
     "text": [
      "CRDS - INFO -  Fetching  /home/runner/work/hst_notebooks/hst_notebooks/notebooks/DrizzlePac/using_updated_astrometry_solutions/reference_files/mappings/hst/hst_synphot_tmttab_0002.rmap      745 bytes  (34 / 141 files) (817.9 K / 1.7 M bytes)\n"
     ]
    },
    {
     "name": "stderr",
     "output_type": "stream",
     "text": [
      "CRDS - INFO -  Fetching  /home/runner/work/hst_notebooks/hst_notebooks/notebooks/DrizzlePac/using_updated_astrometry_solutions/reference_files/mappings/hst/hst_synphot_tmgtab_0012.rmap      767 bytes  (35 / 141 files) (818.7 K / 1.7 M bytes)\n"
     ]
    },
    {
     "name": "stderr",
     "output_type": "stream",
     "text": [
      "CRDS - INFO -  Fetching  /home/runner/work/hst_notebooks/hst_notebooks/notebooks/DrizzlePac/using_updated_astrometry_solutions/reference_files/mappings/hst/hst_synphot_tmctab_0051.rmap      743 bytes  (36 / 141 files) (819.4 K / 1.7 M bytes)\n"
     ]
    },
    {
     "name": "stderr",
     "output_type": "stream",
     "text": [
      "CRDS - INFO -  Fetching  /home/runner/work/hst_notebooks/hst_notebooks/notebooks/DrizzlePac/using_updated_astrometry_solutions/reference_files/mappings/hst/hst_synphot_thruput_0055.rmap  329.6 K bytes  (37 / 141 files) (820.2 K / 1.7 M bytes)\n"
     ]
    },
    {
     "name": "stderr",
     "output_type": "stream",
     "text": [
      "CRDS - INFO -  Fetching  /home/runner/work/hst_notebooks/hst_notebooks/notebooks/DrizzlePac/using_updated_astrometry_solutions/reference_files/mappings/hst/hst_synphot_thermal_0003.rmap   20.4 K bytes  (38 / 141 files) (1.1 M / 1.7 M bytes)\n"
     ]
    },
    {
     "name": "stderr",
     "output_type": "stream",
     "text": [
      "CRDS - INFO -  Fetching  /home/runner/work/hst_notebooks/hst_notebooks/notebooks/DrizzlePac/using_updated_astrometry_solutions/reference_files/mappings/hst/hst_synphot_obsmodes_0004.rmap      743 bytes  (39 / 141 files) (1.2 M / 1.7 M bytes)\n"
     ]
    },
    {
     "name": "stderr",
     "output_type": "stream",
     "text": [
      "CRDS - INFO -  Fetching  /home/runner/work/hst_notebooks/hst_notebooks/notebooks/DrizzlePac/using_updated_astrometry_solutions/reference_files/mappings/hst/hst_synphot_0066.imap      579 bytes  (40 / 141 files) (1.2 M / 1.7 M bytes)\n"
     ]
    },
    {
     "name": "stderr",
     "output_type": "stream",
     "text": [
      "CRDS - INFO -  Fetching  /home/runner/work/hst_notebooks/hst_notebooks/notebooks/DrizzlePac/using_updated_astrometry_solutions/reference_files/mappings/hst/hst_stis_xtractab_0250.rmap      815 bytes  (41 / 141 files) (1.2 M / 1.7 M bytes)\n"
     ]
    },
    {
     "name": "stderr",
     "output_type": "stream",
     "text": [
      "CRDS - INFO -  Fetching  /home/runner/work/hst_notebooks/hst_notebooks/notebooks/DrizzlePac/using_updated_astrometry_solutions/reference_files/mappings/hst/hst_stis_wcptab_0251.rmap      578 bytes  (42 / 141 files) (1.2 M / 1.7 M bytes)\n"
     ]
    },
    {
     "name": "stderr",
     "output_type": "stream",
     "text": [
      "CRDS - INFO -  Fetching  /home/runner/work/hst_notebooks/hst_notebooks/notebooks/DrizzlePac/using_updated_astrometry_solutions/reference_files/mappings/hst/hst_stis_teltab_0250.rmap      745 bytes  (43 / 141 files) (1.2 M / 1.7 M bytes)\n"
     ]
    },
    {
     "name": "stderr",
     "output_type": "stream",
     "text": [
      "CRDS - INFO -  Fetching  /home/runner/work/hst_notebooks/hst_notebooks/notebooks/DrizzlePac/using_updated_astrometry_solutions/reference_files/mappings/hst/hst_stis_tdstab_0253.rmap      921 bytes  (44 / 141 files) (1.2 M / 1.7 M bytes)\n"
     ]
    },
    {
     "name": "stderr",
     "output_type": "stream",
     "text": [
      "CRDS - INFO -  Fetching  /home/runner/work/hst_notebooks/hst_notebooks/notebooks/DrizzlePac/using_updated_astrometry_solutions/reference_files/mappings/hst/hst_stis_tdctab_0251.rmap      650 bytes  (45 / 141 files) (1.2 M / 1.7 M bytes)\n"
     ]
    },
    {
     "name": "stderr",
     "output_type": "stream",
     "text": [
      "CRDS - INFO -  Fetching  /home/runner/work/hst_notebooks/hst_notebooks/notebooks/DrizzlePac/using_updated_astrometry_solutions/reference_files/mappings/hst/hst_stis_srwtab_0250.rmap      745 bytes  (46 / 141 files) (1.2 M / 1.7 M bytes)\n"
     ]
    },
    {
     "name": "stderr",
     "output_type": "stream",
     "text": [
      "CRDS - INFO -  Fetching  /home/runner/work/hst_notebooks/hst_notebooks/notebooks/DrizzlePac/using_updated_astrometry_solutions/reference_files/mappings/hst/hst_stis_sptrctab_0251.rmap      895 bytes  (47 / 141 files) (1.2 M / 1.7 M bytes)\n"
     ]
    },
    {
     "name": "stderr",
     "output_type": "stream",
     "text": [
      "CRDS - INFO -  Fetching  /home/runner/work/hst_notebooks/hst_notebooks/notebooks/DrizzlePac/using_updated_astrometry_solutions/reference_files/mappings/hst/hst_stis_sdctab_0251.rmap      889 bytes  (48 / 141 files) (1.2 M / 1.7 M bytes)\n"
     ]
    },
    {
     "name": "stderr",
     "output_type": "stream",
     "text": [
      "CRDS - INFO -  Fetching  /home/runner/work/hst_notebooks/hst_notebooks/notebooks/DrizzlePac/using_updated_astrometry_solutions/reference_files/mappings/hst/hst_stis_riptab_0254.rmap      877 bytes  (49 / 141 files) (1.2 M / 1.7 M bytes)\n"
     ]
    },
    {
     "name": "stderr",
     "output_type": "stream",
     "text": [
      "CRDS - INFO -  Fetching  /home/runner/work/hst_notebooks/hst_notebooks/notebooks/DrizzlePac/using_updated_astrometry_solutions/reference_files/mappings/hst/hst_stis_phottab_0258.rmap    1.6 K bytes  (50 / 141 files) (1.2 M / 1.7 M bytes)\n"
     ]
    },
    {
     "name": "stderr",
     "output_type": "stream",
     "text": [
      "CRDS - INFO -  Fetching  /home/runner/work/hst_notebooks/hst_notebooks/notebooks/DrizzlePac/using_updated_astrometry_solutions/reference_files/mappings/hst/hst_stis_pfltfile_0250.rmap   23.7 K bytes  (51 / 141 files) (1.2 M / 1.7 M bytes)\n"
     ]
    },
    {
     "name": "stderr",
     "output_type": "stream",
     "text": [
      "CRDS - INFO -  Fetching  /home/runner/work/hst_notebooks/hst_notebooks/notebooks/DrizzlePac/using_updated_astrometry_solutions/reference_files/mappings/hst/hst_stis_pctab_0250.rmap    3.1 K bytes  (52 / 141 files) (1.2 M / 1.7 M bytes)\n"
     ]
    },
    {
     "name": "stderr",
     "output_type": "stream",
     "text": [
      "CRDS - INFO -  Fetching  /home/runner/work/hst_notebooks/hst_notebooks/notebooks/DrizzlePac/using_updated_astrometry_solutions/reference_files/mappings/hst/hst_stis_mofftab_0250.rmap      747 bytes  (53 / 141 files) (1.2 M / 1.7 M bytes)\n"
     ]
    },
    {
     "name": "stderr",
     "output_type": "stream",
     "text": [
      "CRDS - INFO -  Fetching  /home/runner/work/hst_notebooks/hst_notebooks/notebooks/DrizzlePac/using_updated_astrometry_solutions/reference_files/mappings/hst/hst_stis_mlintab_0250.rmap      601 bytes  (54 / 141 files) (1.2 M / 1.7 M bytes)\n"
     ]
    },
    {
     "name": "stderr",
     "output_type": "stream",
     "text": [
      "CRDS - INFO -  Fetching  /home/runner/work/hst_notebooks/hst_notebooks/notebooks/DrizzlePac/using_updated_astrometry_solutions/reference_files/mappings/hst/hst_stis_lfltfile_0250.rmap   11.8 K bytes  (55 / 141 files) (1.2 M / 1.7 M bytes)\n"
     ]
    },
    {
     "name": "stderr",
     "output_type": "stream",
     "text": [
      "CRDS - INFO -  Fetching  /home/runner/work/hst_notebooks/hst_notebooks/notebooks/DrizzlePac/using_updated_astrometry_solutions/reference_files/mappings/hst/hst_stis_lamptab_0250.rmap      610 bytes  (56 / 141 files) (1.2 M / 1.7 M bytes)\n"
     ]
    },
    {
     "name": "stderr",
     "output_type": "stream",
     "text": [
      "CRDS - INFO -  Fetching  /home/runner/work/hst_notebooks/hst_notebooks/notebooks/DrizzlePac/using_updated_astrometry_solutions/reference_files/mappings/hst/hst_stis_inangtab_0250.rmap      815 bytes  (57 / 141 files) (1.2 M / 1.7 M bytes)\n"
     ]
    },
    {
     "name": "stderr",
     "output_type": "stream",
     "text": [
      "CRDS - INFO -  Fetching  /home/runner/work/hst_notebooks/hst_notebooks/notebooks/DrizzlePac/using_updated_astrometry_solutions/reference_files/mappings/hst/hst_stis_imphttab_0252.rmap      616 bytes  (58 / 141 files) (1.2 M / 1.7 M bytes)\n"
     ]
    },
    {
     "name": "stderr",
     "output_type": "stream",
     "text": [
      "CRDS - INFO -  Fetching  /home/runner/work/hst_notebooks/hst_notebooks/notebooks/DrizzlePac/using_updated_astrometry_solutions/reference_files/mappings/hst/hst_stis_idctab_0251.rmap      775 bytes  (59 / 141 files) (1.2 M / 1.7 M bytes)\n"
     ]
    },
    {
     "name": "stderr",
     "output_type": "stream",
     "text": [
      "CRDS - INFO -  Fetching  /home/runner/work/hst_notebooks/hst_notebooks/notebooks/DrizzlePac/using_updated_astrometry_solutions/reference_files/mappings/hst/hst_stis_halotab_0250.rmap      747 bytes  (60 / 141 files) (1.2 M / 1.7 M bytes)\n"
     ]
    },
    {
     "name": "stderr",
     "output_type": "stream",
     "text": [
      "CRDS - INFO -  Fetching  /home/runner/work/hst_notebooks/hst_notebooks/notebooks/DrizzlePac/using_updated_astrometry_solutions/reference_files/mappings/hst/hst_stis_gactab_0250.rmap      651 bytes  (61 / 141 files) (1.2 M / 1.7 M bytes)\n"
     ]
    },
    {
     "name": "stderr",
     "output_type": "stream",
     "text": [
      "CRDS - INFO -  Fetching  /home/runner/work/hst_notebooks/hst_notebooks/notebooks/DrizzlePac/using_updated_astrometry_solutions/reference_files/mappings/hst/hst_stis_exstab_0250.rmap      745 bytes  (62 / 141 files) (1.2 M / 1.7 M bytes)\n"
     ]
    },
    {
     "name": "stderr",
     "output_type": "stream",
     "text": [
      "CRDS - INFO -  Fetching  /home/runner/work/hst_notebooks/hst_notebooks/notebooks/DrizzlePac/using_updated_astrometry_solutions/reference_files/mappings/hst/hst_stis_echsctab_0250.rmap      749 bytes  (63 / 141 files) (1.2 M / 1.7 M bytes)\n"
     ]
    },
    {
     "name": "stderr",
     "output_type": "stream",
     "text": [
      "CRDS - INFO -  Fetching  /home/runner/work/hst_notebooks/hst_notebooks/notebooks/DrizzlePac/using_updated_astrometry_solutions/reference_files/mappings/hst/hst_stis_disptab_0250.rmap      813 bytes  (64 / 141 files) (1.2 M / 1.7 M bytes)\n"
     ]
    },
    {
     "name": "stderr",
     "output_type": "stream",
     "text": [
      "CRDS - INFO -  Fetching  /home/runner/work/hst_notebooks/hst_notebooks/notebooks/DrizzlePac/using_updated_astrometry_solutions/reference_files/mappings/hst/hst_stis_darkfile_0348.rmap   58.3 K bytes  (65 / 141 files) (1.2 M / 1.7 M bytes)\n"
     ]
    },
    {
     "name": "stderr",
     "output_type": "stream",
     "text": [
      "CRDS - INFO -  Fetching  /home/runner/work/hst_notebooks/hst_notebooks/notebooks/DrizzlePac/using_updated_astrometry_solutions/reference_files/mappings/hst/hst_stis_crrejtab_0250.rmap      711 bytes  (66 / 141 files) (1.3 M / 1.7 M bytes)\n"
     ]
    },
    {
     "name": "stderr",
     "output_type": "stream",
     "text": [
      "CRDS - INFO -  Fetching  /home/runner/work/hst_notebooks/hst_notebooks/notebooks/DrizzlePac/using_updated_astrometry_solutions/reference_files/mappings/hst/hst_stis_cdstab_0250.rmap      745 bytes  (67 / 141 files) (1.3 M / 1.7 M bytes)\n"
     ]
    },
    {
     "name": "stderr",
     "output_type": "stream",
     "text": [
      "CRDS - INFO -  Fetching  /home/runner/work/hst_notebooks/hst_notebooks/notebooks/DrizzlePac/using_updated_astrometry_solutions/reference_files/mappings/hst/hst_stis_ccdtab_0252.rmap      893 bytes  (68 / 141 files) (1.3 M / 1.7 M bytes)\n"
     ]
    },
    {
     "name": "stderr",
     "output_type": "stream",
     "text": [
      "CRDS - INFO -  Fetching  /home/runner/work/hst_notebooks/hst_notebooks/notebooks/DrizzlePac/using_updated_astrometry_solutions/reference_files/mappings/hst/hst_stis_bpixtab_0250.rmap      845 bytes  (69 / 141 files) (1.3 M / 1.7 M bytes)\n"
     ]
    },
    {
     "name": "stderr",
     "output_type": "stream",
     "text": [
      "CRDS - INFO -  Fetching  /home/runner/work/hst_notebooks/hst_notebooks/notebooks/DrizzlePac/using_updated_astrometry_solutions/reference_files/mappings/hst/hst_stis_biasfile_0350.rmap  117.3 K bytes  (70 / 141 files) (1.3 M / 1.7 M bytes)\n"
     ]
    },
    {
     "name": "stderr",
     "output_type": "stream",
     "text": [
      "CRDS - INFO -  Fetching  /home/runner/work/hst_notebooks/hst_notebooks/notebooks/DrizzlePac/using_updated_astrometry_solutions/reference_files/mappings/hst/hst_stis_apertab_0250.rmap      588 bytes  (71 / 141 files) (1.4 M / 1.7 M bytes)\n"
     ]
    },
    {
     "name": "stderr",
     "output_type": "stream",
     "text": [
      "CRDS - INFO -  Fetching  /home/runner/work/hst_notebooks/hst_notebooks/notebooks/DrizzlePac/using_updated_astrometry_solutions/reference_files/mappings/hst/hst_stis_apdestab_0252.rmap      636 bytes  (72 / 141 files) (1.4 M / 1.7 M bytes)\n"
     ]
    },
    {
     "name": "stderr",
     "output_type": "stream",
     "text": [
      "CRDS - INFO -  Fetching  /home/runner/work/hst_notebooks/hst_notebooks/notebooks/DrizzlePac/using_updated_astrometry_solutions/reference_files/mappings/hst/hst_stis_0362.imap    1.7 K bytes  (73 / 141 files) (1.4 M / 1.7 M bytes)\n"
     ]
    },
    {
     "name": "stderr",
     "output_type": "stream",
     "text": [
      "CRDS - INFO -  Fetching  /home/runner/work/hst_notebooks/hst_notebooks/notebooks/DrizzlePac/using_updated_astrometry_solutions/reference_files/mappings/hst/hst_nicmos_zprattab_0250.rmap      646 bytes  (74 / 141 files) (1.4 M / 1.7 M bytes)\n"
     ]
    },
    {
     "name": "stderr",
     "output_type": "stream",
     "text": [
      "CRDS - INFO -  Fetching  /home/runner/work/hst_notebooks/hst_notebooks/notebooks/DrizzlePac/using_updated_astrometry_solutions/reference_files/mappings/hst/hst_nicmos_tempfile_0250.rmap    1.1 K bytes  (75 / 141 files) (1.4 M / 1.7 M bytes)\n"
     ]
    },
    {
     "name": "stderr",
     "output_type": "stream",
     "text": [
      "CRDS - INFO -  Fetching  /home/runner/work/hst_notebooks/hst_notebooks/notebooks/DrizzlePac/using_updated_astrometry_solutions/reference_files/mappings/hst/hst_nicmos_tdffile_0250.rmap    8.9 K bytes  (76 / 141 files) (1.4 M / 1.7 M bytes)\n"
     ]
    },
    {
     "name": "stderr",
     "output_type": "stream",
     "text": [
      "CRDS - INFO -  Fetching  /home/runner/work/hst_notebooks/hst_notebooks/notebooks/DrizzlePac/using_updated_astrometry_solutions/reference_files/mappings/hst/hst_nicmos_saadfile_0250.rmap      771 bytes  (77 / 141 files) (1.4 M / 1.7 M bytes)\n"
     ]
    },
    {
     "name": "stderr",
     "output_type": "stream",
     "text": [
      "CRDS - INFO -  Fetching  /home/runner/work/hst_notebooks/hst_notebooks/notebooks/DrizzlePac/using_updated_astrometry_solutions/reference_files/mappings/hst/hst_nicmos_saacntab_0250.rmap      594 bytes  (78 / 141 files) (1.4 M / 1.7 M bytes)\n"
     ]
    },
    {
     "name": "stderr",
     "output_type": "stream",
     "text": [
      "CRDS - INFO -  Fetching  /home/runner/work/hst_notebooks/hst_notebooks/notebooks/DrizzlePac/using_updated_astrometry_solutions/reference_files/mappings/hst/hst_nicmos_rnlcortb_0250.rmap      771 bytes  (79 / 141 files) (1.4 M / 1.7 M bytes)\n"
     ]
    },
    {
     "name": "stderr",
     "output_type": "stream",
     "text": [
      "CRDS - INFO -  Fetching  /home/runner/work/hst_notebooks/hst_notebooks/notebooks/DrizzlePac/using_updated_astrometry_solutions/reference_files/mappings/hst/hst_nicmos_pmskfile_0250.rmap      603 bytes  (80 / 141 files) (1.4 M / 1.7 M bytes)\n"
     ]
    },
    {
     "name": "stderr",
     "output_type": "stream",
     "text": [
      "CRDS - INFO -  Fetching  /home/runner/work/hst_notebooks/hst_notebooks/notebooks/DrizzlePac/using_updated_astrometry_solutions/reference_files/mappings/hst/hst_nicmos_pmodfile_0250.rmap      603 bytes  (81 / 141 files) (1.4 M / 1.7 M bytes)\n"
     ]
    },
    {
     "name": "stderr",
     "output_type": "stream",
     "text": [
      "CRDS - INFO -  Fetching  /home/runner/work/hst_notebooks/hst_notebooks/notebooks/DrizzlePac/using_updated_astrometry_solutions/reference_files/mappings/hst/hst_nicmos_phottab_0250.rmap      862 bytes  (82 / 141 files) (1.4 M / 1.7 M bytes)\n"
     ]
    },
    {
     "name": "stderr",
     "output_type": "stream",
     "text": [
      "CRDS - INFO -  Fetching  /home/runner/work/hst_notebooks/hst_notebooks/notebooks/DrizzlePac/using_updated_astrometry_solutions/reference_files/mappings/hst/hst_nicmos_pedsbtab_0250.rmap      594 bytes  (83 / 141 files) (1.4 M / 1.7 M bytes)\n"
     ]
    },
    {
     "name": "stderr",
     "output_type": "stream",
     "text": [
      "CRDS - INFO -  Fetching  /home/runner/work/hst_notebooks/hst_notebooks/notebooks/DrizzlePac/using_updated_astrometry_solutions/reference_files/mappings/hst/hst_nicmos_noisfile_0250.rmap    2.6 K bytes  (84 / 141 files) (1.4 M / 1.7 M bytes)\n"
     ]
    },
    {
     "name": "stderr",
     "output_type": "stream",
     "text": [
      "CRDS - INFO -  Fetching  /home/runner/work/hst_notebooks/hst_notebooks/notebooks/DrizzlePac/using_updated_astrometry_solutions/reference_files/mappings/hst/hst_nicmos_nlinfile_0250.rmap    1.7 K bytes  (85 / 141 files) (1.4 M / 1.7 M bytes)\n"
     ]
    },
    {
     "name": "stderr",
     "output_type": "stream",
     "text": [
      "CRDS - INFO -  Fetching  /home/runner/work/hst_notebooks/hst_notebooks/notebooks/DrizzlePac/using_updated_astrometry_solutions/reference_files/mappings/hst/hst_nicmos_maskfile_0250.rmap    1.2 K bytes  (86 / 141 files) (1.4 M / 1.7 M bytes)\n"
     ]
    },
    {
     "name": "stderr",
     "output_type": "stream",
     "text": [
      "CRDS - INFO -  Fetching  /home/runner/work/hst_notebooks/hst_notebooks/notebooks/DrizzlePac/using_updated_astrometry_solutions/reference_files/mappings/hst/hst_nicmos_illmfile_0250.rmap    5.8 K bytes  (87 / 141 files) (1.4 M / 1.7 M bytes)\n"
     ]
    },
    {
     "name": "stderr",
     "output_type": "stream",
     "text": [
      "CRDS - INFO -  Fetching  /home/runner/work/hst_notebooks/hst_notebooks/notebooks/DrizzlePac/using_updated_astrometry_solutions/reference_files/mappings/hst/hst_nicmos_idctab_0250.rmap      767 bytes  (88 / 141 files) (1.4 M / 1.7 M bytes)\n"
     ]
    },
    {
     "name": "stderr",
     "output_type": "stream",
     "text": [
      "CRDS - INFO -  Fetching  /home/runner/work/hst_notebooks/hst_notebooks/notebooks/DrizzlePac/using_updated_astrometry_solutions/reference_files/mappings/hst/hst_nicmos_flatfile_0250.rmap   11.0 K bytes  (89 / 141 files) (1.4 M / 1.7 M bytes)\n"
     ]
    },
    {
     "name": "stderr",
     "output_type": "stream",
     "text": [
      "CRDS - INFO -  Fetching  /home/runner/work/hst_notebooks/hst_notebooks/notebooks/DrizzlePac/using_updated_astrometry_solutions/reference_files/mappings/hst/hst_nicmos_darkfile_0250.rmap   14.9 K bytes  (90 / 141 files) (1.4 M / 1.7 M bytes)\n"
     ]
    },
    {
     "name": "stderr",
     "output_type": "stream",
     "text": [
      "CRDS - INFO -  Fetching  /home/runner/work/hst_notebooks/hst_notebooks/notebooks/DrizzlePac/using_updated_astrometry_solutions/reference_files/mappings/hst/hst_nicmos_0250.imap    1.1 K bytes  (91 / 141 files) (1.5 M / 1.7 M bytes)\n"
     ]
    },
    {
     "name": "stderr",
     "output_type": "stream",
     "text": [
      "CRDS - INFO -  Fetching  /home/runner/work/hst_notebooks/hst_notebooks/notebooks/DrizzlePac/using_updated_astrometry_solutions/reference_files/mappings/hst/hst_cos_ywlkfile_0002.rmap      922 bytes  (92 / 141 files) (1.5 M / 1.7 M bytes)\n"
     ]
    },
    {
     "name": "stderr",
     "output_type": "stream",
     "text": [
      "CRDS - INFO -  Fetching  /home/runner/work/hst_notebooks/hst_notebooks/notebooks/DrizzlePac/using_updated_astrometry_solutions/reference_files/mappings/hst/hst_cos_xwlkfile_0002.rmap      922 bytes  (93 / 141 files) (1.5 M / 1.7 M bytes)\n"
     ]
    },
    {
     "name": "stderr",
     "output_type": "stream",
     "text": [
      "CRDS - INFO -  Fetching  /home/runner/work/hst_notebooks/hst_notebooks/notebooks/DrizzlePac/using_updated_astrometry_solutions/reference_files/mappings/hst/hst_cos_xtractab_0269.rmap    1.6 K bytes  (94 / 141 files) (1.5 M / 1.7 M bytes)\n"
     ]
    },
    {
     "name": "stderr",
     "output_type": "stream",
     "text": [
      "CRDS - INFO -  Fetching  /home/runner/work/hst_notebooks/hst_notebooks/notebooks/DrizzlePac/using_updated_astrometry_solutions/reference_files/mappings/hst/hst_cos_wcptab_0257.rmap    1.3 K bytes  (95 / 141 files) (1.5 M / 1.7 M bytes)\n"
     ]
    },
    {
     "name": "stderr",
     "output_type": "stream",
     "text": [
      "CRDS - INFO -  Fetching  /home/runner/work/hst_notebooks/hst_notebooks/notebooks/DrizzlePac/using_updated_astrometry_solutions/reference_files/mappings/hst/hst_cos_twozxtab_0277.rmap      990 bytes  (96 / 141 files) (1.5 M / 1.7 M bytes)\n"
     ]
    },
    {
     "name": "stderr",
     "output_type": "stream",
     "text": [
      "CRDS - INFO -  Fetching  /home/runner/work/hst_notebooks/hst_notebooks/notebooks/DrizzlePac/using_updated_astrometry_solutions/reference_files/mappings/hst/hst_cos_tracetab_0276.rmap      998 bytes  (97 / 141 files) (1.5 M / 1.7 M bytes)\n"
     ]
    },
    {
     "name": "stderr",
     "output_type": "stream",
     "text": [
      "CRDS - INFO -  Fetching  /home/runner/work/hst_notebooks/hst_notebooks/notebooks/DrizzlePac/using_updated_astrometry_solutions/reference_files/mappings/hst/hst_cos_tdstab_0270.rmap      803 bytes  (98 / 141 files) (1.5 M / 1.7 M bytes)\n"
     ]
    },
    {
     "name": "stderr",
     "output_type": "stream",
     "text": [
      "CRDS - INFO -  Fetching  /home/runner/work/hst_notebooks/hst_notebooks/notebooks/DrizzlePac/using_updated_astrometry_solutions/reference_files/mappings/hst/hst_cos_spwcstab_0255.rmap    1.1 K bytes  (99 / 141 files) (1.5 M / 1.7 M bytes)\n"
     ]
    },
    {
     "name": "stderr",
     "output_type": "stream",
     "text": [
      "CRDS - INFO -  Fetching  /home/runner/work/hst_notebooks/hst_notebooks/notebooks/DrizzlePac/using_updated_astrometry_solutions/reference_files/mappings/hst/hst_cos_spottab_0006.rmap      766 bytes  (100 / 141 files) (1.5 M / 1.7 M bytes)\n"
     ]
    },
    {
     "name": "stderr",
     "output_type": "stream",
     "text": [
      "CRDS - INFO -  Fetching  /home/runner/work/hst_notebooks/hst_notebooks/notebooks/DrizzlePac/using_updated_astrometry_solutions/reference_files/mappings/hst/hst_cos_proftab_0276.rmap    1.0 K bytes  (101 / 141 files) (1.5 M / 1.7 M bytes)\n"
     ]
    },
    {
     "name": "stderr",
     "output_type": "stream",
     "text": [
      "CRDS - INFO -  Fetching  /home/runner/work/hst_notebooks/hst_notebooks/notebooks/DrizzlePac/using_updated_astrometry_solutions/reference_files/mappings/hst/hst_cos_phatab_0250.rmap      668 bytes  (102 / 141 files) (1.5 M / 1.7 M bytes)\n"
     ]
    },
    {
     "name": "stderr",
     "output_type": "stream",
     "text": [
      "CRDS - INFO -  Fetching  /home/runner/work/hst_notebooks/hst_notebooks/notebooks/DrizzlePac/using_updated_astrometry_solutions/reference_files/mappings/hst/hst_cos_lamptab_0264.rmap    1.4 K bytes  (103 / 141 files) (1.5 M / 1.7 M bytes)\n"
     ]
    },
    {
     "name": "stderr",
     "output_type": "stream",
     "text": [
      "CRDS - INFO -  Fetching  /home/runner/work/hst_notebooks/hst_notebooks/notebooks/DrizzlePac/using_updated_astrometry_solutions/reference_files/mappings/hst/hst_cos_hvtab_0259.rmap      567 bytes  (104 / 141 files) (1.5 M / 1.7 M bytes)\n"
     ]
    },
    {
     "name": "stderr",
     "output_type": "stream",
     "text": [
      "CRDS - INFO -  Fetching  /home/runner/work/hst_notebooks/hst_notebooks/notebooks/DrizzlePac/using_updated_astrometry_solutions/reference_files/mappings/hst/hst_cos_gsagtab_0259.rmap      712 bytes  (105 / 141 files) (1.5 M / 1.7 M bytes)\n"
     ]
    },
    {
     "name": "stderr",
     "output_type": "stream",
     "text": [
      "CRDS - INFO -  Fetching  /home/runner/work/hst_notebooks/hst_notebooks/notebooks/DrizzlePac/using_updated_astrometry_solutions/reference_files/mappings/hst/hst_cos_geofile_0250.rmap      670 bytes  (106 / 141 files) (1.5 M / 1.7 M bytes)\n"
     ]
    },
    {
     "name": "stderr",
     "output_type": "stream",
     "text": [
      "CRDS - INFO -  Fetching  /home/runner/work/hst_notebooks/hst_notebooks/notebooks/DrizzlePac/using_updated_astrometry_solutions/reference_files/mappings/hst/hst_cos_fluxtab_0282.rmap    1.7 K bytes  (107 / 141 files) (1.5 M / 1.7 M bytes)\n"
     ]
    },
    {
     "name": "stderr",
     "output_type": "stream",
     "text": [
      "CRDS - INFO -  Fetching  /home/runner/work/hst_notebooks/hst_notebooks/notebooks/DrizzlePac/using_updated_astrometry_solutions/reference_files/mappings/hst/hst_cos_flatfile_0264.rmap    1.8 K bytes  (108 / 141 files) (1.5 M / 1.7 M bytes)\n"
     ]
    },
    {
     "name": "stderr",
     "output_type": "stream",
     "text": [
      "CRDS - INFO -  Fetching  /home/runner/work/hst_notebooks/hst_notebooks/notebooks/DrizzlePac/using_updated_astrometry_solutions/reference_files/mappings/hst/hst_cos_disptab_0276.rmap    1.7 K bytes  (109 / 141 files) (1.5 M / 1.7 M bytes)\n"
     ]
    },
    {
     "name": "stderr",
     "output_type": "stream",
     "text": [
      "CRDS - INFO -  Fetching  /home/runner/work/hst_notebooks/hst_notebooks/notebooks/DrizzlePac/using_updated_astrometry_solutions/reference_files/mappings/hst/hst_cos_dgeofile_0002.rmap      909 bytes  (110 / 141 files) (1.5 M / 1.7 M bytes)\n"
     ]
    },
    {
     "name": "stderr",
     "output_type": "stream",
     "text": [
      "CRDS - INFO -  Fetching  /home/runner/work/hst_notebooks/hst_notebooks/notebooks/DrizzlePac/using_updated_astrometry_solutions/reference_files/mappings/hst/hst_cos_deadtab_0250.rmap      711 bytes  (111 / 141 files) (1.5 M / 1.7 M bytes)\n"
     ]
    },
    {
     "name": "stderr",
     "output_type": "stream",
     "text": [
      "CRDS - INFO -  Fetching  /home/runner/work/hst_notebooks/hst_notebooks/notebooks/DrizzlePac/using_updated_astrometry_solutions/reference_files/mappings/hst/hst_cos_brsttab_0250.rmap      696 bytes  (112 / 141 files) (1.5 M / 1.7 M bytes)\n"
     ]
    },
    {
     "name": "stderr",
     "output_type": "stream",
     "text": [
      "CRDS - INFO -  Fetching  /home/runner/work/hst_notebooks/hst_notebooks/notebooks/DrizzlePac/using_updated_astrometry_solutions/reference_files/mappings/hst/hst_cos_brftab_0250.rmap      614 bytes  (113 / 141 files) (1.5 M / 1.7 M bytes)\n"
     ]
    },
    {
     "name": "stderr",
     "output_type": "stream",
     "text": [
      "CRDS - INFO -  Fetching  /home/runner/work/hst_notebooks/hst_notebooks/notebooks/DrizzlePac/using_updated_astrometry_solutions/reference_files/mappings/hst/hst_cos_bpixtab_0260.rmap      773 bytes  (114 / 141 files) (1.5 M / 1.7 M bytes)\n"
     ]
    },
    {
     "name": "stderr",
     "output_type": "stream",
     "text": [
      "CRDS - INFO -  Fetching  /home/runner/work/hst_notebooks/hst_notebooks/notebooks/DrizzlePac/using_updated_astrometry_solutions/reference_files/mappings/hst/hst_cos_badttab_0252.rmap      643 bytes  (115 / 141 files) (1.5 M / 1.7 M bytes)\n"
     ]
    },
    {
     "name": "stderr",
     "output_type": "stream",
     "text": [
      "CRDS - INFO -  Fetching  /home/runner/work/hst_notebooks/hst_notebooks/notebooks/DrizzlePac/using_updated_astrometry_solutions/reference_files/mappings/hst/hst_cos_0353.imap    1.4 K bytes  (116 / 141 files) (1.5 M / 1.7 M bytes)\n"
     ]
    },
    {
     "name": "stderr",
     "output_type": "stream",
     "text": [
      "CRDS - INFO -  Fetching  /home/runner/work/hst_notebooks/hst_notebooks/notebooks/DrizzlePac/using_updated_astrometry_solutions/reference_files/mappings/hst/hst_acs_spottab_0251.rmap      641 bytes  (117 / 141 files) (1.5 M / 1.7 M bytes)\n"
     ]
    },
    {
     "name": "stderr",
     "output_type": "stream",
     "text": [
      "CRDS - INFO -  Fetching  /home/runner/work/hst_notebooks/hst_notebooks/notebooks/DrizzlePac/using_updated_astrometry_solutions/reference_files/mappings/hst/hst_acs_snkcfile_0092.rmap    7.0 K bytes  (118 / 141 files) (1.5 M / 1.7 M bytes)\n"
     ]
    },
    {
     "name": "stderr",
     "output_type": "stream",
     "text": [
      "CRDS - INFO -  Fetching  /home/runner/work/hst_notebooks/hst_notebooks/notebooks/DrizzlePac/using_updated_astrometry_solutions/reference_files/mappings/hst/hst_acs_shadfile_0251.rmap      531 bytes  (119 / 141 files) (1.5 M / 1.7 M bytes)\n"
     ]
    },
    {
     "name": "stderr",
     "output_type": "stream",
     "text": [
      "CRDS - INFO -  Fetching  /home/runner/work/hst_notebooks/hst_notebooks/notebooks/DrizzlePac/using_updated_astrometry_solutions/reference_files/mappings/hst/hst_acs_satufile_0002.rmap    1.2 K bytes  (120 / 141 files) (1.5 M / 1.7 M bytes)\n"
     ]
    },
    {
     "name": "stderr",
     "output_type": "stream",
     "text": [
      "CRDS - INFO -  Fetching  /home/runner/work/hst_notebooks/hst_notebooks/notebooks/DrizzlePac/using_updated_astrometry_solutions/reference_files/mappings/hst/hst_acs_pfltfile_0253.rmap   69.2 K bytes  (121 / 141 files) (1.5 M / 1.7 M bytes)\n"
     ]
    },
    {
     "name": "stderr",
     "output_type": "stream",
     "text": [
      "CRDS - INFO -  Fetching  /home/runner/work/hst_notebooks/hst_notebooks/notebooks/DrizzlePac/using_updated_astrometry_solutions/reference_files/mappings/hst/hst_acs_pctetab_0253.rmap      615 bytes  (122 / 141 files) (1.6 M / 1.7 M bytes)\n"
     ]
    },
    {
     "name": "stderr",
     "output_type": "stream",
     "text": [
      "CRDS - INFO -  Fetching  /home/runner/work/hst_notebooks/hst_notebooks/notebooks/DrizzlePac/using_updated_astrometry_solutions/reference_files/mappings/hst/hst_acs_oscntab_0251.rmap      781 bytes  (123 / 141 files) (1.6 M / 1.7 M bytes)\n"
     ]
    },
    {
     "name": "stderr",
     "output_type": "stream",
     "text": [
      "CRDS - INFO -  Fetching  /home/runner/work/hst_notebooks/hst_notebooks/notebooks/DrizzlePac/using_updated_astrometry_solutions/reference_files/mappings/hst/hst_acs_npolfile_0253.rmap    3.2 K bytes  (124 / 141 files) (1.6 M / 1.7 M bytes)\n"
     ]
    },
    {
     "name": "stderr",
     "output_type": "stream",
     "text": [
      "CRDS - INFO -  Fetching  /home/runner/work/hst_notebooks/hst_notebooks/notebooks/DrizzlePac/using_updated_astrometry_solutions/reference_files/mappings/hst/hst_acs_mlintab_0250.rmap      646 bytes  (125 / 141 files) (1.6 M / 1.7 M bytes)\n"
     ]
    },
    {
     "name": "stderr",
     "output_type": "stream",
     "text": [
      "CRDS - INFO -  Fetching  /home/runner/work/hst_notebooks/hst_notebooks/notebooks/DrizzlePac/using_updated_astrometry_solutions/reference_files/mappings/hst/hst_acs_mdriztab_0253.rmap      769 bytes  (126 / 141 files) (1.6 M / 1.7 M bytes)\n"
     ]
    },
    {
     "name": "stderr",
     "output_type": "stream",
     "text": [
      "CRDS - INFO -  Fetching  /home/runner/work/hst_notebooks/hst_notebooks/notebooks/DrizzlePac/using_updated_astrometry_solutions/reference_files/mappings/hst/hst_acs_imphttab_0259.rmap      769 bytes  (127 / 141 files) (1.6 M / 1.7 M bytes)\n"
     ]
    },
    {
     "name": "stderr",
     "output_type": "stream",
     "text": [
      "CRDS - INFO -  Fetching  /home/runner/work/hst_notebooks/hst_notebooks/notebooks/DrizzlePac/using_updated_astrometry_solutions/reference_files/mappings/hst/hst_acs_idctab_0256.rmap    1.5 K bytes  (128 / 141 files) (1.6 M / 1.7 M bytes)\n"
     ]
    },
    {
     "name": "stderr",
     "output_type": "stream",
     "text": [
      "CRDS - INFO -  Fetching  /home/runner/work/hst_notebooks/hst_notebooks/notebooks/DrizzlePac/using_updated_astrometry_solutions/reference_files/mappings/hst/hst_acs_flshfile_0268.rmap    3.4 K bytes  (129 / 141 files) (1.6 M / 1.7 M bytes)\n"
     ]
    },
    {
     "name": "stderr",
     "output_type": "stream",
     "text": [
      "CRDS - INFO -  Fetching  /home/runner/work/hst_notebooks/hst_notebooks/notebooks/DrizzlePac/using_updated_astrometry_solutions/reference_files/mappings/hst/hst_acs_drkcfile_0443.rmap   14.6 K bytes  (130 / 141 files) (1.6 M / 1.7 M bytes)\n"
     ]
    },
    {
     "name": "stderr",
     "output_type": "stream",
     "text": [
      "CRDS - INFO -  Fetching  /home/runner/work/hst_notebooks/hst_notebooks/notebooks/DrizzlePac/using_updated_astrometry_solutions/reference_files/mappings/hst/hst_acs_dgeofile_0250.rmap    3.2 K bytes  (131 / 141 files) (1.6 M / 1.7 M bytes)\n"
     ]
    },
    {
     "name": "stderr",
     "output_type": "stream",
     "text": [
      "CRDS - INFO -  Fetching  /home/runner/work/hst_notebooks/hst_notebooks/notebooks/DrizzlePac/using_updated_astrometry_solutions/reference_files/mappings/hst/hst_acs_darkfile_0434.rmap   86.5 K bytes  (132 / 141 files) (1.6 M / 1.7 M bytes)\n"
     ]
    },
    {
     "name": "stderr",
     "output_type": "stream",
     "text": [
      "CRDS - INFO -  Fetching  /home/runner/work/hst_notebooks/hst_notebooks/notebooks/DrizzlePac/using_updated_astrometry_solutions/reference_files/mappings/hst/hst_acs_d2imfile_0253.rmap      601 bytes  (133 / 141 files) (1.7 M / 1.7 M bytes)\n"
     ]
    },
    {
     "name": "stderr",
     "output_type": "stream",
     "text": [
      "CRDS - INFO -  Fetching  /home/runner/work/hst_notebooks/hst_notebooks/notebooks/DrizzlePac/using_updated_astrometry_solutions/reference_files/mappings/hst/hst_acs_crrejtab_0251.rmap      945 bytes  (134 / 141 files) (1.7 M / 1.7 M bytes)\n"
     ]
    },
    {
     "name": "stderr",
     "output_type": "stream",
     "text": [
      "CRDS - INFO -  Fetching  /home/runner/work/hst_notebooks/hst_notebooks/notebooks/DrizzlePac/using_updated_astrometry_solutions/reference_files/mappings/hst/hst_acs_cfltfile_0250.rmap    1.2 K bytes  (135 / 141 files) (1.7 M / 1.7 M bytes)\n"
     ]
    },
    {
     "name": "stderr",
     "output_type": "stream",
     "text": [
      "CRDS - INFO -  Fetching  /home/runner/work/hst_notebooks/hst_notebooks/notebooks/DrizzlePac/using_updated_astrometry_solutions/reference_files/mappings/hst/hst_acs_ccdtab_0256.rmap    1.4 K bytes  (136 / 141 files) (1.7 M / 1.7 M bytes)\n"
     ]
    },
    {
     "name": "stderr",
     "output_type": "stream",
     "text": [
      "CRDS - INFO -  Fetching  /home/runner/work/hst_notebooks/hst_notebooks/notebooks/DrizzlePac/using_updated_astrometry_solutions/reference_files/mappings/hst/hst_acs_bpixtab_0252.rmap    1.0 K bytes  (137 / 141 files) (1.7 M / 1.7 M bytes)\n"
     ]
    },
    {
     "name": "stderr",
     "output_type": "stream",
     "text": [
      "CRDS - INFO -  Fetching  /home/runner/work/hst_notebooks/hst_notebooks/notebooks/DrizzlePac/using_updated_astrometry_solutions/reference_files/mappings/hst/hst_acs_biasfile_0432.rmap   56.6 K bytes  (138 / 141 files) (1.7 M / 1.7 M bytes)\n"
     ]
    },
    {
     "name": "stderr",
     "output_type": "stream",
     "text": [
      "CRDS - INFO -  Fetching  /home/runner/work/hst_notebooks/hst_notebooks/notebooks/DrizzlePac/using_updated_astrometry_solutions/reference_files/mappings/hst/hst_acs_atodtab_0251.rmap      528 bytes  (139 / 141 files) (1.7 M / 1.7 M bytes)\n"
     ]
    },
    {
     "name": "stderr",
     "output_type": "stream",
     "text": [
      "CRDS - INFO -  Fetching  /home/runner/work/hst_notebooks/hst_notebooks/notebooks/DrizzlePac/using_updated_astrometry_solutions/reference_files/mappings/hst/hst_acs_0532.imap    1.3 K bytes  (140 / 141 files) (1.7 M / 1.7 M bytes)\n"
     ]
    },
    {
     "name": "stderr",
     "output_type": "stream",
     "text": [
      "CRDS - INFO -  Fetching  /home/runner/work/hst_notebooks/hst_notebooks/notebooks/DrizzlePac/using_updated_astrometry_solutions/reference_files/mappings/hst/hst_1148.pmap      495 bytes  (141 / 141 files) (1.7 M / 1.7 M bytes)\n"
     ]
    },
    {
     "name": "stderr",
     "output_type": "stream",
     "text": [
      "CRDS - INFO -  No comparison context or source comparison requested.\n",
      "CRDS - INFO -  ===> Processing id7307xfq_flc.fits\n"
     ]
    },
    {
     "name": "stderr",
     "output_type": "stream",
     "text": [
      "CRDS - INFO -  Fetching  /home/runner/work/hst_notebooks/hst_notebooks/notebooks/DrizzlePac/using_updated_astrometry_solutions/reference_files/references/hst/wfc3/2321606li_bia.fits  174.2 M bytes  (1 / 14 files) (0 / 757.0 M bytes)\n"
     ]
    },
    {
     "name": "stderr",
     "output_type": "stream",
     "text": [
      "CRDS - INFO -  Fetching  /home/runner/work/hst_notebooks/hst_notebooks/notebooks/DrizzlePac/using_updated_astrometry_solutions/reference_files/references/hst/wfc3/2731450pi_idc.fits   40.3 K bytes  (2 / 14 files) (174.2 M / 757.0 M bytes)\n"
     ]
    },
    {
     "name": "stderr",
     "output_type": "stream",
     "text": [
      "CRDS - INFO -  Fetching  /home/runner/work/hst_notebooks/hst_notebooks/notebooks/DrizzlePac/using_updated_astrometry_solutions/reference_files/references/hst/wfc3/2ck18260i_mdz.fits  118.1 K bytes  (3 / 14 files) (174.2 M / 757.0 M bytes)\n"
     ]
    },
    {
     "name": "stderr",
     "output_type": "stream",
     "text": [
      "CRDS - INFO -  Fetching  /home/runner/work/hst_notebooks/hst_notebooks/notebooks/DrizzlePac/using_updated_astrometry_solutions/reference_files/references/hst/wfc3/2ck1856fi_bpx.fits    1.8 M bytes  (4 / 14 files) (174.3 M / 757.0 M bytes)\n"
     ]
    },
    {
     "name": "stderr",
     "output_type": "stream",
     "text": [
      "CRDS - INFO -  Fetching  /home/runner/work/hst_notebooks/hst_notebooks/notebooks/DrizzlePac/using_updated_astrometry_solutions/reference_files/references/hst/wfc3/51c1638pi_imp.fits  397.4 K bytes  (5 / 14 files) (176.2 M / 757.0 M bytes)\n"
     ]
    },
    {
     "name": "stderr",
     "output_type": "stream",
     "text": [
      "CRDS - INFO -  Fetching  /home/runner/work/hst_notebooks/hst_notebooks/notebooks/DrizzlePac/using_updated_astrometry_solutions/reference_files/references/hst/wfc3/7b21735ti_sat.fits  174.2 M bytes  (6 / 14 files) (176.6 M / 757.0 M bytes)\n"
     ]
    },
    {
     "name": "stderr",
     "output_type": "stream",
     "text": [
      "CRDS - INFO -  Fetching  /home/runner/work/hst_notebooks/hst_notebooks/notebooks/DrizzlePac/using_updated_astrometry_solutions/reference_files/references/hst/wfc3/7bd1927fi_drk.fits  168.1 M bytes  (7 / 14 files) (350.7 M / 757.0 M bytes)\n"
     ]
    },
    {
     "name": "stderr",
     "output_type": "stream",
     "text": [
      "CRDS - INFO -  Fetching  /home/runner/work/hst_notebooks/hst_notebooks/notebooks/DrizzlePac/using_updated_astrometry_solutions/reference_files/references/hst/wfc3/n9i1435li_crr.fits   11.5 K bytes  (8 / 14 files) (518.8 M / 757.0 M bytes)\n"
     ]
    },
    {
     "name": "stderr",
     "output_type": "stream",
     "text": [
      "CRDS - INFO -  Fetching  /home/runner/work/hst_notebooks/hst_notebooks/notebooks/DrizzlePac/using_updated_astrometry_solutions/reference_files/references/hst/wfc3/q911321oi_osc.fits   25.9 K bytes  (9 / 14 files) (518.8 M / 757.0 M bytes)\n"
     ]
    },
    {
     "name": "stderr",
     "output_type": "stream",
     "text": [
      "CRDS - INFO -  Fetching  /home/runner/work/hst_notebooks/hst_notebooks/notebooks/DrizzlePac/using_updated_astrometry_solutions/reference_files/references/hst/wfc3/t291659mi_ccd.fits  247.7 K bytes  (10 / 14 files) (518.9 M / 757.0 M bytes)\n"
     ]
    },
    {
     "name": "stderr",
     "output_type": "stream",
     "text": [
      "CRDS - INFO -  Fetching  /home/runner/work/hst_notebooks/hst_notebooks/notebooks/DrizzlePac/using_updated_astrometry_solutions/reference_files/references/hst/wfc3/y7b1516hi_d2i.fits   51.8 K bytes  (11 / 14 files) (519.1 M / 757.0 M bytes)\n"
     ]
    },
    {
     "name": "stderr",
     "output_type": "stream",
     "text": [
      "CRDS - INFO -  Fetching  /home/runner/work/hst_notebooks/hst_notebooks/notebooks/DrizzlePac/using_updated_astrometry_solutions/reference_files/references/hst/wfc3/y7b15170i_npl.fits   51.8 K bytes  (12 / 14 files) (519.2 M / 757.0 M bytes)\n"
     ]
    },
    {
     "name": "stderr",
     "output_type": "stream",
     "text": [
      "CRDS - INFO -  Fetching  /home/runner/work/hst_notebooks/hst_notebooks/notebooks/DrizzlePac/using_updated_astrometry_solutions/reference_files/references/hst/wfc3/zcv2054mi_pfl.fits  168.1 M bytes  (13 / 14 files) (519.2 M / 757.0 M bytes)\n"
     ]
    },
    {
     "name": "stderr",
     "output_type": "stream",
     "text": [
      "CRDS - INFO -  Fetching  /home/runner/work/hst_notebooks/hst_notebooks/notebooks/DrizzlePac/using_updated_astrometry_solutions/reference_files/references/hst/wfc3/zcv2057oi_snk.fits   69.7 M bytes  (14 / 14 files) (687.3 M / 757.0 M bytes)\n"
     ]
    },
    {
     "name": "stderr",
     "output_type": "stream",
     "text": [
      "CRDS - INFO -  0 errors\n",
      "CRDS - INFO -  0 warnings\n",
      "CRDS - INFO -  157 infos\n"
     ]
    },
    {
     "name": "stderr",
     "output_type": "stream",
     "text": [
      "CRDS - INFO -  No comparison context or source comparison requested.\n",
      "CRDS - INFO -  ===> Processing id7307xhq_flc.fits\n"
     ]
    },
    {
     "name": "stderr",
     "output_type": "stream",
     "text": [
      "CRDS - INFO -  0 errors\n",
      "CRDS - INFO -  0 warnings\n",
      "CRDS - INFO -  2 infos\n"
     ]
    },
    {
     "name": "stderr",
     "output_type": "stream",
     "text": [
      "CRDS - INFO -  No comparison context or source comparison requested.\n",
      "CRDS - INFO -  ===> Processing id7307xlq_flc.fits\n"
     ]
    },
    {
     "name": "stderr",
     "output_type": "stream",
     "text": [
      "CRDS - INFO -  0 errors\n",
      "CRDS - INFO -  0 warnings\n",
      "CRDS - INFO -  2 infos\n"
     ]
    },
    {
     "name": "stderr",
     "output_type": "stream",
     "text": [
      "CRDS - INFO -  No comparison context or source comparison requested.\n",
      "CRDS - INFO -  ===> Processing id7307xpq_flc.fits\n"
     ]
    },
    {
     "name": "stderr",
     "output_type": "stream",
     "text": [
      "CRDS - INFO -  Fetching  /home/runner/work/hst_notebooks/hst_notebooks/notebooks/DrizzlePac/using_updated_astrometry_solutions/reference_files/references/hst/wfc3/6c820144i_fls.fits  209.0 M bytes  (1 / 1 files) (0 / 209.0 M bytes)\n"
     ]
    },
    {
     "name": "stderr",
     "output_type": "stream",
     "text": [
      "CRDS - INFO -  0 errors\n",
      "CRDS - INFO -  0 warnings\n",
      "CRDS - INFO -  3 infos\n"
     ]
    },
    {
     "name": "stderr",
     "output_type": "stream",
     "text": [
      "CRDS - INFO -  No comparison context or source comparison requested.\n",
      "CRDS - INFO -  ===> Processing hst_14689_07_wfc3_uvis_f814w_id7307xh_flc.fits\n"
     ]
    },
    {
     "name": "stderr",
     "output_type": "stream",
     "text": [
      "CRDS - INFO -  0 errors\n",
      "CRDS - INFO -  0 warnings\n",
      "CRDS - INFO -  2 infos\n"
     ]
    },
    {
     "name": "stderr",
     "output_type": "stream",
     "text": [
      "CRDS - INFO -  No comparison context or source comparison requested.\n",
      "CRDS - INFO -  ===> Processing hst_14689_07_wfc3_uvis_f814w_id7307xl_flc.fits\n"
     ]
    },
    {
     "name": "stderr",
     "output_type": "stream",
     "text": [
      "CRDS - INFO -  0 errors\n",
      "CRDS - INFO -  0 warnings\n",
      "CRDS - INFO -  2 infos\n"
     ]
    },
    {
     "name": "stderr",
     "output_type": "stream",
     "text": [
      "CRDS - INFO -  No comparison context or source comparison requested.\n",
      "CRDS - INFO -  ===> Processing hst_14689_07_wfc3_uvis_f814w_id7307xp_flc.fits\n"
     ]
    },
    {
     "name": "stderr",
     "output_type": "stream",
     "text": [
      "CRDS - INFO -  0 errors\n",
      "CRDS - INFO -  0 warnings\n",
      "CRDS - INFO -  2 infos\n"
     ]
    },
    {
     "name": "stderr",
     "output_type": "stream",
     "text": [
      "CRDS - INFO -  No comparison context or source comparison requested.\n",
      "CRDS - INFO -  ===> Processing hst_14689_07_wfc3_uvis_f814w_id7307xf_flc.fits\n"
     ]
    },
    {
     "name": "stderr",
     "output_type": "stream",
     "text": [
      "CRDS - INFO -  0 errors\n",
      "CRDS - INFO -  0 warnings\n",
      "CRDS - INFO -  2 infos\n"
     ]
    }
   ],
   "source": [
    "for row in filtered_products:\n",
    "    if row['productSubGroupDescription'] == 'FLC':\n",
    "        os.system('crds bestrefs --files {}_flc.fits --sync-references=1 --update-bestrefs'.format(row['obs_id']))"
   ]
  },
  {
   "cell_type": "markdown",
   "metadata": {},
   "source": [
    "## 1. New extensions on fits files"
   ]
  },
  {
   "cell_type": "markdown",
   "metadata": {},
   "source": [
    "Using `fits.info` prints basic information about the extensions in a fits file.  In the following examples, we will show operations for one file, though performing the same operations for multiple files simply requires looping."
   ]
  },
  {
   "cell_type": "code",
   "execution_count": 7,
   "metadata": {
    "execution": {
     "iopub.execute_input": "2024-04-01T13:19:42.501885Z",
     "iopub.status.busy": "2024-04-01T13:19:42.501503Z",
     "iopub.status.idle": "2024-04-01T13:19:42.504197Z",
     "shell.execute_reply": "2024-04-01T13:19:42.503742Z"
    }
   },
   "outputs": [],
   "source": [
    "filename = 'id7307xfq_flc.fits'"
   ]
  },
  {
   "cell_type": "markdown",
   "metadata": {},
   "source": [
    "If no extensions named `HDRLET` appear, then solutions can be downloaded from the database (if available) and automatically appended to the fits files using the following command:"
   ]
  },
  {
   "cell_type": "code",
   "execution_count": 8,
   "metadata": {
    "execution": {
     "iopub.execute_input": "2024-04-01T13:19:42.506226Z",
     "iopub.status.busy": "2024-04-01T13:19:42.505907Z",
     "iopub.status.idle": "2024-04-01T13:19:48.540931Z",
     "shell.execute_reply": "2024-04-01T13:19:48.540345Z"
    }
   },
   "outputs": [
    {
     "name": "stdout",
     "output_type": "stream",
     "text": [
      "AstrometryDB service available...\n"
     ]
    },
    {
     "name": "stdout",
     "output_type": "stream",
     "text": [
      "Deleted all instances of WCS with key A in extensions [1, 4]\n",
      "Deleted all instances of WCS with key B in extensions [1, 4]\n",
      "Wcskey 'O' is reserved for the original WCS and should not be deleted.\n",
      "INFO: \n",
      "                Inconsistent SIP distortion information is present in the FITS header and the WCS object:\n",
      "                SIP coefficients were detected, but CTYPE is missing a \"-SIP\" suffix.\n",
      "                astropy.wcs is using the SIP distortion coefficients,\n",
      "                therefore the coordinates calculated here might be incorrect.\n",
      "\n",
      "                If you do not want to apply the SIP distortion coefficients,\n",
      "                please remove the SIP coefficients from the FITS header or the\n",
      "                WCS object.  As an example, if the image is already distortion-corrected\n",
      "                (e.g., drizzled) then distortion components should not apply and the SIP\n",
      "                coefficients should be removed.\n",
      "\n",
      "                While the SIP distortion coefficients are being applied here, if that was indeed the intent,\n",
      "                for consistency please append \"-SIP\" to the CTYPE in the FITS header or the WCS object.\n",
      "\n",
      "                 [astropy.wcs.wcs]\n",
      "- IDCTAB: Distortion model from row 36 for chip 2 : F814W\n",
      "INFO: \n",
      "                Inconsistent SIP distortion information is present in the FITS header and the WCS object:\n",
      "                SIP coefficients were detected, but CTYPE is missing a \"-SIP\" suffix.\n",
      "                astropy.wcs is using the SIP distortion coefficients,\n",
      "                therefore the coordinates calculated here might be incorrect.\n",
      "\n",
      "                If you do not want to apply the SIP distortion coefficients,\n",
      "                please remove the SIP coefficients from the FITS header or the\n",
      "                WCS object.  As an example, if the image is already distortion-corrected\n",
      "                (e.g., drizzled) then distortion components should not apply and the SIP\n",
      "                coefficients should be removed.\n",
      "\n",
      "                While the SIP distortion coefficients are being applied here, if that was indeed the intent,\n",
      "                for consistency please append \"-SIP\" to the CTYPE in the FITS header or the WCS object.\n",
      "\n",
      "                 [astropy.wcs.wcs]\n",
      "- IDCTAB: Distortion model from row 36 for chip 2 : F814W\n"
     ]
    },
    {
     "name": "stderr",
     "output_type": "stream",
     "text": [
      "WARNING: wcs_from_key: Could not read WCS with key A [stwcs.wcsutil.altwcs]\n",
      "WARNING:               Skipping file 'id7307xfq_flc.fits[2]' [stwcs.wcsutil.altwcs]\n",
      "WARNING:               No WCS with key 'A' was found in the given header [stwcs.wcsutil.altwcs]\n",
      "WARNING: wcs_from_key: Could not read WCS with key A [stwcs.wcsutil.altwcs]\n",
      "WARNING:               Skipping file 'id7307xfq_flc.fits[3]' [stwcs.wcsutil.altwcs]\n",
      "WARNING:               No WCS with key 'A' was found in the given header [stwcs.wcsutil.altwcs]\n",
      "WARNING: wcs_from_key: Could not read WCS with key A [stwcs.wcsutil.altwcs]\n",
      "WARNING:               Skipping file 'id7307xfq_flc.fits[5]' [stwcs.wcsutil.altwcs]\n",
      "WARNING:               No WCS with key 'A' was found in the given header [stwcs.wcsutil.altwcs]\n",
      "WARNING: wcs_from_key: Could not read WCS with key A [stwcs.wcsutil.altwcs]\n",
      "WARNING:               Skipping file 'id7307xfq_flc.fits[6]' [stwcs.wcsutil.altwcs]\n",
      "WARNING:               No WCS with key 'A' was found in the given header [stwcs.wcsutil.altwcs]\n",
      "WARNING: wcs_from_key: Could not read WCS with key A [stwcs.wcsutil.altwcs]\n",
      "WARNING:               Skipping file 'id7307xfq_flc.fits[7]' [stwcs.wcsutil.altwcs]\n",
      "WARNING:               No WCS with key 'A' was found in the given header [stwcs.wcsutil.altwcs]\n",
      "WARNING: wcs_from_key: Could not read WCS with key A [stwcs.wcsutil.altwcs]\n",
      "WARNING:               Skipping file 'id7307xfq_flc.fits[8]' [stwcs.wcsutil.altwcs]\n",
      "WARNING:               No WCS with key 'A' was found in the given header [stwcs.wcsutil.altwcs]\n",
      "WARNING: wcs_from_key: Could not read WCS with key A [stwcs.wcsutil.altwcs]\n",
      "WARNING:               Skipping file 'id7307xfq_flc.fits[9]' [stwcs.wcsutil.altwcs]\n",
      "WARNING:               No WCS with key 'A' was found in the given header [stwcs.wcsutil.altwcs]\n",
      "WARNING: wcs_from_key: Could not read WCS with key A [stwcs.wcsutil.altwcs]\n",
      "WARNING:               Skipping file 'id7307xfq_flc.fits[10]' [stwcs.wcsutil.altwcs]\n",
      "WARNING:               No WCS with key 'A' was found in the given header [stwcs.wcsutil.altwcs]\n",
      "WARNING: wcs_from_key: Could not read WCS with key A [stwcs.wcsutil.altwcs]\n",
      "WARNING:               Skipping file 'id7307xfq_flc.fits[11]' [stwcs.wcsutil.altwcs]\n",
      "WARNING:               No WCS with key 'A' was found in the given header [stwcs.wcsutil.altwcs]\n",
      "WARNING: wcs_from_key: Could not read WCS with key A [stwcs.wcsutil.altwcs]\n",
      "WARNING:               Skipping file 'id7307xfq_flc.fits[12]' [stwcs.wcsutil.altwcs]\n",
      "WARNING:               No WCS with key 'A' was found in the given header [stwcs.wcsutil.altwcs]\n",
      "WARNING: wcs_from_key: Could not read WCS with key A [stwcs.wcsutil.altwcs]\n",
      "WARNING:               Skipping file 'id7307xfq_flc.fits[13]' [stwcs.wcsutil.altwcs]\n",
      "WARNING:               No WCS with key 'A' was found in the given header [stwcs.wcsutil.altwcs]\n",
      "WARNING: wcs_from_key: Could not read WCS with key A [stwcs.wcsutil.altwcs]\n",
      "WARNING:               Skipping file 'id7307xfq_flc.fits[14]' [stwcs.wcsutil.altwcs]\n",
      "WARNING:               No WCS with key 'A' was found in the given header [stwcs.wcsutil.altwcs]\n",
      "WARNING: wcs_from_key: Could not read WCS with key A [stwcs.wcsutil.altwcs]\n",
      "WARNING:               Skipping file 'id7307xfq_flc.fits[15]' [stwcs.wcsutil.altwcs]\n",
      "WARNING:               No WCS with key 'A' was found in the given header [stwcs.wcsutil.altwcs]\n",
      "WARNING: wcs_from_key: Could not read WCS with key A [stwcs.wcsutil.altwcs]\n",
      "WARNING:               Skipping file 'id7307xfq_flc.fits[16]' [stwcs.wcsutil.altwcs]\n",
      "WARNING:               No WCS with key 'A' was found in the given header [stwcs.wcsutil.altwcs]\n",
      "WARNING: wcs_from_key: Could not read WCS with key A [stwcs.wcsutil.altwcs]\n",
      "WARNING:               Skipping file 'id7307xfq_flc.fits[17]' [stwcs.wcsutil.altwcs]\n",
      "WARNING:               No WCS with key 'A' was found in the given header [stwcs.wcsutil.altwcs]\n",
      "WARNING: wcs_from_key: Could not read WCS with key A [stwcs.wcsutil.altwcs]\n",
      "WARNING:               Skipping file 'id7307xfq_flc.fits[18]' [stwcs.wcsutil.altwcs]\n",
      "WARNING:               No WCS with key 'A' was found in the given header [stwcs.wcsutil.altwcs]\n",
      "WARNING: wcs_from_key: Could not read WCS with key A [stwcs.wcsutil.altwcs]\n",
      "WARNING:               Skipping file 'id7307xfq_flc.fits[19]' [stwcs.wcsutil.altwcs]\n",
      "WARNING:               No WCS with key 'A' was found in the given header [stwcs.wcsutil.altwcs]\n",
      "WARNING: wcs_from_key: Could not read WCS with key A [stwcs.wcsutil.altwcs]\n",
      "WARNING:               Skipping file 'id7307xfq_flc.fits[20]' [stwcs.wcsutil.altwcs]\n",
      "WARNING:               No WCS with key 'A' was found in the given header [stwcs.wcsutil.altwcs]\n",
      "WARNING: wcs_from_key: Could not read WCS with key A [stwcs.wcsutil.altwcs]\n",
      "WARNING:               Skipping file 'id7307xfq_flc.fits[21]' [stwcs.wcsutil.altwcs]\n",
      "WARNING:               No WCS with key 'A' was found in the given header [stwcs.wcsutil.altwcs]\n",
      "WARNING: wcs_from_key: Could not read WCS with key A [stwcs.wcsutil.altwcs]\n",
      "WARNING:               Skipping file 'id7307xfq_flc.fits[22]' [stwcs.wcsutil.altwcs]\n",
      "WARNING:               No WCS with key 'A' was found in the given header [stwcs.wcsutil.altwcs]\n",
      "WARNING: wcs_from_key: Could not read WCS with key A [stwcs.wcsutil.altwcs]\n",
      "WARNING:               Skipping file 'id7307xfq_flc.fits[23]' [stwcs.wcsutil.altwcs]\n",
      "WARNING:               No WCS with key 'A' was found in the given header [stwcs.wcsutil.altwcs]\n",
      "WARNING: wcs_from_key: Could not read WCS with key B [stwcs.wcsutil.altwcs]\n",
      "WARNING:               Skipping file 'id7307xfq_flc.fits[2]' [stwcs.wcsutil.altwcs]\n",
      "WARNING:               No WCS with key 'B' was found in the given header [stwcs.wcsutil.altwcs]\n",
      "WARNING: wcs_from_key: Could not read WCS with key B [stwcs.wcsutil.altwcs]\n",
      "WARNING:               Skipping file 'id7307xfq_flc.fits[3]' [stwcs.wcsutil.altwcs]\n",
      "WARNING:               No WCS with key 'B' was found in the given header [stwcs.wcsutil.altwcs]\n",
      "WARNING: wcs_from_key: Could not read WCS with key B [stwcs.wcsutil.altwcs]\n",
      "WARNING:               Skipping file 'id7307xfq_flc.fits[5]' [stwcs.wcsutil.altwcs]\n",
      "WARNING:               No WCS with key 'B' was found in the given header [stwcs.wcsutil.altwcs]\n",
      "WARNING: wcs_from_key: Could not read WCS with key B [stwcs.wcsutil.altwcs]\n",
      "WARNING:               Skipping file 'id7307xfq_flc.fits[6]' [stwcs.wcsutil.altwcs]\n",
      "WARNING:               No WCS with key 'B' was found in the given header [stwcs.wcsutil.altwcs]\n",
      "WARNING: wcs_from_key: Could not read WCS with key B [stwcs.wcsutil.altwcs]\n",
      "WARNING:               Skipping file 'id7307xfq_flc.fits[7]' [stwcs.wcsutil.altwcs]\n",
      "WARNING:               No WCS with key 'B' was found in the given header [stwcs.wcsutil.altwcs]\n",
      "WARNING: wcs_from_key: Could not read WCS with key B [stwcs.wcsutil.altwcs]\n",
      "WARNING:               Skipping file 'id7307xfq_flc.fits[8]' [stwcs.wcsutil.altwcs]\n",
      "WARNING:               No WCS with key 'B' was found in the given header [stwcs.wcsutil.altwcs]\n",
      "WARNING: wcs_from_key: Could not read WCS with key B [stwcs.wcsutil.altwcs]\n",
      "WARNING:               Skipping file 'id7307xfq_flc.fits[9]' [stwcs.wcsutil.altwcs]\n",
      "WARNING:               No WCS with key 'B' was found in the given header [stwcs.wcsutil.altwcs]\n",
      "WARNING: wcs_from_key: Could not read WCS with key B [stwcs.wcsutil.altwcs]\n",
      "WARNING:               Skipping file 'id7307xfq_flc.fits[10]' [stwcs.wcsutil.altwcs]\n",
      "WARNING:               No WCS with key 'B' was found in the given header [stwcs.wcsutil.altwcs]\n",
      "WARNING: wcs_from_key: Could not read WCS with key B [stwcs.wcsutil.altwcs]\n",
      "WARNING:               Skipping file 'id7307xfq_flc.fits[11]' [stwcs.wcsutil.altwcs]\n",
      "WARNING:               No WCS with key 'B' was found in the given header [stwcs.wcsutil.altwcs]\n",
      "WARNING: wcs_from_key: Could not read WCS with key B [stwcs.wcsutil.altwcs]\n",
      "WARNING:               Skipping file 'id7307xfq_flc.fits[12]' [stwcs.wcsutil.altwcs]\n",
      "WARNING:               No WCS with key 'B' was found in the given header [stwcs.wcsutil.altwcs]\n",
      "WARNING: wcs_from_key: Could not read WCS with key B [stwcs.wcsutil.altwcs]\n",
      "WARNING:               Skipping file 'id7307xfq_flc.fits[13]' [stwcs.wcsutil.altwcs]\n",
      "WARNING:               No WCS with key 'B' was found in the given header [stwcs.wcsutil.altwcs]\n",
      "WARNING: wcs_from_key: Could not read WCS with key B [stwcs.wcsutil.altwcs]\n",
      "WARNING:               Skipping file 'id7307xfq_flc.fits[14]' [stwcs.wcsutil.altwcs]\n",
      "WARNING:               No WCS with key 'B' was found in the given header [stwcs.wcsutil.altwcs]\n",
      "WARNING: wcs_from_key: Could not read WCS with key B [stwcs.wcsutil.altwcs]\n",
      "WARNING:               Skipping file 'id7307xfq_flc.fits[15]' [stwcs.wcsutil.altwcs]\n",
      "WARNING:               No WCS with key 'B' was found in the given header [stwcs.wcsutil.altwcs]\n",
      "WARNING: wcs_from_key: Could not read WCS with key B [stwcs.wcsutil.altwcs]\n",
      "WARNING:               Skipping file 'id7307xfq_flc.fits[16]' [stwcs.wcsutil.altwcs]\n",
      "WARNING:               No WCS with key 'B' was found in the given header [stwcs.wcsutil.altwcs]\n",
      "WARNING: wcs_from_key: Could not read WCS with key B [stwcs.wcsutil.altwcs]\n",
      "WARNING:               Skipping file 'id7307xfq_flc.fits[17]' [stwcs.wcsutil.altwcs]\n",
      "WARNING:               No WCS with key 'B' was found in the given header [stwcs.wcsutil.altwcs]\n",
      "WARNING: wcs_from_key: Could not read WCS with key B [stwcs.wcsutil.altwcs]\n",
      "WARNING:               Skipping file 'id7307xfq_flc.fits[18]' [stwcs.wcsutil.altwcs]\n",
      "WARNING:               No WCS with key 'B' was found in the given header [stwcs.wcsutil.altwcs]\n",
      "WARNING: wcs_from_key: Could not read WCS with key B [stwcs.wcsutil.altwcs]\n",
      "WARNING:               Skipping file 'id7307xfq_flc.fits[19]' [stwcs.wcsutil.altwcs]\n",
      "WARNING:               No WCS with key 'B' was found in the given header [stwcs.wcsutil.altwcs]\n",
      "WARNING: wcs_from_key: Could not read WCS with key B [stwcs.wcsutil.altwcs]\n",
      "WARNING:               Skipping file 'id7307xfq_flc.fits[20]' [stwcs.wcsutil.altwcs]\n",
      "WARNING:               No WCS with key 'B' was found in the given header [stwcs.wcsutil.altwcs]\n",
      "WARNING: wcs_from_key: Could not read WCS with key B [stwcs.wcsutil.altwcs]\n",
      "WARNING:               Skipping file 'id7307xfq_flc.fits[21]' [stwcs.wcsutil.altwcs]\n",
      "WARNING:               No WCS with key 'B' was found in the given header [stwcs.wcsutil.altwcs]\n",
      "WARNING: wcs_from_key: Could not read WCS with key B [stwcs.wcsutil.altwcs]\n",
      "WARNING:               Skipping file 'id7307xfq_flc.fits[22]' [stwcs.wcsutil.altwcs]\n",
      "WARNING:               No WCS with key 'B' was found in the given header [stwcs.wcsutil.altwcs]\n",
      "WARNING: wcs_from_key: Could not read WCS with key B [stwcs.wcsutil.altwcs]\n",
      "WARNING:               Skipping file 'id7307xfq_flc.fits[23]' [stwcs.wcsutil.altwcs]\n",
      "WARNING:               No WCS with key 'B' was found in the given header [stwcs.wcsutil.altwcs]\n"
     ]
    },
    {
     "name": "stdout",
     "output_type": "stream",
     "text": [
      "INFO: \n",
      "                Inconsistent SIP distortion information is present in the FITS header and the WCS object:\n",
      "                SIP coefficients were detected, but CTYPE is missing a \"-SIP\" suffix.\n",
      "                astropy.wcs is using the SIP distortion coefficients,\n",
      "                therefore the coordinates calculated here might be incorrect.\n",
      "\n",
      "                If you do not want to apply the SIP distortion coefficients,\n",
      "                please remove the SIP coefficients from the FITS header or the\n",
      "                WCS object.  As an example, if the image is already distortion-corrected\n",
      "                (e.g., drizzled) then distortion components should not apply and the SIP\n",
      "                coefficients should be removed.\n",
      "\n",
      "                While the SIP distortion coefficients are being applied here, if that was indeed the intent,\n",
      "                for consistency please append \"-SIP\" to the CTYPE in the FITS header or the WCS object.\n",
      "\n",
      "                 [astropy.wcs.wcs]\n",
      "- IDCTAB: Distortion model from row 35 for chip 1 : F814W\n"
     ]
    },
    {
     "name": "stdout",
     "output_type": "stream",
     "text": [
      "Updating astrometry for id7307xfq\n"
     ]
    },
    {
     "name": "stdout",
     "output_type": "stream",
     "text": [
      "Accessing AstrometryDB service :\n"
     ]
    },
    {
     "name": "stdout",
     "output_type": "stream",
     "text": [
      "\thttps://mast.stsci.edu/portal/astrometryDB/observation/read/id7307xfq\n"
     ]
    },
    {
     "name": "stdout",
     "output_type": "stream",
     "text": [
      "AstrometryDB service call succeeded\n"
     ]
    },
    {
     "name": "stdout",
     "output_type": "stream",
     "text": [
      "Retrieving astrometrically-updated WCS \"OPUS\" for observation \"id7307xfq\"\n"
     ]
    },
    {
     "name": "stdout",
     "output_type": "stream",
     "text": [
      "Retrieving astrometrically-updated WCS \"IDC_2731450pi\" for observation \"id7307xfq\"\n"
     ]
    },
    {
     "name": "stdout",
     "output_type": "stream",
     "text": [
      "Retrieving astrometrically-updated WCS \"OPUS-GSC240\" for observation \"id7307xfq\"\n"
     ]
    },
    {
     "name": "stdout",
     "output_type": "stream",
     "text": [
      "Retrieving astrometrically-updated WCS \"IDC_2731450pi-GSC240\" for observation \"id7307xfq\"\n"
     ]
    },
    {
     "name": "stdout",
     "output_type": "stream",
     "text": [
      "Retrieving astrometrically-updated WCS \"IDC_2731450pi-FIT_REL_GAIADR2\" for observation \"id7307xfq\"\n"
     ]
    },
    {
     "name": "stdout",
     "output_type": "stream",
     "text": [
      "Retrieving astrometrically-updated WCS \"id7307xfq_flt_IDC_2731450pi-GSC240-hlet.fits\" for observation \"id7307xfq\"\n"
     ]
    },
    {
     "name": "stdout",
     "output_type": "stream",
     "text": [
      "Retrieving astrometrically-updated WCS \"IDC_2731450pi-FIT_SVM_GAIADR2\" for observation \"id7307xfq\"\n"
     ]
    },
    {
     "name": "stdout",
     "output_type": "stream",
     "text": [
      "Updating id7307xfq with:\n"
     ]
    },
    {
     "name": "stdout",
     "output_type": "stream",
     "text": [
      "Replacing primary WCS with\n"
     ]
    },
    {
     "name": "stdout",
     "output_type": "stream",
     "text": [
      "\tHeaderlet with WCSNAME=IDC_2731450pi-FIT_SVM_GAIADR2\n"
     ]
    },
    {
     "data": {
      "text/plain": [
       "['id7307xfq_flc.fits']"
      ]
     },
     "execution_count": 8,
     "metadata": {},
     "output_type": "execute_result"
    }
   ],
   "source": [
    "updatewcs.updatewcs(filename, use_db=True)"
   ]
  },
  {
   "cell_type": "markdown",
   "metadata": {},
   "source": [
    "The updated solutions should then show up as extra `HDRLET` extensions"
   ]
  },
  {
   "cell_type": "code",
   "execution_count": 9,
   "metadata": {
    "execution": {
     "iopub.execute_input": "2024-04-01T13:19:48.543288Z",
     "iopub.status.busy": "2024-04-01T13:19:48.542944Z",
     "iopub.status.idle": "2024-04-01T13:19:48.560924Z",
     "shell.execute_reply": "2024-04-01T13:19:48.560480Z"
    }
   },
   "outputs": [
    {
     "name": "stdout",
     "output_type": "stream",
     "text": [
      "Filename: id7307xfq_flc.fits\n",
      "No.    Name      Ver    Type      Cards   Dimensions   Format\n",
      "  0  PRIMARY       1 PrimaryHDU     304   ()      \n",
      "  1  SCI           1 ImageHDU       207   (4096, 2051)   float32   \n",
      "  2  ERR           1 ImageHDU        50   (4096, 2051)   float32   \n",
      "  3  DQ            1 ImageHDU        42   (4096, 2051)   int16   \n",
      "  4  SCI           2 ImageHDU       205   (4096, 2051)   float32   \n",
      "  5  ERR           2 ImageHDU        50   (4096, 2051)   float32   \n",
      "  6  DQ            2 ImageHDU        42   (4096, 2051)   int16   \n",
      "  7  HDRLET        1 HeaderletHDU     18   ()      \n",
      "  8  HDRLET        2 HeaderletHDU     26   ()      \n",
      "  9  HDRLET        3 HeaderletHDU     26   ()      \n",
      " 10  HDRLET        4 HeaderletHDU     26   ()      \n",
      " 11  HDRLET        5 HeaderletHDU     26   ()      \n",
      " 12  HDRLET        6 HeaderletHDU     26   ()      \n",
      " 13  WCSCORR       1 BinTableHDU     59   14R x 24C   [40A, I, A, 24A, 24A, 24A, 24A, D, D, D, D, D, D, D, D, 24A, 24A, D, D, D, D, J, 40A, 128A]   \n",
      " 14  HDRLET        7 HeaderletHDU     26   ()      \n",
      " 15  HDRLET        8 HeaderletHDU     26   ()      \n",
      " 16  WCSDVARR      1 ImageHDU        15   (64, 32)   float32   \n",
      " 17  WCSDVARR      2 ImageHDU        15   (64, 32)   float32   \n",
      " 18  D2IMARR       1 ImageHDU        15   (64, 32)   float32   \n",
      " 19  D2IMARR       2 ImageHDU        15   (64, 32)   float32   \n",
      " 20  WCSDVARR      3 ImageHDU        15   (64, 32)   float32   \n",
      " 21  WCSDVARR      4 ImageHDU        15   (64, 32)   float32   \n",
      " 22  D2IMARR       3 ImageHDU        15   (64, 32)   float32   \n",
      " 23  D2IMARR       4 ImageHDU        15   (64, 32)   float32   \n"
     ]
    }
   ],
   "source": [
    "fits.info(filename)"
   ]
  },
  {
   "cell_type": "markdown",
   "metadata": {},
   "source": [
    "As seen above, there are new `HDRLET` extensions in the fits files (compared to the pre-2019.3 products).  These extensions each contain information used to construct a World Coordinate System (WCS), which is used to transform image coordinates into physical (sky) coordinates.  Each of these WCS's represent an astrometric solution derived in a different way."
   ]
  },
  {
   "cell_type": "markdown",
   "metadata": {},
   "source": [
    "## 2. Exploring different solutions"
   ]
  },
  {
   "cell_type": "markdown",
   "metadata": {},
   "source": [
    "Each HDRLET extension contains information describing the solution used in its creation. To investigate this we first programmatically obtain the extension numbers of the HDRLETs."
   ]
  },
  {
   "cell_type": "code",
   "execution_count": 10,
   "metadata": {
    "execution": {
     "iopub.execute_input": "2024-04-01T13:19:48.563311Z",
     "iopub.status.busy": "2024-04-01T13:19:48.562958Z",
     "iopub.status.idle": "2024-04-01T13:19:48.575149Z",
     "shell.execute_reply": "2024-04-01T13:19:48.574694Z"
    }
   },
   "outputs": [
    {
     "name": "stdout",
     "output_type": "stream",
     "text": [
      "[7, 8, 9, 10, 11, 12, 14, 15]\n"
     ]
    }
   ],
   "source": [
    "ext_indices = headerlet.find_headerlet_HDUs(filename, strict=False)\n",
    "\n",
    "# To show it's consistent with the fits.info from above\n",
    "print(ext_indices)"
   ]
  },
  {
   "cell_type": "markdown",
   "metadata": {},
   "source": [
    "We can then loop through these extensions to see what the WCS solutions are."
   ]
  },
  {
   "cell_type": "code",
   "execution_count": 11,
   "metadata": {
    "execution": {
     "iopub.execute_input": "2024-04-01T13:19:48.577119Z",
     "iopub.status.busy": "2024-04-01T13:19:48.576830Z",
     "iopub.status.idle": "2024-04-01T13:19:48.587676Z",
     "shell.execute_reply": "2024-04-01T13:19:48.587205Z"
    }
   },
   "outputs": [
    {
     "name": "stdout",
     "output_type": "stream",
     "text": [
      "Ext\tWCSNAME\n",
      "7 \t OPUS\n",
      "8 \t IDC_2731450pi\n",
      "9 \t IDC_2731450pi-GSC240\n",
      "10 \t IDC_2731450pi-FIT_REL_GAIADR2\n",
      "11 \t id7307xfq_flt_IDC_2731450pi-GSC240-hlet.fits\n",
      "12 \t IDC_2731450pi-FIT_SVM_GAIADR2\n",
      "14 \t IDC_2731450pi\n",
      "15 \t IDC_2731450pi-FIT_REL_GAIAeDR3\n"
     ]
    }
   ],
   "source": [
    "hdu = fits.open(filename)\n",
    "print('Ext\\tWCSNAME')\n",
    "for ext_ind in ext_indices:\n",
    "    print(ext_ind, '\\t', hdu[ext_ind].header['WCSNAME'])\n",
    "\n",
    "hdu.close()"
   ]
  },
  {
   "cell_type": "markdown",
   "metadata": {},
   "source": [
    "Alternatively, we can use `get_headerlet_kw_names`:"
   ]
  },
  {
   "cell_type": "code",
   "execution_count": 12,
   "metadata": {
    "execution": {
     "iopub.execute_input": "2024-04-01T13:19:48.589583Z",
     "iopub.status.busy": "2024-04-01T13:19:48.589384Z",
     "iopub.status.idle": "2024-04-01T13:19:48.603528Z",
     "shell.execute_reply": "2024-04-01T13:19:48.603115Z"
    }
   },
   "outputs": [
    {
     "data": {
      "text/plain": [
       "['OPUS',\n",
       " 'IDC_2731450pi',\n",
       " 'IDC_2731450pi-GSC240',\n",
       " 'IDC_2731450pi-FIT_REL_GAIADR2',\n",
       " 'id7307xfq_flt_IDC_2731450pi-GSC240-hlet.fits',\n",
       " 'IDC_2731450pi-FIT_SVM_GAIADR2',\n",
       " 'IDC_2731450pi',\n",
       " 'IDC_2731450pi-FIT_REL_GAIAeDR3']"
      ]
     },
     "execution_count": 12,
     "metadata": {},
     "output_type": "execute_result"
    }
   ],
   "source": [
    "new_wcsnames = headerlet.get_headerlet_kw_names(filename, kw='WCSNAME')\n",
    "new_wcsnames"
   ]
  },
  {
   "cell_type": "markdown",
   "metadata": {},
   "source": [
    "We can write this into a convenience function:"
   ]
  },
  {
   "cell_type": "code",
   "execution_count": 13,
   "metadata": {
    "execution": {
     "iopub.execute_input": "2024-04-01T13:19:48.605546Z",
     "iopub.status.busy": "2024-04-01T13:19:48.605349Z",
     "iopub.status.idle": "2024-04-01T13:19:48.608801Z",
     "shell.execute_reply": "2024-04-01T13:19:48.608366Z"
    }
   },
   "outputs": [],
   "source": [
    "def get_hdrlet_wcsnames(filename):\n",
    "    \"\"\"Print and return list of WCS names in HDRLET extensions of fits file\"\"\"\n",
    "    hdu = fits.open(filename)\n",
    "    ext_indices = headerlet.find_headerlet_HDUs(filename, strict=False)\n",
    "\n",
    "    print('Ext\\tWCSNAME')\n",
    "    new_wcsnames = []\n",
    "    for ext_ind in ext_indices:\n",
    "        name = hdu[ext_ind].header['WCSNAME']\n",
    "        print(ext_ind, '\\t', name)\n",
    "        new_wcsnames.append(name)\n",
    "        \n",
    "    hdu.close()\n",
    "    return new_wcsnames"
   ]
  },
  {
   "cell_type": "code",
   "execution_count": 14,
   "metadata": {
    "execution": {
     "iopub.execute_input": "2024-04-01T13:19:48.610839Z",
     "iopub.status.busy": "2024-04-01T13:19:48.610474Z",
     "iopub.status.idle": "2024-04-01T13:19:48.629751Z",
     "shell.execute_reply": "2024-04-01T13:19:48.629295Z"
    }
   },
   "outputs": [
    {
     "name": "stdout",
     "output_type": "stream",
     "text": [
      "Ext\tWCSNAME\n",
      "7 \t OPUS\n",
      "8 \t IDC_2731450pi\n",
      "9 \t IDC_2731450pi-GSC240\n",
      "10 \t IDC_2731450pi-FIT_REL_GAIADR2\n",
      "11 \t id7307xfq_flt_IDC_2731450pi-GSC240-hlet.fits\n",
      "12 \t IDC_2731450pi-FIT_SVM_GAIADR2\n",
      "14 \t IDC_2731450pi\n",
      "15 \t IDC_2731450pi-FIT_REL_GAIAeDR3\n"
     ]
    }
   ],
   "source": [
    "new_wcsnames = get_hdrlet_wcsnames(filename)"
   ]
  },
  {
   "cell_type": "markdown",
   "metadata": {},
   "source": [
    "We can also see which solution is the \"active\" solution (the one currently applied to the SCI extensions):"
   ]
  },
  {
   "cell_type": "code",
   "execution_count": 15,
   "metadata": {
    "execution": {
     "iopub.execute_input": "2024-04-01T13:19:48.631792Z",
     "iopub.status.busy": "2024-04-01T13:19:48.631488Z",
     "iopub.status.idle": "2024-04-01T13:19:48.637874Z",
     "shell.execute_reply": "2024-04-01T13:19:48.637339Z"
    }
   },
   "outputs": [
    {
     "name": "stdout",
     "output_type": "stream",
     "text": [
      "IDC_2731450pi-FIT_SVM_GAIADR2\n"
     ]
    }
   ],
   "source": [
    "current_wcs = fits.getval(filename, 'WCSNAME', ext=('SCI', 1))\n",
    "\n",
    "print(current_wcs)"
   ]
  },
  {
   "cell_type": "markdown",
   "metadata": {},
   "source": [
    "The nature of each solution is described here: https://drizzlepac.readthedocs.io/en/latest/astrometry.html#interpreting-wcs-names"
   ]
  },
  {
   "cell_type": "markdown",
   "metadata": {},
   "source": [
    "## 3. Applying a headerlet to the science extensions"
   ]
  },
  {
   "cell_type": "markdown",
   "metadata": {},
   "source": [
    "To apply/activate one of the other solutions, the `restore_from_headerlet()` function can be used.  This function applies the WCS contained in a HDRLET extension to all SCI extensions of the image.  Doing this requires knowing which solution should be applied, which can be obtained in multiple ways.\n",
    "\n",
    "<div class=\"alert alert-block alert-warning\">\n",
    "NOTE: This is especially useful in cases where some of the exposures in a visit will have solutions that are aligned to Gaia, but others won't.  This is true for grism images in the same visit as direct images, or shallow/deep exposure combinations.\n",
    "<div>"
   ]
  },
  {
   "cell_type": "markdown",
   "metadata": {},
   "source": [
    "For instance, if the desired solution is `IDC_2731450pi-GSC240`, we can find the `EXTVER` of the corresponding HDRLET from the list of wcs names we generated before."
   ]
  },
  {
   "cell_type": "code",
   "execution_count": 16,
   "metadata": {
    "execution": {
     "iopub.execute_input": "2024-04-01T13:19:48.640059Z",
     "iopub.status.busy": "2024-04-01T13:19:48.639668Z",
     "iopub.status.idle": "2024-04-01T13:19:48.642224Z",
     "shell.execute_reply": "2024-04-01T13:19:48.641795Z"
    }
   },
   "outputs": [],
   "source": [
    "# Gets the index of list element with value 'IDC_2731450pi-GSC240'\n",
    "# The index in this list + 1 is the same as the EXTVER of the corresponding HDRLET\n",
    "# We need to add 1 because lists are 0-indexed, while EXTVER's are 1 indexed\n",
    "chosen_ext = new_wcsnames.index('IDC_2731450pi-GSC240') + 1"
   ]
  },
  {
   "cell_type": "code",
   "execution_count": 17,
   "metadata": {
    "execution": {
     "iopub.execute_input": "2024-04-01T13:19:48.644239Z",
     "iopub.status.busy": "2024-04-01T13:19:48.643855Z",
     "iopub.status.idle": "2024-04-01T13:19:49.020683Z",
     "shell.execute_reply": "2024-04-01T13:19:49.020084Z"
    }
   },
   "outputs": [],
   "source": [
    "headerlet.restore_from_headerlet(filename, hdrext=('HDRLET', chosen_ext), archive=False, force=False)"
   ]
  },
  {
   "cell_type": "markdown",
   "metadata": {},
   "source": [
    "In this case we set `archive` keyword argument to `False`.  Setting `archive` to True will preserve the currently active WCS as a new HDRLET extension on the file.  Since in our case the current solution already has a HDRLET, we do not need to archive it.  This may be useful in some cases, such as when the image has been manually aligned/transformed, and keeping a record of that solution is desired.\n",
    "\n"
   ]
  },
  {
   "cell_type": "markdown",
   "metadata": {},
   "source": [
    "We can check that the solution was applied:"
   ]
  },
  {
   "cell_type": "code",
   "execution_count": 18,
   "metadata": {
    "execution": {
     "iopub.execute_input": "2024-04-01T13:19:49.023377Z",
     "iopub.status.busy": "2024-04-01T13:19:49.023184Z",
     "iopub.status.idle": "2024-04-01T13:19:49.029875Z",
     "shell.execute_reply": "2024-04-01T13:19:49.029418Z"
    }
   },
   "outputs": [
    {
     "name": "stdout",
     "output_type": "stream",
     "text": [
      "IDC_2731450pi-GSC240\n"
     ]
    }
   ],
   "source": [
    "current_wcs = fits.getval(filename, 'WCSNAME', ext=('SCI', 1))\n",
    "\n",
    "print(current_wcs)"
   ]
  },
  {
   "cell_type": "markdown",
   "metadata": {},
   "source": [
    "We can also apply the solution via the HDRNAME:"
   ]
  },
  {
   "cell_type": "code",
   "execution_count": 19,
   "metadata": {
    "execution": {
     "iopub.execute_input": "2024-04-01T13:19:49.031950Z",
     "iopub.status.busy": "2024-04-01T13:19:49.031613Z",
     "iopub.status.idle": "2024-04-01T13:19:49.044802Z",
     "shell.execute_reply": "2024-04-01T13:19:49.044271Z"
    }
   },
   "outputs": [],
   "source": [
    "hdrlet_hdrnames = headerlet.get_headerlet_kw_names(fits.open(filename), 'HDRNAME')\n",
    "desired_hdrname = hdrlet_hdrnames[new_wcsnames.index('IDC_2731450pi-GSC240')]"
   ]
  },
  {
   "cell_type": "code",
   "execution_count": 20,
   "metadata": {
    "execution": {
     "iopub.execute_input": "2024-04-01T13:19:49.046897Z",
     "iopub.status.busy": "2024-04-01T13:19:49.046603Z",
     "iopub.status.idle": "2024-04-01T13:19:49.049269Z",
     "shell.execute_reply": "2024-04-01T13:19:49.048726Z"
    }
   },
   "outputs": [
    {
     "name": "stdout",
     "output_type": "stream",
     "text": [
      "id7307xfq_flt_IDC_2731450pi-GSC240\n"
     ]
    }
   ],
   "source": [
    "print(desired_hdrname)"
   ]
  },
  {
   "cell_type": "code",
   "execution_count": 21,
   "metadata": {
    "execution": {
     "iopub.execute_input": "2024-04-01T13:19:49.051333Z",
     "iopub.status.busy": "2024-04-01T13:19:49.051030Z",
     "iopub.status.idle": "2024-04-01T13:19:49.447175Z",
     "shell.execute_reply": "2024-04-01T13:19:49.446565Z"
    }
   },
   "outputs": [],
   "source": [
    "headerlet.restore_from_headerlet(filename, hdrname=desired_hdrname, archive=False, force=False)"
   ]
  },
  {
   "cell_type": "markdown",
   "metadata": {},
   "source": [
    "We can also apply some logic to get the `hdrext` programatically.  For instance, if we only wanted the `IDC` (distortion calibrated) solution with the `GSC240` tag (indicating that the guide star positions had been updated), we can do the following:"
   ]
  },
  {
   "cell_type": "code",
   "execution_count": 22,
   "metadata": {
    "execution": {
     "iopub.execute_input": "2024-04-01T13:19:49.449739Z",
     "iopub.status.busy": "2024-04-01T13:19:49.449540Z",
     "iopub.status.idle": "2024-04-01T13:19:49.452996Z",
     "shell.execute_reply": "2024-04-01T13:19:49.452483Z"
    }
   },
   "outputs": [
    {
     "name": "stdout",
     "output_type": "stream",
     "text": [
      "The desired extension is: ('HDRLET', 3)\n"
     ]
    }
   ],
   "source": [
    "for i, wcsname in enumerate(new_wcsnames):\n",
    "    if 'IDC' in wcsname and 'GSC240' in wcsname:\n",
    "        chosen_ext = i + 1 # Add one due to 0 indexing of enumerate vs 1 indexing of EXTVER\n",
    "        break\n",
    "\n",
    "print('The desired extension is:', ('HDRLET', chosen_ext))"
   ]
  },
  {
   "cell_type": "markdown",
   "metadata": {},
   "source": [
    "Finding the solution this way can be easier, as it doesn't require a full typing out of the IDCTAB name.  However, in the future, if new IDCTABs are created, there may be multiple solutions matching the criteria above, and more sophisticated logic will need to be applied."
   ]
  },
  {
   "cell_type": "markdown",
   "metadata": {},
   "source": [
    "## 4. Restoring the \"old\" solution"
   ]
  },
  {
   "cell_type": "markdown",
   "metadata": {},
   "source": [
    "If the original solution is desired, it can be restored using the methods shown above, by replacing the WCSNAME simply with `IDC_2731450pi`, or whatever the name of the IDCTAB for that file is.  To get that name, the following procedure can be done:\n"
   ]
  },
  {
   "cell_type": "markdown",
   "metadata": {},
   "source": [
    "<div class=\"alert alert-block alert-warning\">\n",
    "<b>NOTE:</b> Data taken after October 2017 may not have a solution of the form IDC_xxxxxxxxx, as the pointing information of the telescope was already calculated using GSC 2.4.0.  As such, the \"old\" solution may be of the same form as the a priori solution, i.e.: IDC_xxxxxxxxx-GSC240.\n",
    "</div>"
   ]
  },
  {
   "cell_type": "code",
   "execution_count": 23,
   "metadata": {
    "execution": {
     "iopub.execute_input": "2024-04-01T13:19:49.455177Z",
     "iopub.status.busy": "2024-04-01T13:19:49.454797Z",
     "iopub.status.idle": "2024-04-01T13:19:49.459505Z",
     "shell.execute_reply": "2024-04-01T13:19:49.459118Z"
    }
   },
   "outputs": [],
   "source": [
    "idc_file = fits.getval(filename, 'IDCTAB')\n",
    "idc_filename = idc_file.split('$')[-1]\n",
    "idc_wcsname = 'IDC_' + idc_filename.replace('_idc.fits', '')"
   ]
  },
  {
   "cell_type": "code",
   "execution_count": 24,
   "metadata": {
    "execution": {
     "iopub.execute_input": "2024-04-01T13:19:49.461442Z",
     "iopub.status.busy": "2024-04-01T13:19:49.461171Z",
     "iopub.status.idle": "2024-04-01T13:19:49.463926Z",
     "shell.execute_reply": "2024-04-01T13:19:49.463415Z"
    }
   },
   "outputs": [
    {
     "name": "stdout",
     "output_type": "stream",
     "text": [
      "IDC_2731450pi\n"
     ]
    }
   ],
   "source": [
    "print(idc_wcsname)"
   ]
  },
  {
   "cell_type": "markdown",
   "metadata": {},
   "source": [
    "Restoring the solution is then done the same as above:"
   ]
  },
  {
   "cell_type": "code",
   "execution_count": 25,
   "metadata": {
    "execution": {
     "iopub.execute_input": "2024-04-01T13:19:49.465988Z",
     "iopub.status.busy": "2024-04-01T13:19:49.465678Z",
     "iopub.status.idle": "2024-04-01T13:19:49.468023Z",
     "shell.execute_reply": "2024-04-01T13:19:49.467619Z"
    }
   },
   "outputs": [],
   "source": [
    "chosen_ext = new_wcsnames.index(idc_wcsname) + 1"
   ]
  },
  {
   "cell_type": "code",
   "execution_count": 26,
   "metadata": {
    "execution": {
     "iopub.execute_input": "2024-04-01T13:19:49.469977Z",
     "iopub.status.busy": "2024-04-01T13:19:49.469656Z",
     "iopub.status.idle": "2024-04-01T13:19:49.846264Z",
     "shell.execute_reply": "2024-04-01T13:19:49.845747Z"
    }
   },
   "outputs": [],
   "source": [
    "headerlet.restore_from_headerlet(filename, hdrext=('HDRLET', chosen_ext), archive=False, force=False)"
   ]
  },
  {
   "cell_type": "code",
   "execution_count": 27,
   "metadata": {
    "execution": {
     "iopub.execute_input": "2024-04-01T13:19:49.848712Z",
     "iopub.status.busy": "2024-04-01T13:19:49.848348Z",
     "iopub.status.idle": "2024-04-01T13:19:49.855007Z",
     "shell.execute_reply": "2024-04-01T13:19:49.854485Z"
    }
   },
   "outputs": [
    {
     "name": "stdout",
     "output_type": "stream",
     "text": [
      "IDC_2731450pi\n"
     ]
    }
   ],
   "source": [
    "current_wcs = fits.getval(filename, 'WCSNAME', ext=('SCI', 1))\n",
    "\n",
    "print(current_wcs)"
   ]
  },
  {
   "cell_type": "markdown",
   "metadata": {},
   "source": [
    "Alternatively, `updatewcs` can be run on the image, with the `use_db` flag set to `False`:"
   ]
  },
  {
   "cell_type": "code",
   "execution_count": 28,
   "metadata": {
    "execution": {
     "iopub.execute_input": "2024-04-01T13:19:49.857091Z",
     "iopub.status.busy": "2024-04-01T13:19:49.856694Z",
     "iopub.status.idle": "2024-04-01T13:19:50.348071Z",
     "shell.execute_reply": "2024-04-01T13:19:50.347557Z"
    }
   },
   "outputs": [
    {
     "name": "stdout",
     "output_type": "stream",
     "text": [
      "Deleted all instances of WCS with key A in extensions [1, 4]\n",
      "Wcskey 'O' is reserved for the original WCS and should not be deleted.\n",
      "INFO: \n",
      "                Inconsistent SIP distortion information is present in the FITS header and the WCS object:\n",
      "                SIP coefficients were detected, but CTYPE is missing a \"-SIP\" suffix.\n",
      "                astropy.wcs is using the SIP distortion coefficients,\n",
      "                therefore the coordinates calculated here might be incorrect.\n",
      "\n",
      "                If you do not want to apply the SIP distortion coefficients,\n",
      "                please remove the SIP coefficients from the FITS header or the\n",
      "                WCS object.  As an example, if the image is already distortion-corrected\n",
      "                (e.g., drizzled) then distortion components should not apply and the SIP\n",
      "                coefficients should be removed.\n",
      "\n",
      "                While the SIP distortion coefficients are being applied here, if that was indeed the intent,\n",
      "                for consistency please append \"-SIP\" to the CTYPE in the FITS header or the WCS object.\n",
      "\n",
      "                 [astropy.wcs.wcs]\n",
      "- IDCTAB: Distortion model from row 36 for chip 2 : F814W\n",
      "INFO: \n",
      "                Inconsistent SIP distortion information is present in the FITS header and the WCS object:\n",
      "                SIP coefficients were detected, but CTYPE is missing a \"-SIP\" suffix.\n",
      "                astropy.wcs is using the SIP distortion coefficients,\n",
      "                therefore the coordinates calculated here might be incorrect.\n",
      "\n",
      "                If you do not want to apply the SIP distortion coefficients,\n",
      "                please remove the SIP coefficients from the FITS header or the\n",
      "                WCS object.  As an example, if the image is already distortion-corrected\n",
      "                (e.g., drizzled) then distortion components should not apply and the SIP\n",
      "                coefficients should be removed.\n",
      "\n",
      "                While the SIP distortion coefficients are being applied here, if that was indeed the intent,\n",
      "                for consistency please append \"-SIP\" to the CTYPE in the FITS header or the WCS object.\n",
      "\n",
      "                 [astropy.wcs.wcs]\n",
      "- IDCTAB: Distortion model from row 36 for chip 2 : F814W\n"
     ]
    },
    {
     "name": "stderr",
     "output_type": "stream",
     "text": [
      "WARNING: wcs_from_key: Could not read WCS with key A [stwcs.wcsutil.altwcs]\n",
      "WARNING:               Skipping file 'id7307xfq_flc.fits[2]' [stwcs.wcsutil.altwcs]\n",
      "WARNING:               No WCS with key 'A' was found in the given header [stwcs.wcsutil.altwcs]\n",
      "WARNING: wcs_from_key: Could not read WCS with key A [stwcs.wcsutil.altwcs]\n",
      "WARNING:               Skipping file 'id7307xfq_flc.fits[3]' [stwcs.wcsutil.altwcs]\n",
      "WARNING:               No WCS with key 'A' was found in the given header [stwcs.wcsutil.altwcs]\n",
      "WARNING: wcs_from_key: Could not read WCS with key A [stwcs.wcsutil.altwcs]\n",
      "WARNING:               Skipping file 'id7307xfq_flc.fits[5]' [stwcs.wcsutil.altwcs]\n",
      "WARNING:               No WCS with key 'A' was found in the given header [stwcs.wcsutil.altwcs]\n",
      "WARNING: wcs_from_key: Could not read WCS with key A [stwcs.wcsutil.altwcs]\n",
      "WARNING:               Skipping file 'id7307xfq_flc.fits[6]' [stwcs.wcsutil.altwcs]\n",
      "WARNING:               No WCS with key 'A' was found in the given header [stwcs.wcsutil.altwcs]\n",
      "WARNING: wcs_from_key: Could not read WCS with key A [stwcs.wcsutil.altwcs]\n",
      "WARNING:               Skipping file 'id7307xfq_flc.fits[7]' [stwcs.wcsutil.altwcs]\n",
      "WARNING:               No WCS with key 'A' was found in the given header [stwcs.wcsutil.altwcs]\n",
      "WARNING: wcs_from_key: Could not read WCS with key A [stwcs.wcsutil.altwcs]\n",
      "WARNING:               Skipping file 'id7307xfq_flc.fits[8]' [stwcs.wcsutil.altwcs]\n",
      "WARNING:               No WCS with key 'A' was found in the given header [stwcs.wcsutil.altwcs]\n",
      "WARNING: wcs_from_key: Could not read WCS with key A [stwcs.wcsutil.altwcs]\n",
      "WARNING:               Skipping file 'id7307xfq_flc.fits[9]' [stwcs.wcsutil.altwcs]\n",
      "WARNING:               No WCS with key 'A' was found in the given header [stwcs.wcsutil.altwcs]\n",
      "WARNING: wcs_from_key: Could not read WCS with key A [stwcs.wcsutil.altwcs]\n",
      "WARNING:               Skipping file 'id7307xfq_flc.fits[10]' [stwcs.wcsutil.altwcs]\n",
      "WARNING:               No WCS with key 'A' was found in the given header [stwcs.wcsutil.altwcs]\n",
      "WARNING: wcs_from_key: Could not read WCS with key A [stwcs.wcsutil.altwcs]\n",
      "WARNING:               Skipping file 'id7307xfq_flc.fits[11]' [stwcs.wcsutil.altwcs]\n",
      "WARNING:               No WCS with key 'A' was found in the given header [stwcs.wcsutil.altwcs]\n",
      "WARNING: wcs_from_key: Could not read WCS with key A [stwcs.wcsutil.altwcs]\n",
      "WARNING:               Skipping file 'id7307xfq_flc.fits[12]' [stwcs.wcsutil.altwcs]\n",
      "WARNING:               No WCS with key 'A' was found in the given header [stwcs.wcsutil.altwcs]\n",
      "WARNING: wcs_from_key: Could not read WCS with key A [stwcs.wcsutil.altwcs]\n",
      "WARNING:               Skipping file 'id7307xfq_flc.fits[13]' [stwcs.wcsutil.altwcs]\n",
      "WARNING:               No WCS with key 'A' was found in the given header [stwcs.wcsutil.altwcs]\n",
      "WARNING: wcs_from_key: Could not read WCS with key A [stwcs.wcsutil.altwcs]\n",
      "WARNING:               Skipping file 'id7307xfq_flc.fits[14]' [stwcs.wcsutil.altwcs]\n",
      "WARNING:               No WCS with key 'A' was found in the given header [stwcs.wcsutil.altwcs]\n",
      "WARNING: wcs_from_key: Could not read WCS with key A [stwcs.wcsutil.altwcs]\n",
      "WARNING:               Skipping file 'id7307xfq_flc.fits[15]' [stwcs.wcsutil.altwcs]\n",
      "WARNING:               No WCS with key 'A' was found in the given header [stwcs.wcsutil.altwcs]\n",
      "WARNING: wcs_from_key: Could not read WCS with key A [stwcs.wcsutil.altwcs]\n",
      "WARNING:               Skipping file 'id7307xfq_flc.fits[16]' [stwcs.wcsutil.altwcs]\n",
      "WARNING:               No WCS with key 'A' was found in the given header [stwcs.wcsutil.altwcs]\n",
      "WARNING: wcs_from_key: Could not read WCS with key A [stwcs.wcsutil.altwcs]\n",
      "WARNING:               Skipping file 'id7307xfq_flc.fits[17]' [stwcs.wcsutil.altwcs]\n",
      "WARNING:               No WCS with key 'A' was found in the given header [stwcs.wcsutil.altwcs]\n",
      "WARNING: wcs_from_key: Could not read WCS with key A [stwcs.wcsutil.altwcs]\n",
      "WARNING:               Skipping file 'id7307xfq_flc.fits[18]' [stwcs.wcsutil.altwcs]\n",
      "WARNING:               No WCS with key 'A' was found in the given header [stwcs.wcsutil.altwcs]\n",
      "WARNING: wcs_from_key: Could not read WCS with key A [stwcs.wcsutil.altwcs]\n",
      "WARNING:               Skipping file 'id7307xfq_flc.fits[19]' [stwcs.wcsutil.altwcs]\n",
      "WARNING:               No WCS with key 'A' was found in the given header [stwcs.wcsutil.altwcs]\n",
      "WARNING: wcs_from_key: Could not read WCS with key A [stwcs.wcsutil.altwcs]\n",
      "WARNING:               Skipping file 'id7307xfq_flc.fits[20]' [stwcs.wcsutil.altwcs]\n",
      "WARNING:               No WCS with key 'A' was found in the given header [stwcs.wcsutil.altwcs]\n",
      "WARNING: wcs_from_key: Could not read WCS with key A [stwcs.wcsutil.altwcs]\n",
      "WARNING:               Skipping file 'id7307xfq_flc.fits[21]' [stwcs.wcsutil.altwcs]\n",
      "WARNING:               No WCS with key 'A' was found in the given header [stwcs.wcsutil.altwcs]\n",
      "WARNING: wcs_from_key: Could not read WCS with key A [stwcs.wcsutil.altwcs]\n",
      "WARNING:               Skipping file 'id7307xfq_flc.fits[22]' [stwcs.wcsutil.altwcs]\n",
      "WARNING:               No WCS with key 'A' was found in the given header [stwcs.wcsutil.altwcs]\n",
      "WARNING: wcs_from_key: Could not read WCS with key A [stwcs.wcsutil.altwcs]\n",
      "WARNING:               Skipping file 'id7307xfq_flc.fits[23]' [stwcs.wcsutil.altwcs]\n",
      "WARNING:               No WCS with key 'A' was found in the given header [stwcs.wcsutil.altwcs]\n"
     ]
    },
    {
     "name": "stdout",
     "output_type": "stream",
     "text": [
      "INFO: \n",
      "                Inconsistent SIP distortion information is present in the FITS header and the WCS object:\n",
      "                SIP coefficients were detected, but CTYPE is missing a \"-SIP\" suffix.\n",
      "                astropy.wcs is using the SIP distortion coefficients,\n",
      "                therefore the coordinates calculated here might be incorrect.\n",
      "\n",
      "                If you do not want to apply the SIP distortion coefficients,\n",
      "                please remove the SIP coefficients from the FITS header or the\n",
      "                WCS object.  As an example, if the image is already distortion-corrected\n",
      "                (e.g., drizzled) then distortion components should not apply and the SIP\n",
      "                coefficients should be removed.\n",
      "\n",
      "                While the SIP distortion coefficients are being applied here, if that was indeed the intent,\n",
      "                for consistency please append \"-SIP\" to the CTYPE in the FITS header or the WCS object.\n",
      "\n",
      "                 [astropy.wcs.wcs]\n",
      "- IDCTAB: Distortion model from row 35 for chip 1 : F814W\n"
     ]
    },
    {
     "data": {
      "text/plain": [
       "['id7307xfq_flc.fits']"
      ]
     },
     "execution_count": 28,
     "metadata": {},
     "output_type": "execute_result"
    }
   ],
   "source": [
    "updatewcs.updatewcs(filename, use_db=False)"
   ]
  },
  {
   "cell_type": "code",
   "execution_count": 29,
   "metadata": {
    "execution": {
     "iopub.execute_input": "2024-04-01T13:19:50.350415Z",
     "iopub.status.busy": "2024-04-01T13:19:50.350040Z",
     "iopub.status.idle": "2024-04-01T13:19:50.356638Z",
     "shell.execute_reply": "2024-04-01T13:19:50.356188Z"
    }
   },
   "outputs": [
    {
     "name": "stdout",
     "output_type": "stream",
     "text": [
      "IDC_2731450pi\n"
     ]
    }
   ],
   "source": [
    "current_wcs = fits.getval(filename, 'WCSNAME', ext=('SCI', 1))\n",
    "\n",
    "print(current_wcs)"
   ]
  },
  {
   "cell_type": "markdown",
   "metadata": {},
   "source": [
    "## 5. Inspecting alignment (optional)"
   ]
  },
  {
   "cell_type": "markdown",
   "metadata": {},
   "source": [
    "While the solutions should improve the astrometry of the images, they may not have perfect absolute astrometry.  To check the quality of the absolute astrometry.  To do this, we can overplot the positions of the Gaia sources on the images.  If the absolute astrometry is correct, the Gaia positions will project on top of the sources in the images.  The WCS solutions that contain 'FIT-GAIA' in the WCSNAME should have the closest alignment, while the GSC-240 and baseline IDC solution will likely have small offsets."
   ]
  },
  {
   "cell_type": "markdown",
   "metadata": {},
   "source": [
    "We first need to get a listing of the Gaia sources:"
   ]
  },
  {
   "cell_type": "code",
   "execution_count": 30,
   "metadata": {
    "execution": {
     "iopub.execute_input": "2024-04-01T13:19:50.358863Z",
     "iopub.status.busy": "2024-04-01T13:19:50.358515Z",
     "iopub.status.idle": "2024-04-01T13:19:52.898346Z",
     "shell.execute_reply": "2024-04-01T13:19:52.897784Z"
    }
   },
   "outputs": [
    {
     "data": {
      "text/html": [
       "<div><i>Table length=2230</i>\n",
       "<table id=\"table139879198426768\" class=\"table-striped table-bordered table-condensed\">\n",
       "<thead><tr><th>RA</th><th>DEC</th><th>mag</th><th>objID</th></tr></thead>\n",
       "<thead><tr><th>float64</th><th>float64</th><th>float64</th><th>int64</th></tr></thead>\n",
       "<tr><td>80.5730899119131</td><td>-67.9474991750782</td><td>--</td><td>4658741306468400256</td></tr>\n",
       "<tr><td>80.5439170969378</td><td>-67.9438011573397</td><td>--</td><td>4658741370926206336</td></tr>\n",
       "<tr><td>80.5924054598397</td><td>-67.9544180247475</td><td>--</td><td>4658741306468435328</td></tr>\n",
       "<tr><td>80.5214509397304</td><td>-67.9429440875399</td><td>--</td><td>4658741581346201600</td></tr>\n",
       "<tr><td>80.5087676329488</td><td>-67.9648937699992</td><td>21.59373</td><td>4658741169049735680</td></tr>\n",
       "<tr><td>80.5396243528847</td><td>-67.9352493940572</td><td>21.54121</td><td>4658741478269158016</td></tr>\n",
       "<tr><td>80.5510482118061</td><td>-67.9703065150295</td><td>21.41451</td><td>4658740962871024768</td></tr>\n",
       "<tr><td>80.6007478478036</td><td>-67.9510988199131</td><td>21.33524</td><td>4658741405311718400</td></tr>\n",
       "<tr><td>80.5812549526072</td><td>-67.9517424214045</td><td>21.24463</td><td>4658741302232469248</td></tr>\n",
       "<tr><td>80.5353526051586</td><td>-67.9573805752007</td><td>21.2377</td><td>4658741340848432768</td></tr>\n",
       "<tr><td>...</td><td>...</td><td>...</td><td>...</td></tr>\n",
       "<tr><td>80.585738596849</td><td>-67.9467417927248</td><td>13.89922</td><td>4658741409567587072</td></tr>\n",
       "<tr><td>80.5264460461267</td><td>-67.9511038446995</td><td>13.81326</td><td>4658741340848070272</td></tr>\n",
       "<tr><td>80.4472721687584</td><td>-67.9279971503336</td><td>13.50986</td><td>4658741615725905024</td></tr>\n",
       "<tr><td>80.5312351802869</td><td>-67.9460273546763</td><td>13.48465</td><td>4658741370889602688</td></tr>\n",
       "<tr><td>80.5742154420049</td><td>-67.9525690542069</td><td>13.29313</td><td>4658741306488369408</td></tr>\n",
       "<tr><td>80.5778068165484</td><td>-67.9555364337101</td><td>13.1766</td><td>4658741306488372736</td></tr>\n",
       "<tr><td>80.4911693176135</td><td>-67.9404338632035</td><td>13.06015</td><td>4658741547006462976</td></tr>\n",
       "<tr><td>80.5158350687302</td><td>-67.9246814089449</td><td>12.71375</td><td>4658741684445420032</td></tr>\n",
       "<tr><td>80.5718868285313</td><td>-67.9491625283722</td><td>12.01282</td><td>4658741370886084992</td></tr>\n",
       "<tr><td>80.4448429583895</td><td>-67.9451155835052</td><td>11.77774</td><td>4658741233447131136</td></tr>\n",
       "</table></div>"
      ],
      "text/plain": [
       "<Table length=2230>\n",
       "       RA               DEC          mag           objID       \n",
       "    float64           float64      float64         int64       \n",
       "---------------- ----------------- -------- -------------------\n",
       "80.5730899119131 -67.9474991750782       -- 4658741306468400256\n",
       "80.5439170969378 -67.9438011573397       -- 4658741370926206336\n",
       "80.5924054598397 -67.9544180247475       -- 4658741306468435328\n",
       "80.5214509397304 -67.9429440875399       -- 4658741581346201600\n",
       "80.5087676329488 -67.9648937699992 21.59373 4658741169049735680\n",
       "80.5396243528847 -67.9352493940572 21.54121 4658741478269158016\n",
       "80.5510482118061 -67.9703065150295 21.41451 4658740962871024768\n",
       "80.6007478478036 -67.9510988199131 21.33524 4658741405311718400\n",
       "80.5812549526072 -67.9517424214045 21.24463 4658741302232469248\n",
       "80.5353526051586 -67.9573805752007  21.2377 4658741340848432768\n",
       "             ...               ...      ...                 ...\n",
       " 80.585738596849 -67.9467417927248 13.89922 4658741409567587072\n",
       "80.5264460461267 -67.9511038446995 13.81326 4658741340848070272\n",
       "80.4472721687584 -67.9279971503336 13.50986 4658741615725905024\n",
       "80.5312351802869 -67.9460273546763 13.48465 4658741370889602688\n",
       "80.5742154420049 -67.9525690542069 13.29313 4658741306488369408\n",
       "80.5778068165484 -67.9555364337101  13.1766 4658741306488372736\n",
       "80.4911693176135 -67.9404338632035 13.06015 4658741547006462976\n",
       "80.5158350687302 -67.9246814089449 12.71375 4658741684445420032\n",
       "80.5718868285313 -67.9491625283722 12.01282 4658741370886084992\n",
       "80.4448429583895 -67.9451155835052 11.77774 4658741233447131136"
      ]
     },
     "execution_count": 30,
     "metadata": {},
     "output_type": "execute_result"
    }
   ],
   "source": [
    "ast_tbl = generate_astrometric_catalog('id7307xfq_flc.fits', output=True) \n",
    "ast_tbl"
   ]
  },
  {
   "cell_type": "markdown",
   "metadata": {},
   "source": [
    "We then need the WCS of the images, to project the Gaia positions onto the image coordinate frame."
   ]
  },
  {
   "cell_type": "code",
   "execution_count": 31,
   "metadata": {
    "execution": {
     "iopub.execute_input": "2024-04-01T13:19:52.900621Z",
     "iopub.status.busy": "2024-04-01T13:19:52.900269Z",
     "iopub.status.idle": "2024-04-01T13:19:52.930010Z",
     "shell.execute_reply": "2024-04-01T13:19:52.929513Z"
    }
   },
   "outputs": [],
   "source": [
    "hdu = fits.open(filename)\n",
    "w = WCS(hdu['SCI', 1].header, hdu)\n",
    "data = hdu['SCI', 1].data"
   ]
  },
  {
   "cell_type": "code",
   "execution_count": 32,
   "metadata": {
    "execution": {
     "iopub.execute_input": "2024-04-01T13:19:52.932121Z",
     "iopub.status.busy": "2024-04-01T13:19:52.931780Z",
     "iopub.status.idle": "2024-04-01T13:19:52.936644Z",
     "shell.execute_reply": "2024-04-01T13:19:52.936202Z"
    }
   },
   "outputs": [],
   "source": [
    "x, y = w.all_world2pix(np.array([ast_tbl['RA'], ast_tbl['DEC']]).T, 0).T"
   ]
  },
  {
   "cell_type": "code",
   "execution_count": 33,
   "metadata": {
    "execution": {
     "iopub.execute_input": "2024-04-01T13:19:52.938752Z",
     "iopub.status.busy": "2024-04-01T13:19:52.938433Z",
     "iopub.status.idle": "2024-04-01T13:19:53.502339Z",
     "shell.execute_reply": "2024-04-01T13:19:53.501748Z"
    },
    "scrolled": false
   },
   "outputs": [
    {
     "data": {
      "application/javascript": [
       "/* Put everything inside the global mpl namespace */\n",
       "/* global mpl */\n",
       "window.mpl = {};\n",
       "\n",
       "mpl.get_websocket_type = function () {\n",
       "    if (typeof WebSocket !== 'undefined') {\n",
       "        return WebSocket;\n",
       "    } else if (typeof MozWebSocket !== 'undefined') {\n",
       "        return MozWebSocket;\n",
       "    } else {\n",
       "        alert(\n",
       "            'Your browser does not have WebSocket support. ' +\n",
       "                'Please try Chrome, Safari or Firefox ≥ 6. ' +\n",
       "                'Firefox 4 and 5 are also supported but you ' +\n",
       "                'have to enable WebSockets in about:config.'\n",
       "        );\n",
       "    }\n",
       "};\n",
       "\n",
       "mpl.figure = function (figure_id, websocket, ondownload, parent_element) {\n",
       "    this.id = figure_id;\n",
       "\n",
       "    this.ws = websocket;\n",
       "\n",
       "    this.supports_binary = this.ws.binaryType !== undefined;\n",
       "\n",
       "    if (!this.supports_binary) {\n",
       "        var warnings = document.getElementById('mpl-warnings');\n",
       "        if (warnings) {\n",
       "            warnings.style.display = 'block';\n",
       "            warnings.textContent =\n",
       "                'This browser does not support binary websocket messages. ' +\n",
       "                'Performance may be slow.';\n",
       "        }\n",
       "    }\n",
       "\n",
       "    this.imageObj = new Image();\n",
       "\n",
       "    this.context = undefined;\n",
       "    this.message = undefined;\n",
       "    this.canvas = undefined;\n",
       "    this.rubberband_canvas = undefined;\n",
       "    this.rubberband_context = undefined;\n",
       "    this.format_dropdown = undefined;\n",
       "\n",
       "    this.image_mode = 'full';\n",
       "\n",
       "    this.root = document.createElement('div');\n",
       "    this.root.setAttribute('style', 'display: inline-block');\n",
       "    this._root_extra_style(this.root);\n",
       "\n",
       "    parent_element.appendChild(this.root);\n",
       "\n",
       "    this._init_header(this);\n",
       "    this._init_canvas(this);\n",
       "    this._init_toolbar(this);\n",
       "\n",
       "    var fig = this;\n",
       "\n",
       "    this.waiting = false;\n",
       "\n",
       "    this.ws.onopen = function () {\n",
       "        fig.send_message('supports_binary', { value: fig.supports_binary });\n",
       "        fig.send_message('send_image_mode', {});\n",
       "        if (fig.ratio !== 1) {\n",
       "            fig.send_message('set_device_pixel_ratio', {\n",
       "                device_pixel_ratio: fig.ratio,\n",
       "            });\n",
       "        }\n",
       "        fig.send_message('refresh', {});\n",
       "    };\n",
       "\n",
       "    this.imageObj.onload = function () {\n",
       "        if (fig.image_mode === 'full') {\n",
       "            // Full images could contain transparency (where diff images\n",
       "            // almost always do), so we need to clear the canvas so that\n",
       "            // there is no ghosting.\n",
       "            fig.context.clearRect(0, 0, fig.canvas.width, fig.canvas.height);\n",
       "        }\n",
       "        fig.context.drawImage(fig.imageObj, 0, 0);\n",
       "    };\n",
       "\n",
       "    this.imageObj.onunload = function () {\n",
       "        fig.ws.close();\n",
       "    };\n",
       "\n",
       "    this.ws.onmessage = this._make_on_message_function(this);\n",
       "\n",
       "    this.ondownload = ondownload;\n",
       "};\n",
       "\n",
       "mpl.figure.prototype._init_header = function () {\n",
       "    var titlebar = document.createElement('div');\n",
       "    titlebar.classList =\n",
       "        'ui-dialog-titlebar ui-widget-header ui-corner-all ui-helper-clearfix';\n",
       "    var titletext = document.createElement('div');\n",
       "    titletext.classList = 'ui-dialog-title';\n",
       "    titletext.setAttribute(\n",
       "        'style',\n",
       "        'width: 100%; text-align: center; padding: 3px;'\n",
       "    );\n",
       "    titlebar.appendChild(titletext);\n",
       "    this.root.appendChild(titlebar);\n",
       "    this.header = titletext;\n",
       "};\n",
       "\n",
       "mpl.figure.prototype._canvas_extra_style = function (_canvas_div) {};\n",
       "\n",
       "mpl.figure.prototype._root_extra_style = function (_canvas_div) {};\n",
       "\n",
       "mpl.figure.prototype._init_canvas = function () {\n",
       "    var fig = this;\n",
       "\n",
       "    var canvas_div = (this.canvas_div = document.createElement('div'));\n",
       "    canvas_div.setAttribute('tabindex', '0');\n",
       "    canvas_div.setAttribute(\n",
       "        'style',\n",
       "        'border: 1px solid #ddd;' +\n",
       "            'box-sizing: content-box;' +\n",
       "            'clear: both;' +\n",
       "            'min-height: 1px;' +\n",
       "            'min-width: 1px;' +\n",
       "            'outline: 0;' +\n",
       "            'overflow: hidden;' +\n",
       "            'position: relative;' +\n",
       "            'resize: both;' +\n",
       "            'z-index: 2;'\n",
       "    );\n",
       "\n",
       "    function on_keyboard_event_closure(name) {\n",
       "        return function (event) {\n",
       "            return fig.key_event(event, name);\n",
       "        };\n",
       "    }\n",
       "\n",
       "    canvas_div.addEventListener(\n",
       "        'keydown',\n",
       "        on_keyboard_event_closure('key_press')\n",
       "    );\n",
       "    canvas_div.addEventListener(\n",
       "        'keyup',\n",
       "        on_keyboard_event_closure('key_release')\n",
       "    );\n",
       "\n",
       "    this._canvas_extra_style(canvas_div);\n",
       "    this.root.appendChild(canvas_div);\n",
       "\n",
       "    var canvas = (this.canvas = document.createElement('canvas'));\n",
       "    canvas.classList.add('mpl-canvas');\n",
       "    canvas.setAttribute(\n",
       "        'style',\n",
       "        'box-sizing: content-box;' +\n",
       "            'pointer-events: none;' +\n",
       "            'position: relative;' +\n",
       "            'z-index: 0;'\n",
       "    );\n",
       "\n",
       "    this.context = canvas.getContext('2d');\n",
       "\n",
       "    var backingStore =\n",
       "        this.context.backingStorePixelRatio ||\n",
       "        this.context.webkitBackingStorePixelRatio ||\n",
       "        this.context.mozBackingStorePixelRatio ||\n",
       "        this.context.msBackingStorePixelRatio ||\n",
       "        this.context.oBackingStorePixelRatio ||\n",
       "        this.context.backingStorePixelRatio ||\n",
       "        1;\n",
       "\n",
       "    this.ratio = (window.devicePixelRatio || 1) / backingStore;\n",
       "\n",
       "    var rubberband_canvas = (this.rubberband_canvas = document.createElement(\n",
       "        'canvas'\n",
       "    ));\n",
       "    rubberband_canvas.setAttribute(\n",
       "        'style',\n",
       "        'box-sizing: content-box;' +\n",
       "            'left: 0;' +\n",
       "            'pointer-events: none;' +\n",
       "            'position: absolute;' +\n",
       "            'top: 0;' +\n",
       "            'z-index: 1;'\n",
       "    );\n",
       "\n",
       "    // Apply a ponyfill if ResizeObserver is not implemented by browser.\n",
       "    if (this.ResizeObserver === undefined) {\n",
       "        if (window.ResizeObserver !== undefined) {\n",
       "            this.ResizeObserver = window.ResizeObserver;\n",
       "        } else {\n",
       "            var obs = _JSXTOOLS_RESIZE_OBSERVER({});\n",
       "            this.ResizeObserver = obs.ResizeObserver;\n",
       "        }\n",
       "    }\n",
       "\n",
       "    this.resizeObserverInstance = new this.ResizeObserver(function (entries) {\n",
       "        var nentries = entries.length;\n",
       "        for (var i = 0; i < nentries; i++) {\n",
       "            var entry = entries[i];\n",
       "            var width, height;\n",
       "            if (entry.contentBoxSize) {\n",
       "                if (entry.contentBoxSize instanceof Array) {\n",
       "                    // Chrome 84 implements new version of spec.\n",
       "                    width = entry.contentBoxSize[0].inlineSize;\n",
       "                    height = entry.contentBoxSize[0].blockSize;\n",
       "                } else {\n",
       "                    // Firefox implements old version of spec.\n",
       "                    width = entry.contentBoxSize.inlineSize;\n",
       "                    height = entry.contentBoxSize.blockSize;\n",
       "                }\n",
       "            } else {\n",
       "                // Chrome <84 implements even older version of spec.\n",
       "                width = entry.contentRect.width;\n",
       "                height = entry.contentRect.height;\n",
       "            }\n",
       "\n",
       "            // Keep the size of the canvas and rubber band canvas in sync with\n",
       "            // the canvas container.\n",
       "            if (entry.devicePixelContentBoxSize) {\n",
       "                // Chrome 84 implements new version of spec.\n",
       "                canvas.setAttribute(\n",
       "                    'width',\n",
       "                    entry.devicePixelContentBoxSize[0].inlineSize\n",
       "                );\n",
       "                canvas.setAttribute(\n",
       "                    'height',\n",
       "                    entry.devicePixelContentBoxSize[0].blockSize\n",
       "                );\n",
       "            } else {\n",
       "                canvas.setAttribute('width', width * fig.ratio);\n",
       "                canvas.setAttribute('height', height * fig.ratio);\n",
       "            }\n",
       "            /* This rescales the canvas back to display pixels, so that it\n",
       "             * appears correct on HiDPI screens. */\n",
       "            canvas.style.width = width + 'px';\n",
       "            canvas.style.height = height + 'px';\n",
       "\n",
       "            rubberband_canvas.setAttribute('width', width);\n",
       "            rubberband_canvas.setAttribute('height', height);\n",
       "\n",
       "            // And update the size in Python. We ignore the initial 0/0 size\n",
       "            // that occurs as the element is placed into the DOM, which should\n",
       "            // otherwise not happen due to the minimum size styling.\n",
       "            if (fig.ws.readyState == 1 && width != 0 && height != 0) {\n",
       "                fig.request_resize(width, height);\n",
       "            }\n",
       "        }\n",
       "    });\n",
       "    this.resizeObserverInstance.observe(canvas_div);\n",
       "\n",
       "    function on_mouse_event_closure(name) {\n",
       "        /* User Agent sniffing is bad, but WebKit is busted:\n",
       "         * https://bugs.webkit.org/show_bug.cgi?id=144526\n",
       "         * https://bugs.webkit.org/show_bug.cgi?id=181818\n",
       "         * The worst that happens here is that they get an extra browser\n",
       "         * selection when dragging, if this check fails to catch them.\n",
       "         */\n",
       "        var UA = navigator.userAgent;\n",
       "        var isWebKit = /AppleWebKit/.test(UA) && !/Chrome/.test(UA);\n",
       "        if(isWebKit) {\n",
       "            return function (event) {\n",
       "                /* This prevents the web browser from automatically changing to\n",
       "                 * the text insertion cursor when the button is pressed. We\n",
       "                 * want to control all of the cursor setting manually through\n",
       "                 * the 'cursor' event from matplotlib */\n",
       "                event.preventDefault()\n",
       "                return fig.mouse_event(event, name);\n",
       "            };\n",
       "        } else {\n",
       "            return function (event) {\n",
       "                return fig.mouse_event(event, name);\n",
       "            };\n",
       "        }\n",
       "    }\n",
       "\n",
       "    canvas_div.addEventListener(\n",
       "        'mousedown',\n",
       "        on_mouse_event_closure('button_press')\n",
       "    );\n",
       "    canvas_div.addEventListener(\n",
       "        'mouseup',\n",
       "        on_mouse_event_closure('button_release')\n",
       "    );\n",
       "    canvas_div.addEventListener(\n",
       "        'dblclick',\n",
       "        on_mouse_event_closure('dblclick')\n",
       "    );\n",
       "    // Throttle sequential mouse events to 1 every 20ms.\n",
       "    canvas_div.addEventListener(\n",
       "        'mousemove',\n",
       "        on_mouse_event_closure('motion_notify')\n",
       "    );\n",
       "\n",
       "    canvas_div.addEventListener(\n",
       "        'mouseenter',\n",
       "        on_mouse_event_closure('figure_enter')\n",
       "    );\n",
       "    canvas_div.addEventListener(\n",
       "        'mouseleave',\n",
       "        on_mouse_event_closure('figure_leave')\n",
       "    );\n",
       "\n",
       "    canvas_div.addEventListener('wheel', function (event) {\n",
       "        if (event.deltaY < 0) {\n",
       "            event.step = 1;\n",
       "        } else {\n",
       "            event.step = -1;\n",
       "        }\n",
       "        on_mouse_event_closure('scroll')(event);\n",
       "    });\n",
       "\n",
       "    canvas_div.appendChild(canvas);\n",
       "    canvas_div.appendChild(rubberband_canvas);\n",
       "\n",
       "    this.rubberband_context = rubberband_canvas.getContext('2d');\n",
       "    this.rubberband_context.strokeStyle = '#000000';\n",
       "\n",
       "    this._resize_canvas = function (width, height, forward) {\n",
       "        if (forward) {\n",
       "            canvas_div.style.width = width + 'px';\n",
       "            canvas_div.style.height = height + 'px';\n",
       "        }\n",
       "    };\n",
       "\n",
       "    // Disable right mouse context menu.\n",
       "    canvas_div.addEventListener('contextmenu', function (_e) {\n",
       "        event.preventDefault();\n",
       "        return false;\n",
       "    });\n",
       "\n",
       "    function set_focus() {\n",
       "        canvas.focus();\n",
       "        canvas_div.focus();\n",
       "    }\n",
       "\n",
       "    window.setTimeout(set_focus, 100);\n",
       "};\n",
       "\n",
       "mpl.figure.prototype._init_toolbar = function () {\n",
       "    var fig = this;\n",
       "\n",
       "    var toolbar = document.createElement('div');\n",
       "    toolbar.classList = 'mpl-toolbar';\n",
       "    this.root.appendChild(toolbar);\n",
       "\n",
       "    function on_click_closure(name) {\n",
       "        return function (_event) {\n",
       "            return fig.toolbar_button_onclick(name);\n",
       "        };\n",
       "    }\n",
       "\n",
       "    function on_mouseover_closure(tooltip) {\n",
       "        return function (event) {\n",
       "            if (!event.currentTarget.disabled) {\n",
       "                return fig.toolbar_button_onmouseover(tooltip);\n",
       "            }\n",
       "        };\n",
       "    }\n",
       "\n",
       "    fig.buttons = {};\n",
       "    var buttonGroup = document.createElement('div');\n",
       "    buttonGroup.classList = 'mpl-button-group';\n",
       "    for (var toolbar_ind in mpl.toolbar_items) {\n",
       "        var name = mpl.toolbar_items[toolbar_ind][0];\n",
       "        var tooltip = mpl.toolbar_items[toolbar_ind][1];\n",
       "        var image = mpl.toolbar_items[toolbar_ind][2];\n",
       "        var method_name = mpl.toolbar_items[toolbar_ind][3];\n",
       "\n",
       "        if (!name) {\n",
       "            /* Instead of a spacer, we start a new button group. */\n",
       "            if (buttonGroup.hasChildNodes()) {\n",
       "                toolbar.appendChild(buttonGroup);\n",
       "            }\n",
       "            buttonGroup = document.createElement('div');\n",
       "            buttonGroup.classList = 'mpl-button-group';\n",
       "            continue;\n",
       "        }\n",
       "\n",
       "        var button = (fig.buttons[name] = document.createElement('button'));\n",
       "        button.classList = 'mpl-widget';\n",
       "        button.setAttribute('role', 'button');\n",
       "        button.setAttribute('aria-disabled', 'false');\n",
       "        button.addEventListener('click', on_click_closure(method_name));\n",
       "        button.addEventListener('mouseover', on_mouseover_closure(tooltip));\n",
       "\n",
       "        var icon_img = document.createElement('img');\n",
       "        icon_img.src = '_images/' + image + '.png';\n",
       "        icon_img.srcset = '_images/' + image + '_large.png 2x';\n",
       "        icon_img.alt = tooltip;\n",
       "        button.appendChild(icon_img);\n",
       "\n",
       "        buttonGroup.appendChild(button);\n",
       "    }\n",
       "\n",
       "    if (buttonGroup.hasChildNodes()) {\n",
       "        toolbar.appendChild(buttonGroup);\n",
       "    }\n",
       "\n",
       "    var fmt_picker = document.createElement('select');\n",
       "    fmt_picker.classList = 'mpl-widget';\n",
       "    toolbar.appendChild(fmt_picker);\n",
       "    this.format_dropdown = fmt_picker;\n",
       "\n",
       "    for (var ind in mpl.extensions) {\n",
       "        var fmt = mpl.extensions[ind];\n",
       "        var option = document.createElement('option');\n",
       "        option.selected = fmt === mpl.default_extension;\n",
       "        option.innerHTML = fmt;\n",
       "        fmt_picker.appendChild(option);\n",
       "    }\n",
       "\n",
       "    var status_bar = document.createElement('span');\n",
       "    status_bar.classList = 'mpl-message';\n",
       "    toolbar.appendChild(status_bar);\n",
       "    this.message = status_bar;\n",
       "};\n",
       "\n",
       "mpl.figure.prototype.request_resize = function (x_pixels, y_pixels) {\n",
       "    // Request matplotlib to resize the figure. Matplotlib will then trigger a resize in the client,\n",
       "    // which will in turn request a refresh of the image.\n",
       "    this.send_message('resize', { width: x_pixels, height: y_pixels });\n",
       "};\n",
       "\n",
       "mpl.figure.prototype.send_message = function (type, properties) {\n",
       "    properties['type'] = type;\n",
       "    properties['figure_id'] = this.id;\n",
       "    this.ws.send(JSON.stringify(properties));\n",
       "};\n",
       "\n",
       "mpl.figure.prototype.send_draw_message = function () {\n",
       "    if (!this.waiting) {\n",
       "        this.waiting = true;\n",
       "        this.ws.send(JSON.stringify({ type: 'draw', figure_id: this.id }));\n",
       "    }\n",
       "};\n",
       "\n",
       "mpl.figure.prototype.handle_save = function (fig, _msg) {\n",
       "    var format_dropdown = fig.format_dropdown;\n",
       "    var format = format_dropdown.options[format_dropdown.selectedIndex].value;\n",
       "    fig.ondownload(fig, format);\n",
       "};\n",
       "\n",
       "mpl.figure.prototype.handle_resize = function (fig, msg) {\n",
       "    var size = msg['size'];\n",
       "    if (size[0] !== fig.canvas.width || size[1] !== fig.canvas.height) {\n",
       "        fig._resize_canvas(size[0], size[1], msg['forward']);\n",
       "        fig.send_message('refresh', {});\n",
       "    }\n",
       "};\n",
       "\n",
       "mpl.figure.prototype.handle_rubberband = function (fig, msg) {\n",
       "    var x0 = msg['x0'] / fig.ratio;\n",
       "    var y0 = (fig.canvas.height - msg['y0']) / fig.ratio;\n",
       "    var x1 = msg['x1'] / fig.ratio;\n",
       "    var y1 = (fig.canvas.height - msg['y1']) / fig.ratio;\n",
       "    x0 = Math.floor(x0) + 0.5;\n",
       "    y0 = Math.floor(y0) + 0.5;\n",
       "    x1 = Math.floor(x1) + 0.5;\n",
       "    y1 = Math.floor(y1) + 0.5;\n",
       "    var min_x = Math.min(x0, x1);\n",
       "    var min_y = Math.min(y0, y1);\n",
       "    var width = Math.abs(x1 - x0);\n",
       "    var height = Math.abs(y1 - y0);\n",
       "\n",
       "    fig.rubberband_context.clearRect(\n",
       "        0,\n",
       "        0,\n",
       "        fig.canvas.width / fig.ratio,\n",
       "        fig.canvas.height / fig.ratio\n",
       "    );\n",
       "\n",
       "    fig.rubberband_context.strokeRect(min_x, min_y, width, height);\n",
       "};\n",
       "\n",
       "mpl.figure.prototype.handle_figure_label = function (fig, msg) {\n",
       "    // Updates the figure title.\n",
       "    fig.header.textContent = msg['label'];\n",
       "};\n",
       "\n",
       "mpl.figure.prototype.handle_cursor = function (fig, msg) {\n",
       "    fig.canvas_div.style.cursor = msg['cursor'];\n",
       "};\n",
       "\n",
       "mpl.figure.prototype.handle_message = function (fig, msg) {\n",
       "    fig.message.textContent = msg['message'];\n",
       "};\n",
       "\n",
       "mpl.figure.prototype.handle_draw = function (fig, _msg) {\n",
       "    // Request the server to send over a new figure.\n",
       "    fig.send_draw_message();\n",
       "};\n",
       "\n",
       "mpl.figure.prototype.handle_image_mode = function (fig, msg) {\n",
       "    fig.image_mode = msg['mode'];\n",
       "};\n",
       "\n",
       "mpl.figure.prototype.handle_history_buttons = function (fig, msg) {\n",
       "    for (var key in msg) {\n",
       "        if (!(key in fig.buttons)) {\n",
       "            continue;\n",
       "        }\n",
       "        fig.buttons[key].disabled = !msg[key];\n",
       "        fig.buttons[key].setAttribute('aria-disabled', !msg[key]);\n",
       "    }\n",
       "};\n",
       "\n",
       "mpl.figure.prototype.handle_navigate_mode = function (fig, msg) {\n",
       "    if (msg['mode'] === 'PAN') {\n",
       "        fig.buttons['Pan'].classList.add('active');\n",
       "        fig.buttons['Zoom'].classList.remove('active');\n",
       "    } else if (msg['mode'] === 'ZOOM') {\n",
       "        fig.buttons['Pan'].classList.remove('active');\n",
       "        fig.buttons['Zoom'].classList.add('active');\n",
       "    } else {\n",
       "        fig.buttons['Pan'].classList.remove('active');\n",
       "        fig.buttons['Zoom'].classList.remove('active');\n",
       "    }\n",
       "};\n",
       "\n",
       "mpl.figure.prototype.updated_canvas_event = function () {\n",
       "    // Called whenever the canvas gets updated.\n",
       "    this.send_message('ack', {});\n",
       "};\n",
       "\n",
       "// A function to construct a web socket function for onmessage handling.\n",
       "// Called in the figure constructor.\n",
       "mpl.figure.prototype._make_on_message_function = function (fig) {\n",
       "    return function socket_on_message(evt) {\n",
       "        if (evt.data instanceof Blob) {\n",
       "            var img = evt.data;\n",
       "            if (img.type !== 'image/png') {\n",
       "                /* FIXME: We get \"Resource interpreted as Image but\n",
       "                 * transferred with MIME type text/plain:\" errors on\n",
       "                 * Chrome.  But how to set the MIME type?  It doesn't seem\n",
       "                 * to be part of the websocket stream */\n",
       "                img.type = 'image/png';\n",
       "            }\n",
       "\n",
       "            /* Free the memory for the previous frames */\n",
       "            if (fig.imageObj.src) {\n",
       "                (window.URL || window.webkitURL).revokeObjectURL(\n",
       "                    fig.imageObj.src\n",
       "                );\n",
       "            }\n",
       "\n",
       "            fig.imageObj.src = (window.URL || window.webkitURL).createObjectURL(\n",
       "                img\n",
       "            );\n",
       "            fig.updated_canvas_event();\n",
       "            fig.waiting = false;\n",
       "            return;\n",
       "        } else if (\n",
       "            typeof evt.data === 'string' &&\n",
       "            evt.data.slice(0, 21) === 'data:image/png;base64'\n",
       "        ) {\n",
       "            fig.imageObj.src = evt.data;\n",
       "            fig.updated_canvas_event();\n",
       "            fig.waiting = false;\n",
       "            return;\n",
       "        }\n",
       "\n",
       "        var msg = JSON.parse(evt.data);\n",
       "        var msg_type = msg['type'];\n",
       "\n",
       "        // Call the  \"handle_{type}\" callback, which takes\n",
       "        // the figure and JSON message as its only arguments.\n",
       "        try {\n",
       "            var callback = fig['handle_' + msg_type];\n",
       "        } catch (e) {\n",
       "            console.log(\n",
       "                \"No handler for the '\" + msg_type + \"' message type: \",\n",
       "                msg\n",
       "            );\n",
       "            return;\n",
       "        }\n",
       "\n",
       "        if (callback) {\n",
       "            try {\n",
       "                // console.log(\"Handling '\" + msg_type + \"' message: \", msg);\n",
       "                callback(fig, msg);\n",
       "            } catch (e) {\n",
       "                console.log(\n",
       "                    \"Exception inside the 'handler_\" + msg_type + \"' callback:\",\n",
       "                    e,\n",
       "                    e.stack,\n",
       "                    msg\n",
       "                );\n",
       "            }\n",
       "        }\n",
       "    };\n",
       "};\n",
       "\n",
       "function getModifiers(event) {\n",
       "    var mods = [];\n",
       "    if (event.ctrlKey) {\n",
       "        mods.push('ctrl');\n",
       "    }\n",
       "    if (event.altKey) {\n",
       "        mods.push('alt');\n",
       "    }\n",
       "    if (event.shiftKey) {\n",
       "        mods.push('shift');\n",
       "    }\n",
       "    if (event.metaKey) {\n",
       "        mods.push('meta');\n",
       "    }\n",
       "    return mods;\n",
       "}\n",
       "\n",
       "/*\n",
       " * return a copy of an object with only non-object keys\n",
       " * we need this to avoid circular references\n",
       " * https://stackoverflow.com/a/24161582/3208463\n",
       " */\n",
       "function simpleKeys(original) {\n",
       "    return Object.keys(original).reduce(function (obj, key) {\n",
       "        if (typeof original[key] !== 'object') {\n",
       "            obj[key] = original[key];\n",
       "        }\n",
       "        return obj;\n",
       "    }, {});\n",
       "}\n",
       "\n",
       "mpl.figure.prototype.mouse_event = function (event, name) {\n",
       "    if (name === 'button_press') {\n",
       "        this.canvas.focus();\n",
       "        this.canvas_div.focus();\n",
       "    }\n",
       "\n",
       "    // from https://stackoverflow.com/q/1114465\n",
       "    var boundingRect = this.canvas.getBoundingClientRect();\n",
       "    var x = (event.clientX - boundingRect.left) * this.ratio;\n",
       "    var y = (event.clientY - boundingRect.top) * this.ratio;\n",
       "\n",
       "    this.send_message(name, {\n",
       "        x: x,\n",
       "        y: y,\n",
       "        button: event.button,\n",
       "        step: event.step,\n",
       "        modifiers: getModifiers(event),\n",
       "        guiEvent: simpleKeys(event),\n",
       "    });\n",
       "\n",
       "    return false;\n",
       "};\n",
       "\n",
       "mpl.figure.prototype._key_event_extra = function (_event, _name) {\n",
       "    // Handle any extra behaviour associated with a key event\n",
       "};\n",
       "\n",
       "mpl.figure.prototype.key_event = function (event, name) {\n",
       "    // Prevent repeat events\n",
       "    if (name === 'key_press') {\n",
       "        if (event.key === this._key) {\n",
       "            return;\n",
       "        } else {\n",
       "            this._key = event.key;\n",
       "        }\n",
       "    }\n",
       "    if (name === 'key_release') {\n",
       "        this._key = null;\n",
       "    }\n",
       "\n",
       "    var value = '';\n",
       "    if (event.ctrlKey && event.key !== 'Control') {\n",
       "        value += 'ctrl+';\n",
       "    }\n",
       "    else if (event.altKey && event.key !== 'Alt') {\n",
       "        value += 'alt+';\n",
       "    }\n",
       "    else if (event.shiftKey && event.key !== 'Shift') {\n",
       "        value += 'shift+';\n",
       "    }\n",
       "\n",
       "    value += 'k' + event.key;\n",
       "\n",
       "    this._key_event_extra(event, name);\n",
       "\n",
       "    this.send_message(name, { key: value, guiEvent: simpleKeys(event) });\n",
       "    return false;\n",
       "};\n",
       "\n",
       "mpl.figure.prototype.toolbar_button_onclick = function (name) {\n",
       "    if (name === 'download') {\n",
       "        this.handle_save(this, null);\n",
       "    } else {\n",
       "        this.send_message('toolbar_button', { name: name });\n",
       "    }\n",
       "};\n",
       "\n",
       "mpl.figure.prototype.toolbar_button_onmouseover = function (tooltip) {\n",
       "    this.message.textContent = tooltip;\n",
       "};\n",
       "\n",
       "///////////////// REMAINING CONTENT GENERATED BY embed_js.py /////////////////\n",
       "// prettier-ignore\n",
       "var _JSXTOOLS_RESIZE_OBSERVER=function(A){var t,i=new WeakMap,n=new WeakMap,a=new WeakMap,r=new WeakMap,o=new Set;function s(e){if(!(this instanceof s))throw new TypeError(\"Constructor requires 'new' operator\");i.set(this,e)}function h(){throw new TypeError(\"Function is not a constructor\")}function c(e,t,i,n){e=0 in arguments?Number(arguments[0]):0,t=1 in arguments?Number(arguments[1]):0,i=2 in arguments?Number(arguments[2]):0,n=3 in arguments?Number(arguments[3]):0,this.right=(this.x=this.left=e)+(this.width=i),this.bottom=(this.y=this.top=t)+(this.height=n),Object.freeze(this)}function d(){t=requestAnimationFrame(d);var s=new WeakMap,p=new Set;o.forEach((function(t){r.get(t).forEach((function(i){var r=t instanceof window.SVGElement,o=a.get(t),d=r?0:parseFloat(o.paddingTop),f=r?0:parseFloat(o.paddingRight),l=r?0:parseFloat(o.paddingBottom),u=r?0:parseFloat(o.paddingLeft),g=r?0:parseFloat(o.borderTopWidth),m=r?0:parseFloat(o.borderRightWidth),w=r?0:parseFloat(o.borderBottomWidth),b=u+f,F=d+l,v=(r?0:parseFloat(o.borderLeftWidth))+m,W=g+w,y=r?0:t.offsetHeight-W-t.clientHeight,E=r?0:t.offsetWidth-v-t.clientWidth,R=b+v,z=F+W,M=r?t.width:parseFloat(o.width)-R-E,O=r?t.height:parseFloat(o.height)-z-y;if(n.has(t)){var k=n.get(t);if(k[0]===M&&k[1]===O)return}n.set(t,[M,O]);var S=Object.create(h.prototype);S.target=t,S.contentRect=new c(u,d,M,O),s.has(i)||(s.set(i,[]),p.add(i)),s.get(i).push(S)}))})),p.forEach((function(e){i.get(e).call(e,s.get(e),e)}))}return s.prototype.observe=function(i){if(i instanceof window.Element){r.has(i)||(r.set(i,new Set),o.add(i),a.set(i,window.getComputedStyle(i)));var n=r.get(i);n.has(this)||n.add(this),cancelAnimationFrame(t),t=requestAnimationFrame(d)}},s.prototype.unobserve=function(i){if(i instanceof window.Element&&r.has(i)){var n=r.get(i);n.has(this)&&(n.delete(this),n.size||(r.delete(i),o.delete(i))),n.size||r.delete(i),o.size||cancelAnimationFrame(t)}},A.DOMRectReadOnly=c,A.ResizeObserver=s,A.ResizeObserverEntry=h,A}; // eslint-disable-line\n",
       "mpl.toolbar_items = [[\"Home\", \"Reset original view\", \"fa fa-home\", \"home\"], [\"Back\", \"Back to previous view\", \"fa fa-arrow-left\", \"back\"], [\"Forward\", \"Forward to next view\", \"fa fa-arrow-right\", \"forward\"], [\"\", \"\", \"\", \"\"], [\"Pan\", \"Left button pans, Right button zooms\\nx/y fixes axis, CTRL fixes aspect\", \"fa fa-arrows\", \"pan\"], [\"Zoom\", \"Zoom to rectangle\\nx/y fixes axis\", \"fa fa-square-o\", \"zoom\"], [\"\", \"\", \"\", \"\"], [\"Download\", \"Download plot\", \"fa fa-floppy-o\", \"download\"]];\n",
       "\n",
       "mpl.extensions = [\"eps\", \"jpeg\", \"pgf\", \"pdf\", \"png\", \"ps\", \"raw\", \"svg\", \"tif\", \"webp\"];\n",
       "\n",
       "mpl.default_extension = \"png\";/* global mpl */\n",
       "\n",
       "var comm_websocket_adapter = function (comm) {\n",
       "    // Create a \"websocket\"-like object which calls the given IPython comm\n",
       "    // object with the appropriate methods. Currently this is a non binary\n",
       "    // socket, so there is still some room for performance tuning.\n",
       "    var ws = {};\n",
       "\n",
       "    ws.binaryType = comm.kernel.ws.binaryType;\n",
       "    ws.readyState = comm.kernel.ws.readyState;\n",
       "    function updateReadyState(_event) {\n",
       "        if (comm.kernel.ws) {\n",
       "            ws.readyState = comm.kernel.ws.readyState;\n",
       "        } else {\n",
       "            ws.readyState = 3; // Closed state.\n",
       "        }\n",
       "    }\n",
       "    comm.kernel.ws.addEventListener('open', updateReadyState);\n",
       "    comm.kernel.ws.addEventListener('close', updateReadyState);\n",
       "    comm.kernel.ws.addEventListener('error', updateReadyState);\n",
       "\n",
       "    ws.close = function () {\n",
       "        comm.close();\n",
       "    };\n",
       "    ws.send = function (m) {\n",
       "        //console.log('sending', m);\n",
       "        comm.send(m);\n",
       "    };\n",
       "    // Register the callback with on_msg.\n",
       "    comm.on_msg(function (msg) {\n",
       "        //console.log('receiving', msg['content']['data'], msg);\n",
       "        var data = msg['content']['data'];\n",
       "        if (data['blob'] !== undefined) {\n",
       "            data = {\n",
       "                data: new Blob(msg['buffers'], { type: data['blob'] }),\n",
       "            };\n",
       "        }\n",
       "        // Pass the mpl event to the overridden (by mpl) onmessage function.\n",
       "        ws.onmessage(data);\n",
       "    });\n",
       "    return ws;\n",
       "};\n",
       "\n",
       "mpl.mpl_figure_comm = function (comm, msg) {\n",
       "    // This is the function which gets called when the mpl process\n",
       "    // starts-up an IPython Comm through the \"matplotlib\" channel.\n",
       "\n",
       "    var id = msg.content.data.id;\n",
       "    // Get hold of the div created by the display call when the Comm\n",
       "    // socket was opened in Python.\n",
       "    var element = document.getElementById(id);\n",
       "    var ws_proxy = comm_websocket_adapter(comm);\n",
       "\n",
       "    function ondownload(figure, _format) {\n",
       "        window.open(figure.canvas.toDataURL());\n",
       "    }\n",
       "\n",
       "    var fig = new mpl.figure(id, ws_proxy, ondownload, element);\n",
       "\n",
       "    // Call onopen now - mpl needs it, as it is assuming we've passed it a real\n",
       "    // web socket which is closed, not our websocket->open comm proxy.\n",
       "    ws_proxy.onopen();\n",
       "\n",
       "    fig.parent_element = element;\n",
       "    fig.cell_info = mpl.find_output_cell(\"<div id='\" + id + \"'></div>\");\n",
       "    if (!fig.cell_info) {\n",
       "        console.error('Failed to find cell for figure', id, fig);\n",
       "        return;\n",
       "    }\n",
       "    fig.cell_info[0].output_area.element.on(\n",
       "        'cleared',\n",
       "        { fig: fig },\n",
       "        fig._remove_fig_handler\n",
       "    );\n",
       "};\n",
       "\n",
       "mpl.figure.prototype.handle_close = function (fig, msg) {\n",
       "    var width = fig.canvas.width / fig.ratio;\n",
       "    fig.cell_info[0].output_area.element.off(\n",
       "        'cleared',\n",
       "        fig._remove_fig_handler\n",
       "    );\n",
       "    fig.resizeObserverInstance.unobserve(fig.canvas_div);\n",
       "\n",
       "    // Update the output cell to use the data from the current canvas.\n",
       "    fig.push_to_output();\n",
       "    var dataURL = fig.canvas.toDataURL();\n",
       "    // Re-enable the keyboard manager in IPython - without this line, in FF,\n",
       "    // the notebook keyboard shortcuts fail.\n",
       "    IPython.keyboard_manager.enable();\n",
       "    fig.parent_element.innerHTML =\n",
       "        '<img src=\"' + dataURL + '\" width=\"' + width + '\">';\n",
       "    fig.close_ws(fig, msg);\n",
       "};\n",
       "\n",
       "mpl.figure.prototype.close_ws = function (fig, msg) {\n",
       "    fig.send_message('closing', msg);\n",
       "    // fig.ws.close()\n",
       "};\n",
       "\n",
       "mpl.figure.prototype.push_to_output = function (_remove_interactive) {\n",
       "    // Turn the data on the canvas into data in the output cell.\n",
       "    var width = this.canvas.width / this.ratio;\n",
       "    var dataURL = this.canvas.toDataURL();\n",
       "    this.cell_info[1]['text/html'] =\n",
       "        '<img src=\"' + dataURL + '\" width=\"' + width + '\">';\n",
       "};\n",
       "\n",
       "mpl.figure.prototype.updated_canvas_event = function () {\n",
       "    // Tell IPython that the notebook contents must change.\n",
       "    IPython.notebook.set_dirty(true);\n",
       "    this.send_message('ack', {});\n",
       "    var fig = this;\n",
       "    // Wait a second, then push the new image to the DOM so\n",
       "    // that it is saved nicely (might be nice to debounce this).\n",
       "    setTimeout(function () {\n",
       "        fig.push_to_output();\n",
       "    }, 1000);\n",
       "};\n",
       "\n",
       "mpl.figure.prototype._init_toolbar = function () {\n",
       "    var fig = this;\n",
       "\n",
       "    var toolbar = document.createElement('div');\n",
       "    toolbar.classList = 'btn-toolbar';\n",
       "    this.root.appendChild(toolbar);\n",
       "\n",
       "    function on_click_closure(name) {\n",
       "        return function (_event) {\n",
       "            return fig.toolbar_button_onclick(name);\n",
       "        };\n",
       "    }\n",
       "\n",
       "    function on_mouseover_closure(tooltip) {\n",
       "        return function (event) {\n",
       "            if (!event.currentTarget.disabled) {\n",
       "                return fig.toolbar_button_onmouseover(tooltip);\n",
       "            }\n",
       "        };\n",
       "    }\n",
       "\n",
       "    fig.buttons = {};\n",
       "    var buttonGroup = document.createElement('div');\n",
       "    buttonGroup.classList = 'btn-group';\n",
       "    var button;\n",
       "    for (var toolbar_ind in mpl.toolbar_items) {\n",
       "        var name = mpl.toolbar_items[toolbar_ind][0];\n",
       "        var tooltip = mpl.toolbar_items[toolbar_ind][1];\n",
       "        var image = mpl.toolbar_items[toolbar_ind][2];\n",
       "        var method_name = mpl.toolbar_items[toolbar_ind][3];\n",
       "\n",
       "        if (!name) {\n",
       "            /* Instead of a spacer, we start a new button group. */\n",
       "            if (buttonGroup.hasChildNodes()) {\n",
       "                toolbar.appendChild(buttonGroup);\n",
       "            }\n",
       "            buttonGroup = document.createElement('div');\n",
       "            buttonGroup.classList = 'btn-group';\n",
       "            continue;\n",
       "        }\n",
       "\n",
       "        button = fig.buttons[name] = document.createElement('button');\n",
       "        button.classList = 'btn btn-default';\n",
       "        button.href = '#';\n",
       "        button.title = name;\n",
       "        button.innerHTML = '<i class=\"fa ' + image + ' fa-lg\"></i>';\n",
       "        button.addEventListener('click', on_click_closure(method_name));\n",
       "        button.addEventListener('mouseover', on_mouseover_closure(tooltip));\n",
       "        buttonGroup.appendChild(button);\n",
       "    }\n",
       "\n",
       "    if (buttonGroup.hasChildNodes()) {\n",
       "        toolbar.appendChild(buttonGroup);\n",
       "    }\n",
       "\n",
       "    // Add the status bar.\n",
       "    var status_bar = document.createElement('span');\n",
       "    status_bar.classList = 'mpl-message pull-right';\n",
       "    toolbar.appendChild(status_bar);\n",
       "    this.message = status_bar;\n",
       "\n",
       "    // Add the close button to the window.\n",
       "    var buttongrp = document.createElement('div');\n",
       "    buttongrp.classList = 'btn-group inline pull-right';\n",
       "    button = document.createElement('button');\n",
       "    button.classList = 'btn btn-mini btn-primary';\n",
       "    button.href = '#';\n",
       "    button.title = 'Stop Interaction';\n",
       "    button.innerHTML = '<i class=\"fa fa-power-off icon-remove icon-large\"></i>';\n",
       "    button.addEventListener('click', function (_evt) {\n",
       "        fig.handle_close(fig, {});\n",
       "    });\n",
       "    button.addEventListener(\n",
       "        'mouseover',\n",
       "        on_mouseover_closure('Stop Interaction')\n",
       "    );\n",
       "    buttongrp.appendChild(button);\n",
       "    var titlebar = this.root.querySelector('.ui-dialog-titlebar');\n",
       "    titlebar.insertBefore(buttongrp, titlebar.firstChild);\n",
       "};\n",
       "\n",
       "mpl.figure.prototype._remove_fig_handler = function (event) {\n",
       "    var fig = event.data.fig;\n",
       "    if (event.target !== this) {\n",
       "        // Ignore bubbled events from children.\n",
       "        return;\n",
       "    }\n",
       "    fig.close_ws(fig, {});\n",
       "};\n",
       "\n",
       "mpl.figure.prototype._root_extra_style = function (el) {\n",
       "    el.style.boxSizing = 'content-box'; // override notebook setting of border-box.\n",
       "};\n",
       "\n",
       "mpl.figure.prototype._canvas_extra_style = function (el) {\n",
       "    // this is important to make the div 'focusable\n",
       "    el.setAttribute('tabindex', 0);\n",
       "    // reach out to IPython and tell the keyboard manager to turn it's self\n",
       "    // off when our div gets focus\n",
       "\n",
       "    // location in version 3\n",
       "    if (IPython.notebook.keyboard_manager) {\n",
       "        IPython.notebook.keyboard_manager.register_events(el);\n",
       "    } else {\n",
       "        // location in version 2\n",
       "        IPython.keyboard_manager.register_events(el);\n",
       "    }\n",
       "};\n",
       "\n",
       "mpl.figure.prototype._key_event_extra = function (event, _name) {\n",
       "    // Check for shift+enter\n",
       "    if (event.shiftKey && event.which === 13) {\n",
       "        this.canvas_div.blur();\n",
       "        // select the cell after this one\n",
       "        var index = IPython.notebook.find_cell_index(this.cell_info[0]);\n",
       "        IPython.notebook.select(index + 1);\n",
       "    }\n",
       "};\n",
       "\n",
       "mpl.figure.prototype.handle_save = function (fig, _msg) {\n",
       "    fig.ondownload(fig, null);\n",
       "};\n",
       "\n",
       "mpl.find_output_cell = function (html_output) {\n",
       "    // Return the cell and output element which can be found *uniquely* in the notebook.\n",
       "    // Note - this is a bit hacky, but it is done because the \"notebook_saving.Notebook\"\n",
       "    // IPython event is triggered only after the cells have been serialised, which for\n",
       "    // our purposes (turning an active figure into a static one), is too late.\n",
       "    var cells = IPython.notebook.get_cells();\n",
       "    var ncells = cells.length;\n",
       "    for (var i = 0; i < ncells; i++) {\n",
       "        var cell = cells[i];\n",
       "        if (cell.cell_type === 'code') {\n",
       "            for (var j = 0; j < cell.output_area.outputs.length; j++) {\n",
       "                var data = cell.output_area.outputs[j];\n",
       "                if (data.data) {\n",
       "                    // IPython >= 3 moved mimebundle to data attribute of output\n",
       "                    data = data.data;\n",
       "                }\n",
       "                if (data['text/html'] === html_output) {\n",
       "                    return [cell, data, j];\n",
       "                }\n",
       "            }\n",
       "        }\n",
       "    }\n",
       "};\n",
       "\n",
       "// Register the function which deals with the matplotlib target/channel.\n",
       "// The kernel may be null if the page has been refreshed.\n",
       "if (IPython.notebook.kernel !== null) {\n",
       "    IPython.notebook.kernel.comm_manager.register_target(\n",
       "        'matplotlib',\n",
       "        mpl.mpl_figure_comm\n",
       "    );\n",
       "}\n"
      ],
      "text/plain": [
       "<IPython.core.display.Javascript object>"
      ]
     },
     "metadata": {},
     "output_type": "display_data"
    },
    {
     "data": {
      "text/html": [
       "<div id='17c69029-fbbb-4e94-899c-56d17e5fc5d3'></div>"
      ],
      "text/plain": [
       "<IPython.core.display.HTML object>"
      ]
     },
     "metadata": {},
     "output_type": "display_data"
    },
    {
     "data": {
      "text/plain": [
       "<matplotlib.collections.PathCollection at 0x7f3827e44610>"
      ]
     },
     "execution_count": 33,
     "metadata": {},
     "output_type": "execute_result"
    }
   ],
   "source": [
    "fig = plt.figure(figsize=(10, 5))\n",
    "ax = plt.subplot(projection=w) # matplotlib has support for axes using WCS projections!\n",
    "\n",
    "ax.imshow(data, origin='lower',\n",
    "          norm=ImageNormalize(data, interval=PercentileInterval(99.65), stretch=LogStretch()))\n",
    "ax.coords.grid(True, color='white', ls=':', alpha=.6)\n",
    "ax.autoscale(False)\n",
    "ax.scatter(x, y, edgecolors='r', facecolor=None, alpha=.8)"
   ]
  },
  {
   "cell_type": "markdown",
   "metadata": {},
   "source": [
    "The original (only IDC tab) WCS will likely have an offset between the Gaia positions and the sources.  The GSC-240 solution offset is generally smaller, while any of the `GAIA-FIT` solutions should be well under a pixel.  Using the code in section 3, the offsets can be seen for each available WCS."
   ]
  },
  {
   "cell_type": "markdown",
   "metadata": {},
   "source": [
    "## 6. Changing the WCS of drizzled images"
   ]
  },
  {
   "cell_type": "markdown",
   "metadata": {},
   "source": [
    "Because the drizzling process is directly affected by the WCS's of the input images, the WCS of the drizzled image cannot be changed as simply as shown above for FLC images.  To use an astrometric solution (other than the one  applied to the FLT/FLC at the time of drizzling), the images will have to be re-drizzled after activating the desired WCS in the FLT/FLC images.\n",
    "\n",
    "<div class=\"alert alert-block alert-warning\">\n",
    "<b>NOTE:</b> The images input to astrodrizzle should use the same WCS solution, or the drizzling process will produce poor results.\n",
    "</div>"
   ]
  },
  {
   "cell_type": "markdown",
   "metadata": {},
   "source": [
    "In order to get the same name for the drizzled file, we can simply run astrodrizzle on the association (asn) file we downloaded before."
   ]
  },
  {
   "cell_type": "code",
   "execution_count": 34,
   "metadata": {
    "execution": {
     "iopub.execute_input": "2024-04-01T13:19:53.504766Z",
     "iopub.status.busy": "2024-04-01T13:19:53.504492Z",
     "iopub.status.idle": "2024-04-01T13:20:32.092163Z",
     "shell.execute_reply": "2024-04-01T13:20:32.091615Z"
    }
   },
   "outputs": [
    {
     "name": "stdout",
     "output_type": "stream",
     "text": [
      "Setting up logfile :  astrodrizzle.log\n"
     ]
    },
    {
     "name": "stdout",
     "output_type": "stream",
     "text": [
      "AstroDrizzle log file: astrodrizzle.log\n"
     ]
    },
    {
     "name": "stdout",
     "output_type": "stream",
     "text": [
      "AstroDrizzle Version 3.5.1 started at: 13:19:53.527 (01/04/2024)\n"
     ]
    },
    {
     "name": "stdout",
     "output_type": "stream",
     "text": [
      "\n"
     ]
    },
    {
     "name": "stdout",
     "output_type": "stream",
     "text": [
      "==== Processing Step  Initialization  started at  13:19:53.529 (01/04/2024)\n"
     ]
    },
    {
     "name": "stdout",
     "output_type": "stream",
     "text": [
      "\n"
     ]
    },
    {
     "name": "stdout",
     "output_type": "stream",
     "text": [
      "Reading in MDRIZTAB parameters for 4 files\n"
     ]
    },
    {
     "name": "stdout",
     "output_type": "stream",
     "text": [
      "- MDRIZTAB: AstroDrizzle parameters read from row 3.\n"
     ]
    },
    {
     "name": "stdout",
     "output_type": "stream",
     "text": [
      "WCS Keywords\n"
     ]
    },
    {
     "name": "stdout",
     "output_type": "stream",
     "text": [
      "\n"
     ]
    },
    {
     "name": "stdout",
     "output_type": "stream",
     "text": [
      "Number of WCS axes: 2\n"
     ]
    },
    {
     "name": "stdout",
     "output_type": "stream",
     "text": [
      "CTYPE : 'RA---TAN'  'DEC--TAN'  \n"
     ]
    },
    {
     "name": "stdout",
     "output_type": "stream",
     "text": [
      "CRVAL : 80.52478377106357  -67.94279218580297  \n"
     ]
    },
    {
     "name": "stdout",
     "output_type": "stream",
     "text": [
      "CRPIX : 2076.5  2237.5  \n"
     ]
    },
    {
     "name": "stdout",
     "output_type": "stream",
     "text": [
      "CD1_1 CD1_2  : 1.0380442337376844e-05  3.656319909454076e-06  \n"
     ]
    },
    {
     "name": "stdout",
     "output_type": "stream",
     "text": [
      "CD2_1 CD2_2  : 3.656319909454076e-06  -1.0380442337376844e-05  \n"
     ]
    },
    {
     "name": "stdout",
     "output_type": "stream",
     "text": [
      "NAXIS : 4153  4475\n"
     ]
    },
    {
     "name": "stdout",
     "output_type": "stream",
     "text": [
      "********************************************************************************\n"
     ]
    },
    {
     "name": "stdout",
     "output_type": "stream",
     "text": [
      "*\n"
     ]
    },
    {
     "name": "stdout",
     "output_type": "stream",
     "text": [
      "*  Estimated memory usage:  up to 1107 Mb.\n"
     ]
    },
    {
     "name": "stdout",
     "output_type": "stream",
     "text": [
      "*  Output image size:       4153 X 4475 pixels. \n"
     ]
    },
    {
     "name": "stdout",
     "output_type": "stream",
     "text": [
      "*  Output image file:       ~ 212 Mb. \n"
     ]
    },
    {
     "name": "stdout",
     "output_type": "stream",
     "text": [
      "*  Cores available:         4\n"
     ]
    },
    {
     "name": "stdout",
     "output_type": "stream",
     "text": [
      "*\n"
     ]
    },
    {
     "name": "stdout",
     "output_type": "stream",
     "text": [
      "********************************************************************************\n"
     ]
    },
    {
     "name": "stdout",
     "output_type": "stream",
     "text": [
      "==== Processing Step Initialization finished at 13:19:54.751 (01/04/2024)\n"
     ]
    },
    {
     "name": "stdout",
     "output_type": "stream",
     "text": [
      "==== Processing Step  Static Mask  started at  13:19:54.752 (01/04/2024)\n"
     ]
    },
    {
     "name": "stdout",
     "output_type": "stream",
     "text": [
      "\n"
     ]
    },
    {
     "name": "stdout",
     "output_type": "stream",
     "text": [
      "==== Processing Step Static Mask finished at 13:19:55.783 (01/04/2024)\n"
     ]
    },
    {
     "name": "stdout",
     "output_type": "stream",
     "text": [
      "==== Processing Step  Subtract Sky  started at  13:19:55.78 (01/04/2024)\n"
     ]
    },
    {
     "name": "stdout",
     "output_type": "stream",
     "text": [
      "\n"
     ]
    },
    {
     "name": "stdout",
     "output_type": "stream",
     "text": [
      "***** skymatch started on 2024-04-01 13:19:56.058171\n"
     ]
    },
    {
     "name": "stdout",
     "output_type": "stream",
     "text": [
      "      Version 1.0.9\n"
     ]
    },
    {
     "name": "stdout",
     "output_type": "stream",
     "text": [
      "\n"
     ]
    },
    {
     "name": "stdout",
     "output_type": "stream",
     "text": [
      "'skymatch' task will apply computed sky differences to input image file(s).\n"
     ]
    },
    {
     "name": "stdout",
     "output_type": "stream",
     "text": [
      "\n"
     ]
    },
    {
     "name": "stdout",
     "output_type": "stream",
     "text": [
      "NOTE: Computed sky values WILL NOT be subtracted from image data ('subtractsky'=False).\n"
     ]
    },
    {
     "name": "stdout",
     "output_type": "stream",
     "text": [
      "'MDRIZSKY' header keyword will represent sky value *computed* from data.\n"
     ]
    },
    {
     "name": "stdout",
     "output_type": "stream",
     "text": [
      "\n"
     ]
    },
    {
     "name": "stdout",
     "output_type": "stream",
     "text": [
      "-----  User specified keywords:  -----\n"
     ]
    },
    {
     "name": "stdout",
     "output_type": "stream",
     "text": [
      "       Sky Value Keyword:  'MDRIZSKY'\n"
     ]
    },
    {
     "name": "stdout",
     "output_type": "stream",
     "text": [
      "       Data Units Keyword: 'BUNIT'\n"
     ]
    },
    {
     "name": "stdout",
     "output_type": "stream",
     "text": [
      "\n"
     ]
    },
    {
     "name": "stdout",
     "output_type": "stream",
     "text": [
      "\n"
     ]
    },
    {
     "name": "stdout",
     "output_type": "stream",
     "text": [
      "-----  Input file list:  -----\n"
     ]
    },
    {
     "name": "stdout",
     "output_type": "stream",
     "text": [
      "\n"
     ]
    },
    {
     "name": "stdout",
     "output_type": "stream",
     "text": [
      "   **  Input image: 'id7307xfq_flc.fits'\n"
     ]
    },
    {
     "name": "stdout",
     "output_type": "stream",
     "text": [
      "       EXT: 'SCI',1;\tMASK: id7307xfq_skymatch_mask_sci1.fits[0]\n"
     ]
    },
    {
     "name": "stdout",
     "output_type": "stream",
     "text": [
      "       EXT: 'SCI',2;\tMASK: id7307xfq_skymatch_mask_sci2.fits[0]\n"
     ]
    },
    {
     "name": "stdout",
     "output_type": "stream",
     "text": [
      "\n"
     ]
    },
    {
     "name": "stdout",
     "output_type": "stream",
     "text": [
      "   **  Input image: 'id7307xhq_flc.fits'\n"
     ]
    },
    {
     "name": "stdout",
     "output_type": "stream",
     "text": [
      "       EXT: 'SCI',1;\tMASK: id7307xhq_skymatch_mask_sci1.fits[0]\n"
     ]
    },
    {
     "name": "stdout",
     "output_type": "stream",
     "text": [
      "       EXT: 'SCI',2;\tMASK: id7307xhq_skymatch_mask_sci2.fits[0]\n"
     ]
    },
    {
     "name": "stdout",
     "output_type": "stream",
     "text": [
      "\n"
     ]
    },
    {
     "name": "stdout",
     "output_type": "stream",
     "text": [
      "   **  Input image: 'id7307xlq_flc.fits'\n"
     ]
    },
    {
     "name": "stdout",
     "output_type": "stream",
     "text": [
      "       EXT: 'SCI',1;\tMASK: id7307xlq_skymatch_mask_sci1.fits[0]\n"
     ]
    },
    {
     "name": "stdout",
     "output_type": "stream",
     "text": [
      "       EXT: 'SCI',2;\tMASK: id7307xlq_skymatch_mask_sci2.fits[0]\n"
     ]
    },
    {
     "name": "stdout",
     "output_type": "stream",
     "text": [
      "\n"
     ]
    },
    {
     "name": "stdout",
     "output_type": "stream",
     "text": [
      "   **  Input image: 'id7307xpq_flc.fits'\n"
     ]
    },
    {
     "name": "stdout",
     "output_type": "stream",
     "text": [
      "       EXT: 'SCI',1;\tMASK: id7307xpq_skymatch_mask_sci1.fits[0]\n"
     ]
    },
    {
     "name": "stdout",
     "output_type": "stream",
     "text": [
      "       EXT: 'SCI',2;\tMASK: id7307xpq_skymatch_mask_sci2.fits[0]\n"
     ]
    },
    {
     "name": "stdout",
     "output_type": "stream",
     "text": [
      "\n"
     ]
    },
    {
     "name": "stdout",
     "output_type": "stream",
     "text": [
      "-----  Sky statistics parameters:  -----\n"
     ]
    },
    {
     "name": "stdout",
     "output_type": "stream",
     "text": [
      "       statistics function: 'median'\n"
     ]
    },
    {
     "name": "stdout",
     "output_type": "stream",
     "text": [
      "       lower = -100.0\n"
     ]
    },
    {
     "name": "stdout",
     "output_type": "stream",
     "text": [
      "       upper = None\n"
     ]
    },
    {
     "name": "stdout",
     "output_type": "stream",
     "text": [
      "       nclip = 5\n"
     ]
    },
    {
     "name": "stdout",
     "output_type": "stream",
     "text": [
      "       lsigma = 4.0\n"
     ]
    },
    {
     "name": "stdout",
     "output_type": "stream",
     "text": [
      "       usigma = 4.0\n"
     ]
    },
    {
     "name": "stdout",
     "output_type": "stream",
     "text": [
      "       binwidth = 0.10000000149011612\n"
     ]
    },
    {
     "name": "stdout",
     "output_type": "stream",
     "text": [
      "\n"
     ]
    },
    {
     "name": "stdout",
     "output_type": "stream",
     "text": [
      "-----  Data->Brightness conversion parameters for input files:  -----\n"
     ]
    },
    {
     "name": "stdout",
     "output_type": "stream",
     "text": [
      "\n"
     ]
    },
    {
     "name": "stdout",
     "output_type": "stream",
     "text": [
      "   *   Image: id7307xfq_flc.fits\n"
     ]
    },
    {
     "name": "stdout",
     "output_type": "stream",
     "text": [
      "       EXT = 'SCI',1\n"
     ]
    },
    {
     "name": "stdout",
     "output_type": "stream",
     "text": [
      "             Data units type: COUNTS\n"
     ]
    },
    {
     "name": "stdout",
     "output_type": "stream",
     "text": [
      "             EXPTIME: 697.0 [s]\n"
     ]
    },
    {
     "name": "stdout",
     "output_type": "stream",
     "text": [
      "             Conversion factor (data->brightness):  0.9139832998392358\n"
     ]
    },
    {
     "name": "stdout",
     "output_type": "stream",
     "text": [
      "       EXT = 'SCI',2\n"
     ]
    },
    {
     "name": "stdout",
     "output_type": "stream",
     "text": [
      "             Data units type: COUNTS\n"
     ]
    },
    {
     "name": "stdout",
     "output_type": "stream",
     "text": [
      "             EXPTIME: 697.0 [s]\n"
     ]
    },
    {
     "name": "stdout",
     "output_type": "stream",
     "text": [
      "             Conversion factor (data->brightness):  0.9139832998392358\n"
     ]
    },
    {
     "name": "stdout",
     "output_type": "stream",
     "text": [
      "\n"
     ]
    },
    {
     "name": "stdout",
     "output_type": "stream",
     "text": [
      "   *   Image: id7307xhq_flc.fits\n"
     ]
    },
    {
     "name": "stdout",
     "output_type": "stream",
     "text": [
      "       EXT = 'SCI',1\n"
     ]
    },
    {
     "name": "stdout",
     "output_type": "stream",
     "text": [
      "             Data units type: COUNTS\n"
     ]
    },
    {
     "name": "stdout",
     "output_type": "stream",
     "text": [
      "             EXPTIME: 697.0 [s]\n"
     ]
    },
    {
     "name": "stdout",
     "output_type": "stream",
     "text": [
      "             Conversion factor (data->brightness):  0.9139832998392358\n"
     ]
    },
    {
     "name": "stdout",
     "output_type": "stream",
     "text": [
      "       EXT = 'SCI',2\n"
     ]
    },
    {
     "name": "stdout",
     "output_type": "stream",
     "text": [
      "             Data units type: COUNTS\n"
     ]
    },
    {
     "name": "stdout",
     "output_type": "stream",
     "text": [
      "             EXPTIME: 697.0 [s]\n"
     ]
    },
    {
     "name": "stdout",
     "output_type": "stream",
     "text": [
      "             Conversion factor (data->brightness):  0.9139832998392358\n"
     ]
    },
    {
     "name": "stdout",
     "output_type": "stream",
     "text": [
      "\n"
     ]
    },
    {
     "name": "stdout",
     "output_type": "stream",
     "text": [
      "   *   Image: id7307xlq_flc.fits\n"
     ]
    },
    {
     "name": "stdout",
     "output_type": "stream",
     "text": [
      "       EXT = 'SCI',1\n"
     ]
    },
    {
     "name": "stdout",
     "output_type": "stream",
     "text": [
      "             Data units type: COUNTS\n"
     ]
    },
    {
     "name": "stdout",
     "output_type": "stream",
     "text": [
      "             EXPTIME: 697.0 [s]\n"
     ]
    },
    {
     "name": "stdout",
     "output_type": "stream",
     "text": [
      "             Conversion factor (data->brightness):  0.9139832998392358\n"
     ]
    },
    {
     "name": "stdout",
     "output_type": "stream",
     "text": [
      "       EXT = 'SCI',2\n"
     ]
    },
    {
     "name": "stdout",
     "output_type": "stream",
     "text": [
      "             Data units type: COUNTS\n"
     ]
    },
    {
     "name": "stdout",
     "output_type": "stream",
     "text": [
      "             EXPTIME: 697.0 [s]\n"
     ]
    },
    {
     "name": "stdout",
     "output_type": "stream",
     "text": [
      "             Conversion factor (data->brightness):  0.9139832998392358\n"
     ]
    },
    {
     "name": "stdout",
     "output_type": "stream",
     "text": [
      "\n"
     ]
    },
    {
     "name": "stdout",
     "output_type": "stream",
     "text": [
      "   *   Image: id7307xpq_flc.fits\n"
     ]
    },
    {
     "name": "stdout",
     "output_type": "stream",
     "text": [
      "       EXT = 'SCI',1\n"
     ]
    },
    {
     "name": "stdout",
     "output_type": "stream",
     "text": [
      "             Data units type: COUNTS\n"
     ]
    },
    {
     "name": "stdout",
     "output_type": "stream",
     "text": [
      "             EXPTIME: 441.0 [s]\n"
     ]
    },
    {
     "name": "stdout",
     "output_type": "stream",
     "text": [
      "             Conversion factor (data->brightness):  1.4445495691336674\n"
     ]
    },
    {
     "name": "stdout",
     "output_type": "stream",
     "text": [
      "       EXT = 'SCI',2\n"
     ]
    },
    {
     "name": "stdout",
     "output_type": "stream",
     "text": [
      "             Data units type: COUNTS\n"
     ]
    },
    {
     "name": "stdout",
     "output_type": "stream",
     "text": [
      "             EXPTIME: 441.0 [s]\n"
     ]
    },
    {
     "name": "stdout",
     "output_type": "stream",
     "text": [
      "             Conversion factor (data->brightness):  1.4445495691336674\n"
     ]
    },
    {
     "name": "stdout",
     "output_type": "stream",
     "text": [
      "\n"
     ]
    },
    {
     "name": "stdout",
     "output_type": "stream",
     "text": [
      "\n"
     ]
    },
    {
     "name": "stdout",
     "output_type": "stream",
     "text": [
      "-----  Computing sky values requested image extensions (detector chips):  -----\n"
     ]
    },
    {
     "name": "stdout",
     "output_type": "stream",
     "text": [
      "\n"
     ]
    },
    {
     "name": "stdout",
     "output_type": "stream",
     "text": [
      "   *   Image:   'id7307xfq_flc.fits['SCI',1,2]'  --  SKY = 33.16146072933555 (brightness units)\n"
     ]
    },
    {
     "name": "stdout",
     "output_type": "stream",
     "text": [
      "       Sky change (data units):\n"
     ]
    },
    {
     "name": "stdout",
     "output_type": "stream",
     "text": [
      "      - EXT = 'SCI',1   delta(MDRIZSKY) = 36.2823   NEW MDRIZSKY = 36.2823\n"
     ]
    },
    {
     "name": "stdout",
     "output_type": "stream",
     "text": [
      "      - EXT = 'SCI',2   delta(MDRIZSKY) = 36.2823   NEW MDRIZSKY = 36.2823\n"
     ]
    },
    {
     "name": "stdout",
     "output_type": "stream",
     "text": [
      "   *   Image:   'id7307xhq_flc.fits['SCI',1,2]'  --  SKY = 23.675934355626346 (brightness units)\n"
     ]
    },
    {
     "name": "stdout",
     "output_type": "stream",
     "text": [
      "       Sky change (data units):\n"
     ]
    },
    {
     "name": "stdout",
     "output_type": "stream",
     "text": [
      "      - EXT = 'SCI',1   delta(MDRIZSKY) = 25.9041   NEW MDRIZSKY = 25.9041\n"
     ]
    },
    {
     "name": "stdout",
     "output_type": "stream",
     "text": [
      "      - EXT = 'SCI',2   delta(MDRIZSKY) = 25.9041   NEW MDRIZSKY = 25.9041\n"
     ]
    },
    {
     "name": "stdout",
     "output_type": "stream",
     "text": [
      "   *   Image:   'id7307xlq_flc.fits['SCI',1,2]'  --  SKY = 23.78707573459735 (brightness units)\n"
     ]
    },
    {
     "name": "stdout",
     "output_type": "stream",
     "text": [
      "       Sky change (data units):\n"
     ]
    },
    {
     "name": "stdout",
     "output_type": "stream",
     "text": [
      "      - EXT = 'SCI',1   delta(MDRIZSKY) = 26.0257   NEW MDRIZSKY = 26.0257\n"
     ]
    },
    {
     "name": "stdout",
     "output_type": "stream",
     "text": [
      "      - EXT = 'SCI',2   delta(MDRIZSKY) = 26.0257   NEW MDRIZSKY = 26.0257\n"
     ]
    },
    {
     "name": "stdout",
     "output_type": "stream",
     "text": [
      "   *   Image:   'id7307xpq_flc.fits['SCI',1,2]'  --  SKY = 24.23146985119446 (brightness units)\n"
     ]
    },
    {
     "name": "stdout",
     "output_type": "stream",
     "text": [
      "       Sky change (data units):\n"
     ]
    },
    {
     "name": "stdout",
     "output_type": "stream",
     "text": [
      "      - EXT = 'SCI',1   delta(MDRIZSKY) = 16.7744   NEW MDRIZSKY = 16.7744\n"
     ]
    },
    {
     "name": "stdout",
     "output_type": "stream",
     "text": [
      "      - EXT = 'SCI',2   delta(MDRIZSKY) = 16.7744   NEW MDRIZSKY = 16.7744\n"
     ]
    },
    {
     "name": "stdout",
     "output_type": "stream",
     "text": [
      "***** skymatch ended on 2024-04-01 13:19:58.238226\n"
     ]
    },
    {
     "name": "stdout",
     "output_type": "stream",
     "text": [
      "TOTAL RUN TIME: 0:00:02.180055\n"
     ]
    },
    {
     "name": "stdout",
     "output_type": "stream",
     "text": [
      "==== Processing Step Subtract Sky finished at 13:19:58.398 (01/04/2024)\n"
     ]
    },
    {
     "name": "stdout",
     "output_type": "stream",
     "text": [
      "==== Processing Step  Separate Drizzle  started at  13:19:58.39 (01/04/2024)\n"
     ]
    },
    {
     "name": "stdout",
     "output_type": "stream",
     "text": [
      "\n"
     ]
    },
    {
     "name": "stdout",
     "output_type": "stream",
     "text": [
      "WCS Keywords\n"
     ]
    },
    {
     "name": "stdout",
     "output_type": "stream",
     "text": [
      "\n"
     ]
    },
    {
     "name": "stdout",
     "output_type": "stream",
     "text": [
      "Number of WCS axes: 2\n"
     ]
    },
    {
     "name": "stdout",
     "output_type": "stream",
     "text": [
      "CTYPE : 'RA---TAN'  'DEC--TAN'  \n"
     ]
    },
    {
     "name": "stdout",
     "output_type": "stream",
     "text": [
      "CRVAL : 80.52478377106357  -67.94279218580297  \n"
     ]
    },
    {
     "name": "stdout",
     "output_type": "stream",
     "text": [
      "CRPIX : 2076.5  2237.5  \n"
     ]
    },
    {
     "name": "stdout",
     "output_type": "stream",
     "text": [
      "CD1_1 CD1_2  : 1.0380442337376844e-05  3.656319909454076e-06  \n"
     ]
    },
    {
     "name": "stdout",
     "output_type": "stream",
     "text": [
      "CD2_1 CD2_2  : 3.656319909454076e-06  -1.0380442337376844e-05  \n"
     ]
    },
    {
     "name": "stdout",
     "output_type": "stream",
     "text": [
      "NAXIS : 4153  4475\n"
     ]
    },
    {
     "name": "stdout",
     "output_type": "stream",
     "text": [
      "-Generating simple FITS output: id7307xfq_single_sci.fits\n"
     ]
    },
    {
     "name": "stdout",
     "output_type": "stream",
     "text": [
      "-Generating simple FITS output: id7307xlq_single_sci.fits\n"
     ]
    },
    {
     "name": "stdout",
     "output_type": "stream",
     "text": [
      "-Generating simple FITS output: id7307xhq_single_sci.fits\n"
     ]
    },
    {
     "name": "stdout",
     "output_type": "stream",
     "text": [
      "Writing out image to disk: id7307xfq_single_sci.fits\n"
     ]
    },
    {
     "name": "stdout",
     "output_type": "stream",
     "text": [
      "-Generating simple FITS output: id7307xpq_single_sci.fits\n"
     ]
    },
    {
     "name": "stdout",
     "output_type": "stream",
     "text": [
      "Writing out image to disk: id7307xlq_single_sci.fits\n"
     ]
    },
    {
     "name": "stdout",
     "output_type": "stream",
     "text": [
      "Writing out image to disk: id7307xhq_single_sci.fits\n"
     ]
    },
    {
     "name": "stdout",
     "output_type": "stream",
     "text": [
      "Writing out image to disk: id7307xpq_single_sci.fits\n"
     ]
    },
    {
     "name": "stdout",
     "output_type": "stream",
     "text": [
      "Writing out image to disk: id7307xfq_single_wht.fits\n"
     ]
    },
    {
     "name": "stdout",
     "output_type": "stream",
     "text": [
      "Writing out image to disk: id7307xlq_single_wht.fits\n"
     ]
    },
    {
     "name": "stdout",
     "output_type": "stream",
     "text": [
      "Writing out image to disk: id7307xhq_single_wht.fits\n"
     ]
    },
    {
     "name": "stdout",
     "output_type": "stream",
     "text": [
      "Writing out image to disk: id7307xpq_single_wht.fits\n"
     ]
    },
    {
     "name": "stdout",
     "output_type": "stream",
     "text": [
      "==== Processing Step Separate Drizzle finished at 13:20:01.017 (01/04/2024)\n"
     ]
    },
    {
     "name": "stdout",
     "output_type": "stream",
     "text": [
      "==== Processing Step  Create Median  started at  13:20:01.019 (01/04/2024)\n"
     ]
    },
    {
     "name": "stdout",
     "output_type": "stream",
     "text": [
      "\n"
     ]
    },
    {
     "name": "stdout",
     "output_type": "stream",
     "text": [
      "reference sky value for image 'id7307xfq_flc.fits' is 36.2823486328125\n"
     ]
    },
    {
     "name": "stdout",
     "output_type": "stream",
     "text": [
      "reference sky value for image 'id7307xhq_flc.fits' is 25.90412139892578\n"
     ]
    },
    {
     "name": "stdout",
     "output_type": "stream",
     "text": [
      "reference sky value for image 'id7307xlq_flc.fits' is 26.02572250366211\n"
     ]
    },
    {
     "name": "stdout",
     "output_type": "stream",
     "text": [
      "reference sky value for image 'id7307xpq_flc.fits' is 16.774412155151367\n"
     ]
    },
    {
     "name": "stdout",
     "output_type": "stream",
     "text": [
      "Saving output median image to: 'id7307030_med.fits'\n"
     ]
    },
    {
     "name": "stdout",
     "output_type": "stream",
     "text": [
      "==== Processing Step Create Median finished at 13:20:03.480 (01/04/2024)\n"
     ]
    },
    {
     "name": "stdout",
     "output_type": "stream",
     "text": [
      "==== Processing Step  Blot  started at  13:20:03.481 (01/04/2024)\n"
     ]
    },
    {
     "name": "stdout",
     "output_type": "stream",
     "text": [
      "\n"
     ]
    },
    {
     "name": "stdout",
     "output_type": "stream",
     "text": [
      "    Blot: creating blotted image:  id7307xfq_flc.fits[sci,1]\n"
     ]
    },
    {
     "name": "stdout",
     "output_type": "stream",
     "text": [
      "Using default C-based coordinate transformation...\n"
     ]
    },
    {
     "name": "stdout",
     "output_type": "stream",
     "text": [
      "-Generating simple FITS output: id7307xfq_sci1_blt.fits\n"
     ]
    },
    {
     "name": "stdout",
     "output_type": "stream",
     "text": [
      "Writing out image to disk: id7307xfq_sci1_blt.fits\n"
     ]
    },
    {
     "name": "stdout",
     "output_type": "stream",
     "text": [
      "    Blot: creating blotted image:  id7307xfq_flc.fits[sci,2]\n"
     ]
    },
    {
     "name": "stdout",
     "output_type": "stream",
     "text": [
      "Using default C-based coordinate transformation...\n"
     ]
    },
    {
     "name": "stdout",
     "output_type": "stream",
     "text": [
      "-Generating simple FITS output: id7307xfq_sci2_blt.fits\n"
     ]
    },
    {
     "name": "stdout",
     "output_type": "stream",
     "text": [
      "Writing out image to disk: id7307xfq_sci2_blt.fits\n"
     ]
    },
    {
     "name": "stdout",
     "output_type": "stream",
     "text": [
      "    Blot: creating blotted image:  id7307xhq_flc.fits[sci,1]\n"
     ]
    },
    {
     "name": "stdout",
     "output_type": "stream",
     "text": [
      "Using default C-based coordinate transformation...\n"
     ]
    },
    {
     "name": "stdout",
     "output_type": "stream",
     "text": [
      "-Generating simple FITS output: id7307xhq_sci1_blt.fits\n"
     ]
    },
    {
     "name": "stdout",
     "output_type": "stream",
     "text": [
      "Writing out image to disk: id7307xhq_sci1_blt.fits\n"
     ]
    },
    {
     "name": "stdout",
     "output_type": "stream",
     "text": [
      "    Blot: creating blotted image:  id7307xhq_flc.fits[sci,2]\n"
     ]
    },
    {
     "name": "stdout",
     "output_type": "stream",
     "text": [
      "Using default C-based coordinate transformation...\n"
     ]
    },
    {
     "name": "stdout",
     "output_type": "stream",
     "text": [
      "-Generating simple FITS output: id7307xhq_sci2_blt.fits\n"
     ]
    },
    {
     "name": "stdout",
     "output_type": "stream",
     "text": [
      "Writing out image to disk: id7307xhq_sci2_blt.fits\n"
     ]
    },
    {
     "name": "stdout",
     "output_type": "stream",
     "text": [
      "    Blot: creating blotted image:  id7307xlq_flc.fits[sci,1]\n"
     ]
    },
    {
     "name": "stdout",
     "output_type": "stream",
     "text": [
      "Using default C-based coordinate transformation...\n"
     ]
    },
    {
     "name": "stdout",
     "output_type": "stream",
     "text": [
      "-Generating simple FITS output: id7307xlq_sci1_blt.fits\n"
     ]
    },
    {
     "name": "stdout",
     "output_type": "stream",
     "text": [
      "Writing out image to disk: id7307xlq_sci1_blt.fits\n"
     ]
    },
    {
     "name": "stdout",
     "output_type": "stream",
     "text": [
      "    Blot: creating blotted image:  id7307xlq_flc.fits[sci,2]\n"
     ]
    },
    {
     "name": "stdout",
     "output_type": "stream",
     "text": [
      "Using default C-based coordinate transformation...\n"
     ]
    },
    {
     "name": "stdout",
     "output_type": "stream",
     "text": [
      "-Generating simple FITS output: id7307xlq_sci2_blt.fits\n"
     ]
    },
    {
     "name": "stdout",
     "output_type": "stream",
     "text": [
      "Writing out image to disk: id7307xlq_sci2_blt.fits\n"
     ]
    },
    {
     "name": "stdout",
     "output_type": "stream",
     "text": [
      "    Blot: creating blotted image:  id7307xpq_flc.fits[sci,1]\n"
     ]
    },
    {
     "name": "stdout",
     "output_type": "stream",
     "text": [
      "Using default C-based coordinate transformation...\n"
     ]
    },
    {
     "name": "stdout",
     "output_type": "stream",
     "text": [
      "-Generating simple FITS output: id7307xpq_sci1_blt.fits\n"
     ]
    },
    {
     "name": "stdout",
     "output_type": "stream",
     "text": [
      "Writing out image to disk: id7307xpq_sci1_blt.fits\n"
     ]
    },
    {
     "name": "stdout",
     "output_type": "stream",
     "text": [
      "    Blot: creating blotted image:  id7307xpq_flc.fits[sci,2]\n"
     ]
    },
    {
     "name": "stdout",
     "output_type": "stream",
     "text": [
      "Using default C-based coordinate transformation...\n"
     ]
    },
    {
     "name": "stdout",
     "output_type": "stream",
     "text": [
      "-Generating simple FITS output: id7307xpq_sci2_blt.fits\n"
     ]
    },
    {
     "name": "stdout",
     "output_type": "stream",
     "text": [
      "Writing out image to disk: id7307xpq_sci2_blt.fits\n"
     ]
    },
    {
     "name": "stdout",
     "output_type": "stream",
     "text": [
      "==== Processing Step Blot finished at 13:20:12.95 (01/04/2024)\n"
     ]
    },
    {
     "name": "stdout",
     "output_type": "stream",
     "text": [
      "==== Processing Step  Driz_CR  started at  13:20:12.961 (01/04/2024)\n"
     ]
    },
    {
     "name": "stdout",
     "output_type": "stream",
     "text": [
      "\n"
     ]
    },
    {
     "name": "stdout",
     "output_type": "stream",
     "text": [
      "Creating output: id7307xfq_sci1_crmask.fits\n"
     ]
    },
    {
     "name": "stdout",
     "output_type": "stream",
     "text": [
      "Creating output: id7307xlq_sci1_crmask.fits\n"
     ]
    },
    {
     "name": "stdout",
     "output_type": "stream",
     "text": [
      "Creating output: id7307xhq_sci1_crmask.fits\n"
     ]
    },
    {
     "name": "stdout",
     "output_type": "stream",
     "text": [
      "Creating output: id7307xpq_sci1_crmask.fits\n"
     ]
    },
    {
     "name": "stdout",
     "output_type": "stream",
     "text": [
      "Creating output: id7307xfq_sci2_crmask.fits\n"
     ]
    },
    {
     "name": "stdout",
     "output_type": "stream",
     "text": [
      "Creating output: id7307xlq_sci2_crmask.fits\n"
     ]
    },
    {
     "name": "stdout",
     "output_type": "stream",
     "text": [
      "Creating output: id7307xhq_sci2_crmask.fits\n"
     ]
    },
    {
     "name": "stdout",
     "output_type": "stream",
     "text": [
      "Creating output: id7307xpq_sci2_crmask.fits\n"
     ]
    },
    {
     "name": "stdout",
     "output_type": "stream",
     "text": [
      "==== Processing Step Driz_CR finished at 13:20:16.862 (01/04/2024)\n"
     ]
    },
    {
     "name": "stdout",
     "output_type": "stream",
     "text": [
      "==== Processing Step  Final Drizzle  started at  13:20:16.879 (01/04/2024)\n"
     ]
    },
    {
     "name": "stdout",
     "output_type": "stream",
     "text": [
      "\n"
     ]
    },
    {
     "name": "stdout",
     "output_type": "stream",
     "text": [
      "WCS Keywords\n"
     ]
    },
    {
     "name": "stdout",
     "output_type": "stream",
     "text": [
      "\n"
     ]
    },
    {
     "name": "stdout",
     "output_type": "stream",
     "text": [
      "Number of WCS axes: 2\n"
     ]
    },
    {
     "name": "stdout",
     "output_type": "stream",
     "text": [
      "CTYPE : 'RA---TAN'  'DEC--TAN'  \n"
     ]
    },
    {
     "name": "stdout",
     "output_type": "stream",
     "text": [
      "CRVAL : 80.52478377106357  -67.94279218580297  \n"
     ]
    },
    {
     "name": "stdout",
     "output_type": "stream",
     "text": [
      "CRPIX : 2076.5  2237.5  \n"
     ]
    },
    {
     "name": "stdout",
     "output_type": "stream",
     "text": [
      "CD1_1 CD1_2  : 1.0380442337376844e-05  3.656319909454076e-06  \n"
     ]
    },
    {
     "name": "stdout",
     "output_type": "stream",
     "text": [
      "CD2_1 CD2_2  : 3.656319909454076e-06  -1.0380442337376844e-05  \n"
     ]
    },
    {
     "name": "stdout",
     "output_type": "stream",
     "text": [
      "NAXIS : 4153  4475\n"
     ]
    },
    {
     "name": "stdout",
     "output_type": "stream",
     "text": [
      "-Generating multi-extension output file:  id7307030_drc.fits\n"
     ]
    },
    {
     "name": "stdout",
     "output_type": "stream",
     "text": [
      "Writing out to disk: id7307030_drc.fits\n"
     ]
    },
    {
     "name": "stdout",
     "output_type": "stream",
     "text": [
      "==== Processing Step Final Drizzle finished at 13:20:31.870 (01/04/2024)\n"
     ]
    },
    {
     "name": "stdout",
     "output_type": "stream",
     "text": [
      "\n"
     ]
    },
    {
     "name": "stdout",
     "output_type": "stream",
     "text": [
      "AstroDrizzle Version 3.5.1 is finished processing at 13:20:31.872 (01/04/2024).\n"
     ]
    },
    {
     "name": "stdout",
     "output_type": "stream",
     "text": [
      "\n"
     ]
    },
    {
     "name": "stdout",
     "output_type": "stream",
     "text": [
      "\n"
     ]
    },
    {
     "name": "stdout",
     "output_type": "stream",
     "text": [
      "\n"
     ]
    },
    {
     "name": "stdout",
     "output_type": "stream",
     "text": [
      "   --------------------          --------------------\n"
     ]
    },
    {
     "name": "stdout",
     "output_type": "stream",
     "text": [
      "                   Step          Elapsed time\n"
     ]
    },
    {
     "name": "stdout",
     "output_type": "stream",
     "text": [
      "   --------------------          --------------------\n"
     ]
    },
    {
     "name": "stdout",
     "output_type": "stream",
     "text": [
      "\n"
     ]
    },
    {
     "name": "stdout",
     "output_type": "stream",
     "text": [
      "         Initialization          1.2221 sec.\n"
     ]
    },
    {
     "name": "stdout",
     "output_type": "stream",
     "text": [
      "            Static Mask          1.0304 sec.\n"
     ]
    },
    {
     "name": "stdout",
     "output_type": "stream",
     "text": [
      "           Subtract Sky          2.6141 sec.\n"
     ]
    },
    {
     "name": "stdout",
     "output_type": "stream",
     "text": [
      "       Separate Drizzle          2.6183 sec.\n"
     ]
    },
    {
     "name": "stdout",
     "output_type": "stream",
     "text": [
      "          Create Median          2.4608 sec.\n"
     ]
    },
    {
     "name": "stdout",
     "output_type": "stream",
     "text": [
      "                   Blot          9.4774 sec.\n"
     ]
    },
    {
     "name": "stdout",
     "output_type": "stream",
     "text": [
      "                Driz_CR          3.9009 sec.\n"
     ]
    },
    {
     "name": "stdout",
     "output_type": "stream",
     "text": [
      "          Final Drizzle          14.9917 sec.\n"
     ]
    },
    {
     "name": "stdout",
     "output_type": "stream",
     "text": [
      "   ====================          ====================\n"
     ]
    },
    {
     "name": "stdout",
     "output_type": "stream",
     "text": [
      "                  Total          38.3157 sec.\n"
     ]
    },
    {
     "name": "stdout",
     "output_type": "stream",
     "text": [
      "\n"
     ]
    },
    {
     "name": "stdout",
     "output_type": "stream",
     "text": [
      "Trailer file written to:  astrodrizzle.log\n"
     ]
    }
   ],
   "source": [
    "astrodrizzle.AstroDrizzle('id7307030_asn.fits', mdriztab=True, build=True, clean=True, preserve=False)"
   ]
  },
  {
   "cell_type": "markdown",
   "metadata": {},
   "source": [
    "# About this Notebook\n",
    "\n",
    "    Updated: June 12, 2023 by A. O'Connor -- STScI WFC3 "
   ]
  }
 ],
 "metadata": {
  "kernelspec": {
   "display_name": "Python 3 (ipykernel)",
   "language": "python",
   "name": "python3"
  },
  "language_info": {
   "codemirror_mode": {
    "name": "ipython",
    "version": 3
   },
   "file_extension": ".py",
   "mimetype": "text/x-python",
   "name": "python",
   "nbconvert_exporter": "python",
   "pygments_lexer": "ipython3",
   "version": "3.11.8"
  }
 },
 "nbformat": 4,
 "nbformat_minor": 2
}
