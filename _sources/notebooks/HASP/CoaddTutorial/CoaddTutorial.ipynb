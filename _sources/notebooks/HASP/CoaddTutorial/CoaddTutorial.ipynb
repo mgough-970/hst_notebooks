{
 "cells": [
  {
   "attachments": {},
   "cell_type": "markdown",
   "id": "8346a078",
   "metadata": {},
   "source": [
    "# Inputting User Data using the Hubble Advanced Spectral Products Script"
   ]
  },
  {
   "attachments": {},
   "cell_type": "markdown",
   "id": "1d2e317b",
   "metadata": {},
   "source": [
    "### <span style=\"font-weight:normal\">This Notebook is designed to walk you through downloading and using the **Hubble Advanced Spectral Products (HASP)** co-add script.</span>"
   ]
  },
  {
   "attachments": {},
   "cell_type": "markdown",
   "id": "01e97a32",
   "metadata": {},
   "source": [
    "## Learning Goals: "
   ]
  },
  {
   "attachments": {},
   "cell_type": "markdown",
   "id": "ad4bc17b",
   "metadata": {},
   "source": [
    "By the end of this tutorial, you will learn how to:\n",
    "- Setup a `conda` environment\n",
    "\n",
    "- Download the HASP wrapper script\n",
    "\n",
    "- Use `astroquery.mast` to download COS and STIS data\n",
    "\n",
    "- Run the co-add script\n",
    "\n",
    "- Examine the co-added output\n",
    "\n",
    "- Run the scipt with multiple threshold values and examine output\n"
   ]
  },
  {
   "attachments": {},
   "cell_type": "markdown",
   "id": "75d6e2e4",
   "metadata": {},
   "source": [
    "## Table of Contents\n",
    "**0. [Introduction](#introduction)**\n",
    "\n",
    "**1. [Downloading HST Spectroscopic Data](#datadownload)**\n",
    "\n",
    "\\- 1.1 [Using `Astroquery` to Download STIS Data](#stisdownload)\n",
    "\n",
    "**2. [Running the Co-add Script](#runscript)**\n",
    "\n",
    "**3. [Working with Co-added Data Products](#workwithoutput)**\n",
    "\n",
    "\\- 3.1 [Inspecting the Output Files](#inspectoutput)\n",
    "\n",
    "\\- 3.2 [Viewing Co-added STIS Data](#viewstis)\n",
    "\n",
    "\\- 3.3 [Putting it all together with COS Data](#cos)\n",
    "\n",
    "**4. [Changing the Threshold Flag](#threshold)**\n",
    "\n",
    "\\- 4.1 [Using `Astroquery` to Download Additional Data](#downloadthresh)\n",
    "\n",
    "\\- 4.2 [Running the Co-add Script with Multiple Threshold Values](#threshscriptrun)\n",
    "\n",
    "\\- 4.3 [Analyzing the Co-added Spectra of Different Threshold Values](#analyzethresh)"
   ]
  },
  {
   "attachments": {},
   "cell_type": "markdown",
   "id": "a73ce7ef",
   "metadata": {},
   "source": [
    "<a id = introduction></a>\n",
    "## 0. Introduction"
   ]
  },
  {
   "attachments": {},
   "cell_type": "markdown",
   "id": "40af9618",
   "metadata": {},
   "source": [
    "The [Hubble Advanced Spectral Products (HASP) code](https://github.com/spacetelescope/hasp) is a script that co-adds spectra of the same target within programs. This software is able to co-add data taken with the spectrographs onboard the [Hubble Space Telescope (HST)](https://www.stsci.edu/hst); the [Space Telescope Imaging Spectrograph (STIS)](https://www.stsci.edu/hst/instrumentation/stis) and the [Cosmic Origins Spectrograph (COS)](https://www.stsci.edu/hst/instrumentation/cos). The [Hubble Spectroscopic Legacy Archive (HSLA)](https://archive.stsci.edu/missions-and-data/hst/hasp) uses this script to co-add these instruments’ data from [The Mikulski Archive for Space Telescopes (MAST)](https://archive.stsci.edu/) to create high-quality spectra with a broad wavelength coverage (whenever possible from the ultraviolet to the near-infrared) that is publicly available for the scientific community. These custom co-addition notebooks will instruct users on how to produce their own co-adds in cases where the MAST archive data needs special processing or is rejected by the default filters used in the co-add script.\n",
    "\n",
    "The script first co-adds the observations for each grating for a given program, then it combines all gratings for the observation set. Finally, it co-adds the spectra of each observation set in the program to produce a fully co-added spectra for each target in a program. \n",
    "\n",
    "This notebook will show users how to download data from MAST, run the co-add script, understand the output files and inspect the abutted data by plotting flux as a function of wavelength. It will also show users how to change the flux threshold flag.\n",
    "\n",
    "**Please check out our [Setup.ipynb](https://github.com/spacetelescope/hst_notebooks/tree/main/notebooks/HASP/Setup) notebook before running this tutorial to learn how to install and run the co-add code.**"
   ]
  },
  {
   "attachments": {},
   "cell_type": "markdown",
   "id": "2cbdc832",
   "metadata": {},
   "source": [
    "### Imports\n",
    "\n",
    "We will be using multiple libraries to retrieve and analyze data. We will use: \n",
    "* `Path.pathlib` to create product and data directories \n",
    "* `astroquery.mast Observations` to download COS and STIS data\n",
    "* `shutil` to perform directory and file operations\n",
    "* `os` to interact with the operating system\n",
    "* `astropy.io fits` to work with FITS files\n",
    "* `matplotlib.pyplot` to plot abutted spectra\n",
    "* `glob` to work with multiple files in our directories\n",
    "* `subprocesses` to run our script in the notebook with varying threshold flag values\n",
    "* `numpy` to help analyze our data\n",
    "* `scipy.interpolate interp1d` to interpolate our data\n",
    "\n",
    "We must activate our `conda` environment before we run any code; if you haven't created one with the HASP dependencies, you can checkout our [Setup.ipynb](https://github.com/spacetelescope/hst_notebooks/tree/main/notebooks/HASP/Setup) notebook.\n",
    "\n",
    "Running the next cell will print your current `conda` environment.\n",
    "\n",
    "_Note: if the following cell doesn't print your hasp environment, you will have to activate the `conda` environment in your terminal or by running the subsequent cell, and then restart the notebook. This is because of how different shells are configured._"
   ]
  },
  {
   "cell_type": "code",
   "execution_count": 1,
   "id": "dcc8117a",
   "metadata": {
    "execution": {
     "iopub.execute_input": "2024-01-04T14:44:44.571556Z",
     "iopub.status.busy": "2024-01-04T14:44:44.571160Z",
     "iopub.status.idle": "2024-01-04T14:44:44.576617Z",
     "shell.execute_reply": "2024-01-04T14:44:44.576128Z"
    }
   },
   "outputs": [
    {
     "name": "stdout",
     "output_type": "stream",
     "text": [
      "Currently active conda environment: None\n"
     ]
    }
   ],
   "source": [
    "import os\n",
    "print(\"Currently active conda environment:\", os.environ.get(\"CONDA_PREFIX\"))"
   ]
  },
  {
   "cell_type": "code",
   "execution_count": 2,
   "id": "145f7e25",
   "metadata": {
    "execution": {
     "iopub.execute_input": "2024-01-04T14:44:44.578607Z",
     "iopub.status.busy": "2024-01-04T14:44:44.578285Z",
     "iopub.status.idle": "2024-01-04T14:44:44.947432Z",
     "shell.execute_reply": "2024-01-04T14:44:44.946848Z"
    }
   },
   "outputs": [
    {
     "name": "stdout",
     "output_type": "stream",
     "text": [
      "usage: conda [-h] [-v] [--no-plugins] [-V] COMMAND ...\r\n",
      "conda: error: argument COMMAND: invalid choice: 'activate' (choose from 'clean', 'compare', 'config', 'create', 'info', 'init', 'install', 'list', 'notices', 'package', 'remove', 'uninstall', 'rename', 'run', 'search', 'update', 'upgrade', 'content-trust', 'doctor', 'repoquery', 'env')\r\n"
     ]
    }
   ],
   "source": [
    "!conda activate hasp-env"
   ]
  },
  {
   "cell_type": "markdown",
   "id": "a2e3263d",
   "metadata": {},
   "source": [
    "Please make sure the environment that contains the HASP script dependencies is activated, otherwise **_you will NOT be able to run the co-add code._**\n",
    "\n",
    "Let's import all of our packages that we will use in this notebook:"
   ]
  },
  {
   "cell_type": "code",
   "execution_count": 3,
   "id": "4b43d9c7",
   "metadata": {
    "execution": {
     "iopub.execute_input": "2024-01-04T14:44:44.949991Z",
     "iopub.status.busy": "2024-01-04T14:44:44.949579Z",
     "iopub.status.idle": "2024-01-04T14:44:45.684438Z",
     "shell.execute_reply": "2024-01-04T14:44:45.683877Z"
    }
   },
   "outputs": [],
   "source": [
    "import os\n",
    "from pathlib import Path\n",
    "from astroquery.mast import Observations\n",
    "import shutil\n",
    "import glob as glob\n",
    "from astropy.io import fits\n",
    "import matplotlib.pyplot as plt\n",
    "import subprocess\n",
    "import numpy as np\n",
    "from scipy.interpolate import interp1d"
   ]
  },
  {
   "attachments": {},
   "cell_type": "markdown",
   "id": "a0386593",
   "metadata": {},
   "source": [
    "To do our tutorial, we will create data folders that will contain downloaded data from MAST (one for the STIS and the another for COS). We will also create products folders to contain the HASP script output, a.k.a the co-added spectra. We will have one folder for STIS and another for COS too."
   ]
  },
  {
   "cell_type": "code",
   "execution_count": 4,
   "id": "ce78a015",
   "metadata": {
    "execution": {
     "iopub.execute_input": "2024-01-04T14:44:45.688152Z",
     "iopub.status.busy": "2024-01-04T14:44:45.687192Z",
     "iopub.status.idle": "2024-01-04T14:44:45.692288Z",
     "shell.execute_reply": "2024-01-04T14:44:45.691843Z"
    }
   },
   "outputs": [],
   "source": [
    "# Creating the data download directories for COS and STIS\n",
    "stis_data_dir = Path(\"./stis_data/\")\n",
    "cos_data_dir = Path(\"./cos_data/\")\n",
    "\n",
    "# Creating the products directory to hold the output\n",
    "stis_products_dir = Path(\"./stis_products/\")\n",
    "cos_products_dir = Path(\"./cos_products/\")\n",
    "\n",
    "# If the directory doesn't exist, then create it\n",
    "stis_data_dir.mkdir(exist_ok=True)\n",
    "cos_data_dir.mkdir(exist_ok=True)\n",
    "\n",
    "stis_products_dir.mkdir(exist_ok=True)\n",
    "cos_products_dir.mkdir(exist_ok=True)"
   ]
  },
  {
   "attachments": {},
   "cell_type": "markdown",
   "id": "6dd2dbfd",
   "metadata": {},
   "source": [
    "<a id = datadownload></a>\n",
    "## 1. Downloading HST Spectroscopic Data"
   ]
  },
  {
   "attachments": {},
   "cell_type": "markdown",
   "id": "6bdca358",
   "metadata": {},
   "source": [
    "Now that we have a `conda` environment created and the co-add code downloaded, we can start downloading data using `Observations` class from the Python package `astroquery.mast`. Here we will download two datasets, one taken with STIS and the other taken with COS."
   ]
  },
  {
   "attachments": {},
   "cell_type": "markdown",
   "id": "8734b09c",
   "metadata": {},
   "source": [
    "<a id = stisdownload></a>\n",
    "### 1.1 Using `Astroquery` to Download STIS Data"
   ]
  },
  {
   "attachments": {},
   "cell_type": "markdown",
   "id": "0361f8f3",
   "metadata": {},
   "source": [
    "We will be downloading STIS data for the white dwarf [GD71](http://simbad.u-strasbg.fr/simbad/sim-id?Ident=GD+++71); this object is a well-known primary white dwarf standard. We will specifically download data from Program 7656, which has observations of GD71 using the gratings `G230L` and `G140L`.\n",
    "\n",
    "We can start with querying the MAST database for the STIS program's data. This will give us a list of *all* observations for the program."
   ]
  },
  {
   "cell_type": "code",
   "execution_count": 5,
   "id": "fd1dbe4b",
   "metadata": {
    "execution": {
     "iopub.execute_input": "2024-01-04T14:44:45.694677Z",
     "iopub.status.busy": "2024-01-04T14:44:45.694517Z",
     "iopub.status.idle": "2024-01-04T14:44:45.867238Z",
     "shell.execute_reply": "2024-01-04T14:44:45.866689Z"
    }
   },
   "outputs": [],
   "source": [
    "# Querying the data on MAST for our target\n",
    "gd71_query = Observations.query_criteria(\n",
    "    proposal_id=7656,\n",
    "    target_name=\"GD71\",\n",
    "    dataproduct_type=\"SPECTRUM\"\n",
    ")"
   ]
  },
  {
   "attachments": {},
   "cell_type": "markdown",
   "id": "a832e923",
   "metadata": {},
   "source": [
    "Now that we have queried the observations for Program 7656, we can get a list that contains the data products for these observations:"
   ]
  },
  {
   "cell_type": "code",
   "execution_count": 6,
   "id": "6e229622",
   "metadata": {
    "execution": {
     "iopub.execute_input": "2024-01-04T14:44:45.869374Z",
     "iopub.status.busy": "2024-01-04T14:44:45.869187Z",
     "iopub.status.idle": "2024-01-04T14:44:46.356296Z",
     "shell.execute_reply": "2024-01-04T14:44:46.355790Z"
    }
   },
   "outputs": [],
   "source": [
    "# Getting a product list for our query\n",
    "gd71_products = Observations.get_product_list(\n",
    "    gd71_query\n",
    ")"
   ]
  },
  {
   "cell_type": "markdown",
   "id": "a36057da",
   "metadata": {},
   "source": [
    "Let's print out this list to see the associated data files: "
   ]
  },
  {
   "cell_type": "code",
   "execution_count": 7,
   "id": "e0fda461",
   "metadata": {
    "execution": {
     "iopub.execute_input": "2024-01-04T14:44:46.358504Z",
     "iopub.status.busy": "2024-01-04T14:44:46.358343Z",
     "iopub.status.idle": "2024-01-04T14:44:46.361498Z",
     "shell.execute_reply": "2024-01-04T14:44:46.361012Z"
    }
   },
   "outputs": [
    {
     "name": "stdout",
     "output_type": "stream",
     "text": [
      "             productFilename              \n",
      "------------------------------------------\n",
      "  hst_7656_stis_gd71_g230lb_o4a5_cspec.png\n",
      "  hst_7656_stis_gd71_g230lb_o4a5_cspec.png\n",
      "  hst_7656_stis_gd71_g230lb_o4a5_cspec.png\n",
      "hst_7656_stis_gd71_g230lb_o4a520_cspec.png\n",
      "hst_7656_stis_gd71_g230lb_o4a520_cspec.png\n",
      "hst_7656_stis_gd71_g230lb_o4a520_cspec.png\n",
      "hst_7656_stis_gd71_g230lb_o4a551_cspec.png\n",
      "hst_7656_stis_gd71_g230lb_o4a551_cspec.png\n",
      "hst_7656_stis_gd71_g230lb_o4a551_cspec.png\n",
      "   hst_7656_stis_gd71_g430l_o4a5_cspec.png\n",
      "                                       ...\n",
      "                        o4a551060_spt.fits\n",
      "                        o4a551060_trl.fits\n",
      "                        o4a551060_wav.fits\n",
      "                        o4a551060_wsp.fits\n",
      "                        o4a551060_asn.fits\n",
      "                         o4a551060_log.txt\n",
      "                         o4a551060_x1d.png\n",
      "                        o4a551060_raw.fits\n",
      "                        o4a551060_x1d.fits\n",
      "                        o4a551060_x2d.fits\n",
      "                        o4a551060_flt.fits\n",
      "Length = 296 rows\n"
     ]
    }
   ],
   "source": [
    "print(gd71_products[\"productFilename\"])"
   ]
  },
  {
   "attachments": {},
   "cell_type": "markdown",
   "id": "01628f8c",
   "metadata": {},
   "source": [
    "As you can see, we have a very long list of different type of data products for our program. Luckily, we don't need all of these files to run the wrapper. We only need to download the following COS and/or STIS files:\n",
    "\n",
    "*    [X1D](https://hst-docs.stsci.edu/cosdhb/chapter-2-cos-data-files/2-4-cos-data-products#:~:text=in%20the%20association.-,One%2DDimensional%20Extracted%20Spectra%20(x1d%2C%20x1dsum),-The%20COS%20pipeline) - the one-dimensional extracted product spectra.\n",
    "  \n",
    "*    [SX1](https://hst-docs.stsci.edu/stisdhb/chapter-2-stis-data-structure/2-2-types-of-stis-files#:~:text=corrected%20imaging%20data.-,_sx1,-table) - the one-dimensional extracted spectra from combined or cosmic-ray rejected images. This file is only produced with STIS data. \n",
    "\n",
    "We will specify that we want to download *only* these files with the `productSubGroupDescription` parameter. We will also specify the directory that will contain the downloaded data products. Below, we download the STIS files for the progam."
   ]
  },
  {
   "cell_type": "code",
   "execution_count": 8,
   "id": "db084fe5",
   "metadata": {
    "execution": {
     "iopub.execute_input": "2024-01-04T14:44:46.363310Z",
     "iopub.status.busy": "2024-01-04T14:44:46.363155Z",
     "iopub.status.idle": "2024-01-04T14:44:48.196927Z",
     "shell.execute_reply": "2024-01-04T14:44:48.196492Z"
    }
   },
   "outputs": [
    {
     "name": "stdout",
     "output_type": "stream",
     "text": [
      "Downloading URL https://mast.stsci.edu/api/v0.1/Download/file?uri=mast:HST/product/o4a520020_sx1.fits to stis_data/mastDownload/HST/o4a520020/o4a520020_sx1.fits ..."
     ]
    },
    {
     "name": "stdout",
     "output_type": "stream",
     "text": [
      " [Done]\n"
     ]
    },
    {
     "name": "stdout",
     "output_type": "stream",
     "text": [
      "Downloading URL https://mast.stsci.edu/api/v0.1/Download/file?uri=mast:HST/product/o4a520030_sx1.fits to stis_data/mastDownload/HST/o4a520030/o4a520030_sx1.fits ..."
     ]
    },
    {
     "name": "stdout",
     "output_type": "stream",
     "text": [
      " [Done]\n"
     ]
    },
    {
     "name": "stdout",
     "output_type": "stream",
     "text": [
      "Downloading URL https://mast.stsci.edu/api/v0.1/Download/file?uri=mast:HST/product/o4a520040_sx1.fits to stis_data/mastDownload/HST/o4a520040/o4a520040_sx1.fits ..."
     ]
    },
    {
     "name": "stdout",
     "output_type": "stream",
     "text": [
      " [Done]\n"
     ]
    },
    {
     "name": "stdout",
     "output_type": "stream",
     "text": [
      "INFO: Found cached file stis_data/mastDownload/HST/o4a520040/o4a520040_sx1.fits with expected size 80640. [astroquery.query]\n"
     ]
    },
    {
     "name": "stdout",
     "output_type": "stream",
     "text": [
      "Downloading URL https://mast.stsci.edu/api/v0.1/Download/file?uri=mast:HST/product/o4a520050_x1d.fits to stis_data/mastDownload/HST/o4a520050/o4a520050_x1d.fits ..."
     ]
    },
    {
     "name": "stdout",
     "output_type": "stream",
     "text": [
      " [Done]\n"
     ]
    },
    {
     "name": "stdout",
     "output_type": "stream",
     "text": [
      "Downloading URL https://mast.stsci.edu/api/v0.1/Download/file?uri=mast:HST/product/o4a520060_x1d.fits to stis_data/mastDownload/HST/o4a520060/o4a520060_x1d.fits ..."
     ]
    },
    {
     "name": "stdout",
     "output_type": "stream",
     "text": [
      " [Done]\n"
     ]
    },
    {
     "name": "stdout",
     "output_type": "stream",
     "text": [
      "Downloading URL https://mast.stsci.edu/api/v0.1/Download/file?uri=mast:HST/product/o4a551020_sx1.fits to stis_data/mastDownload/HST/o4a551020/o4a551020_sx1.fits ..."
     ]
    },
    {
     "name": "stdout",
     "output_type": "stream",
     "text": [
      " [Done]\n"
     ]
    },
    {
     "name": "stdout",
     "output_type": "stream",
     "text": [
      "Downloading URL https://mast.stsci.edu/api/v0.1/Download/file?uri=mast:HST/product/o4a551030_sx1.fits to stis_data/mastDownload/HST/o4a551030/o4a551030_sx1.fits ..."
     ]
    },
    {
     "name": "stdout",
     "output_type": "stream",
     "text": [
      " [Done]\n"
     ]
    },
    {
     "name": "stdout",
     "output_type": "stream",
     "text": [
      "Downloading URL https://mast.stsci.edu/api/v0.1/Download/file?uri=mast:HST/product/o4a551040_sx1.fits to stis_data/mastDownload/HST/o4a551040/o4a551040_sx1.fits ..."
     ]
    },
    {
     "name": "stdout",
     "output_type": "stream",
     "text": [
      " [Done]\n"
     ]
    },
    {
     "name": "stdout",
     "output_type": "stream",
     "text": [
      "INFO: Found cached file stis_data/mastDownload/HST/o4a551040/o4a551040_sx1.fits with expected size 80640. [astroquery.query]\n"
     ]
    },
    {
     "name": "stdout",
     "output_type": "stream",
     "text": [
      "Downloading URL https://mast.stsci.edu/api/v0.1/Download/file?uri=mast:HST/product/o4a551050_x1d.fits to stis_data/mastDownload/HST/o4a551050/o4a551050_x1d.fits ..."
     ]
    },
    {
     "name": "stdout",
     "output_type": "stream",
     "text": [
      " [Done]\n"
     ]
    },
    {
     "name": "stdout",
     "output_type": "stream",
     "text": [
      "Downloading URL https://mast.stsci.edu/api/v0.1/Download/file?uri=mast:HST/product/o4a551060_x1d.fits to stis_data/mastDownload/HST/o4a551060/o4a551060_x1d.fits ..."
     ]
    },
    {
     "name": "stdout",
     "output_type": "stream",
     "text": [
      " [Done]\n"
     ]
    },
    {
     "data": {
      "text/html": [
       "<div><i>Table length=12</i>\n",
       "<table id=\"table140007164544912\" class=\"table-striped table-bordered table-condensed\">\n",
       "<thead><tr><th>Local Path</th><th>Status</th><th>Message</th><th>URL</th></tr></thead>\n",
       "<thead><tr><th>str55</th><th>str8</th><th>object</th><th>object</th></tr></thead>\n",
       "<tr><td>stis_data/mastDownload/HST/o4a520020/o4a520020_sx1.fits</td><td>COMPLETE</td><td>None</td><td>None</td></tr>\n",
       "<tr><td>stis_data/mastDownload/HST/o4a520030/o4a520030_sx1.fits</td><td>COMPLETE</td><td>None</td><td>None</td></tr>\n",
       "<tr><td>stis_data/mastDownload/HST/o4a520040/o4a520040_sx1.fits</td><td>COMPLETE</td><td>None</td><td>None</td></tr>\n",
       "<tr><td>stis_data/mastDownload/HST/o4a520040/o4a520040_sx1.fits</td><td>COMPLETE</td><td>None</td><td>None</td></tr>\n",
       "<tr><td>stis_data/mastDownload/HST/o4a520050/o4a520050_x1d.fits</td><td>COMPLETE</td><td>None</td><td>None</td></tr>\n",
       "<tr><td>stis_data/mastDownload/HST/o4a520060/o4a520060_x1d.fits</td><td>COMPLETE</td><td>None</td><td>None</td></tr>\n",
       "<tr><td>stis_data/mastDownload/HST/o4a551020/o4a551020_sx1.fits</td><td>COMPLETE</td><td>None</td><td>None</td></tr>\n",
       "<tr><td>stis_data/mastDownload/HST/o4a551030/o4a551030_sx1.fits</td><td>COMPLETE</td><td>None</td><td>None</td></tr>\n",
       "<tr><td>stis_data/mastDownload/HST/o4a551040/o4a551040_sx1.fits</td><td>COMPLETE</td><td>None</td><td>None</td></tr>\n",
       "<tr><td>stis_data/mastDownload/HST/o4a551040/o4a551040_sx1.fits</td><td>COMPLETE</td><td>None</td><td>None</td></tr>\n",
       "<tr><td>stis_data/mastDownload/HST/o4a551050/o4a551050_x1d.fits</td><td>COMPLETE</td><td>None</td><td>None</td></tr>\n",
       "<tr><td>stis_data/mastDownload/HST/o4a551060/o4a551060_x1d.fits</td><td>COMPLETE</td><td>None</td><td>None</td></tr>\n",
       "</table></div>"
      ],
      "text/plain": [
       "<Table length=12>\n",
       "                       Local Path                        Status  Message  URL  \n",
       "                         str55                            str8    object object\n",
       "------------------------------------------------------- -------- ------- ------\n",
       "stis_data/mastDownload/HST/o4a520020/o4a520020_sx1.fits COMPLETE    None   None\n",
       "stis_data/mastDownload/HST/o4a520030/o4a520030_sx1.fits COMPLETE    None   None\n",
       "stis_data/mastDownload/HST/o4a520040/o4a520040_sx1.fits COMPLETE    None   None\n",
       "stis_data/mastDownload/HST/o4a520040/o4a520040_sx1.fits COMPLETE    None   None\n",
       "stis_data/mastDownload/HST/o4a520050/o4a520050_x1d.fits COMPLETE    None   None\n",
       "stis_data/mastDownload/HST/o4a520060/o4a520060_x1d.fits COMPLETE    None   None\n",
       "stis_data/mastDownload/HST/o4a551020/o4a551020_sx1.fits COMPLETE    None   None\n",
       "stis_data/mastDownload/HST/o4a551030/o4a551030_sx1.fits COMPLETE    None   None\n",
       "stis_data/mastDownload/HST/o4a551040/o4a551040_sx1.fits COMPLETE    None   None\n",
       "stis_data/mastDownload/HST/o4a551040/o4a551040_sx1.fits COMPLETE    None   None\n",
       "stis_data/mastDownload/HST/o4a551050/o4a551050_x1d.fits COMPLETE    None   None\n",
       "stis_data/mastDownload/HST/o4a551060/o4a551060_x1d.fits COMPLETE    None   None"
      ]
     },
     "execution_count": 8,
     "metadata": {},
     "output_type": "execute_result"
    }
   ],
   "source": [
    "Observations.download_products(\n",
    "    gd71_products,\n",
    "    download_dir=str(stis_data_dir),\n",
    "    productSubGroupDescription=[\"X1D\", \"SX1\"]\n",
    ")"
   ]
  },
  {
   "attachments": {},
   "cell_type": "markdown",
   "id": "6fbab7e9",
   "metadata": {},
   "source": [
    "When we downloaded the data using `astroquery`, it created a directory `./stis_data/mastDownload/HST`, with separate folders for each different dataset ID. The script will need all of our newly downloaded data product files in a single directory, so we must move all STIS files to our `./stis_data` directory. We will create a function to consolidate our data, since we will be utilizing it for two additional datasets later on in the tutorial."
   ]
  },
  {
   "cell_type": "code",
   "execution_count": 9,
   "id": "47537172",
   "metadata": {
    "execution": {
     "iopub.execute_input": "2024-01-04T14:44:48.199106Z",
     "iopub.status.busy": "2024-01-04T14:44:48.198690Z",
     "iopub.status.idle": "2024-01-04T14:44:48.202538Z",
     "shell.execute_reply": "2024-01-04T14:44:48.202024Z"
    }
   },
   "outputs": [],
   "source": [
    "def consolidate_files(data_path):\n",
    "    '''\n",
    "    Consolidate all files to single directory; necessary for HASP script run.\n",
    "    ---------------\n",
    "    Input:\n",
    "    str data_path : ./mastDownload/HST folders paths; files to be moved here\n",
    "    ---------------\n",
    "    Output:\n",
    "    None. Files moved to data_path. ./mastDownload/HST directory is deleted.\n",
    "    '''\n",
    "    # The path to all obs_id folders\n",
    "    mast_path = f\"{data_path}/mastDownload/HST/\"\n",
    "\n",
    "    # Getting a list of all obs_id folders. Each folder contains the data files\n",
    "    obs_id_dirs = os.listdir(mast_path)\n",
    "\n",
    "    # Iterating through each sub-folder to change the path of each FITS file\n",
    "    for obs_id in obs_id_dirs:\n",
    "        # This is the path to each obs_id folder\n",
    "        obs_id_path = os.path.join(mast_path, obs_id)\n",
    "\n",
    "        # Getting a list of files in current ./mastDownload/HST/<obs_id> folder\n",
    "        files = glob.glob(obs_id_path + \"/*fits\")\n",
    "\n",
    "        # Iterating through each file to change their path individually:\n",
    "        # We will be moving them to ./data_data\n",
    "        for file in files:\n",
    "            new_path = os.path.join(data_path, file.split(\"/\")[-1])\n",
    "            shutil.move(file, new_path)\n",
    "\n",
    "    # Now we can remove the mastDownload directory\n",
    "    shutil.rmtree(f\"{data_path}/mastDownload\")"
   ]
  },
  {
   "cell_type": "markdown",
   "id": "d5703f0a",
   "metadata": {},
   "source": [
    "Now, using the function to move our STIS files to a single directory:"
   ]
  },
  {
   "cell_type": "code",
   "execution_count": 10,
   "id": "ef219002",
   "metadata": {
    "execution": {
     "iopub.execute_input": "2024-01-04T14:44:48.204507Z",
     "iopub.status.busy": "2024-01-04T14:44:48.204198Z",
     "iopub.status.idle": "2024-01-04T14:44:48.208783Z",
     "shell.execute_reply": "2024-01-04T14:44:48.208292Z"
    }
   },
   "outputs": [],
   "source": [
    "consolidate_files(stis_data_dir)"
   ]
  },
  {
   "attachments": {},
   "cell_type": "markdown",
   "id": "d4f44372",
   "metadata": {},
   "source": [
    "Now we can run the co-add script!"
   ]
  },
  {
   "attachments": {},
   "cell_type": "markdown",
   "id": "9cd6cbc4",
   "metadata": {},
   "source": [
    "<a id = runscript></a>\n",
    "## 2. Running the Co-add Script\n",
    "\n",
    "Now that we've downloaded the GD71 STIS data, we can run the co-add script. Currently, the co-add code abuts spectra for a single program. Run the script by using the next cell's command. \n",
    "\n",
    "**Note: Make sure that you are in the `hasp-env` `conda` environment that we created at the beginning of the [Setup.ipynb](https://github.com/spacetelescope/hst_notebooks/tree/main/notebooks/HASP/Setup) notebook.**\n",
    "\n",
    "The `-i` parameter is the input directory (i.e, where the FITS files are located). `-o` is the directory that will contain the newly created co-added products. Note that if you want to exclude certain data files from the co-add, you can just remove them from the input directory. There is more information about this (and the other flags) in our [Setup.ipynb](https://github.com/spacetelescope/hst_notebooks/tree/main/notebooks/HASP/Setup) notebook."
   ]
  },
  {
   "cell_type": "code",
   "execution_count": 11,
   "id": "df8f9f02",
   "metadata": {
    "execution": {
     "iopub.execute_input": "2024-01-04T14:44:48.210656Z",
     "iopub.status.busy": "2024-01-04T14:44:48.210500Z",
     "iopub.status.idle": "2024-01-04T14:44:49.104511Z",
     "shell.execute_reply": "2024-01-04T14:44:49.103857Z"
    }
   },
   "outputs": [
    {
     "name": "stdout",
     "output_type": "stream",
     "text": [
      "HASP version 0.9.6\r\n",
      "Ullyses version 4.1.0\r\n"
     ]
    },
    {
     "name": "stdout",
     "output_type": "stream",
     "text": [
      "Creating list of unique modes from these files:\r\n",
      "./stis_data/o4a520020_sx1.fits GD71 STIS CCD G750L 52X2 7656 (7656, '20')\r\n"
     ]
    },
    {
     "name": "stdout",
     "output_type": "stream",
     "text": [
      "./stis_data/o4a520030_sx1.fits GD71 STIS CCD G430L 52X2 7656 (7656, '20')\r\n",
      "./stis_data/o4a520040_sx1.fits GD71 STIS CCD G230LB 52X2 7656 (7656, '20')\r\n",
      "./stis_data/o4a520050_x1d.fits GD71 STIS NUV-MAMA G230L 52X2 7656 (7656, '20')\r\n",
      "./stis_data/o4a520060_x1d.fits GD71 STIS FUV-MAMA G140L 52X2 7656 (7656, '20')\r\n",
      "./stis_data/o4a551020_sx1.fits GD71 STIS CCD G750L 52X2 7656 (7656, '51')\r\n",
      "./stis_data/o4a551030_sx1.fits GD71 STIS CCD G430L 52X2 7656 (7656, '51')\r\n",
      "./stis_data/o4a551040_sx1.fits GD71 STIS CCD G230LB 52X2 7656 (7656, '51')\r\n",
      "./stis_data/o4a551050_x1d.fits GD71 STIS NUV-MAMA G230L 52X2 7656 (7656, '51')\r\n",
      "./stis_data/o4a551060_x1d.fits GD71 STIS FUV-MAMA G140L 52X2 7656 (7656, '51')\r\n",
      "Looping over visits\r\n",
      "Processing product (7656, '20')\r\n",
      "Targets in visit (7656, '20'): ['GD71']\r\n",
      "Processing target GD71 in visit (7656, '20')\r\n",
      "Processing grating STIS/G750L\r\n",
      "Importing files ['./stis_data/o4a520020_sx1.fits']\r\n",
      "Processing file ./stis_data/o4a520020_sx1.fits\r\n",
      "Using a maximum SNR of 20.0 in flux-based filtering\r\n",
      "./stis_products/hst_7656_stis_gd71_g750l_o4a520_cspec.fits already exists and overwrite=False, skipping write\r\n",
      "   Wrote ./stis_products/hst_7656_stis_gd71_g750l_o4a520_cspec.fits\r\n",
      "Processing grating STIS/G430L\r\n",
      "Importing files ['./stis_data/o4a520030_sx1.fits']\r\n",
      "Processing file ./stis_data/o4a520030_sx1.fits\r\n",
      "Using a maximum SNR of 20.0 in flux-based filtering\r\n",
      "./stis_products/hst_7656_stis_gd71_g430l_o4a520_cspec.fits already exists and overwrite=False, skipping write\r\n",
      "   Wrote ./stis_products/hst_7656_stis_gd71_g430l_o4a520_cspec.fits\r\n",
      "Processing grating STIS/G230LB\r\n",
      "Importing files ['./stis_data/o4a520040_sx1.fits']\r\n",
      "Processing file ./stis_data/o4a520040_sx1.fits\r\n",
      "Using a maximum SNR of 20.0 in flux-based filtering\r\n",
      "./stis_products/hst_7656_stis_gd71_g230lb_o4a520_cspec.fits already exists and overwrite=False, skipping write\r\n",
      "   Wrote ./stis_products/hst_7656_stis_gd71_g230lb_o4a520_cspec.fits\r\n",
      "Processing grating STIS/G230L\r\n",
      "Importing files ['./stis_data/o4a520050_x1d.fits']\r\n",
      "Processing file ./stis_data/o4a520050_x1d.fits\r\n",
      "/usr/share/miniconda/lib/python3.11/site-packages/ullyses/coadd.py:550: RuntimeWarning: divide by zero encountered in divide\r\n",
      "  weighted_gross = weight_function[self.weighting_method](gross, exptime, net/flux)\r\n",
      "Using a maximum SNR of 20.0 in flux-based filtering\r\n",
      "./stis_products/hst_7656_stis_gd71_sg230l_o4a520_cspec.fits already exists and overwrite=False, skipping write\r\n",
      "   Wrote ./stis_products/hst_7656_stis_gd71_sg230l_o4a520_cspec.fits\r\n",
      "Processing grating STIS/G140L\r\n",
      "Importing files ['./stis_data/o4a520060_x1d.fits']\r\n",
      "Processing file ./stis_data/o4a520060_x1d.fits\r\n"
     ]
    },
    {
     "name": "stdout",
     "output_type": "stream",
     "text": [
      "Using a maximum SNR of 20.0 in flux-based filtering\r\n",
      "./stis_products/hst_7656_stis_gd71_sg140l_o4a520_cspec.fits already exists and overwrite=False, skipping write\r\n",
      "   Wrote ./stis_products/hst_7656_stis_gd71_sg140l_o4a520_cspec.fits\r\n",
      "Making a product from these gratings\r\n",
      "STIS/G140L 1138.4-1716.4 (Actual: 1138.4-1711.7)\r\n",
      "STIS/G230L 1582.0-3158.7 (Actual: 1583.8-3152.0)\r\n",
      "STIS/G230LB 1667.1-3071.6 (Actual: 1670.9-3072.7)\r\n",
      "STIS/G430L 2895.9-5704.4 (Actual: 2983.7-5708.0)\r\n",
      "STIS/G750L 5261.3-10252.3 (Actual: 5318.5-10256.6)\r\n",
      "Transition wavelengths tweaked\r\n",
      "Transition wavelengths tweaked\r\n",
      "Transition wavelengths tweaked\r\n",
      "Transition wavelengths tweaked\r\n",
      "Transition wavelengths tweaked\r\n",
      "Starting at the short wavelength end with grating STIS/G140L\r\n",
      "Abutting STIS/G230L product to current result\r\n",
      "With a transition wavelength of 1711.673614241657\r\n",
      "Abutting STIS/G430L product to current result\r\n",
      "With a transition wavelength of 3151.9512669041987\r\n",
      "Abutting STIS/G750L product to current result\r\n",
      "With a transition wavelength of 5704.4\r\n",
      "Truncating current grating at 10252.3\r\n",
      "./stis_products/hst_7656_stis_gd71_sg140l-sg230l-g430l-g750l_o4a520_cspec.fits already exists and overwrite=False, skipping write\r\n",
      "   Wrote ./stis_products/hst_7656_stis_gd71_sg140l-sg230l-g430l-g750l_o4a520_cspec.fits\r\n",
      "Processing product (7656, '51')\r\n",
      "Targets in visit (7656, '51'): ['GD71']\r\n",
      "Processing target GD71 in visit (7656, '51')\r\n",
      "Processing grating STIS/G750L\r\n",
      "Importing files ['./stis_data/o4a551020_sx1.fits']\r\n",
      "Processing file ./stis_data/o4a551020_sx1.fits\r\n",
      "Using a maximum SNR of 20.0 in flux-based filtering\r\n",
      "./stis_products/hst_7656_stis_gd71_g750l_o4a551_cspec.fits already exists and overwrite=False, skipping write\r\n",
      "   Wrote ./stis_products/hst_7656_stis_gd71_g750l_o4a551_cspec.fits\r\n",
      "Processing grating STIS/G430L\r\n",
      "Importing files ['./stis_data/o4a551030_sx1.fits']\r\n",
      "Processing file ./stis_data/o4a551030_sx1.fits\r\n",
      "Using a maximum SNR of 20.0 in flux-based filtering\r\n",
      "./stis_products/hst_7656_stis_gd71_g430l_o4a551_cspec.fits already exists and overwrite=False, skipping write\r\n",
      "   Wrote ./stis_products/hst_7656_stis_gd71_g430l_o4a551_cspec.fits\r\n",
      "Processing grating STIS/G230LB\r\n",
      "Importing files ['./stis_data/o4a551040_sx1.fits']\r\n",
      "Processing file ./stis_data/o4a551040_sx1.fits\r\n",
      "Using a maximum SNR of 20.0 in flux-based filtering\r\n",
      "./stis_products/hst_7656_stis_gd71_g230lb_o4a551_cspec.fits already exists and overwrite=False, skipping write\r\n",
      "   Wrote ./stis_products/hst_7656_stis_gd71_g230lb_o4a551_cspec.fits\r\n",
      "Processing grating STIS/G230L\r\n",
      "Importing files ['./stis_data/o4a551050_x1d.fits']\r\n",
      "Processing file ./stis_data/o4a551050_x1d.fits\r\n",
      "Using a maximum SNR of 20.0 in flux-based filtering\r\n",
      "./stis_products/hst_7656_stis_gd71_sg230l_o4a551_cspec.fits already exists and overwrite=False, skipping write\r\n",
      "   Wrote ./stis_products/hst_7656_stis_gd71_sg230l_o4a551_cspec.fits\r\n",
      "Processing grating STIS/G140L\r\n",
      "Importing files ['./stis_data/o4a551060_x1d.fits']\r\n",
      "Processing file ./stis_data/o4a551060_x1d.fits\r\n",
      "Using a maximum SNR of 20.0 in flux-based filtering\r\n",
      "./stis_products/hst_7656_stis_gd71_sg140l_o4a551_cspec.fits already exists and overwrite=False, skipping write\r\n",
      "   Wrote ./stis_products/hst_7656_stis_gd71_sg140l_o4a551_cspec.fits\r\n",
      "Making a product from these gratings\r\n",
      "STIS/G140L 1138.4-1716.4 (Actual: 1138.8-1717.1)\r\n",
      "STIS/G230L 1582.0-3158.7 (Actual: 1581.8-3150.2)\r\n",
      "STIS/G230LB 1667.1-3071.6 (Actual: 1670.4-3072.5)\r\n",
      "STIS/G430L 2895.9-5704.4 (Actual: 2982.9-5707.7)\r\n",
      "STIS/G750L 5261.3-10252.3 (Actual: 5315.9-10254.7)\r\n",
      "Transition wavelengths tweaked\r\n",
      "Transition wavelengths tweaked\r\n",
      "Transition wavelengths tweaked\r\n",
      "Transition wavelengths tweaked\r\n",
      "Transition wavelengths tweaked\r\n",
      "Starting at the short wavelength end with grating STIS/G140L\r\n",
      "Abutting STIS/G230L product to current result\r\n",
      "With a transition wavelength of 1716.4\r\n",
      "Abutting STIS/G430L product to current result\r\n",
      "With a transition wavelength of 3150.199723521522\r\n",
      "Abutting STIS/G750L product to current result\r\n",
      "With a transition wavelength of 5704.4\r\n",
      "Truncating current grating at 10252.3\r\n",
      "./stis_products/hst_7656_stis_gd71_sg140l-sg230l-g430l-g750l_o4a551_cspec.fits already exists and overwrite=False, skipping write\r\n",
      "   Wrote ./stis_products/hst_7656_stis_gd71_sg140l-sg230l-g430l-g750l_o4a551_cspec.fits\r\n",
      "Looping over proposals\r\n",
      "Processing product 7656\r\n"
     ]
    },
    {
     "name": "stdout",
     "output_type": "stream",
     "text": [
      "Targets in proposal 7656: ['GD71']\r\n",
      "Processing target GD71 in proposal 7656\r\n",
      "Processing grating STIS/G750L\r\n",
      "Importing files ['./stis_data/o4a520020_sx1.fits', './stis_data/o4a551020_sx1.fits']\r\n",
      "Processing file ./stis_data/o4a520020_sx1.fits\r\n",
      "Processing file ./stis_data/o4a551020_sx1.fits\r\n",
      "Using a maximum SNR of 20.0 in flux-based filtering\r\n",
      "./stis_products/hst_7656_stis_gd71_g750l_o4a5_cspec.fits already exists and overwrite=False, skipping write\r\n",
      "   Wrote ./stis_products/hst_7656_stis_gd71_g750l_o4a5_cspec.fits\r\n",
      "Processing grating STIS/G430L\r\n",
      "Importing files ['./stis_data/o4a520030_sx1.fits', './stis_data/o4a551030_sx1.fits']\r\n",
      "Processing file ./stis_data/o4a520030_sx1.fits\r\n",
      "Processing file ./stis_data/o4a551030_sx1.fits\r\n"
     ]
    },
    {
     "name": "stdout",
     "output_type": "stream",
     "text": [
      "Using a maximum SNR of 20.0 in flux-based filtering\r\n",
      "./stis_products/hst_7656_stis_gd71_g430l_o4a5_cspec.fits already exists and overwrite=False, skipping write\r\n",
      "   Wrote ./stis_products/hst_7656_stis_gd71_g430l_o4a5_cspec.fits\r\n",
      "Processing grating STIS/G230LB\r\n",
      "Importing files ['./stis_data/o4a520040_sx1.fits', './stis_data/o4a551040_sx1.fits']\r\n",
      "Processing file ./stis_data/o4a520040_sx1.fits\r\n",
      "Processing file ./stis_data/o4a551040_sx1.fits\r\n",
      "Using a maximum SNR of 20.0 in flux-based filtering\r\n"
     ]
    },
    {
     "name": "stdout",
     "output_type": "stream",
     "text": [
      "./stis_products/hst_7656_stis_gd71_g230lb_o4a5_cspec.fits already exists and overwrite=False, skipping write\r\n",
      "   Wrote ./stis_products/hst_7656_stis_gd71_g230lb_o4a5_cspec.fits\r\n",
      "Processing grating STIS/G230L\r\n",
      "Importing files ['./stis_data/o4a520050_x1d.fits', './stis_data/o4a551050_x1d.fits']\r\n",
      "Processing file ./stis_data/o4a520050_x1d.fits\r\n",
      "Processing file ./stis_data/o4a551050_x1d.fits\r\n",
      "Using a maximum SNR of 20.0 in flux-based filtering\r\n",
      "./stis_products/hst_7656_stis_gd71_sg230l_o4a5_cspec.fits already exists and overwrite=False, skipping write\r\n",
      "   Wrote ./stis_products/hst_7656_stis_gd71_sg230l_o4a5_cspec.fits\r\n",
      "Processing grating STIS/G140L\r\n",
      "Importing files ['./stis_data/o4a520060_x1d.fits', './stis_data/o4a551060_x1d.fits']\r\n",
      "Processing file ./stis_data/o4a520060_x1d.fits\r\n"
     ]
    },
    {
     "name": "stdout",
     "output_type": "stream",
     "text": [
      "Processing file ./stis_data/o4a551060_x1d.fits\r\n",
      "Using a maximum SNR of 20.0 in flux-based filtering\r\n",
      "./stis_products/hst_7656_stis_gd71_sg140l_o4a5_cspec.fits already exists and overwrite=False, skipping write\r\n",
      "   Wrote ./stis_products/hst_7656_stis_gd71_sg140l_o4a5_cspec.fits\r\n",
      "Making a product from these gratings\r\n",
      "STIS/G140L 1138.4-1716.4 (Actual: 1138.4-1717.4)\r\n",
      "STIS/G230L 1582.0-3158.7 (Actual: 1581.8-3151.8)\r\n",
      "STIS/G230LB 1667.1-3071.6 (Actual: 1670.4-3072.5)\r\n",
      "STIS/G430L 2895.9-5704.4 (Actual: 2982.5-5707.6)\r\n",
      "STIS/G750L 5261.3-10252.3 (Actual: 5315.9-10254.7)\r\n",
      "Transition wavelengths tweaked\r\n",
      "Transition wavelengths tweaked\r\n",
      "Transition wavelengths tweaked\r\n",
      "Transition wavelengths tweaked\r\n",
      "Transition wavelengths tweaked\r\n",
      "Starting at the short wavelength end with grating STIS/G140L\r\n",
      "Abutting STIS/G230L product to current result\r\n",
      "With a transition wavelength of 1716.4\r\n",
      "Abutting STIS/G430L product to current result\r\n",
      "With a transition wavelength of 3151.7526296530705\r\n",
      "Abutting STIS/G750L product to current result\r\n",
      "With a transition wavelength of 5704.4\r\n",
      "Truncating current grating at 10252.3\r\n",
      "./stis_products/hst_7656_stis_gd71_sg140l-sg230l-g430l-g750l_o4a5_cspec.fits already exists and overwrite=False, skipping write\r\n",
      "   Wrote ./stis_products/hst_7656_stis_gd71_sg140l-sg230l-g430l-g750l_o4a5_cspec.fits\r\n"
     ]
    }
   ],
   "source": [
    "!swrapper -i ./stis_data -o ./stis_products"
   ]
  },
  {
   "attachments": {},
   "cell_type": "markdown",
   "id": "5a5dae88",
   "metadata": {},
   "source": [
    "We have now created the co-added products for Program 7656 using the wrapper!"
   ]
  },
  {
   "attachments": {},
   "cell_type": "markdown",
   "id": "ced371d0",
   "metadata": {},
   "source": [
    "<a id = workwithoutput></a>\n",
    "## 3. Working with Co-added Data Products"
   ]
  },
  {
   "attachments": {},
   "cell_type": "markdown",
   "id": "37ae13cc",
   "metadata": {},
   "source": [
    "With the newly co-added files in the `./stis_products/output` directory, we can begin to inspect the data."
   ]
  },
  {
   "attachments": {},
   "cell_type": "markdown",
   "id": "13a8116e",
   "metadata": {},
   "source": [
    "<a id = inspectoutput></a>\n",
    "### 3.1 Understanding the Output Files"
   ]
  },
  {
   "attachments": {},
   "cell_type": "markdown",
   "id": "7e368a5c",
   "metadata": {},
   "source": [
    "**_The following information about the output file naming conventions is in our [Setup.ipynb](https://github.com/spacetelescope/hst_notebooks/tree/main/notebooks/HASP/Setup) notebook. If you're already familiar with this, you can skip to [Section 4.2](viewstis), where we view our co-added spectra._** \n",
    "\n",
    "Let's look at the `./stis_products/output` directory to look at the newly abutted spectra. Currently, the script outputs abutted products for a single program.\n",
    "\n",
    "The script produces multiple different files with abutted spectra. Currently, the script outputs abutted products for a single program. It first creates co-added spectra for each grating of a single observation set:\n",
    "\n",
    "`hst_programID_instrument_targetname_grating_obset_cspec.fits`\n",
    "\n",
    "It then co-adds the spectra of all gratings for a single observation set:\n",
    "\n",
    "`hst_programID_instrument_targetname_allGratings_obset_cspec.fits`\n",
    "\n",
    "Finally, it co-adds all abutted observation sets' spectra to create a final co-added product for a single target:\n",
    "\n",
    "`hst_programID_instrument_targetname_allGratings_cspec.fits`\n",
    "\n",
    "An example of this is below. These filenames are the output files for our STIS GD71 dataset that is co-added in this notebook. Here, the `programID` is `7656`, the `instrument` is `STIS`, and the `targetname` is `gd71`.\n",
    "\n",
    "| Step | Filename | Description |\n",
    "|----------|----------|----------|\n",
    "| 1 | `hst_7656_stis_gd71_g140l_o4a520_cspec.fits` | Co-adding all `G140L` observations for the observation set, `O4A520`. |\n",
    "| 2 | `hst_7656_stis_gd71_g140l-g230l-g430l-g750l_o4a520_cspec.fits` | Co-adding all observations taken at every grating for the observation set, `O4A520`. |\n",
    "| 3 | `hst_7656_stis_gd71_g140l-g230l-g430l-g750l_o4a5_cspec.fits` | Co-adding all GD71 observations at each grating for this program, `O4A5`. |\n",
    "\n",
    "***Note: HST file naming conventions use a combination of three letters and/or numbers to have a unique association between a PI's proposal ID and program ID, meaning that `o4a5` at the end of `hst_7656_stis_gd71_g140l-g230l-g430l-g750l_o4a5_cspec.fits` is essentially the program ID for our example. Check out more information on the [MAST HST file naming convention page](https://archive.stsci.edu/hlsp/ipppssoot.html)*** "
   ]
  },
  {
   "attachments": {},
   "cell_type": "markdown",
   "id": "ab5c5fc8",
   "metadata": {},
   "source": [
    "<a id = viewstis></a>\n",
    "### 3.2 Viewing the Co-added Data"
   ]
  },
  {
   "attachments": {},
   "cell_type": "markdown",
   "id": "8f588944",
   "metadata": {},
   "source": [
    "Let's take a look at the co-added spectra that we just created. We will create a plot of flux as a function of wavelength using `matplotlib.pyplot`.\n",
    "\n",
    "With the current version of the HASP script, the fully abutted filename should be:\n",
    "\n",
    "`hst_7656_stis_gd71_sg140l-sg230l-g430l-g750l_o4a5_cspec.fits`\n",
    "\n",
    "Double check your products folder to make sure the name of your fully co-added spectra is the same as above, otherwise the subsequent cells in this notebook will not run since the pathname won't exist. Update and run the cell below with the full co-add filename. "
   ]
  },
  {
   "cell_type": "code",
   "execution_count": 12,
   "id": "f6bae3f2",
   "metadata": {
    "execution": {
     "iopub.execute_input": "2024-01-04T14:44:49.107534Z",
     "iopub.status.busy": "2024-01-04T14:44:49.107187Z",
     "iopub.status.idle": "2024-01-04T14:44:49.109922Z",
     "shell.execute_reply": "2024-01-04T14:44:49.109518Z"
    }
   },
   "outputs": [],
   "source": [
    "stis_coadd_filename = \"hst_7656_stis_gd71_sg140l-sg230l-g430l-g750l_o4a5_cspec.fits\""
   ]
  },
  {
   "cell_type": "code",
   "execution_count": 13,
   "id": "a2627f65",
   "metadata": {
    "execution": {
     "iopub.execute_input": "2024-01-04T14:44:49.111625Z",
     "iopub.status.busy": "2024-01-04T14:44:49.111468Z",
     "iopub.status.idle": "2024-01-04T14:44:49.364997Z",
     "shell.execute_reply": "2024-01-04T14:44:49.364559Z"
    }
   },
   "outputs": [
    {
     "data": {
      "image/png": "[encoded data removed]",
      "text/plain": [
       "<Figure size 640x480 with 1 Axes>"
      ]
     },
     "metadata": {},
     "output_type": "display_data"
    }
   ],
   "source": [
    "# We are plotting wavelength vs flux for our co-added spectra\n",
    "# Getting the file's data\n",
    "gd71_data = fits.open(f\"./{stis_products_dir}/{stis_coadd_filename}\")[1].data\n",
    "\n",
    "# Getting the wavelength and flux data for the abutted file\n",
    "wavelength = gd71_data[\"WAVELENGTH\"]\n",
    "flux = gd71_data[\"FLUX\"]\n",
    "\n",
    "# Plotting the spectra\n",
    "plt.scatter(wavelength, flux,\n",
    "            # Setting the size of the data points\n",
    "            s=1)\n",
    "\n",
    "# Formatting the plot by adding titles\n",
    "plt.title(\"STIS GD71, abutted\")\n",
    "plt.xlabel(r'Wavelength [$\\AA$]')\n",
    "plt.ylabel(r'Flux [$erg\\ s^{-1}\\ cm^{-2}\\ \\AA^{-1}$]')\n",
    "\n",
    "# Saving the figure to the ./stis_products_dir\n",
    "plt.savefig(f\"{stis_products_dir}/gd71_stis.png\")\n",
    "\n",
    "# Showing the plot below\n",
    "plt.show()"
   ]
  },
  {
   "attachments": {},
   "cell_type": "markdown",
   "id": "17f9adc9",
   "metadata": {},
   "source": [
    "<a id = cos></a>\n",
    "### 3.3 Putting it all together with COS data\n",
    "\n",
    "Let's combine all of the STIS work from above and do another example, but this time using COS data instead of STIS. We will use the same target, GD71, and download the data from Program 11479. This has observations of GD71 using the gratings `G230L`, `G185M`, `G225M`, and `G285M`."
   ]
  },
  {
   "cell_type": "code",
   "execution_count": 14,
   "id": "8c2ca5c8",
   "metadata": {
    "execution": {
     "iopub.execute_input": "2024-01-04T14:44:49.366896Z",
     "iopub.status.busy": "2024-01-04T14:44:49.366730Z",
     "iopub.status.idle": "2024-01-04T14:45:08.471740Z",
     "shell.execute_reply": "2024-01-04T14:45:08.471314Z"
    }
   },
   "outputs": [
    {
     "name": "stdout",
     "output_type": "stream",
     "text": [
      "Downloading URL https://mast.stsci.edu/api/v0.1/Download/file?uri=mast:HST/product/laad02d9q_x1d.fits to cos_data/mastDownload/HST/laad02d9q/laad02d9q_x1d.fits ..."
     ]
    },
    {
     "name": "stdout",
     "output_type": "stream",
     "text": [
      " [Done]\n"
     ]
    },
    {
     "name": "stdout",
     "output_type": "stream",
     "text": [
      "INFO: Found cached file cos_data/mastDownload/HST/laad02d9q/laad02d9q_x1d.fits with expected size 429120. [astroquery.query]\n"
     ]
    },
    {
     "name": "stdout",
     "output_type": "stream",
     "text": [
      "Downloading URL https://mast.stsci.edu/api/v0.1/Download/file?uri=mast:HST/product/laad02dcq_x1d.fits to cos_data/mastDownload/HST/laad02dcq/laad02dcq_x1d.fits ..."
     ]
    },
    {
     "name": "stdout",
     "output_type": "stream",
     "text": [
      " [Done]\n"
     ]
    },
    {
     "name": "stdout",
     "output_type": "stream",
     "text": [
      "INFO: Found cached file cos_data/mastDownload/HST/laad02dcq/laad02dcq_x1d.fits with expected size 429120. [astroquery.query]\n"
     ]
    },
    {
     "name": "stdout",
     "output_type": "stream",
     "text": [
      "Downloading URL https://mast.stsci.edu/api/v0.1/Download/file?uri=mast:HST/product/laad02deq_x1d.fits to cos_data/mastDownload/HST/laad02deq/laad02deq_x1d.fits ..."
     ]
    },
    {
     "name": "stdout",
     "output_type": "stream",
     "text": [
      " [Done]\n"
     ]
    },
    {
     "name": "stdout",
     "output_type": "stream",
     "text": [
      "INFO: Found cached file cos_data/mastDownload/HST/laad02deq/laad02deq_x1d.fits with expected size 429120. [astroquery.query]\n"
     ]
    },
    {
     "name": "stdout",
     "output_type": "stream",
     "text": [
      "Downloading URL https://mast.stsci.edu/api/v0.1/Download/file?uri=mast:HST/product/laad02dgq_x1d.fits to cos_data/mastDownload/HST/laad02dgq/laad02dgq_x1d.fits ..."
     ]
    },
    {
     "name": "stdout",
     "output_type": "stream",
     "text": [
      " [Done]\n"
     ]
    },
    {
     "name": "stdout",
     "output_type": "stream",
     "text": [
      "INFO: Found cached file cos_data/mastDownload/HST/laad02dgq/laad02dgq_x1d.fits with expected size 429120. [astroquery.query]\n"
     ]
    },
    {
     "name": "stdout",
     "output_type": "stream",
     "text": [
      "Downloading URL https://mast.stsci.edu/api/v0.1/Download/file?uri=mast:HST/product/laad02diq_x1d.fits to cos_data/mastDownload/HST/laad02diq/laad02diq_x1d.fits ..."
     ]
    },
    {
     "name": "stdout",
     "output_type": "stream",
     "text": [
      " [Done]\n"
     ]
    },
    {
     "name": "stdout",
     "output_type": "stream",
     "text": [
      "INFO: Found cached file cos_data/mastDownload/HST/laad02diq/laad02diq_x1d.fits with expected size 429120. [astroquery.query]\n"
     ]
    },
    {
     "name": "stdout",
     "output_type": "stream",
     "text": [
      "Downloading URL https://mast.stsci.edu/api/v0.1/Download/file?uri=mast:HST/product/laad02dkq_x1d.fits to cos_data/mastDownload/HST/laad02dkq/laad02dkq_x1d.fits ..."
     ]
    },
    {
     "name": "stdout",
     "output_type": "stream",
     "text": [
      " [Done]\n"
     ]
    },
    {
     "name": "stdout",
     "output_type": "stream",
     "text": [
      "INFO: Found cached file cos_data/mastDownload/HST/laad02dkq/laad02dkq_x1d.fits with expected size 429120. [astroquery.query]\n"
     ]
    },
    {
     "name": "stdout",
     "output_type": "stream",
     "text": [
      "Downloading URL https://mast.stsci.edu/api/v0.1/Download/file?uri=mast:HST/product/laad02dmq_x1d.fits to cos_data/mastDownload/HST/laad02dmq/laad02dmq_x1d.fits ..."
     ]
    },
    {
     "name": "stdout",
     "output_type": "stream",
     "text": [
      " [Done]\n"
     ]
    },
    {
     "name": "stdout",
     "output_type": "stream",
     "text": [
      "INFO: Found cached file cos_data/mastDownload/HST/laad02dmq/laad02dmq_x1d.fits with expected size 429120. [astroquery.query]\n"
     ]
    },
    {
     "name": "stdout",
     "output_type": "stream",
     "text": [
      "Downloading URL https://mast.stsci.edu/api/v0.1/Download/file?uri=mast:HST/product/laad02doq_x1d.fits to cos_data/mastDownload/HST/laad02doq/laad02doq_x1d.fits ..."
     ]
    },
    {
     "name": "stdout",
     "output_type": "stream",
     "text": [
      " [Done]\n"
     ]
    },
    {
     "name": "stdout",
     "output_type": "stream",
     "text": [
      "INFO: Found cached file cos_data/mastDownload/HST/laad02doq/laad02doq_x1d.fits with expected size 429120. [astroquery.query]\n"
     ]
    },
    {
     "name": "stdout",
     "output_type": "stream",
     "text": [
      "Downloading URL https://mast.stsci.edu/api/v0.1/Download/file?uri=mast:HST/product/laad02dqq_x1d.fits to cos_data/mastDownload/HST/laad02dqq/laad02dqq_x1d.fits ..."
     ]
    },
    {
     "name": "stdout",
     "output_type": "stream",
     "text": [
      " [Done]\n"
     ]
    },
    {
     "name": "stdout",
     "output_type": "stream",
     "text": [
      "INFO: Found cached file cos_data/mastDownload/HST/laad02dqq/laad02dqq_x1d.fits with expected size 429120. [astroquery.query]\n"
     ]
    },
    {
     "name": "stdout",
     "output_type": "stream",
     "text": [
      "Downloading URL https://mast.stsci.edu/api/v0.1/Download/file?uri=mast:HST/product/laad02dsq_x1d.fits to cos_data/mastDownload/HST/laad02dsq/laad02dsq_x1d.fits ..."
     ]
    },
    {
     "name": "stdout",
     "output_type": "stream",
     "text": [
      " [Done]\n"
     ]
    },
    {
     "name": "stdout",
     "output_type": "stream",
     "text": [
      "INFO: Found cached file cos_data/mastDownload/HST/laad02dsq/laad02dsq_x1d.fits with expected size 429120. [astroquery.query]\n"
     ]
    },
    {
     "name": "stdout",
     "output_type": "stream",
     "text": [
      "Downloading URL https://mast.stsci.edu/api/v0.1/Download/file?uri=mast:HST/product/laad02duq_x1d.fits to cos_data/mastDownload/HST/laad02duq/laad02duq_x1d.fits ..."
     ]
    },
    {
     "name": "stdout",
     "output_type": "stream",
     "text": [
      " [Done]\n"
     ]
    },
    {
     "name": "stdout",
     "output_type": "stream",
     "text": [
      "INFO: Found cached file cos_data/mastDownload/HST/laad02duq/laad02duq_x1d.fits with expected size 429120. [astroquery.query]\n"
     ]
    },
    {
     "name": "stdout",
     "output_type": "stream",
     "text": [
      "Downloading URL https://mast.stsci.edu/api/v0.1/Download/file?uri=mast:HST/product/laad02dwq_x1d.fits to cos_data/mastDownload/HST/laad02dwq/laad02dwq_x1d.fits ..."
     ]
    },
    {
     "name": "stdout",
     "output_type": "stream",
     "text": [
      " [Done]\n"
     ]
    },
    {
     "name": "stdout",
     "output_type": "stream",
     "text": [
      "INFO: Found cached file cos_data/mastDownload/HST/laad02dwq/laad02dwq_x1d.fits with expected size 429120. [astroquery.query]\n"
     ]
    },
    {
     "name": "stdout",
     "output_type": "stream",
     "text": [
      "Downloading URL https://mast.stsci.edu/api/v0.1/Download/file?uri=mast:HST/product/laad02dyq_x1d.fits to cos_data/mastDownload/HST/laad02dyq/laad02dyq_x1d.fits ..."
     ]
    },
    {
     "name": "stdout",
     "output_type": "stream",
     "text": [
      " [Done]\n"
     ]
    },
    {
     "name": "stdout",
     "output_type": "stream",
     "text": [
      "INFO: Found cached file cos_data/mastDownload/HST/laad02dyq/laad02dyq_x1d.fits with expected size 429120. [astroquery.query]\n"
     ]
    },
    {
     "name": "stdout",
     "output_type": "stream",
     "text": [
      "Downloading URL https://mast.stsci.edu/api/v0.1/Download/file?uri=mast:HST/product/laad02e0q_x1d.fits to cos_data/mastDownload/HST/laad02e0q/laad02e0q_x1d.fits ..."
     ]
    },
    {
     "name": "stdout",
     "output_type": "stream",
     "text": [
      " [Done]\n"
     ]
    },
    {
     "name": "stdout",
     "output_type": "stream",
     "text": [
      "INFO: Found cached file cos_data/mastDownload/HST/laad02e0q/laad02e0q_x1d.fits with expected size 429120. [astroquery.query]\n"
     ]
    },
    {
     "name": "stdout",
     "output_type": "stream",
     "text": [
      "Downloading URL https://mast.stsci.edu/api/v0.1/Download/file?uri=mast:HST/product/laad02e6q_x1d.fits to cos_data/mastDownload/HST/laad02e6q/laad02e6q_x1d.fits ..."
     ]
    },
    {
     "name": "stdout",
     "output_type": "stream",
     "text": [
      " [Done]\n"
     ]
    },
    {
     "name": "stdout",
     "output_type": "stream",
     "text": [
      "INFO: Found cached file cos_data/mastDownload/HST/laad02e6q/laad02e6q_x1d.fits with expected size 429120. [astroquery.query]\n"
     ]
    },
    {
     "name": "stdout",
     "output_type": "stream",
     "text": [
      "Downloading URL https://mast.stsci.edu/api/v0.1/Download/file?uri=mast:HST/product/laad02e8q_x1d.fits to cos_data/mastDownload/HST/laad02e8q/laad02e8q_x1d.fits ..."
     ]
    },
    {
     "name": "stdout",
     "output_type": "stream",
     "text": [
      " [Done]\n"
     ]
    },
    {
     "name": "stdout",
     "output_type": "stream",
     "text": [
      "INFO: Found cached file cos_data/mastDownload/HST/laad02e8q/laad02e8q_x1d.fits with expected size 429120. [astroquery.query]\n"
     ]
    },
    {
     "name": "stdout",
     "output_type": "stream",
     "text": [
      "Downloading URL https://mast.stsci.edu/api/v0.1/Download/file?uri=mast:HST/product/laad02eaq_x1d.fits to cos_data/mastDownload/HST/laad02eaq/laad02eaq_x1d.fits ..."
     ]
    },
    {
     "name": "stdout",
     "output_type": "stream",
     "text": [
      " [Done]\n"
     ]
    },
    {
     "name": "stdout",
     "output_type": "stream",
     "text": [
      "INFO: Found cached file cos_data/mastDownload/HST/laad02eaq/laad02eaq_x1d.fits with expected size 429120. [astroquery.query]\n"
     ]
    },
    {
     "name": "stdout",
     "output_type": "stream",
     "text": [
      "Downloading URL https://mast.stsci.edu/api/v0.1/Download/file?uri=mast:HST/product/laad02edq_x1d.fits to cos_data/mastDownload/HST/laad02edq/laad02edq_x1d.fits ..."
     ]
    },
    {
     "name": "stdout",
     "output_type": "stream",
     "text": [
      " [Done]\n"
     ]
    },
    {
     "name": "stdout",
     "output_type": "stream",
     "text": [
      "INFO: Found cached file cos_data/mastDownload/HST/laad02edq/laad02edq_x1d.fits with expected size 429120. [astroquery.query]\n"
     ]
    },
    {
     "name": "stdout",
     "output_type": "stream",
     "text": [
      "Downloading URL https://mast.stsci.edu/api/v0.1/Download/file?uri=mast:HST/product/laad02efq_x1d.fits to cos_data/mastDownload/HST/laad02efq/laad02efq_x1d.fits ..."
     ]
    },
    {
     "name": "stdout",
     "output_type": "stream",
     "text": [
      " [Done]\n"
     ]
    },
    {
     "name": "stdout",
     "output_type": "stream",
     "text": [
      "INFO: Found cached file cos_data/mastDownload/HST/laad02efq/laad02efq_x1d.fits with expected size 429120. [astroquery.query]\n"
     ]
    },
    {
     "name": "stdout",
     "output_type": "stream",
     "text": [
      "Downloading URL https://mast.stsci.edu/api/v0.1/Download/file?uri=mast:HST/product/laad02ehq_x1d.fits to cos_data/mastDownload/HST/laad02ehq/laad02ehq_x1d.fits ..."
     ]
    },
    {
     "name": "stdout",
     "output_type": "stream",
     "text": [
      " [Done]\n"
     ]
    },
    {
     "name": "stdout",
     "output_type": "stream",
     "text": [
      "INFO: Found cached file cos_data/mastDownload/HST/laad02ehq/laad02ehq_x1d.fits with expected size 429120. [astroquery.query]\n"
     ]
    },
    {
     "name": "stdout",
     "output_type": "stream",
     "text": [
      "Downloading URL https://mast.stsci.edu/api/v0.1/Download/file?uri=mast:HST/product/laad02ejq_x1d.fits to cos_data/mastDownload/HST/laad02ejq/laad02ejq_x1d.fits ..."
     ]
    },
    {
     "name": "stdout",
     "output_type": "stream",
     "text": [
      " [Done]\n"
     ]
    },
    {
     "name": "stdout",
     "output_type": "stream",
     "text": [
      "INFO: Found cached file cos_data/mastDownload/HST/laad02ejq/laad02ejq_x1d.fits with expected size 429120. [astroquery.query]\n"
     ]
    },
    {
     "name": "stdout",
     "output_type": "stream",
     "text": [
      "Downloading URL https://mast.stsci.edu/api/v0.1/Download/file?uri=mast:HST/product/laad02elq_x1d.fits to cos_data/mastDownload/HST/laad02elq/laad02elq_x1d.fits ..."
     ]
    },
    {
     "name": "stdout",
     "output_type": "stream",
     "text": [
      " [Done]\n"
     ]
    },
    {
     "name": "stdout",
     "output_type": "stream",
     "text": [
      "INFO: Found cached file cos_data/mastDownload/HST/laad02elq/laad02elq_x1d.fits with expected size 429120. [astroquery.query]\n"
     ]
    },
    {
     "name": "stdout",
     "output_type": "stream",
     "text": [
      "Downloading URL https://mast.stsci.edu/api/v0.1/Download/file?uri=mast:HST/product/laad02enq_x1d.fits to cos_data/mastDownload/HST/laad02enq/laad02enq_x1d.fits ..."
     ]
    },
    {
     "name": "stdout",
     "output_type": "stream",
     "text": [
      " [Done]\n"
     ]
    },
    {
     "name": "stdout",
     "output_type": "stream",
     "text": [
      "INFO: Found cached file cos_data/mastDownload/HST/laad02enq/laad02enq_x1d.fits with expected size 429120. [astroquery.query]\n"
     ]
    },
    {
     "name": "stdout",
     "output_type": "stream",
     "text": [
      "Downloading URL https://mast.stsci.edu/api/v0.1/Download/file?uri=mast:HST/product/laad02epq_x1d.fits to cos_data/mastDownload/HST/laad02epq/laad02epq_x1d.fits ..."
     ]
    },
    {
     "name": "stdout",
     "output_type": "stream",
     "text": [
      " [Done]\n"
     ]
    },
    {
     "name": "stdout",
     "output_type": "stream",
     "text": [
      "INFO: Found cached file cos_data/mastDownload/HST/laad02epq/laad02epq_x1d.fits with expected size 429120. [astroquery.query]\n"
     ]
    },
    {
     "name": "stdout",
     "output_type": "stream",
     "text": [
      "Downloading URL https://mast.stsci.edu/api/v0.1/Download/file?uri=mast:HST/product/laad02erq_x1d.fits to cos_data/mastDownload/HST/laad02erq/laad02erq_x1d.fits ..."
     ]
    },
    {
     "name": "stdout",
     "output_type": "stream",
     "text": [
      " [Done]\n"
     ]
    },
    {
     "name": "stdout",
     "output_type": "stream",
     "text": [
      "INFO: Found cached file cos_data/mastDownload/HST/laad02erq/laad02erq_x1d.fits with expected size 429120. [astroquery.query]\n"
     ]
    },
    {
     "name": "stdout",
     "output_type": "stream",
     "text": [
      "Downloading URL https://mast.stsci.edu/api/v0.1/Download/file?uri=mast:HST/product/laad02etq_x1d.fits to cos_data/mastDownload/HST/laad02etq/laad02etq_x1d.fits ..."
     ]
    },
    {
     "name": "stdout",
     "output_type": "stream",
     "text": [
      " [Done]\n"
     ]
    },
    {
     "name": "stdout",
     "output_type": "stream",
     "text": [
      "INFO: Found cached file cos_data/mastDownload/HST/laad02etq/laad02etq_x1d.fits with expected size 429120. [astroquery.query]\n"
     ]
    },
    {
     "name": "stdout",
     "output_type": "stream",
     "text": [
      "Downloading URL https://mast.stsci.edu/api/v0.1/Download/file?uri=mast:HST/product/laad02evq_x1d.fits to cos_data/mastDownload/HST/laad02evq/laad02evq_x1d.fits ..."
     ]
    },
    {
     "name": "stdout",
     "output_type": "stream",
     "text": [
      " [Done]\n"
     ]
    },
    {
     "name": "stdout",
     "output_type": "stream",
     "text": [
      "INFO: Found cached file cos_data/mastDownload/HST/laad02evq/laad02evq_x1d.fits with expected size 429120. [astroquery.query]\n"
     ]
    },
    {
     "name": "stdout",
     "output_type": "stream",
     "text": [
      "Downloading URL https://mast.stsci.edu/api/v0.1/Download/file?uri=mast:HST/product/laad02exq_x1d.fits to cos_data/mastDownload/HST/laad02exq/laad02exq_x1d.fits ..."
     ]
    },
    {
     "name": "stdout",
     "output_type": "stream",
     "text": [
      " [Done]\n"
     ]
    },
    {
     "name": "stdout",
     "output_type": "stream",
     "text": [
      "INFO: Found cached file cos_data/mastDownload/HST/laad02exq/laad02exq_x1d.fits with expected size 429120. [astroquery.query]\n"
     ]
    },
    {
     "name": "stdout",
     "output_type": "stream",
     "text": [
      "Downloading URL https://mast.stsci.edu/api/v0.1/Download/file?uri=mast:HST/product/laad02ezq_x1d.fits to cos_data/mastDownload/HST/laad02ezq/laad02ezq_x1d.fits ..."
     ]
    },
    {
     "name": "stdout",
     "output_type": "stream",
     "text": [
      " [Done]\n"
     ]
    },
    {
     "name": "stdout",
     "output_type": "stream",
     "text": [
      "INFO: Found cached file cos_data/mastDownload/HST/laad02ezq/laad02ezq_x1d.fits with expected size 429120. [astroquery.query]\n"
     ]
    },
    {
     "name": "stdout",
     "output_type": "stream",
     "text": [
      "Downloading URL https://mast.stsci.edu/api/v0.1/Download/file?uri=mast:HST/product/laad02f1q_x1d.fits to cos_data/mastDownload/HST/laad02f1q/laad02f1q_x1d.fits ..."
     ]
    },
    {
     "name": "stdout",
     "output_type": "stream",
     "text": [
      " [Done]\n"
     ]
    },
    {
     "name": "stdout",
     "output_type": "stream",
     "text": [
      "INFO: Found cached file cos_data/mastDownload/HST/laad02f1q/laad02f1q_x1d.fits with expected size 429120. [astroquery.query]\n"
     ]
    },
    {
     "name": "stdout",
     "output_type": "stream",
     "text": [
      "Downloading URL https://mast.stsci.edu/api/v0.1/Download/file?uri=mast:HST/product/laad02f3q_x1d.fits to cos_data/mastDownload/HST/laad02f3q/laad02f3q_x1d.fits ..."
     ]
    },
    {
     "name": "stdout",
     "output_type": "stream",
     "text": [
      " [Done]\n"
     ]
    },
    {
     "name": "stdout",
     "output_type": "stream",
     "text": [
      "INFO: Found cached file cos_data/mastDownload/HST/laad02f3q/laad02f3q_x1d.fits with expected size 429120. [astroquery.query]\n"
     ]
    },
    {
     "name": "stdout",
     "output_type": "stream",
     "text": [
      "Downloading URL https://mast.stsci.edu/api/v0.1/Download/file?uri=mast:HST/product/laad02f5q_x1d.fits to cos_data/mastDownload/HST/laad02f5q/laad02f5q_x1d.fits ..."
     ]
    },
    {
     "name": "stdout",
     "output_type": "stream",
     "text": [
      " [Done]\n"
     ]
    },
    {
     "name": "stdout",
     "output_type": "stream",
     "text": [
      "INFO: Found cached file cos_data/mastDownload/HST/laad02f5q/laad02f5q_x1d.fits with expected size 429120. [astroquery.query]\n"
     ]
    },
    {
     "name": "stdout",
     "output_type": "stream",
     "text": [
      "Downloading URL https://mast.stsci.edu/api/v0.1/Download/file?uri=mast:HST/product/laad02f7q_x1d.fits to cos_data/mastDownload/HST/laad02f7q/laad02f7q_x1d.fits ..."
     ]
    },
    {
     "name": "stdout",
     "output_type": "stream",
     "text": [
      " [Done]\n"
     ]
    },
    {
     "name": "stdout",
     "output_type": "stream",
     "text": [
      "INFO: Found cached file cos_data/mastDownload/HST/laad02f7q/laad02f7q_x1d.fits with expected size 429120. [astroquery.query]\n"
     ]
    },
    {
     "name": "stdout",
     "output_type": "stream",
     "text": [
      "Downloading URL https://mast.stsci.edu/api/v0.1/Download/file?uri=mast:HST/product/laad02fdq_x1d.fits to cos_data/mastDownload/HST/laad02fdq/laad02fdq_x1d.fits ..."
     ]
    },
    {
     "name": "stdout",
     "output_type": "stream",
     "text": [
      " [Done]\n"
     ]
    },
    {
     "name": "stdout",
     "output_type": "stream",
     "text": [
      "INFO: Found cached file cos_data/mastDownload/HST/laad02fdq/laad02fdq_x1d.fits with expected size 429120. [astroquery.query]\n"
     ]
    },
    {
     "name": "stdout",
     "output_type": "stream",
     "text": [
      "Downloading URL https://mast.stsci.edu/api/v0.1/Download/file?uri=mast:HST/product/laad02ffq_x1d.fits to cos_data/mastDownload/HST/laad02ffq/laad02ffq_x1d.fits ..."
     ]
    },
    {
     "name": "stdout",
     "output_type": "stream",
     "text": [
      " [Done]\n"
     ]
    },
    {
     "name": "stdout",
     "output_type": "stream",
     "text": [
      "INFO: Found cached file cos_data/mastDownload/HST/laad02ffq/laad02ffq_x1d.fits with expected size 429120. [astroquery.query]\n"
     ]
    },
    {
     "name": "stdout",
     "output_type": "stream",
     "text": [
      "Downloading URL https://mast.stsci.edu/api/v0.1/Download/file?uri=mast:HST/product/laad02fhq_x1d.fits to cos_data/mastDownload/HST/laad02fhq/laad02fhq_x1d.fits ..."
     ]
    },
    {
     "name": "stdout",
     "output_type": "stream",
     "text": [
      " [Done]\n"
     ]
    },
    {
     "name": "stdout",
     "output_type": "stream",
     "text": [
      "INFO: Found cached file cos_data/mastDownload/HST/laad02fhq/laad02fhq_x1d.fits with expected size 429120. [astroquery.query]\n"
     ]
    },
    {
     "name": "stdout",
     "output_type": "stream",
     "text": [
      "Downloading URL https://mast.stsci.edu/api/v0.1/Download/file?uri=mast:HST/product/laad02foq_x1d.fits to cos_data/mastDownload/HST/laad02foq/laad02foq_x1d.fits ..."
     ]
    },
    {
     "name": "stdout",
     "output_type": "stream",
     "text": [
      " [Done]\n"
     ]
    },
    {
     "name": "stdout",
     "output_type": "stream",
     "text": [
      "INFO: Found cached file cos_data/mastDownload/HST/laad02foq/laad02foq_x1d.fits with expected size 429120. [astroquery.query]\n"
     ]
    },
    {
     "name": "stdout",
     "output_type": "stream",
     "text": [
      "Downloading URL https://mast.stsci.edu/api/v0.1/Download/file?uri=mast:HST/product/laad02frq_x1d.fits to cos_data/mastDownload/HST/laad02frq/laad02frq_x1d.fits ..."
     ]
    },
    {
     "name": "stdout",
     "output_type": "stream",
     "text": [
      " [Done]\n"
     ]
    },
    {
     "name": "stdout",
     "output_type": "stream",
     "text": [
      "INFO: Found cached file cos_data/mastDownload/HST/laad02frq/laad02frq_x1d.fits with expected size 429120. [astroquery.query]\n"
     ]
    },
    {
     "name": "stdout",
     "output_type": "stream",
     "text": [
      "Downloading URL https://mast.stsci.edu/api/v0.1/Download/file?uri=mast:HST/product/laad02fwq_x1d.fits to cos_data/mastDownload/HST/laad02fwq/laad02fwq_x1d.fits ..."
     ]
    },
    {
     "name": "stdout",
     "output_type": "stream",
     "text": [
      " [Done]\n"
     ]
    },
    {
     "name": "stdout",
     "output_type": "stream",
     "text": [
      "INFO: Found cached file cos_data/mastDownload/HST/laad02fwq/laad02fwq_x1d.fits with expected size 429120. [astroquery.query]\n"
     ]
    },
    {
     "name": "stdout",
     "output_type": "stream",
     "text": [
      "Downloading URL https://mast.stsci.edu/api/v0.1/Download/file?uri=mast:HST/product/laad03vxq_x1d.fits to cos_data/mastDownload/HST/laad03vxq/laad03vxq_x1d.fits ..."
     ]
    },
    {
     "name": "stdout",
     "output_type": "stream",
     "text": [
      " [Done]\n"
     ]
    },
    {
     "name": "stdout",
     "output_type": "stream",
     "text": [
      "INFO: Found cached file cos_data/mastDownload/HST/laad03vxq/laad03vxq_x1d.fits with expected size 429120. [astroquery.query]\n"
     ]
    },
    {
     "name": "stdout",
     "output_type": "stream",
     "text": [
      "Downloading URL https://mast.stsci.edu/api/v0.1/Download/file?uri=mast:HST/product/laad03vzq_x1d.fits to cos_data/mastDownload/HST/laad03vzq/laad03vzq_x1d.fits ..."
     ]
    },
    {
     "name": "stdout",
     "output_type": "stream",
     "text": [
      " [Done]\n"
     ]
    },
    {
     "name": "stdout",
     "output_type": "stream",
     "text": [
      "INFO: Found cached file cos_data/mastDownload/HST/laad03vzq/laad03vzq_x1d.fits with expected size 429120. [astroquery.query]\n"
     ]
    },
    {
     "name": "stdout",
     "output_type": "stream",
     "text": [
      "Downloading URL https://mast.stsci.edu/api/v0.1/Download/file?uri=mast:HST/product/laad03w4q_x1d.fits to cos_data/mastDownload/HST/laad03w4q/laad03w4q_x1d.fits ..."
     ]
    },
    {
     "name": "stdout",
     "output_type": "stream",
     "text": [
      " [Done]\n"
     ]
    },
    {
     "name": "stdout",
     "output_type": "stream",
     "text": [
      "INFO: Found cached file cos_data/mastDownload/HST/laad03w4q/laad03w4q_x1d.fits with expected size 429120. [astroquery.query]\n"
     ]
    },
    {
     "name": "stdout",
     "output_type": "stream",
     "text": [
      "Downloading URL https://mast.stsci.edu/api/v0.1/Download/file?uri=mast:HST/product/laad03w7q_x1d.fits to cos_data/mastDownload/HST/laad03w7q/laad03w7q_x1d.fits ..."
     ]
    },
    {
     "name": "stdout",
     "output_type": "stream",
     "text": [
      " [Done]\n"
     ]
    },
    {
     "name": "stdout",
     "output_type": "stream",
     "text": [
      "INFO: Found cached file cos_data/mastDownload/HST/laad03w7q/laad03w7q_x1d.fits with expected size 429120. [astroquery.query]\n"
     ]
    },
    {
     "name": "stdout",
     "output_type": "stream",
     "text": [
      "Downloading URL https://mast.stsci.edu/api/v0.1/Download/file?uri=mast:HST/product/laad03w9q_x1d.fits to cos_data/mastDownload/HST/laad03w9q/laad03w9q_x1d.fits ..."
     ]
    },
    {
     "name": "stdout",
     "output_type": "stream",
     "text": [
      " [Done]\n"
     ]
    },
    {
     "name": "stdout",
     "output_type": "stream",
     "text": [
      "INFO: Found cached file cos_data/mastDownload/HST/laad03w9q/laad03w9q_x1d.fits with expected size 429120. [astroquery.query]\n"
     ]
    },
    {
     "name": "stdout",
     "output_type": "stream",
     "text": [
      "Downloading URL https://mast.stsci.edu/api/v0.1/Download/file?uri=mast:HST/product/laad03wbq_x1d.fits to cos_data/mastDownload/HST/laad03wbq/laad03wbq_x1d.fits ..."
     ]
    },
    {
     "name": "stdout",
     "output_type": "stream",
     "text": [
      " [Done]\n"
     ]
    },
    {
     "name": "stdout",
     "output_type": "stream",
     "text": [
      "INFO: Found cached file cos_data/mastDownload/HST/laad03wbq/laad03wbq_x1d.fits with expected size 429120. [astroquery.query]\n"
     ]
    },
    {
     "name": "stdout",
     "output_type": "stream",
     "text": [
      "Downloading URL https://mast.stsci.edu/api/v0.1/Download/file?uri=mast:HST/product/laad03wdq_x1d.fits to cos_data/mastDownload/HST/laad03wdq/laad03wdq_x1d.fits ..."
     ]
    },
    {
     "name": "stdout",
     "output_type": "stream",
     "text": [
      " [Done]\n"
     ]
    },
    {
     "name": "stdout",
     "output_type": "stream",
     "text": [
      "INFO: Found cached file cos_data/mastDownload/HST/laad03wdq/laad03wdq_x1d.fits with expected size 429120. [astroquery.query]\n"
     ]
    },
    {
     "name": "stdout",
     "output_type": "stream",
     "text": [
      "Downloading URL https://mast.stsci.edu/api/v0.1/Download/file?uri=mast:HST/product/laad03wfq_x1d.fits to cos_data/mastDownload/HST/laad03wfq/laad03wfq_x1d.fits ..."
     ]
    },
    {
     "name": "stdout",
     "output_type": "stream",
     "text": [
      " [Done]\n"
     ]
    },
    {
     "name": "stdout",
     "output_type": "stream",
     "text": [
      "INFO: Found cached file cos_data/mastDownload/HST/laad03wfq/laad03wfq_x1d.fits with expected size 429120. [astroquery.query]\n"
     ]
    },
    {
     "name": "stdout",
     "output_type": "stream",
     "text": [
      "Downloading URL https://mast.stsci.edu/api/v0.1/Download/file?uri=mast:HST/product/laad03wmq_x1d.fits to cos_data/mastDownload/HST/laad03wmq/laad03wmq_x1d.fits ..."
     ]
    },
    {
     "name": "stdout",
     "output_type": "stream",
     "text": [
      " [Done]\n"
     ]
    },
    {
     "name": "stdout",
     "output_type": "stream",
     "text": [
      "INFO: Found cached file cos_data/mastDownload/HST/laad03wmq/laad03wmq_x1d.fits with expected size 429120. [astroquery.query]\n"
     ]
    },
    {
     "name": "stdout",
     "output_type": "stream",
     "text": [
      "Downloading URL https://mast.stsci.edu/api/v0.1/Download/file?uri=mast:HST/product/laad03woq_x1d.fits to cos_data/mastDownload/HST/laad03woq/laad03woq_x1d.fits ..."
     ]
    },
    {
     "name": "stdout",
     "output_type": "stream",
     "text": [
      " [Done]\n"
     ]
    },
    {
     "name": "stdout",
     "output_type": "stream",
     "text": [
      "INFO: Found cached file cos_data/mastDownload/HST/laad03woq/laad03woq_x1d.fits with expected size 429120. [astroquery.query]\n"
     ]
    },
    {
     "name": "stdout",
     "output_type": "stream",
     "text": [
      "Downloading URL https://mast.stsci.edu/api/v0.1/Download/file?uri=mast:HST/product/laad03wqq_x1d.fits to cos_data/mastDownload/HST/laad03wqq/laad03wqq_x1d.fits ..."
     ]
    },
    {
     "name": "stdout",
     "output_type": "stream",
     "text": [
      " [Done]\n"
     ]
    },
    {
     "name": "stdout",
     "output_type": "stream",
     "text": [
      "INFO: Found cached file cos_data/mastDownload/HST/laad03wqq/laad03wqq_x1d.fits with expected size 429120. [astroquery.query]\n"
     ]
    },
    {
     "name": "stdout",
     "output_type": "stream",
     "text": [
      "Downloading URL https://mast.stsci.edu/api/v0.1/Download/file?uri=mast:HST/product/laad03wyq_x1d.fits to cos_data/mastDownload/HST/laad03wyq/laad03wyq_x1d.fits ..."
     ]
    },
    {
     "name": "stdout",
     "output_type": "stream",
     "text": [
      " [Done]\n"
     ]
    },
    {
     "name": "stdout",
     "output_type": "stream",
     "text": [
      "INFO: Found cached file cos_data/mastDownload/HST/laad03wyq/laad03wyq_x1d.fits with expected size 429120. [astroquery.query]\n"
     ]
    },
    {
     "name": "stdout",
     "output_type": "stream",
     "text": [
      "Downloading URL https://mast.stsci.edu/api/v0.1/Download/file?uri=mast:HST/product/laad03xuq_x1d.fits to cos_data/mastDownload/HST/laad03xuq/laad03xuq_x1d.fits ..."
     ]
    },
    {
     "name": "stdout",
     "output_type": "stream",
     "text": [
      " [Done]\n"
     ]
    },
    {
     "name": "stdout",
     "output_type": "stream",
     "text": [
      "INFO: Found cached file cos_data/mastDownload/HST/laad03xuq/laad03xuq_x1d.fits with expected size 429120. [astroquery.query]\n"
     ]
    },
    {
     "name": "stdout",
     "output_type": "stream",
     "text": [
      "Downloading URL https://mast.stsci.edu/api/v0.1/Download/file?uri=mast:HST/product/laad03xyq_x1d.fits to cos_data/mastDownload/HST/laad03xyq/laad03xyq_x1d.fits ..."
     ]
    },
    {
     "name": "stdout",
     "output_type": "stream",
     "text": [
      " [Done]\n"
     ]
    },
    {
     "name": "stdout",
     "output_type": "stream",
     "text": [
      "INFO: Found cached file cos_data/mastDownload/HST/laad03xyq/laad03xyq_x1d.fits with expected size 429120. [astroquery.query]\n"
     ]
    },
    {
     "name": "stdout",
     "output_type": "stream",
     "text": [
      "Downloading URL https://mast.stsci.edu/api/v0.1/Download/file?uri=mast:HST/product/laad03y0q_x1d.fits to cos_data/mastDownload/HST/laad03y0q/laad03y0q_x1d.fits ..."
     ]
    },
    {
     "name": "stdout",
     "output_type": "stream",
     "text": [
      " [Done]\n"
     ]
    },
    {
     "name": "stdout",
     "output_type": "stream",
     "text": [
      "INFO: Found cached file cos_data/mastDownload/HST/laad03y0q/laad03y0q_x1d.fits with expected size 429120. [astroquery.query]\n"
     ]
    },
    {
     "name": "stdout",
     "output_type": "stream",
     "text": [
      "Downloading URL https://mast.stsci.edu/api/v0.1/Download/file?uri=mast:HST/product/laad03y3q_x1d.fits to cos_data/mastDownload/HST/laad03y3q/laad03y3q_x1d.fits ..."
     ]
    },
    {
     "name": "stdout",
     "output_type": "stream",
     "text": [
      " [Done]\n"
     ]
    },
    {
     "name": "stdout",
     "output_type": "stream",
     "text": [
      "INFO: Found cached file cos_data/mastDownload/HST/laad03y3q/laad03y3q_x1d.fits with expected size 429120. [astroquery.query]\n"
     ]
    },
    {
     "name": "stdout",
     "output_type": "stream",
     "text": [
      "Downloading URL https://mast.stsci.edu/api/v0.1/Download/file?uri=mast:HST/product/laad03y5q_x1d.fits to cos_data/mastDownload/HST/laad03y5q/laad03y5q_x1d.fits ..."
     ]
    },
    {
     "name": "stdout",
     "output_type": "stream",
     "text": [
      " [Done]\n"
     ]
    },
    {
     "name": "stdout",
     "output_type": "stream",
     "text": [
      "INFO: Found cached file cos_data/mastDownload/HST/laad03y5q/laad03y5q_x1d.fits with expected size 429120. [astroquery.query]\n"
     ]
    },
    {
     "name": "stdout",
     "output_type": "stream",
     "text": [
      "Downloading URL https://mast.stsci.edu/api/v0.1/Download/file?uri=mast:HST/product/laad03y7q_x1d.fits to cos_data/mastDownload/HST/laad03y7q/laad03y7q_x1d.fits ..."
     ]
    },
    {
     "name": "stdout",
     "output_type": "stream",
     "text": [
      " [Done]\n"
     ]
    },
    {
     "name": "stdout",
     "output_type": "stream",
     "text": [
      "INFO: Found cached file cos_data/mastDownload/HST/laad03y7q/laad03y7q_x1d.fits with expected size 429120. [astroquery.query]\n"
     ]
    }
   ],
   "source": [
    "# Querying the COS data in MAST and getting the product list\n",
    "gd71_products = Observations.get_product_list(\n",
    "    Observations.query_criteria(\n",
    "        proposal_id=11479,\n",
    "        target_name=\"GD71\",\n",
    "        dataproduct_type=\"SPECTRUM\"\n",
    "    )\n",
    ")\n",
    "\n",
    "# Downloading the data to the ./cos_data directory\n",
    "Observations.download_products(\n",
    "    gd71_products,\n",
    "    download_dir=str(cos_data_dir),\n",
    "    productSubGroupDescription=[\"X1D\", \"SX1\"]\n",
    ")\n",
    "\n",
    "# Consolidating all of our files to a single directory\n",
    "consolidate_files(cos_data_dir)"
   ]
  },
  {
   "attachments": {},
   "cell_type": "markdown",
   "id": "96356f2f",
   "metadata": {},
   "source": [
    "Now we run the wrapper script:"
   ]
  },
  {
   "cell_type": "code",
   "execution_count": 15,
   "id": "5e21e0d6",
   "metadata": {
    "execution": {
     "iopub.execute_input": "2024-01-04T14:45:08.473807Z",
     "iopub.status.busy": "2024-01-04T14:45:08.473482Z",
     "iopub.status.idle": "2024-01-04T14:45:13.599892Z",
     "shell.execute_reply": "2024-01-04T14:45:13.599175Z"
    }
   },
   "outputs": [
    {
     "name": "stdout",
     "output_type": "stream",
     "text": [
      "HASP version 0.9.6\r\n",
      "Ullyses version 4.1.0\r\n"
     ]
    },
    {
     "name": "stdout",
     "output_type": "stream",
     "text": [
      "Creating list of unique modes from these files:\r\n",
      "./cos_data/laad02d9q_x1d.fits GD71 COS NUV G225M PSA 11479 (11479, '02')\r\n",
      "./cos_data/laad02dcq_x1d.fits GD71 COS NUV G225M PSA 11479 (11479, '02')\r\n",
      "./cos_data/laad02deq_x1d.fits GD71 COS NUV G225M PSA 11479 (11479, '02')\r\n",
      "./cos_data/laad02dgq_x1d.fits GD71 COS NUV G225M PSA 11479 (11479, '02')\r\n",
      "./cos_data/laad02diq_x1d.fits GD71 COS NUV G225M PSA 11479 (11479, '02')\r\n",
      "./cos_data/laad02dkq_x1d.fits GD71 COS NUV G225M PSA 11479 (11479, '02')\r\n",
      "./cos_data/laad02dmq_x1d.fits GD71 COS NUV G225M PSA 11479 (11479, '02')\r\n",
      "./cos_data/laad02doq_x1d.fits GD71 COS NUV G225M PSA 11479 (11479, '02')\r\n",
      "./cos_data/laad02dqq_x1d.fits GD71 COS NUV G225M PSA 11479 (11479, '02')\r\n",
      "./cos_data/laad02dsq_x1d.fits GD71 COS NUV G225M PSA 11479 (11479, '02')\r\n",
      "./cos_data/laad02duq_x1d.fits GD71 COS NUV G225M PSA 11479 (11479, '02')\r\n",
      "./cos_data/laad02dwq_x1d.fits GD71 COS NUV G225M PSA 11479 (11479, '02')\r\n",
      "./cos_data/laad02dyq_x1d.fits GD71 COS NUV G225M PSA 11479 (11479, '02')\r\n",
      "./cos_data/laad02e0q_x1d.fits GD71 COS NUV G225M PSA 11479 (11479, '02')\r\n",
      "./cos_data/laad02e6q_x1d.fits GD71 COS NUV G225M PSA 11479 (11479, '02')\r\n",
      "./cos_data/laad02e8q_x1d.fits GD71 COS NUV G185M PSA 11479 (11479, '02')\r\n",
      "./cos_data/laad02eaq_x1d.fits GD71 COS NUV G185M PSA 11479 (11479, '02')\r\n",
      "./cos_data/laad02edq_x1d.fits GD71 COS NUV G185M PSA 11479 (11479, '02')\r\n",
      "./cos_data/laad02efq_x1d.fits GD71 COS NUV G185M PSA 11479 (11479, '02')\r\n",
      "./cos_data/laad02ehq_x1d.fits GD71 COS NUV G185M PSA 11479 (11479, '02')\r\n",
      "./cos_data/laad02ejq_x1d.fits GD71 COS NUV G185M PSA 11479 (11479, '02')\r\n",
      "./cos_data/laad02elq_x1d.fits GD71 COS NUV G185M PSA 11479 (11479, '02')\r\n",
      "./cos_data/laad02enq_x1d.fits GD71 COS NUV G185M PSA 11479 (11479, '02')\r\n",
      "./cos_data/laad02epq_x1d.fits GD71 COS NUV G185M PSA 11479 (11479, '02')\r\n",
      "./cos_data/laad02erq_x1d.fits GD71 COS NUV G185M PSA 11479 (11479, '02')\r\n",
      "./cos_data/laad02etq_x1d.fits GD71 COS NUV G185M PSA 11479 (11479, '02')\r\n",
      "./cos_data/laad02evq_x1d.fits GD71 COS NUV G185M PSA 11479 (11479, '02')\r\n",
      "./cos_data/laad02exq_x1d.fits GD71 COS NUV G185M PSA 11479 (11479, '02')\r\n",
      "./cos_data/laad02ezq_x1d.fits GD71 COS NUV G185M PSA 11479 (11479, '02')\r\n",
      "./cos_data/laad02f1q_x1d.fits GD71 COS NUV G185M PSA 11479 (11479, '02')\r\n",
      "./cos_data/laad02f3q_x1d.fits GD71 COS NUV G185M PSA 11479 (11479, '02')\r\n",
      "./cos_data/laad02f5q_x1d.fits GD71 COS NUV G185M PSA 11479 (11479, '02')\r\n",
      "./cos_data/laad02f7q_x1d.fits GD71 COS NUV G285M PSA 11479 (11479, '02')\r\n",
      "./cos_data/laad02fdq_x1d.fits GD71 COS NUV G230L PSA 11479 (11479, '02')\r\n",
      "./cos_data/laad02ffq_x1d.fits GD71 COS NUV G230L PSA 11479 (11479, '02')\r\n",
      "./cos_data/laad02fhq_x1d.fits GD71 COS NUV G230L PSA 11479 (11479, '02')\r\n",
      "./cos_data/laad02foq_x1d.fits GD71 COS NUV G230L PSA 11479 (11479, '02')\r\n",
      "./cos_data/laad02frq_x1d.fits GD71 COS NUV G230L PSA 11479 (11479, '02')\r\n",
      "./cos_data/laad02fwq_x1d.fits GD71 COS NUV G230L PSA 11479 (11479, '02')\r\n",
      "./cos_data/laad03vxq_x1d.fits GD71 COS NUV G285M PSA 11479 (11479, '03')\r\n",
      "./cos_data/laad03vzq_x1d.fits GD71 COS NUV G285M PSA 11479 (11479, '03')\r\n",
      "./cos_data/laad03w4q_x1d.fits GD71 COS NUV G285M PSA 11479 (11479, '03')\r\n",
      "./cos_data/laad03w7q_x1d.fits GD71 COS NUV G285M PSA 11479 (11479, '03')\r\n",
      "./cos_data/laad03w9q_x1d.fits GD71 COS NUV G285M PSA 11479 (11479, '03')\r\n",
      "./cos_data/laad03wbq_x1d.fits GD71 COS NUV G285M PSA 11479 (11479, '03')\r\n",
      "./cos_data/laad03wdq_x1d.fits GD71 COS NUV G285M PSA 11479 (11479, '03')\r\n",
      "./cos_data/laad03wfq_x1d.fits GD71 COS NUV G285M PSA 11479 (11479, '03')\r\n",
      "./cos_data/laad03wmq_x1d.fits GD71 COS NUV G285M PSA 11479 (11479, '03')\r\n",
      "./cos_data/laad03woq_x1d.fits GD71 COS NUV G285M PSA 11479 (11479, '03')\r\n",
      "./cos_data/laad03wqq_x1d.fits GD71 COS NUV G285M PSA 11479 (11479, '03')\r\n",
      "./cos_data/laad03wyq_x1d.fits GD71 COS NUV G285M PSA 11479 (11479, '03')\r\n",
      "./cos_data/laad03xuq_x1d.fits GD71 COS NUV G285M PSA 11479 (11479, '03')\r\n",
      "./cos_data/laad03xyq_x1d.fits GD71 COS NUV G285M PSA 11479 (11479, '03')\r\n",
      "./cos_data/laad03y0q_x1d.fits GD71 COS NUV G285M PSA 11479 (11479, '03')\r\n"
     ]
    },
    {
     "name": "stdout",
     "output_type": "stream",
     "text": [
      "./cos_data/laad03y3q_x1d.fits GD71 COS NUV G285M PSA 11479 (11479, '03')\r\n",
      "./cos_data/laad03y5q_x1d.fits GD71 COS NUV G285M PSA 11479 (11479, '03')\r\n",
      "./cos_data/laad03y7q_x1d.fits GD71 COS NUV G285M PSA 11479 (11479, '03')\r\n",
      "Looping over visits\r\n",
      "Processing product (11479, '02')\r\n",
      "Targets in visit (11479, '02'): ['GD71']\r\n",
      "Processing target GD71 in visit (11479, '02')\r\n",
      "Processing grating COS/G225M\r\n",
      "Importing files ['./cos_data/laad02d9q_x1d.fits', './cos_data/laad02dcq_x1d.fits', './cos_data/laad02deq_x1d.fits', './cos_data/laad02dgq_x1d.fits', './cos_data/laad02diq_x1d.fits', './cos_data/laad02dkq_x1d.fits', './cos_data/laad02dmq_x1d.fits', './cos_data/laad02doq_x1d.fits', './cos_data/laad02dqq_x1d.fits', './cos_data/laad02dsq_x1d.fits', './cos_data/laad02duq_x1d.fits', './cos_data/laad02dwq_x1d.fits', './cos_data/laad02dyq_x1d.fits', './cos_data/laad02e0q_x1d.fits', './cos_data/laad02e6q_x1d.fits']\r\n",
      "Processing file ./cos_data/laad02d9q_x1d.fits\r\n",
      "Processing file ./cos_data/laad02dcq_x1d.fits\r\n",
      "Processing file ./cos_data/laad02deq_x1d.fits\r\n",
      "Processing file ./cos_data/laad02dgq_x1d.fits\r\n",
      "Processing file ./cos_data/laad02diq_x1d.fits\r\n",
      "Processing file ./cos_data/laad02dkq_x1d.fits\r\n",
      "Processing file ./cos_data/laad02dmq_x1d.fits\r\n"
     ]
    },
    {
     "name": "stdout",
     "output_type": "stream",
     "text": [
      "Processing file ./cos_data/laad02doq_x1d.fits\r\n",
      "Processing file ./cos_data/laad02dqq_x1d.fits\r\n",
      "Processing file ./cos_data/laad02dsq_x1d.fits\r\n",
      "Processing file ./cos_data/laad02duq_x1d.fits\r\n",
      "Processing file ./cos_data/laad02dwq_x1d.fits\r\n"
     ]
    },
    {
     "name": "stdout",
     "output_type": "stream",
     "text": [
      "Processing file ./cos_data/laad02dyq_x1d.fits\r\n",
      "Processing file ./cos_data/laad02e0q_x1d.fits\r\n",
      "Processing file ./cos_data/laad02e6q_x1d.fits\r\n",
      "/usr/share/miniconda/lib/python3.11/site-packages/ullyses/coadd.py:563: RuntimeWarning: invalid value encountered in divide\r\n",
      "  thru_nans = segment.data['net'] / segment.data['flux']\r\n"
     ]
    },
    {
     "name": "stdout",
     "output_type": "stream",
     "text": [
      "Using a maximum SNR of 20.0 in flux-based filtering\r\n"
     ]
    },
    {
     "name": "stdout",
     "output_type": "stream",
     "text": [
      "./cos_products/hst_11479_cos_gd71_g225m_laad02_cspec.fits already exists and overwrite=False, skipping write\r\n",
      "   Wrote ./cos_products/hst_11479_cos_gd71_g225m_laad02_cspec.fits\r\n",
      "Processing grating COS/G185M\r\n",
      "Importing files ['./cos_data/laad02e8q_x1d.fits', './cos_data/laad02eaq_x1d.fits', './cos_data/laad02edq_x1d.fits', './cos_data/laad02efq_x1d.fits', './cos_data/laad02ehq_x1d.fits', './cos_data/laad02ejq_x1d.fits', './cos_data/laad02elq_x1d.fits', './cos_data/laad02enq_x1d.fits', './cos_data/laad02epq_x1d.fits', './cos_data/laad02erq_x1d.fits', './cos_data/laad02etq_x1d.fits', './cos_data/laad02evq_x1d.fits', './cos_data/laad02exq_x1d.fits', './cos_data/laad02ezq_x1d.fits', './cos_data/laad02f1q_x1d.fits', './cos_data/laad02f3q_x1d.fits', './cos_data/laad02f5q_x1d.fits']\r\n",
      "Processing file ./cos_data/laad02e8q_x1d.fits\r\n",
      "Processing file ./cos_data/laad02eaq_x1d.fits\r\n",
      "Processing file ./cos_data/laad02edq_x1d.fits\r\n",
      "Processing file ./cos_data/laad02efq_x1d.fits\r\n",
      "Processing file ./cos_data/laad02ehq_x1d.fits\r\n",
      "Processing file ./cos_data/laad02ejq_x1d.fits\r\n"
     ]
    },
    {
     "name": "stdout",
     "output_type": "stream",
     "text": [
      "Processing file ./cos_data/laad02elq_x1d.fits\r\n",
      "Processing file ./cos_data/laad02enq_x1d.fits\r\n",
      "Processing file ./cos_data/laad02epq_x1d.fits\r\n",
      "Processing file ./cos_data/laad02erq_x1d.fits\r\n",
      "Processing file ./cos_data/laad02etq_x1d.fits\r\n",
      "Processing file ./cos_data/laad02evq_x1d.fits\r\n"
     ]
    },
    {
     "name": "stdout",
     "output_type": "stream",
     "text": [
      "Processing file ./cos_data/laad02exq_x1d.fits\r\n",
      "Processing file ./cos_data/laad02ezq_x1d.fits\r\n",
      "Processing file ./cos_data/laad02f1q_x1d.fits\r\n",
      "Processing file ./cos_data/laad02f3q_x1d.fits\r\n",
      "Processing file ./cos_data/laad02f5q_x1d.fits\r\n"
     ]
    },
    {
     "name": "stdout",
     "output_type": "stream",
     "text": [
      "Using a maximum SNR of 20.0 in flux-based filtering\r\n"
     ]
    },
    {
     "name": "stdout",
     "output_type": "stream",
     "text": [
      "./cos_products/hst_11479_cos_gd71_g185m_laad02_cspec.fits already exists and overwrite=False, skipping write\r\n",
      "   Wrote ./cos_products/hst_11479_cos_gd71_g185m_laad02_cspec.fits\r\n",
      "Processing grating COS/G285M\r\n",
      "Importing files ['./cos_data/laad02f7q_x1d.fits']\r\n",
      "Processing file ./cos_data/laad02f7q_x1d.fits\r\n",
      "Using a maximum SNR of 20.0 in flux-based filtering\r\n",
      "./cos_products/hst_11479_cos_gd71_g285m_laad02_cspec.fits already exists and overwrite=False, skipping write\r\n",
      "   Wrote ./cos_products/hst_11479_cos_gd71_g285m_laad02_cspec.fits\r\n",
      "Processing grating COS/G230L\r\n",
      "Importing files ['./cos_data/laad02fdq_x1d.fits', './cos_data/laad02ffq_x1d.fits', './cos_data/laad02fhq_x1d.fits', './cos_data/laad02foq_x1d.fits', './cos_data/laad02frq_x1d.fits', './cos_data/laad02fwq_x1d.fits']\r\n",
      "Processing file ./cos_data/laad02fdq_x1d.fits\r\n"
     ]
    },
    {
     "name": "stdout",
     "output_type": "stream",
     "text": [
      "Processing file ./cos_data/laad02ffq_x1d.fits\r\n",
      "Processing file ./cos_data/laad02fhq_x1d.fits\r\n",
      "Processing file ./cos_data/laad02foq_x1d.fits\r\n",
      "Processing file ./cos_data/laad02frq_x1d.fits\r\n",
      "Processing file ./cos_data/laad02fwq_x1d.fits\r\n",
      "Segment NUVC removed from product for setting COS/G230L\r\n",
      "Segment NUVC removed from product for setting COS/G230L\r\n",
      "Segment NUVC removed from product for setting COS/G230L\r\n",
      "Segment NUVC removed from product for setting COS/G230L\r\n",
      "Segment NUVC removed from product for setting COS/G230L\r\n",
      "Segment NUVC removed from product for setting COS/G230L\r\n"
     ]
    },
    {
     "name": "stdout",
     "output_type": "stream",
     "text": [
      "Using a maximum SNR of 20.0 in flux-based filtering\r\n"
     ]
    },
    {
     "name": "stdout",
     "output_type": "stream",
     "text": [
      "./cos_products/hst_11479_cos_gd71_cg230l_laad02_cspec.fits already exists and overwrite=False, skipping write\r\n",
      "   Wrote ./cos_products/hst_11479_cos_gd71_cg230l_laad02_cspec.fits\r\n",
      "Making a product from these gratings\r\n",
      "COS/G185M 1664-2134 (Actual: 1662.1-2135.4)\r\n",
      "COS/G225M 2069-2526 (Actual: 2068.4-2526.4)\r\n",
      "COS/G285M 2474-3221 (Actual: 2967.5-3226.9)\r\n",
      "COS/G230L 1650-3200 (Actual: 1327.3-3620.0)\r\n",
      "Transition wavelengths tweaked\r\n",
      "Starting at the short wavelength end with grating COS/G230L\r\n",
      "Abutting COS/G185M product to current result\r\n",
      "With a transition wavelength of 1664\r\n",
      "Abutting COS/G225M product to current result\r\n",
      "With a transition wavelength of 2134\r\n",
      "Abutting COS/G230L product to current result\r\n",
      "With a transition wavelength of 2526\r\n",
      "Abutting COS/G285M product to current result\r\n",
      "With a transition wavelength of 2967.5105517364136\r\n"
     ]
    },
    {
     "name": "stdout",
     "output_type": "stream",
     "text": [
      "Truncating current grating at 3221\r\n",
      "./cos_products/hst_11479_cos_gd71_cg230l-g185m-g225m-g285m_laad02_cspec.fits already exists and overwrite=False, skipping write\r\n",
      "   Wrote ./cos_products/hst_11479_cos_gd71_cg230l-g185m-g225m-g285m_laad02_cspec.fits\r\n",
      "Processing product (11479, '03')\r\n",
      "Targets in visit (11479, '03'): ['GD71']\r\n",
      "Processing target GD71 in visit (11479, '03')\r\n",
      "Processing grating COS/G285M\r\n",
      "Importing files ['./cos_data/laad03vxq_x1d.fits', './cos_data/laad03vzq_x1d.fits', './cos_data/laad03w4q_x1d.fits', './cos_data/laad03w7q_x1d.fits', './cos_data/laad03w9q_x1d.fits', './cos_data/laad03wbq_x1d.fits', './cos_data/laad03wdq_x1d.fits', './cos_data/laad03wfq_x1d.fits', './cos_data/laad03wmq_x1d.fits', './cos_data/laad03woq_x1d.fits', './cos_data/laad03wqq_x1d.fits', './cos_data/laad03wyq_x1d.fits', './cos_data/laad03xuq_x1d.fits', './cos_data/laad03xyq_x1d.fits', './cos_data/laad03y0q_x1d.fits', './cos_data/laad03y3q_x1d.fits', './cos_data/laad03y5q_x1d.fits', './cos_data/laad03y7q_x1d.fits']\r\n",
      "Processing file ./cos_data/laad03vxq_x1d.fits\r\n",
      "Processing file ./cos_data/laad03vzq_x1d.fits\r\n",
      "Processing file ./cos_data/laad03w4q_x1d.fits\r\n",
      "Processing file ./cos_data/laad03w7q_x1d.fits\r\n",
      "Processing file ./cos_data/laad03w9q_x1d.fits\r\n",
      "Processing file ./cos_data/laad03wbq_x1d.fits\r\n"
     ]
    },
    {
     "name": "stdout",
     "output_type": "stream",
     "text": [
      "Processing file ./cos_data/laad03wdq_x1d.fits\r\n",
      "Processing file ./cos_data/laad03wfq_x1d.fits\r\n",
      "Processing file ./cos_data/laad03wmq_x1d.fits\r\n",
      "Processing file ./cos_data/laad03woq_x1d.fits\r\n",
      "Processing file ./cos_data/laad03wqq_x1d.fits\r\n",
      "Processing file ./cos_data/laad03wyq_x1d.fits\r\n",
      "Processing file ./cos_data/laad03xuq_x1d.fits\r\n"
     ]
    },
    {
     "name": "stdout",
     "output_type": "stream",
     "text": [
      "Processing file ./cos_data/laad03xyq_x1d.fits\r\n",
      "Processing file ./cos_data/laad03y0q_x1d.fits\r\n",
      "Processing file ./cos_data/laad03y3q_x1d.fits\r\n",
      "Processing file ./cos_data/laad03y5q_x1d.fits\r\n",
      "Processing file ./cos_data/laad03y7q_x1d.fits\r\n"
     ]
    },
    {
     "name": "stdout",
     "output_type": "stream",
     "text": [
      "Using a maximum SNR of 20.0 in flux-based filtering\r\n"
     ]
    },
    {
     "name": "stdout",
     "output_type": "stream",
     "text": [
      "./cos_products/hst_11479_cos_gd71_g285m_laad03_cspec.fits already exists and overwrite=False, skipping write\r\n",
      "   Wrote ./cos_products/hst_11479_cos_gd71_g285m_laad03_cspec.fits\r\n",
      "No need to create abutted product as < 2 single grating products\r\n",
      "Looping over proposals\r\n",
      "Processing product 11479\r\n",
      "Targets in proposal 11479: ['GD71']\r\n",
      "Processing target GD71 in proposal 11479\r\n",
      "Processing grating COS/G225M\r\n"
     ]
    },
    {
     "name": "stdout",
     "output_type": "stream",
     "text": [
      "Importing files ['./cos_data/laad02d9q_x1d.fits', './cos_data/laad02dcq_x1d.fits', './cos_data/laad02deq_x1d.fits', './cos_data/laad02dgq_x1d.fits', './cos_data/laad02diq_x1d.fits', './cos_data/laad02dkq_x1d.fits', './cos_data/laad02dmq_x1d.fits', './cos_data/laad02doq_x1d.fits', './cos_data/laad02dqq_x1d.fits', './cos_data/laad02dsq_x1d.fits', './cos_data/laad02duq_x1d.fits', './cos_data/laad02dwq_x1d.fits', './cos_data/laad02dyq_x1d.fits', './cos_data/laad02e0q_x1d.fits', './cos_data/laad02e6q_x1d.fits']\r\n",
      "Processing file ./cos_data/laad02d9q_x1d.fits\r\n",
      "Processing file ./cos_data/laad02dcq_x1d.fits\r\n",
      "Processing file ./cos_data/laad02deq_x1d.fits\r\n",
      "Processing file ./cos_data/laad02dgq_x1d.fits\r\n",
      "Processing file ./cos_data/laad02diq_x1d.fits\r\n"
     ]
    },
    {
     "name": "stdout",
     "output_type": "stream",
     "text": [
      "Processing file ./cos_data/laad02dkq_x1d.fits\r\n",
      "Processing file ./cos_data/laad02dmq_x1d.fits\r\n",
      "Processing file ./cos_data/laad02doq_x1d.fits\r\n",
      "Processing file ./cos_data/laad02dqq_x1d.fits\r\n",
      "Processing file ./cos_data/laad02dsq_x1d.fits\r\n"
     ]
    },
    {
     "name": "stdout",
     "output_type": "stream",
     "text": [
      "Processing file ./cos_data/laad02duq_x1d.fits\r\n",
      "Processing file ./cos_data/laad02dwq_x1d.fits\r\n",
      "Processing file ./cos_data/laad02dyq_x1d.fits\r\n",
      "Processing file ./cos_data/laad02e0q_x1d.fits\r\n",
      "Processing file ./cos_data/laad02e6q_x1d.fits\r\n"
     ]
    },
    {
     "name": "stdout",
     "output_type": "stream",
     "text": [
      "Using a maximum SNR of 20.0 in flux-based filtering\r\n"
     ]
    },
    {
     "name": "stdout",
     "output_type": "stream",
     "text": [
      "./cos_products/hst_11479_cos_gd71_g225m_laad_cspec.fits already exists and overwrite=False, skipping write\r\n",
      "   Wrote ./cos_products/hst_11479_cos_gd71_g225m_laad_cspec.fits\r\n",
      "Processing grating COS/G185M\r\n",
      "Importing files ['./cos_data/laad02e8q_x1d.fits', './cos_data/laad02eaq_x1d.fits', './cos_data/laad02edq_x1d.fits', './cos_data/laad02efq_x1d.fits', './cos_data/laad02ehq_x1d.fits', './cos_data/laad02ejq_x1d.fits', './cos_data/laad02elq_x1d.fits', './cos_data/laad02enq_x1d.fits', './cos_data/laad02epq_x1d.fits', './cos_data/laad02erq_x1d.fits', './cos_data/laad02etq_x1d.fits', './cos_data/laad02evq_x1d.fits', './cos_data/laad02exq_x1d.fits', './cos_data/laad02ezq_x1d.fits', './cos_data/laad02f1q_x1d.fits', './cos_data/laad02f3q_x1d.fits', './cos_data/laad02f5q_x1d.fits']\r\n",
      "Processing file ./cos_data/laad02e8q_x1d.fits\r\n",
      "Processing file ./cos_data/laad02eaq_x1d.fits\r\n"
     ]
    },
    {
     "name": "stdout",
     "output_type": "stream",
     "text": [
      "Processing file ./cos_data/laad02edq_x1d.fits\r\n",
      "Processing file ./cos_data/laad02efq_x1d.fits\r\n",
      "Processing file ./cos_data/laad02ehq_x1d.fits\r\n",
      "Processing file ./cos_data/laad02ejq_x1d.fits\r\n",
      "Processing file ./cos_data/laad02elq_x1d.fits\r\n",
      "Processing file ./cos_data/laad02enq_x1d.fits\r\n"
     ]
    },
    {
     "name": "stdout",
     "output_type": "stream",
     "text": [
      "Processing file ./cos_data/laad02epq_x1d.fits\r\n",
      "Processing file ./cos_data/laad02erq_x1d.fits\r\n",
      "Processing file ./cos_data/laad02etq_x1d.fits\r\n",
      "Processing file ./cos_data/laad02evq_x1d.fits\r\n",
      "Processing file ./cos_data/laad02exq_x1d.fits\r\n",
      "Processing file ./cos_data/laad02ezq_x1d.fits\r\n",
      "Processing file ./cos_data/laad02f1q_x1d.fits\r\n"
     ]
    },
    {
     "name": "stdout",
     "output_type": "stream",
     "text": [
      "Processing file ./cos_data/laad02f3q_x1d.fits\r\n",
      "Processing file ./cos_data/laad02f5q_x1d.fits\r\n"
     ]
    },
    {
     "name": "stdout",
     "output_type": "stream",
     "text": [
      "Using a maximum SNR of 20.0 in flux-based filtering\r\n"
     ]
    },
    {
     "name": "stdout",
     "output_type": "stream",
     "text": [
      "./cos_products/hst_11479_cos_gd71_g185m_laad_cspec.fits already exists and overwrite=False, skipping write\r\n",
      "   Wrote ./cos_products/hst_11479_cos_gd71_g185m_laad_cspec.fits\r\n",
      "Processing grating COS/G285M\r\n",
      "Importing files ['./cos_data/laad02f7q_x1d.fits', './cos_data/laad03vxq_x1d.fits', './cos_data/laad03vzq_x1d.fits', './cos_data/laad03w4q_x1d.fits', './cos_data/laad03w7q_x1d.fits', './cos_data/laad03w9q_x1d.fits', './cos_data/laad03wbq_x1d.fits', './cos_data/laad03wdq_x1d.fits', './cos_data/laad03wfq_x1d.fits', './cos_data/laad03wmq_x1d.fits', './cos_data/laad03woq_x1d.fits', './cos_data/laad03wqq_x1d.fits', './cos_data/laad03wyq_x1d.fits', './cos_data/laad03xuq_x1d.fits', './cos_data/laad03xyq_x1d.fits', './cos_data/laad03y0q_x1d.fits', './cos_data/laad03y3q_x1d.fits', './cos_data/laad03y5q_x1d.fits', './cos_data/laad03y7q_x1d.fits']\r\n",
      "Processing file ./cos_data/laad02f7q_x1d.fits\r\n",
      "Processing file ./cos_data/laad03vxq_x1d.fits\r\n",
      "Processing file ./cos_data/laad03vzq_x1d.fits\r\n",
      "Processing file ./cos_data/laad03w4q_x1d.fits\r\n",
      "Processing file ./cos_data/laad03w7q_x1d.fits\r\n"
     ]
    },
    {
     "name": "stdout",
     "output_type": "stream",
     "text": [
      "Processing file ./cos_data/laad03w9q_x1d.fits\r\n",
      "Processing file ./cos_data/laad03wbq_x1d.fits\r\n",
      "Processing file ./cos_data/laad03wdq_x1d.fits\r\n",
      "Processing file ./cos_data/laad03wfq_x1d.fits\r\n",
      "Processing file ./cos_data/laad03wmq_x1d.fits\r\n",
      "Processing file ./cos_data/laad03woq_x1d.fits\r\n"
     ]
    },
    {
     "name": "stdout",
     "output_type": "stream",
     "text": [
      "Processing file ./cos_data/laad03wqq_x1d.fits\r\n",
      "Processing file ./cos_data/laad03wyq_x1d.fits\r\n",
      "Processing file ./cos_data/laad03xuq_x1d.fits\r\n",
      "Processing file ./cos_data/laad03xyq_x1d.fits\r\n",
      "Processing file ./cos_data/laad03y0q_x1d.fits\r\n",
      "Processing file ./cos_data/laad03y3q_x1d.fits\r\n",
      "Processing file ./cos_data/laad03y5q_x1d.fits\r\n"
     ]
    },
    {
     "name": "stdout",
     "output_type": "stream",
     "text": [
      "Processing file ./cos_data/laad03y7q_x1d.fits\r\n"
     ]
    },
    {
     "name": "stdout",
     "output_type": "stream",
     "text": [
      "Using a maximum SNR of 20.0 in flux-based filtering\r\n"
     ]
    },
    {
     "name": "stdout",
     "output_type": "stream",
     "text": [
      "./cos_products/hst_11479_cos_gd71_g285m_laad_cspec.fits already exists and overwrite=False, skipping write\r\n",
      "   Wrote ./cos_products/hst_11479_cos_gd71_g285m_laad_cspec.fits\r\n",
      "Processing grating COS/G230L\r\n",
      "Importing files ['./cos_data/laad02fdq_x1d.fits', './cos_data/laad02ffq_x1d.fits', './cos_data/laad02fhq_x1d.fits', './cos_data/laad02foq_x1d.fits', './cos_data/laad02frq_x1d.fits', './cos_data/laad02fwq_x1d.fits']\r\n",
      "Processing file ./cos_data/laad02fdq_x1d.fits\r\n"
     ]
    },
    {
     "name": "stdout",
     "output_type": "stream",
     "text": [
      "Processing file ./cos_data/laad02ffq_x1d.fits\r\n",
      "Processing file ./cos_data/laad02fhq_x1d.fits\r\n",
      "Processing file ./cos_data/laad02foq_x1d.fits\r\n",
      "Processing file ./cos_data/laad02frq_x1d.fits\r\n",
      "Processing file ./cos_data/laad02fwq_x1d.fits\r\n",
      "Segment NUVC removed from product for setting COS/G230L\r\n",
      "Segment NUVC removed from product for setting COS/G230L\r\n",
      "Segment NUVC removed from product for setting COS/G230L\r\n",
      "Segment NUVC removed from product for setting COS/G230L\r\n",
      "Segment NUVC removed from product for setting COS/G230L\r\n",
      "Segment NUVC removed from product for setting COS/G230L\r\n"
     ]
    },
    {
     "name": "stdout",
     "output_type": "stream",
     "text": [
      "Using a maximum SNR of 20.0 in flux-based filtering\r\n"
     ]
    },
    {
     "name": "stdout",
     "output_type": "stream",
     "text": [
      "./cos_products/hst_11479_cos_gd71_cg230l_laad_cspec.fits already exists and overwrite=False, skipping write\r\n",
      "   Wrote ./cos_products/hst_11479_cos_gd71_cg230l_laad_cspec.fits\r\n",
      "Making a product from these gratings\r\n",
      "COS/G185M 1664-2134 (Actual: 1662.1-2135.4)\r\n",
      "COS/G225M 2069-2526 (Actual: 2068.4-2526.4)\r\n",
      "COS/G285M 2474-3221 (Actual: 2473.8-3226.9)\r\n",
      "COS/G230L 1650-3200 (Actual: 1327.3-3620.0)\r\n",
      "Starting at the short wavelength end with grating COS/G230L\r\n",
      "Abutting COS/G185M product to current result\r\n",
      "With a transition wavelength of 1664\r\n",
      "Abutting COS/G225M product to current result\r\n",
      "With a transition wavelength of 2134\r\n",
      "Abutting COS/G285M product to current result\r\n",
      "With a transition wavelength of 2526\r\n",
      "Truncating current grating at 3221\r\n"
     ]
    },
    {
     "name": "stdout",
     "output_type": "stream",
     "text": [
      "./cos_products/hst_11479_cos_gd71_cg230l-g185m-g225m-g285m_laad_cspec.fits already exists and overwrite=False, skipping write\r\n",
      "   Wrote ./cos_products/hst_11479_cos_gd71_cg230l-g185m-g225m-g285m_laad_cspec.fits\r\n"
     ]
    }
   ],
   "source": [
    "!swrapper -i ./cos_data -o ./cos_products"
   ]
  },
  {
   "attachments": {},
   "cell_type": "markdown",
   "id": "db592869",
   "metadata": {},
   "source": [
    "Similar to our STIS example, ensure that the filename is updated to the current HASP version by running and/or updating the next cell, then plot the newly abutted COS spectra:"
   ]
  },
  {
   "cell_type": "code",
   "execution_count": 16,
   "id": "3f92eb09",
   "metadata": {
    "execution": {
     "iopub.execute_input": "2024-01-04T14:45:13.602515Z",
     "iopub.status.busy": "2024-01-04T14:45:13.602326Z",
     "iopub.status.idle": "2024-01-04T14:45:13.605161Z",
     "shell.execute_reply": "2024-01-04T14:45:13.604634Z"
    }
   },
   "outputs": [],
   "source": [
    "cos_coadd_filename = \"hst_11479_cos_gd71_cg230l-g185m-g225m-g285m_laad_cspec.fits\""
   ]
  },
  {
   "cell_type": "code",
   "execution_count": 17,
   "id": "bb1eab05",
   "metadata": {
    "execution": {
     "iopub.execute_input": "2024-01-04T14:45:13.606986Z",
     "iopub.status.busy": "2024-01-04T14:45:13.606697Z",
     "iopub.status.idle": "2024-01-04T14:45:13.895470Z",
     "shell.execute_reply": "2024-01-04T14:45:13.895003Z"
    }
   },
   "outputs": [
    {
     "data": {
      "image/png": "[encoded data removed]",
      "text/plain": [
       "<Figure size 640x480 with 1 Axes>"
      ]
     },
     "metadata": {},
     "output_type": "display_data"
    }
   ],
   "source": [
    "# Getting the file's data\n",
    "gd71_data = fits.open(f\"{cos_products_dir}/{cos_coadd_filename}\")[1].data\n",
    "\n",
    "# Getting the wavelength and flux data for the abutted file\n",
    "wavelength = gd71_data[\"WAVELENGTH\"]\n",
    "flux = gd71_data[\"FLUX\"]\n",
    "\n",
    "# Plotting the spectra\n",
    "plt.scatter(wavelength, flux,\n",
    "            s=1)\n",
    "\n",
    "# Formatting the plot\n",
    "plt.title(\"COS GD71, abutted\")\n",
    "plt.xlabel(r'Wavelength [$\\AA$]')\n",
    "plt.ylabel(r'Flux [$erg\\ s^{-1}\\ cm^{-2}\\ \\AA^{-1}$]')\n",
    "\n",
    "# Saving the figure to ./cos_products\n",
    "plt.savefig(f\"{cos_products_dir}/gd71_cos.png\")\n",
    "\n",
    "# Showing the figure below\n",
    "plt.show()"
   ]
  },
  {
   "attachments": {},
   "cell_type": "markdown",
   "id": "522bc972",
   "metadata": {},
   "source": [
    "We have now created and plotted the abutted COS spectra. Just for fun, let's compare the abutted STIS and COS products!"
   ]
  },
  {
   "cell_type": "code",
   "execution_count": 18,
   "id": "b93974a7",
   "metadata": {
    "execution": {
     "iopub.execute_input": "2024-01-04T14:45:13.897551Z",
     "iopub.status.busy": "2024-01-04T14:45:13.897200Z",
     "iopub.status.idle": "2024-01-04T14:45:14.423671Z",
     "shell.execute_reply": "2024-01-04T14:45:14.423226Z"
    }
   },
   "outputs": [
    {
     "data": {
      "image/png": "[encoded data removed]",
      "text/plain": [
       "<Figure size 640x480 with 1 Axes>"
      ]
     },
     "metadata": {},
     "output_type": "display_data"
    }
   ],
   "source": [
    "# Getting the COS and STIS data\n",
    "stis_data = fits.open(f\"{stis_products_dir}/{stis_coadd_filename}\")[1].data\n",
    "cos_data = fits.open(f\"{cos_products_dir}/{cos_coadd_filename}\")[1].data\n",
    "\n",
    "# Getting the flux and wavelengths for both files\n",
    "stis_wavelength = stis_data[\"WAVELENGTH\"]\n",
    "stis_flux = stis_data[\"FLUX\"]\n",
    "\n",
    "cos_wavelength = cos_data[\"WAVELENGTH\"]\n",
    "cos_flux = cos_data[\"FLUX\"]\n",
    "\n",
    "# Plotting datapoints for STIS\n",
    "plt.scatter(stis_wavelength, stis_flux,\n",
    "            # Setting the size of the datapoints\n",
    "            s=1,\n",
    "            # Setting the color for the STIS datapoints\n",
    "            color=\"red\",\n",
    "            # Adding a label for the legend\n",
    "            label=\"STIS\")\n",
    "\n",
    "# Plotting the datapoints for COS\n",
    "plt.scatter(cos_wavelength, cos_flux,\n",
    "            s=1,\n",
    "            color=\"blue\",\n",
    "            label=\"COS\")\n",
    "\n",
    "# Formatting the plot by adding labels\n",
    "plt.title(\"STIS & COS GD71, abutted\")\n",
    "plt.xlabel(r'Wavelength [$\\AA$]')\n",
    "plt.ylabel(r'Flux [$erg\\ s^{-1}\\ cm^{-2}\\ \\AA^{-1}$]')\n",
    "\n",
    "# Adding a legend to the plot\n",
    "plt.legend()\n",
    "\n",
    "# Saving the figure to our general directory\n",
    "plt.savefig(\"./gd71_cos_stis.png\")\n",
    "\n",
    "# Showing the plot below\n",
    "plt.show()"
   ]
  },
  {
   "cell_type": "markdown",
   "id": "6e690d53",
   "metadata": {},
   "source": [
    "<a id = threshold></a>\n",
    "## 4. Changing the Threshold Flag\n",
    "\n",
    "The flux threshold flag is an optional flag that can be used to change the number of files that are co-added based on the flux of each spectra. When determining which files to abut, the script first creates a general co-add using all of the input files, and then iterates through each file to calculate the scaled median deviation. The script rejects a file if: \n",
    "\n",
    "$$\n",
    "\\left\\langle{\\frac{F_{x1d}(i) - F_{coadd(i)}}{\\sigma_{x1d}(i)}}\\right\\rangle{} < \\frac{C_{thresh}}{\\sqrt{N_{pix}}}\n",
    "$$\n",
    "\n",
    "In the equation, the median deviation from the co-add is $F_{x1d}(i) - F_{coadd(i)}$, the uncertainty per\n",
    "wavelength bin of the input spectrum is $\\sigma_{x1d}(i)$ and $N_{pix}$ is the number of wavelength bins for a given mode. Essentially, the scaled median deviation is the dispersion that quantifies the data quality (DQ) flag pixel spread for a spectrum that is less sensitive to outliers and size variations. The script will reject all files containing segments with scaled median deviation less than (i.e. more negative than) the threshold (the default is -50). For example, raising the threshold to -25 will abut less files than the default threshold of -50. Likewise, lowering the threshold to -100 will include more files in the dataset to be co-added. \n",
    "\n",
    "An important thing to note about changing the threshold is that including more files increases the SNR of your co-added spectra but decreases the flux accuracy. The threshold value may be altered if a user's science case is not dependent on the accuracy of a dataset's absolute flux. For example, if you have a large dataset of a bright target (i.e. a standard star), then you can lower the threshold to include more files in the abutment since the spread of data quality between each file is minimal. Conversely, if you have a dataset of a dim target, or a dataset with many poor observations, then you will want to raise the threshold to only include the best data out of the dataset.\n",
    "\n",
    "More information about the flux checking algorithm can be found in [ISR COS 2024-01](https://www.stsci.edu/files/live/sites/www/files/home/hst/instrumentation/cos/documentation/instrument-science-reports-isrs/_documents/ISR2024-01.pdf)."
   ]
  },
  {
   "cell_type": "markdown",
   "id": "373aaf58",
   "metadata": {},
   "source": [
    "<a id = downloadthresh></a>\n",
    "## 4.1 Downloading the Data\n",
    "\n",
    "We will first download an additional dataset to illustrate how the co-add code changes abutment when the threshold flag is changed. We will download data for the spectroscopic binary, [BD+17D4708](https://simbad.cds.unistra.fr/simbad/sim-coo?Coord=332.88126259897996+18.092873506782&CooFrame=FK5&CooEpoch=2000&CooEqui=2000&CooDefinedFrames=none&Radius=2&Radius.unit=arcmin&submit=submit+query&CoordList=) from Program 9631. We will run the script with three different threshold values: `t = -1, -2, -50`.\n",
    "\n",
    "First we will query and download the data using `Observations` from `astroquery.mast`:"
   ]
  },
  {
   "cell_type": "code",
   "execution_count": 19,
   "id": "8de7ab27",
   "metadata": {
    "execution": {
     "iopub.execute_input": "2024-01-04T14:45:14.425773Z",
     "iopub.status.busy": "2024-01-04T14:45:14.425453Z",
     "iopub.status.idle": "2024-01-04T14:45:14.570848Z",
     "shell.execute_reply": "2024-01-04T14:45:14.570314Z"
    }
   },
   "outputs": [
    {
     "name": "stdout",
     "output_type": "stream",
     "text": [
      "The number of datasets queried is 12 datasets.       The query list is printed below:\n",
      "intentType obs_collection provenance_name ... srcDen  obsid     objID  \n",
      "---------- -------------- --------------- ... ------ -------- ---------\n",
      "   science            HST         CALSTIS ...    nan 24947039 361629326\n",
      "   science            HST         CALSTIS ...    nan 24947037 361629331\n",
      "   science            HST         CALSTIS ...    nan 24947036 361629335\n",
      "   science            HST         CALSTIS ...    nan 24947038 361629336\n",
      "   science            HST         CALSTIS ...    nan 24947034 361629339\n",
      "   science            HST         CALSTIS ...    nan 24947033 361629342\n",
      "   science            HST         CALSTIS ...    nan 24947031 361629346\n",
      "   science            HST         CALSTIS ...    nan 24947028 361629348\n",
      "   science            HST         CALSTIS ...    nan 24947026 361629365\n",
      "   science            HST         CALSTIS ...    nan 24947027 361629366\n",
      "   science            HST         CALSTIS ...    nan 24947032 361629369\n",
      "   science            HST         CALSTIS ...    nan 24947029 361629375\n"
     ]
    }
   ],
   "source": [
    "# Querying out data from MAST\n",
    "bd_query = query = Observations.query_criteria(\n",
    "            proposal_id=9631,\n",
    "            target_name=\"BD+17D4708\",\n",
    "            dataproduct_type=\"SPECTRUM\",\n",
    "            provenance_name=[\"CALCOS\", \"CALSTIS\"]\n",
    "        )\n",
    "\n",
    "print(f\"The number of datasets queried is {str(len(bd_query))} datasets. \\\n",
    "      The query list is printed below:\")\n",
    "print(bd_query)"
   ]
  },
  {
   "cell_type": "markdown",
   "id": "98752dde",
   "metadata": {},
   "source": [
    "Let's create a new directory and download our data."
   ]
  },
  {
   "cell_type": "code",
   "execution_count": 20,
   "id": "725fec3f",
   "metadata": {
    "execution": {
     "iopub.execute_input": "2024-01-04T14:45:14.572743Z",
     "iopub.status.busy": "2024-01-04T14:45:14.572582Z",
     "iopub.status.idle": "2024-01-04T14:45:14.575531Z",
     "shell.execute_reply": "2024-01-04T14:45:14.575043Z"
    }
   },
   "outputs": [],
   "source": [
    "# Creating the data download directories\n",
    "bd_data_dir = Path(\"./bd_data/\")\n",
    "bd_products_dir = Path(\"./bd_products/\")\n",
    "\n",
    "# If the directory doesn't exist, then create it\n",
    "bd_data_dir.mkdir(exist_ok=True)\n",
    "bd_products_dir.mkdir(exist_ok=True)"
   ]
  },
  {
   "cell_type": "markdown",
   "id": "91cdc8c5",
   "metadata": {},
   "source": [
    "Now we get the product list and download our data to our directory `./bd_products`."
   ]
  },
  {
   "cell_type": "code",
   "execution_count": 21,
   "id": "9fb362b3",
   "metadata": {
    "execution": {
     "iopub.execute_input": "2024-01-04T14:45:14.577505Z",
     "iopub.status.busy": "2024-01-04T14:45:14.577168Z",
     "iopub.status.idle": "2024-01-04T14:45:17.041713Z",
     "shell.execute_reply": "2024-01-04T14:45:17.041170Z"
    }
   },
   "outputs": [
    {
     "name": "stdout",
     "output_type": "stream",
     "text": [
      "Downloading URL https://mast.stsci.edu/api/v0.1/Download/file?uri=mast:HST/product/o8h101010_sx1.fits to bd_data/mastDownload/HST/o8h101010/o8h101010_sx1.fits ..."
     ]
    },
    {
     "name": "stdout",
     "output_type": "stream",
     "text": [
      " [Done]\n"
     ]
    },
    {
     "name": "stdout",
     "output_type": "stream",
     "text": [
      "Downloading URL https://mast.stsci.edu/api/v0.1/Download/file?uri=mast:HST/product/o8h101020_sx1.fits to bd_data/mastDownload/HST/o8h101020/o8h101020_sx1.fits ..."
     ]
    },
    {
     "name": "stdout",
     "output_type": "stream",
     "text": [
      " [Done]\n"
     ]
    },
    {
     "name": "stdout",
     "output_type": "stream",
     "text": [
      "Downloading URL https://mast.stsci.edu/api/v0.1/Download/file?uri=mast:HST/product/o8h101030_sx1.fits to bd_data/mastDownload/HST/o8h101030/o8h101030_sx1.fits ..."
     ]
    },
    {
     "name": "stdout",
     "output_type": "stream",
     "text": [
      " [Done]\n"
     ]
    },
    {
     "name": "stdout",
     "output_type": "stream",
     "text": [
      "Downloading URL https://mast.stsci.edu/api/v0.1/Download/file?uri=mast:HST/product/o8h101040_sx1.fits to bd_data/mastDownload/HST/o8h101040/o8h101040_sx1.fits ..."
     ]
    },
    {
     "name": "stdout",
     "output_type": "stream",
     "text": [
      " [Done]\n"
     ]
    },
    {
     "name": "stdout",
     "output_type": "stream",
     "text": [
      "Downloading URL https://mast.stsci.edu/api/v0.1/Download/file?uri=mast:HST/product/o8h102010_sx1.fits to bd_data/mastDownload/HST/o8h102010/o8h102010_sx1.fits ..."
     ]
    },
    {
     "name": "stdout",
     "output_type": "stream",
     "text": [
      " [Done]\n"
     ]
    },
    {
     "name": "stdout",
     "output_type": "stream",
     "text": [
      "Downloading URL https://mast.stsci.edu/api/v0.1/Download/file?uri=mast:HST/product/o8h102020_sx1.fits to bd_data/mastDownload/HST/o8h102020/o8h102020_sx1.fits ..."
     ]
    },
    {
     "name": "stdout",
     "output_type": "stream",
     "text": [
      " [Done]\n"
     ]
    },
    {
     "name": "stdout",
     "output_type": "stream",
     "text": [
      "Downloading URL https://mast.stsci.edu/api/v0.1/Download/file?uri=mast:HST/product/o8h102030_sx1.fits to bd_data/mastDownload/HST/o8h102030/o8h102030_sx1.fits ..."
     ]
    },
    {
     "name": "stdout",
     "output_type": "stream",
     "text": [
      " [Done]\n"
     ]
    },
    {
     "name": "stdout",
     "output_type": "stream",
     "text": [
      "Downloading URL https://mast.stsci.edu/api/v0.1/Download/file?uri=mast:HST/product/o8h102040_sx1.fits to bd_data/mastDownload/HST/o8h102040/o8h102040_sx1.fits ..."
     ]
    },
    {
     "name": "stdout",
     "output_type": "stream",
     "text": [
      " [Done]\n"
     ]
    },
    {
     "name": "stdout",
     "output_type": "stream",
     "text": [
      "Downloading URL https://mast.stsci.edu/api/v0.1/Download/file?uri=mast:HST/product/o8h103010_sx1.fits to bd_data/mastDownload/HST/o8h103010/o8h103010_sx1.fits ..."
     ]
    },
    {
     "name": "stdout",
     "output_type": "stream",
     "text": [
      " [Done]\n"
     ]
    },
    {
     "name": "stdout",
     "output_type": "stream",
     "text": [
      "Downloading URL https://mast.stsci.edu/api/v0.1/Download/file?uri=mast:HST/product/o8h103020_sx1.fits to bd_data/mastDownload/HST/o8h103020/o8h103020_sx1.fits ..."
     ]
    },
    {
     "name": "stdout",
     "output_type": "stream",
     "text": [
      " [Done]\n"
     ]
    },
    {
     "name": "stdout",
     "output_type": "stream",
     "text": [
      "Downloading URL https://mast.stsci.edu/api/v0.1/Download/file?uri=mast:HST/product/o8h103030_sx1.fits to bd_data/mastDownload/HST/o8h103030/o8h103030_sx1.fits ..."
     ]
    },
    {
     "name": "stdout",
     "output_type": "stream",
     "text": [
      " [Done]\n"
     ]
    },
    {
     "name": "stdout",
     "output_type": "stream",
     "text": [
      "Downloading URL https://mast.stsci.edu/api/v0.1/Download/file?uri=mast:HST/product/o8h103040_sx1.fits to bd_data/mastDownload/HST/o8h103040/o8h103040_sx1.fits ..."
     ]
    },
    {
     "name": "stdout",
     "output_type": "stream",
     "text": [
      " [Done]\n"
     ]
    },
    {
     "data": {
      "text/html": [
       "<div><i>Table length=12</i>\n",
       "<table id=\"table140007543840976\" class=\"table-striped table-bordered table-condensed\">\n",
       "<thead><tr><th>Local Path</th><th>Status</th><th>Message</th><th>URL</th></tr></thead>\n",
       "<thead><tr><th>str53</th><th>str8</th><th>object</th><th>object</th></tr></thead>\n",
       "<tr><td>bd_data/mastDownload/HST/o8h101010/o8h101010_sx1.fits</td><td>COMPLETE</td><td>None</td><td>None</td></tr>\n",
       "<tr><td>bd_data/mastDownload/HST/o8h101020/o8h101020_sx1.fits</td><td>COMPLETE</td><td>None</td><td>None</td></tr>\n",
       "<tr><td>bd_data/mastDownload/HST/o8h101030/o8h101030_sx1.fits</td><td>COMPLETE</td><td>None</td><td>None</td></tr>\n",
       "<tr><td>bd_data/mastDownload/HST/o8h101040/o8h101040_sx1.fits</td><td>COMPLETE</td><td>None</td><td>None</td></tr>\n",
       "<tr><td>bd_data/mastDownload/HST/o8h102010/o8h102010_sx1.fits</td><td>COMPLETE</td><td>None</td><td>None</td></tr>\n",
       "<tr><td>bd_data/mastDownload/HST/o8h102020/o8h102020_sx1.fits</td><td>COMPLETE</td><td>None</td><td>None</td></tr>\n",
       "<tr><td>bd_data/mastDownload/HST/o8h102030/o8h102030_sx1.fits</td><td>COMPLETE</td><td>None</td><td>None</td></tr>\n",
       "<tr><td>bd_data/mastDownload/HST/o8h102040/o8h102040_sx1.fits</td><td>COMPLETE</td><td>None</td><td>None</td></tr>\n",
       "<tr><td>bd_data/mastDownload/HST/o8h103010/o8h103010_sx1.fits</td><td>COMPLETE</td><td>None</td><td>None</td></tr>\n",
       "<tr><td>bd_data/mastDownload/HST/o8h103020/o8h103020_sx1.fits</td><td>COMPLETE</td><td>None</td><td>None</td></tr>\n",
       "<tr><td>bd_data/mastDownload/HST/o8h103030/o8h103030_sx1.fits</td><td>COMPLETE</td><td>None</td><td>None</td></tr>\n",
       "<tr><td>bd_data/mastDownload/HST/o8h103040/o8h103040_sx1.fits</td><td>COMPLETE</td><td>None</td><td>None</td></tr>\n",
       "</table></div>"
      ],
      "text/plain": [
       "<Table length=12>\n",
       "                      Local Path                       Status  Message  URL  \n",
       "                        str53                           str8    object object\n",
       "----------------------------------------------------- -------- ------- ------\n",
       "bd_data/mastDownload/HST/o8h101010/o8h101010_sx1.fits COMPLETE    None   None\n",
       "bd_data/mastDownload/HST/o8h101020/o8h101020_sx1.fits COMPLETE    None   None\n",
       "bd_data/mastDownload/HST/o8h101030/o8h101030_sx1.fits COMPLETE    None   None\n",
       "bd_data/mastDownload/HST/o8h101040/o8h101040_sx1.fits COMPLETE    None   None\n",
       "bd_data/mastDownload/HST/o8h102010/o8h102010_sx1.fits COMPLETE    None   None\n",
       "bd_data/mastDownload/HST/o8h102020/o8h102020_sx1.fits COMPLETE    None   None\n",
       "bd_data/mastDownload/HST/o8h102030/o8h102030_sx1.fits COMPLETE    None   None\n",
       "bd_data/mastDownload/HST/o8h102040/o8h102040_sx1.fits COMPLETE    None   None\n",
       "bd_data/mastDownload/HST/o8h103010/o8h103010_sx1.fits COMPLETE    None   None\n",
       "bd_data/mastDownload/HST/o8h103020/o8h103020_sx1.fits COMPLETE    None   None\n",
       "bd_data/mastDownload/HST/o8h103030/o8h103030_sx1.fits COMPLETE    None   None\n",
       "bd_data/mastDownload/HST/o8h103040/o8h103040_sx1.fits COMPLETE    None   None"
      ]
     },
     "execution_count": 21,
     "metadata": {},
     "output_type": "execute_result"
    }
   ],
   "source": [
    "# Getting the product list from our query\n",
    "bd_prod = Observations.get_product_list(\n",
    "            bd_query\n",
    "        )\n",
    "\n",
    "# Downloading the products, but only the necessary X1D and SX1 files\n",
    "Observations.download_products(\n",
    "            bd_prod,\n",
    "            download_dir=str(bd_data_dir),\n",
    "            productSubGroupDescription=[\"X1D\", \"SX1\"]\n",
    "        )"
   ]
  },
  {
   "cell_type": "markdown",
   "id": "9e922b85",
   "metadata": {},
   "source": [
    "<a id = threshscriptrun></a>\n",
    "## 4.2 Running the Co-add Script with Different Threshold Values"
   ]
  },
  {
   "cell_type": "markdown",
   "id": "2e2dc256",
   "metadata": {},
   "source": [
    "Let's first organize our data so that all data files are in a single directory instead of separate observation set directories."
   ]
  },
  {
   "cell_type": "code",
   "execution_count": 22,
   "id": "ce8baffb",
   "metadata": {
    "execution": {
     "iopub.execute_input": "2024-01-04T14:45:17.043801Z",
     "iopub.status.busy": "2024-01-04T14:45:17.043420Z",
     "iopub.status.idle": "2024-01-04T14:45:17.048398Z",
     "shell.execute_reply": "2024-01-04T14:45:17.048029Z"
    }
   },
   "outputs": [],
   "source": [
    "consolidate_files(bd_data_dir)"
   ]
  },
  {
   "cell_type": "markdown",
   "id": "956f72ec",
   "metadata": {},
   "source": [
    "Now that we've downloaded our data and organized it to be properly run by the script, we can run the code using different threshold values. Below is a function that runs the script using inputted threshold values, which will allow us to run the code in a single cell rather than multiple."
   ]
  },
  {
   "cell_type": "code",
   "execution_count": 23,
   "id": "7c058e7d",
   "metadata": {
    "execution": {
     "iopub.execute_input": "2024-01-04T14:45:17.050411Z",
     "iopub.status.busy": "2024-01-04T14:45:17.050047Z",
     "iopub.status.idle": "2024-01-04T14:45:17.053478Z",
     "shell.execute_reply": "2024-01-04T14:45:17.053067Z"
    }
   },
   "outputs": [],
   "source": [
    "def run_script(indir, outdir, thresh):\n",
    "    '''\n",
    "    Run the hasp wrapper script with different thresholds.\n",
    "    -------------------\n",
    "    Input:\n",
    "    str indir : Directory that holds all un-abutted data.\n",
    "    str outdir : Directory that will store output folders and files.\n",
    "    list thresh : List of threshold values used for script.\n",
    "    --------------------\n",
    "    Output:\n",
    "    Wrapper script is run using different threshold values.\n",
    "    A folder will be created for each value used, containing abutted products.\n",
    "    '''\n",
    "    # Looping through thresh vals to run through script\n",
    "    for val in thresh:\n",
    "        # Creating a folder for each thresh val\n",
    "        output = os.path.join(outdir, \"out\" + str(val))\n",
    "        if not os.path.exists(output):\n",
    "            os.mkdir(output)\n",
    "\n",
    "        print(f\"Running script where threshold = {str(val)}\")\n",
    "\n",
    "        # Specifying the arguments for the scipt\n",
    "        arguments = [\"-i\", indir, \"-o\", output, \"-t\", val]\n",
    "\n",
    "        # Creating a list composed of the script commands and arguments\n",
    "        command = [\"python\", \"-m\", \"hasp.wrapper\"] + arguments\n",
    "\n",
    "        # Running the script with the arguments above\n",
    "        subprocess.run(command, check=True)"
   ]
  },
  {
   "cell_type": "markdown",
   "id": "78744d6d",
   "metadata": {},
   "source": [
    "Let's create a variable called `thresholds` that will consist of the different threshold values that we will use to help us visualize the relationship between number of files co-added and the final co-added product. We will run the script using each of these values.\n",
    "\n",
    "*Note: feel free to run the cells with more threshold values!*"
   ]
  },
  {
   "cell_type": "code",
   "execution_count": 24,
   "id": "5cd4e402",
   "metadata": {
    "execution": {
     "iopub.execute_input": "2024-01-04T14:45:17.055254Z",
     "iopub.status.busy": "2024-01-04T14:45:17.054966Z",
     "iopub.status.idle": "2024-01-04T14:45:17.057044Z",
     "shell.execute_reply": "2024-01-04T14:45:17.056675Z"
    }
   },
   "outputs": [],
   "source": [
    "# Remember that the default value is t = -50\n",
    "thresholds = [\"-1\", \"-2\", \"-50\"]"
   ]
  },
  {
   "cell_type": "markdown",
   "id": "4be1bc53",
   "metadata": {},
   "source": [
    "Let's run the script on our data now using the `run_script` function, using the thresholds defined above."
   ]
  },
  {
   "cell_type": "code",
   "execution_count": 25,
   "id": "8d50a104",
   "metadata": {
    "execution": {
     "iopub.execute_input": "2024-01-04T14:45:17.058913Z",
     "iopub.status.busy": "2024-01-04T14:45:17.058620Z",
     "iopub.status.idle": "2024-01-04T14:45:20.169621Z",
     "shell.execute_reply": "2024-01-04T14:45:20.169106Z"
    }
   },
   "outputs": [
    {
     "name": "stdout",
     "output_type": "stream",
     "text": [
      "Running script where threshold = -1\n"
     ]
    },
    {
     "name": "stdout",
     "output_type": "stream",
     "text": [
      "HASP version 0.9.6\n",
      "Ullyses version 4.1.0\n",
      "Creating list of unique modes from these files:\n",
      "bd_data/o8h101010_sx1.fits BD+17D4708 STIS CCD G430L 52X2E1 9631 (9631, '01')\n",
      "bd_data/o8h101020_sx1.fits BD+17D4708 STIS CCD G430L 52X2 9631 (9631, '01')\n",
      "bd_data/o8h101030_sx1.fits BD+17D4708 STIS CCD G230LB 52X2 9631 (9631, '01')\n",
      "bd_data/o8h101040_sx1.fits BD+17D4708 STIS CCD G750L 52X2 9631 (9631, '01')\n",
      "bd_data/o8h102010_sx1.fits BD+17D4708 STIS CCD G430L 52X2E1 9631 (9631, '02')\n",
      "bd_data/o8h102020_sx1.fits BD+17D4708 STIS CCD G430L 52X2 9631 (9631, '02')\n",
      "bd_data/o8h102030_sx1.fits BD+17D4708 STIS CCD G230LB 52X2 9631 (9631, '02')\n",
      "bd_data/o8h102040_sx1.fits BD+17D4708 STIS CCD G750L 52X2 9631 (9631, '02')\n",
      "bd_data/o8h103010_sx1.fits BD+17D4708 STIS CCD G430L 52X2E1 9631 (9631, '03')\n",
      "bd_data/o8h103020_sx1.fits BD+17D4708 STIS CCD G430L 52X2 9631 (9631, '03')\n",
      "bd_data/o8h103030_sx1.fits BD+17D4708 STIS CCD G230LB 52X2 9631 (9631, '03')\n",
      "bd_data/o8h103040_sx1.fits BD+17D4708 STIS CCD G750L 52X2 9631 (9631, '03')\n",
      "Looping over visits\n",
      "Processing product (9631, '01')\n",
      "Targets in visit (9631, '01'): ['BD+17D4708']\n",
      "Processing target BD+17D4708 in visit (9631, '01')\n",
      "Processing grating STIS/G430L\n",
      "Importing files ['bd_data/o8h101010_sx1.fits', 'bd_data/o8h101020_sx1.fits']\n",
      "Processing file bd_data/o8h101010_sx1.fits\n",
      "Processing file bd_data/o8h101020_sx1.fits\n",
      "Using a maximum SNR of 20.0 in flux-based filtering\n",
      "Segment #0 from file bd_data/o8h101010_sx1.fits has scaled median = -2.9336734976820438\n",
      "Removing file bd_data/o8h101010_sx1.fits from product\n",
      "Removing files from list:\n",
      "['bd_data/o8h101010_sx1.fits']\n",
      "Importing files ['bd_data/o8h101020_sx1.fits']\n",
      "Processing file bd_data/o8h101020_sx1.fits\n",
      "Using a maximum SNR of 20.0 in flux-based filtering\n",
      "bd_products/out-1/hst_9631_stis_bdp17d4708_g430l_o8h101_cspec.fits already exists and overwrite=False, skipping write\n",
      "   Wrote bd_products/out-1/hst_9631_stis_bdp17d4708_g430l_o8h101_cspec.fits\n",
      "Processing grating STIS/G230LB\n",
      "Importing files ['bd_data/o8h101030_sx1.fits']\n",
      "Processing file bd_data/o8h101030_sx1.fits\n",
      "Using a maximum SNR of 20.0 in flux-based filtering\n",
      "bd_products/out-1/hst_9631_stis_bdp17d4708_g230lb_o8h101_cspec.fits already exists and overwrite=False, skipping write\n",
      "   Wrote bd_products/out-1/hst_9631_stis_bdp17d4708_g230lb_o8h101_cspec.fits\n",
      "Processing grating STIS/G750L\n",
      "Importing files ['bd_data/o8h101040_sx1.fits']\n",
      "Processing file bd_data/o8h101040_sx1.fits\n",
      "Using a maximum SNR of 20.0 in flux-based filtering\n",
      "bd_products/out-1/hst_9631_stis_bdp17d4708_g750l_o8h101_cspec.fits already exists and overwrite=False, skipping write\n",
      "   Wrote bd_products/out-1/hst_9631_stis_bdp17d4708_g750l_o8h101_cspec.fits\n",
      "Making a product from these gratings\n",
      "STIS/G230LB 1667.1-3071.6 (Actual: 1667.8-3069.7)\n",
      "STIS/G430L 2895.9-5704.4 (Actual: 2976.8-5701.3)\n",
      "STIS/G750L 5261.3-10252.3 (Actual: 5305.8-10244.1)\n",
      "Transition wavelengths tweaked\n",
      "Transition wavelengths tweaked\n",
      "Transition wavelengths tweaked\n",
      "Starting at the short wavelength end with grating STIS/G230LB\n",
      "Abutting STIS/G430L product to current result\n",
      "With a transition wavelength of 3069.734992255102\n",
      "Abutting STIS/G750L product to current result\n",
      "With a transition wavelength of 5701.265694234849\n",
      "Truncating current grating at 10244.073931818537\n",
      "bd_products/out-1/hst_9631_stis_bdp17d4708_g230lb-g430l-g750l_o8h101_cspec.fits already exists and overwrite=False, skipping write\n",
      "   Wrote bd_products/out-1/hst_9631_stis_bdp17d4708_g230lb-g430l-g750l_o8h101_cspec.fits\n",
      "Processing product (9631, '02')\n",
      "Targets in visit (9631, '02'): ['BD+17D4708']\n",
      "Processing target BD+17D4708 in visit (9631, '02')\n",
      "Processing grating STIS/G430L\n",
      "Importing files ['bd_data/o8h102010_sx1.fits', 'bd_data/o8h102020_sx1.fits']\n",
      "Processing file bd_data/o8h102010_sx1.fits\n",
      "Processing file bd_data/o8h102020_sx1.fits\n",
      "Using a maximum SNR of 20.0 in flux-based filtering\n",
      "Segment #0 from file bd_data/o8h102010_sx1.fits has scaled median = -3.071526539591649\n",
      "Removing file bd_data/o8h102010_sx1.fits from product\n",
      "Removing files from list:\n",
      "['bd_data/o8h102010_sx1.fits']\n",
      "Importing files ['bd_data/o8h102020_sx1.fits']\n",
      "Processing file bd_data/o8h102020_sx1.fits\n",
      "Using a maximum SNR of 20.0 in flux-based filtering\n",
      "bd_products/out-1/hst_9631_stis_bdp17d4708_g430l_o8h102_cspec.fits already exists and overwrite=False, skipping write\n",
      "   Wrote bd_products/out-1/hst_9631_stis_bdp17d4708_g430l_o8h102_cspec.fits\n",
      "Processing grating STIS/G230LB\n",
      "Importing files ['bd_data/o8h102030_sx1.fits']\n",
      "Processing file bd_data/o8h102030_sx1.fits\n",
      "Using a maximum SNR of 20.0 in flux-based filtering\n",
      "bd_products/out-1/hst_9631_stis_bdp17d4708_g230lb_o8h102_cspec.fits already exists and overwrite=False, skipping write\n",
      "   Wrote bd_products/out-1/hst_9631_stis_bdp17d4708_g230lb_o8h102_cspec.fits\n",
      "Processing grating STIS/G750L\n",
      "Importing files ['bd_data/o8h102040_sx1.fits']\n",
      "Processing file bd_data/o8h102040_sx1.fits\n",
      "Using a maximum SNR of 20.0 in flux-based filtering\n",
      "bd_products/out-1/hst_9631_stis_bdp17d4708_g750l_o8h102_cspec.fits already exists and overwrite=False, skipping write\n",
      "   Wrote bd_products/out-1/hst_9631_stis_bdp17d4708_g750l_o8h102_cspec.fits\n",
      "Making a product from these gratings\n",
      "STIS/G230LB 1667.1-3071.6 (Actual: 1668.1-3070.0)\n",
      "STIS/G430L 2895.9-5704.4 (Actual: 2977.4-5701.7)\n",
      "STIS/G750L 5261.3-10252.3 (Actual: 5306.5-10244.6)\n",
      "Transition wavelengths tweaked\n",
      "Transition wavelengths tweaked\n",
      "Transition wavelengths tweaked\n",
      "Starting at the short wavelength end with grating STIS/G230LB\n",
      "Abutting STIS/G430L product to current result\n",
      "With a transition wavelength of 3069.968660763374\n",
      "Abutting STIS/G750L product to current result\n",
      "With a transition wavelength of 5701.719693687126\n",
      "Truncating current grating at 10244.598050895449\n",
      "bd_products/out-1/hst_9631_stis_bdp17d4708_g230lb-g430l-g750l_o8h102_cspec.fits already exists and overwrite=False, skipping write\n",
      "   Wrote bd_products/out-1/hst_9631_stis_bdp17d4708_g230lb-g430l-g750l_o8h102_cspec.fits\n",
      "Processing product (9631, '03')\n",
      "Targets in visit (9631, '03'): ['BD+17D4708']\n",
      "Processing target BD+17D4708 in visit (9631, '03')\n",
      "Processing grating STIS/G430L\n",
      "Importing files ['bd_data/o8h103010_sx1.fits', 'bd_data/o8h103020_sx1.fits']\n",
      "Processing file bd_data/o8h103010_sx1.fits\n",
      "Processing file bd_data/o8h103020_sx1.fits\n",
      "Using a maximum SNR of 20.0 in flux-based filtering\n",
      "Segment #0 from file bd_data/o8h103010_sx1.fits has scaled median = -1.4156082473370053\n",
      "Removing file bd_data/o8h103010_sx1.fits from product\n",
      "Removing files from list:\n",
      "['bd_data/o8h103010_sx1.fits']\n",
      "Importing files ['bd_data/o8h103020_sx1.fits']\n",
      "Processing file bd_data/o8h103020_sx1.fits\n",
      "Using a maximum SNR of 20.0 in flux-based filtering\n",
      "bd_products/out-1/hst_9631_stis_bdp17d4708_g430l_o8h103_cspec.fits already exists and overwrite=False, skipping write\n",
      "   Wrote bd_products/out-1/hst_9631_stis_bdp17d4708_g430l_o8h103_cspec.fits\n",
      "Processing grating STIS/G230LB\n",
      "Importing files ['bd_data/o8h103030_sx1.fits']\n",
      "Processing file bd_data/o8h103030_sx1.fits\n",
      "Using a maximum SNR of 20.0 in flux-based filtering\n",
      "bd_products/out-1/hst_9631_stis_bdp17d4708_g230lb_o8h103_cspec.fits already exists and overwrite=False, skipping write\n",
      "   Wrote bd_products/out-1/hst_9631_stis_bdp17d4708_g230lb_o8h103_cspec.fits\n",
      "Processing grating STIS/G750L\n",
      "Importing files ['bd_data/o8h103040_sx1.fits']\n",
      "Processing file bd_data/o8h103040_sx1.fits\n",
      "Using a maximum SNR of 20.0 in flux-based filtering\n",
      "bd_products/out-1/hst_9631_stis_bdp17d4708_g750l_o8h103_cspec.fits already exists and overwrite=False, skipping write\n",
      "   Wrote bd_products/out-1/hst_9631_stis_bdp17d4708_g750l_o8h103_cspec.fits\n",
      "Making a product from these gratings\n",
      "STIS/G230LB 1667.1-3071.6 (Actual: 1668.0-3069.9)\n",
      "STIS/G430L 2895.9-5704.4 (Actual: 2977.0-5701.4)\n",
      "STIS/G750L 5261.3-10252.3 (Actual: 5305.9-10243.9)\n",
      "Transition wavelengths tweaked\n",
      "Transition wavelengths tweaked\n",
      "Transition wavelengths tweaked\n",
      "Starting at the short wavelength end with grating STIS/G230LB\n",
      "Abutting STIS/G430L product to current result\n",
      "With a transition wavelength of 3069.8870475823132\n",
      "Abutting STIS/G750L product to current result\n",
      "With a transition wavelength of 5701.370321533011\n",
      "Truncating current grating at 10243.943530724338\n"
     ]
    },
    {
     "name": "stdout",
     "output_type": "stream",
     "text": [
      "bd_products/out-1/hst_9631_stis_bdp17d4708_g230lb-g430l-g750l_o8h103_cspec.fits already exists and overwrite=False, skipping write\n",
      "   Wrote bd_products/out-1/hst_9631_stis_bdp17d4708_g230lb-g430l-g750l_o8h103_cspec.fits\n",
      "Looping over proposals\n",
      "Processing product 9631\n",
      "Targets in proposal 9631: ['BD+17D4708']\n",
      "Processing target BD+17D4708 in proposal 9631\n",
      "Processing grating STIS/G430L\n",
      "Importing files ['bd_data/o8h101010_sx1.fits', 'bd_data/o8h101020_sx1.fits', 'bd_data/o8h102010_sx1.fits', 'bd_data/o8h102020_sx1.fits', 'bd_data/o8h103010_sx1.fits', 'bd_data/o8h103020_sx1.fits']\n",
      "Processing file bd_data/o8h101010_sx1.fits\n",
      "Processing file bd_data/o8h101020_sx1.fits\n",
      "Processing file bd_data/o8h102010_sx1.fits\n",
      "Processing file bd_data/o8h102020_sx1.fits\n",
      "Processing file bd_data/o8h103010_sx1.fits\n",
      "Processing file bd_data/o8h103020_sx1.fits\n",
      "Using a maximum SNR of 20.0 in flux-based filtering\n",
      "Segment #0 from file bd_data/o8h101010_sx1.fits has scaled median = -4.852887374265663\n",
      "Removing file bd_data/o8h101010_sx1.fits from product\n",
      "Segment #0 from file bd_data/o8h102010_sx1.fits has scaled median = -3.759874284435761\n",
      "Removing file bd_data/o8h102010_sx1.fits from product\n",
      "Importing files ['bd_data/o8h101020_sx1.fits', 'bd_data/o8h102020_sx1.fits', 'bd_data/o8h103010_sx1.fits', 'bd_data/o8h103020_sx1.fits']\n",
      "Processing file bd_data/o8h101020_sx1.fits\n",
      "Processing file bd_data/o8h102020_sx1.fits\n",
      "Processing file bd_data/o8h103010_sx1.fits\n",
      "Processing file bd_data/o8h103020_sx1.fits\n",
      "Using a maximum SNR of 20.0 in flux-based filtering\n",
      "Segment #0 from file bd_data/o8h101020_sx1.fits has scaled median = -1.0774592868482187\n",
      "Removing file bd_data/o8h101020_sx1.fits from product\n",
      "Importing files ['bd_data/o8h102020_sx1.fits', 'bd_data/o8h103010_sx1.fits', 'bd_data/o8h103020_sx1.fits']\n",
      "Processing file bd_data/o8h102020_sx1.fits\n",
      "Processing file bd_data/o8h103010_sx1.fits\n",
      "Processing file bd_data/o8h103020_sx1.fits\n",
      "Using a maximum SNR of 20.0 in flux-based filtering\n",
      "Segment #0 from file bd_data/o8h103010_sx1.fits has scaled median = -1.1716874258981\n",
      "Removing file bd_data/o8h103010_sx1.fits from product\n",
      "Importing files ['bd_data/o8h102020_sx1.fits', 'bd_data/o8h103020_sx1.fits']\n",
      "Processing file bd_data/o8h102020_sx1.fits\n",
      "Processing file bd_data/o8h103020_sx1.fits\n",
      "Using a maximum SNR of 20.0 in flux-based filtering\n",
      "bd_products/out-1/hst_9631_stis_bdp17d4708_g430l_o8h1_cspec.fits already exists and overwrite=False, skipping write\n",
      "   Wrote bd_products/out-1/hst_9631_stis_bdp17d4708_g430l_o8h1_cspec.fits\n",
      "Processing grating STIS/G230LB\n",
      "Importing files ['bd_data/o8h101030_sx1.fits', 'bd_data/o8h102030_sx1.fits', 'bd_data/o8h103030_sx1.fits']\n",
      "Processing file bd_data/o8h101030_sx1.fits\n",
      "Processing file bd_data/o8h102030_sx1.fits\n",
      "Processing file bd_data/o8h103030_sx1.fits\n",
      "Using a maximum SNR of 20.0 in flux-based filtering\n",
      "Segment #0 from file bd_data/o8h103030_sx1.fits has scaled median = -3.320959711748654\n",
      "Removing file bd_data/o8h103030_sx1.fits from product\n",
      "Importing files ['bd_data/o8h101030_sx1.fits', 'bd_data/o8h102030_sx1.fits']\n",
      "Processing file bd_data/o8h101030_sx1.fits\n",
      "Processing file bd_data/o8h102030_sx1.fits\n",
      "Using a maximum SNR of 20.0 in flux-based filtering\n",
      "bd_products/out-1/hst_9631_stis_bdp17d4708_g230lb_o8h1_cspec.fits already exists and overwrite=False, skipping write\n",
      "   Wrote bd_products/out-1/hst_9631_stis_bdp17d4708_g230lb_o8h1_cspec.fits\n",
      "Processing grating STIS/G750L\n",
      "Importing files ['bd_data/o8h101040_sx1.fits', 'bd_data/o8h102040_sx1.fits', 'bd_data/o8h103040_sx1.fits']\n",
      "Processing file bd_data/o8h101040_sx1.fits\n",
      "Processing file bd_data/o8h102040_sx1.fits\n",
      "Processing file bd_data/o8h103040_sx1.fits\n",
      "Using a maximum SNR of 20.0 in flux-based filtering\n",
      "Segment #0 from file bd_data/o8h101040_sx1.fits has scaled median = -1.9044224950003772\n",
      "Removing file bd_data/o8h101040_sx1.fits from product\n",
      "Importing files ['bd_data/o8h102040_sx1.fits', 'bd_data/o8h103040_sx1.fits']\n",
      "Processing file bd_data/o8h102040_sx1.fits\n",
      "Processing file bd_data/o8h103040_sx1.fits\n",
      "Using a maximum SNR of 20.0 in flux-based filtering\n",
      "bd_products/out-1/hst_9631_stis_bdp17d4708_g750l_o8h1_cspec.fits already exists and overwrite=False, skipping write\n",
      "   Wrote bd_products/out-1/hst_9631_stis_bdp17d4708_g750l_o8h1_cspec.fits\n",
      "Making a product from these gratings\n",
      "STIS/G230LB 1667.1-3071.6 (Actual: 1667.4-3069.4)\n",
      "STIS/G430L 2895.9-5704.4 (Actual: 2976.5-5701.2)\n",
      "STIS/G750L 5261.3-10252.3 (Actual: 5305.8-10244.0)\n",
      "Transition wavelengths tweaked\n",
      "Transition wavelengths tweaked\n",
      "Transition wavelengths tweaked\n",
      "Starting at the short wavelength end with grating STIS/G230LB\n",
      "Abutting STIS/G430L product to current result\n",
      "With a transition wavelength of 3069.357664783157\n",
      "Abutting STIS/G750L product to current result\n",
      "With a transition wavelength of 5701.160686001296\n",
      "Truncating current grating at 10243.995300787725\n",
      "bd_products/out-1/hst_9631_stis_bdp17d4708_g230lb-g430l-g750l_o8h1_cspec.fits already exists and overwrite=False, skipping write\n",
      "   Wrote bd_products/out-1/hst_9631_stis_bdp17d4708_g230lb-g430l-g750l_o8h1_cspec.fits\n",
      "Running script where threshold = -2\n"
     ]
    },
    {
     "name": "stdout",
     "output_type": "stream",
     "text": [
      "HASP version 0.9.6\n",
      "Ullyses version 4.1.0\n",
      "Creating list of unique modes from these files:\n",
      "bd_data/o8h101010_sx1.fits BD+17D4708 STIS CCD G430L 52X2E1 9631 (9631, '01')\n",
      "bd_data/o8h101020_sx1.fits BD+17D4708 STIS CCD G430L 52X2 9631 (9631, '01')\n",
      "bd_data/o8h101030_sx1.fits BD+17D4708 STIS CCD G230LB 52X2 9631 (9631, '01')\n",
      "bd_data/o8h101040_sx1.fits BD+17D4708 STIS CCD G750L 52X2 9631 (9631, '01')\n",
      "bd_data/o8h102010_sx1.fits BD+17D4708 STIS CCD G430L 52X2E1 9631 (9631, '02')\n",
      "bd_data/o8h102020_sx1.fits BD+17D4708 STIS CCD G430L 52X2 9631 (9631, '02')\n",
      "bd_data/o8h102030_sx1.fits BD+17D4708 STIS CCD G230LB 52X2 9631 (9631, '02')\n",
      "bd_data/o8h102040_sx1.fits BD+17D4708 STIS CCD G750L 52X2 9631 (9631, '02')\n",
      "bd_data/o8h103010_sx1.fits BD+17D4708 STIS CCD G430L 52X2E1 9631 (9631, '03')\n",
      "bd_data/o8h103020_sx1.fits BD+17D4708 STIS CCD G430L 52X2 9631 (9631, '03')\n",
      "bd_data/o8h103030_sx1.fits BD+17D4708 STIS CCD G230LB 52X2 9631 (9631, '03')\n",
      "bd_data/o8h103040_sx1.fits BD+17D4708 STIS CCD G750L 52X2 9631 (9631, '03')\n",
      "Looping over visits\n",
      "Processing product (9631, '01')\n",
      "Targets in visit (9631, '01'): ['BD+17D4708']\n",
      "Processing target BD+17D4708 in visit (9631, '01')\n",
      "Processing grating STIS/G430L\n",
      "Importing files ['bd_data/o8h101010_sx1.fits', 'bd_data/o8h101020_sx1.fits']\n",
      "Processing file bd_data/o8h101010_sx1.fits\n",
      "Processing file bd_data/o8h101020_sx1.fits\n",
      "Using a maximum SNR of 20.0 in flux-based filtering\n",
      "Segment #0 from file bd_data/o8h101010_sx1.fits has scaled median = -2.9336734976820438\n",
      "Removing file bd_data/o8h101010_sx1.fits from product\n",
      "Removing files from list:\n",
      "['bd_data/o8h101010_sx1.fits']\n",
      "Importing files ['bd_data/o8h101020_sx1.fits']\n",
      "Processing file bd_data/o8h101020_sx1.fits\n",
      "Using a maximum SNR of 20.0 in flux-based filtering\n",
      "bd_products/out-2/hst_9631_stis_bdp17d4708_g430l_o8h101_cspec.fits already exists and overwrite=False, skipping write\n",
      "   Wrote bd_products/out-2/hst_9631_stis_bdp17d4708_g430l_o8h101_cspec.fits\n",
      "Processing grating STIS/G230LB\n",
      "Importing files ['bd_data/o8h101030_sx1.fits']\n",
      "Processing file bd_data/o8h101030_sx1.fits\n",
      "Using a maximum SNR of 20.0 in flux-based filtering\n",
      "bd_products/out-2/hst_9631_stis_bdp17d4708_g230lb_o8h101_cspec.fits already exists and overwrite=False, skipping write\n",
      "   Wrote bd_products/out-2/hst_9631_stis_bdp17d4708_g230lb_o8h101_cspec.fits\n",
      "Processing grating STIS/G750L\n",
      "Importing files ['bd_data/o8h101040_sx1.fits']\n",
      "Processing file bd_data/o8h101040_sx1.fits\n",
      "Using a maximum SNR of 20.0 in flux-based filtering\n",
      "bd_products/out-2/hst_9631_stis_bdp17d4708_g750l_o8h101_cspec.fits already exists and overwrite=False, skipping write\n",
      "   Wrote bd_products/out-2/hst_9631_stis_bdp17d4708_g750l_o8h101_cspec.fits\n",
      "Making a product from these gratings\n",
      "STIS/G230LB 1667.1-3071.6 (Actual: 1667.8-3069.7)\n",
      "STIS/G430L 2895.9-5704.4 (Actual: 2976.8-5701.3)\n",
      "STIS/G750L 5261.3-10252.3 (Actual: 5305.8-10244.1)\n",
      "Transition wavelengths tweaked\n",
      "Transition wavelengths tweaked\n",
      "Transition wavelengths tweaked\n",
      "Starting at the short wavelength end with grating STIS/G230LB\n",
      "Abutting STIS/G430L product to current result\n",
      "With a transition wavelength of 3069.734992255102\n",
      "Abutting STIS/G750L product to current result\n",
      "With a transition wavelength of 5701.265694234849\n",
      "Truncating current grating at 10244.073931818537\n",
      "bd_products/out-2/hst_9631_stis_bdp17d4708_g230lb-g430l-g750l_o8h101_cspec.fits already exists and overwrite=False, skipping write\n",
      "   Wrote bd_products/out-2/hst_9631_stis_bdp17d4708_g230lb-g430l-g750l_o8h101_cspec.fits\n",
      "Processing product (9631, '02')\n",
      "Targets in visit (9631, '02'): ['BD+17D4708']\n",
      "Processing target BD+17D4708 in visit (9631, '02')\n",
      "Processing grating STIS/G430L\n",
      "Importing files ['bd_data/o8h102010_sx1.fits', 'bd_data/o8h102020_sx1.fits']\n",
      "Processing file bd_data/o8h102010_sx1.fits\n",
      "Processing file bd_data/o8h102020_sx1.fits\n",
      "Using a maximum SNR of 20.0 in flux-based filtering\n",
      "Segment #0 from file bd_data/o8h102010_sx1.fits has scaled median = -3.071526539591649\n",
      "Removing file bd_data/o8h102010_sx1.fits from product\n",
      "Removing files from list:\n",
      "['bd_data/o8h102010_sx1.fits']\n",
      "Importing files ['bd_data/o8h102020_sx1.fits']\n",
      "Processing file bd_data/o8h102020_sx1.fits\n",
      "Using a maximum SNR of 20.0 in flux-based filtering\n",
      "bd_products/out-2/hst_9631_stis_bdp17d4708_g430l_o8h102_cspec.fits already exists and overwrite=False, skipping write\n",
      "   Wrote bd_products/out-2/hst_9631_stis_bdp17d4708_g430l_o8h102_cspec.fits\n",
      "Processing grating STIS/G230LB\n",
      "Importing files ['bd_data/o8h102030_sx1.fits']\n",
      "Processing file bd_data/o8h102030_sx1.fits\n",
      "Using a maximum SNR of 20.0 in flux-based filtering\n",
      "bd_products/out-2/hst_9631_stis_bdp17d4708_g230lb_o8h102_cspec.fits already exists and overwrite=False, skipping write\n",
      "   Wrote bd_products/out-2/hst_9631_stis_bdp17d4708_g230lb_o8h102_cspec.fits\n",
      "Processing grating STIS/G750L\n",
      "Importing files ['bd_data/o8h102040_sx1.fits']\n",
      "Processing file bd_data/o8h102040_sx1.fits\n",
      "Using a maximum SNR of 20.0 in flux-based filtering\n",
      "bd_products/out-2/hst_9631_stis_bdp17d4708_g750l_o8h102_cspec.fits already exists and overwrite=False, skipping write\n",
      "   Wrote bd_products/out-2/hst_9631_stis_bdp17d4708_g750l_o8h102_cspec.fits\n",
      "Making a product from these gratings\n",
      "STIS/G230LB 1667.1-3071.6 (Actual: 1668.1-3070.0)\n",
      "STIS/G430L 2895.9-5704.4 (Actual: 2977.4-5701.7)\n",
      "STIS/G750L 5261.3-10252.3 (Actual: 5306.5-10244.6)\n",
      "Transition wavelengths tweaked\n",
      "Transition wavelengths tweaked\n",
      "Transition wavelengths tweaked\n",
      "Starting at the short wavelength end with grating STIS/G230LB\n",
      "Abutting STIS/G430L product to current result\n",
      "With a transition wavelength of 3069.968660763374\n",
      "Abutting STIS/G750L product to current result\n",
      "With a transition wavelength of 5701.719693687126\n",
      "Truncating current grating at 10244.598050895449\n",
      "bd_products/out-2/hst_9631_stis_bdp17d4708_g230lb-g430l-g750l_o8h102_cspec.fits already exists and overwrite=False, skipping write\n",
      "   Wrote bd_products/out-2/hst_9631_stis_bdp17d4708_g230lb-g430l-g750l_o8h102_cspec.fits\n",
      "Processing product (9631, '03')\n",
      "Targets in visit (9631, '03'): ['BD+17D4708']\n",
      "Processing target BD+17D4708 in visit (9631, '03')\n",
      "Processing grating STIS/G430L\n",
      "Importing files ['bd_data/o8h103010_sx1.fits', 'bd_data/o8h103020_sx1.fits']\n",
      "Processing file bd_data/o8h103010_sx1.fits\n",
      "Processing file bd_data/o8h103020_sx1.fits\n",
      "Using a maximum SNR of 20.0 in flux-based filtering\n",
      "bd_products/out-2/hst_9631_stis_bdp17d4708_g430l_o8h103_cspec.fits already exists and overwrite=False, skipping write\n",
      "   Wrote bd_products/out-2/hst_9631_stis_bdp17d4708_g430l_o8h103_cspec.fits\n",
      "Processing grating STIS/G230LB\n",
      "Importing files ['bd_data/o8h103030_sx1.fits']\n",
      "Processing file bd_data/o8h103030_sx1.fits\n",
      "Using a maximum SNR of 20.0 in flux-based filtering\n",
      "bd_products/out-2/hst_9631_stis_bdp17d4708_g230lb_o8h103_cspec.fits already exists and overwrite=False, skipping write\n",
      "   Wrote bd_products/out-2/hst_9631_stis_bdp17d4708_g230lb_o8h103_cspec.fits\n",
      "Processing grating STIS/G750L\n",
      "Importing files ['bd_data/o8h103040_sx1.fits']\n",
      "Processing file bd_data/o8h103040_sx1.fits\n",
      "Using a maximum SNR of 20.0 in flux-based filtering\n",
      "bd_products/out-2/hst_9631_stis_bdp17d4708_g750l_o8h103_cspec.fits already exists and overwrite=False, skipping write\n",
      "   Wrote bd_products/out-2/hst_9631_stis_bdp17d4708_g750l_o8h103_cspec.fits\n",
      "Making a product from these gratings\n",
      "STIS/G230LB 1667.1-3071.6 (Actual: 1668.0-3069.9)\n",
      "STIS/G430L 2895.9-5704.4 (Actual: 2970.5-5700.6)\n",
      "STIS/G750L 5261.3-10252.3 (Actual: 5305.9-10243.9)\n",
      "Transition wavelengths tweaked\n",
      "Transition wavelengths tweaked\n",
      "Transition wavelengths tweaked\n",
      "Starting at the short wavelength end with grating STIS/G230LB\n",
      "Abutting STIS/G430L product to current result\n",
      "With a transition wavelength of 3069.8870475823132\n",
      "Abutting STIS/G750L product to current result\n",
      "With a transition wavelength of 5700.648567462054\n",
      "Truncating current grating at 10243.943530724338\n",
      "bd_products/out-2/hst_9631_stis_bdp17d4708_g230lb-g430l-g750l_o8h103_cspec.fits already exists and overwrite=False, skipping write\n",
      "   Wrote bd_products/out-2/hst_9631_stis_bdp17d4708_g230lb-g430l-g750l_o8h103_cspec.fits\n",
      "Looping over proposals\n",
      "Processing product 9631\n",
      "Targets in proposal 9631: ['BD+17D4708']\n",
      "Processing target BD+17D4708 in proposal 9631\n"
     ]
    },
    {
     "name": "stdout",
     "output_type": "stream",
     "text": [
      "Processing grating STIS/G430L\n",
      "Importing files ['bd_data/o8h101010_sx1.fits', 'bd_data/o8h101020_sx1.fits', 'bd_data/o8h102010_sx1.fits', 'bd_data/o8h102020_sx1.fits', 'bd_data/o8h103010_sx1.fits', 'bd_data/o8h103020_sx1.fits']\n",
      "Processing file bd_data/o8h101010_sx1.fits\n",
      "Processing file bd_data/o8h101020_sx1.fits\n",
      "Processing file bd_data/o8h102010_sx1.fits\n",
      "Processing file bd_data/o8h102020_sx1.fits\n",
      "Processing file bd_data/o8h103010_sx1.fits\n",
      "Processing file bd_data/o8h103020_sx1.fits\n",
      "Using a maximum SNR of 20.0 in flux-based filtering\n",
      "Segment #0 from file bd_data/o8h101010_sx1.fits has scaled median = -4.852887374265663\n",
      "Removing file bd_data/o8h101010_sx1.fits from product\n",
      "Segment #0 from file bd_data/o8h102010_sx1.fits has scaled median = -3.759874284435761\n",
      "Removing file bd_data/o8h102010_sx1.fits from product\n",
      "Importing files ['bd_data/o8h101020_sx1.fits', 'bd_data/o8h102020_sx1.fits', 'bd_data/o8h103010_sx1.fits', 'bd_data/o8h103020_sx1.fits']\n",
      "Processing file bd_data/o8h101020_sx1.fits\n",
      "Processing file bd_data/o8h102020_sx1.fits\n",
      "Processing file bd_data/o8h103010_sx1.fits\n",
      "Processing file bd_data/o8h103020_sx1.fits\n",
      "Using a maximum SNR of 20.0 in flux-based filtering\n",
      "bd_products/out-2/hst_9631_stis_bdp17d4708_g430l_o8h1_cspec.fits already exists and overwrite=False, skipping write\n",
      "   Wrote bd_products/out-2/hst_9631_stis_bdp17d4708_g430l_o8h1_cspec.fits\n",
      "Processing grating STIS/G230LB\n",
      "Importing files ['bd_data/o8h101030_sx1.fits', 'bd_data/o8h102030_sx1.fits', 'bd_data/o8h103030_sx1.fits']\n",
      "Processing file bd_data/o8h101030_sx1.fits\n",
      "Processing file bd_data/o8h102030_sx1.fits\n",
      "Processing file bd_data/o8h103030_sx1.fits\n",
      "Using a maximum SNR of 20.0 in flux-based filtering\n",
      "Segment #0 from file bd_data/o8h103030_sx1.fits has scaled median = -3.320959711748654\n",
      "Removing file bd_data/o8h103030_sx1.fits from product\n",
      "Importing files ['bd_data/o8h101030_sx1.fits', 'bd_data/o8h102030_sx1.fits']\n",
      "Processing file bd_data/o8h101030_sx1.fits\n",
      "Processing file bd_data/o8h102030_sx1.fits\n",
      "Using a maximum SNR of 20.0 in flux-based filtering\n",
      "bd_products/out-2/hst_9631_stis_bdp17d4708_g230lb_o8h1_cspec.fits already exists and overwrite=False, skipping write\n",
      "   Wrote bd_products/out-2/hst_9631_stis_bdp17d4708_g230lb_o8h1_cspec.fits\n",
      "Processing grating STIS/G750L\n",
      "Importing files ['bd_data/o8h101040_sx1.fits', 'bd_data/o8h102040_sx1.fits', 'bd_data/o8h103040_sx1.fits']\n",
      "Processing file bd_data/o8h101040_sx1.fits\n",
      "Processing file bd_data/o8h102040_sx1.fits\n",
      "Processing file bd_data/o8h103040_sx1.fits\n",
      "Using a maximum SNR of 20.0 in flux-based filtering\n",
      "bd_products/out-2/hst_9631_stis_bdp17d4708_g750l_o8h1_cspec.fits already exists and overwrite=False, skipping write\n",
      "   Wrote bd_products/out-2/hst_9631_stis_bdp17d4708_g750l_o8h1_cspec.fits\n",
      "Making a product from these gratings\n",
      "STIS/G230LB 1667.1-3071.6 (Actual: 1667.4-3069.4)\n",
      "STIS/G430L 2895.9-5704.4 (Actual: 2970.5-5700.8)\n",
      "STIS/G750L 5261.3-10252.3 (Actual: 5305.8-10244.2)\n",
      "Transition wavelengths tweaked\n",
      "Transition wavelengths tweaked\n",
      "Transition wavelengths tweaked\n",
      "Starting at the short wavelength end with grating STIS/G230LB\n",
      "Abutting STIS/G430L product to current result\n",
      "With a transition wavelength of 3069.357664783157\n",
      "Abutting STIS/G750L product to current result\n",
      "With a transition wavelength of 5700.765716054397\n",
      "Truncating current grating at 10244.181165082162\n",
      "bd_products/out-2/hst_9631_stis_bdp17d4708_g230lb-g430l-g750l_o8h1_cspec.fits already exists and overwrite=False, skipping write\n",
      "   Wrote bd_products/out-2/hst_9631_stis_bdp17d4708_g230lb-g430l-g750l_o8h1_cspec.fits\n",
      "Running script where threshold = -50\n"
     ]
    },
    {
     "name": "stdout",
     "output_type": "stream",
     "text": [
      "HASP version 0.9.6\n",
      "Ullyses version 4.1.0\n",
      "Creating list of unique modes from these files:\n",
      "bd_data/o8h101010_sx1.fits BD+17D4708 STIS CCD G430L 52X2E1 9631 (9631, '01')\n",
      "bd_data/o8h101020_sx1.fits BD+17D4708 STIS CCD G430L 52X2 9631 (9631, '01')\n",
      "bd_data/o8h101030_sx1.fits BD+17D4708 STIS CCD G230LB 52X2 9631 (9631, '01')\n",
      "bd_data/o8h101040_sx1.fits BD+17D4708 STIS CCD G750L 52X2 9631 (9631, '01')\n",
      "bd_data/o8h102010_sx1.fits BD+17D4708 STIS CCD G430L 52X2E1 9631 (9631, '02')\n",
      "bd_data/o8h102020_sx1.fits BD+17D4708 STIS CCD G430L 52X2 9631 (9631, '02')\n",
      "bd_data/o8h102030_sx1.fits BD+17D4708 STIS CCD G230LB 52X2 9631 (9631, '02')\n",
      "bd_data/o8h102040_sx1.fits BD+17D4708 STIS CCD G750L 52X2 9631 (9631, '02')\n",
      "bd_data/o8h103010_sx1.fits BD+17D4708 STIS CCD G430L 52X2E1 9631 (9631, '03')\n",
      "bd_data/o8h103020_sx1.fits BD+17D4708 STIS CCD G430L 52X2 9631 (9631, '03')\n",
      "bd_data/o8h103030_sx1.fits BD+17D4708 STIS CCD G230LB 52X2 9631 (9631, '03')\n",
      "bd_data/o8h103040_sx1.fits BD+17D4708 STIS CCD G750L 52X2 9631 (9631, '03')\n",
      "Looping over visits\n",
      "Processing product (9631, '01')\n",
      "Targets in visit (9631, '01'): ['BD+17D4708']\n",
      "Processing target BD+17D4708 in visit (9631, '01')\n",
      "Processing grating STIS/G430L\n",
      "Importing files ['bd_data/o8h101010_sx1.fits', 'bd_data/o8h101020_sx1.fits']\n",
      "Processing file bd_data/o8h101010_sx1.fits\n",
      "Processing file bd_data/o8h101020_sx1.fits\n",
      "Using a maximum SNR of 20.0 in flux-based filtering\n",
      "bd_products/out-50/hst_9631_stis_bdp17d4708_g430l_o8h101_cspec.fits already exists and overwrite=False, skipping write\n",
      "   Wrote bd_products/out-50/hst_9631_stis_bdp17d4708_g430l_o8h101_cspec.fits\n",
      "Processing grating STIS/G230LB\n",
      "Importing files ['bd_data/o8h101030_sx1.fits']\n",
      "Processing file bd_data/o8h101030_sx1.fits\n",
      "Using a maximum SNR of 20.0 in flux-based filtering\n",
      "bd_products/out-50/hst_9631_stis_bdp17d4708_g230lb_o8h101_cspec.fits already exists and overwrite=False, skipping write\n",
      "   Wrote bd_products/out-50/hst_9631_stis_bdp17d4708_g230lb_o8h101_cspec.fits\n",
      "Processing grating STIS/G750L\n",
      "Importing files ['bd_data/o8h101040_sx1.fits']\n",
      "Processing file bd_data/o8h101040_sx1.fits\n",
      "Using a maximum SNR of 20.0 in flux-based filtering\n",
      "bd_products/out-50/hst_9631_stis_bdp17d4708_g750l_o8h101_cspec.fits already exists and overwrite=False, skipping write\n",
      "   Wrote bd_products/out-50/hst_9631_stis_bdp17d4708_g750l_o8h101_cspec.fits\n",
      "Making a product from these gratings\n",
      "STIS/G230LB 1667.1-3071.6 (Actual: 1667.8-3069.7)\n",
      "STIS/G430L 2895.9-5704.4 (Actual: 2970.5-5700.8)\n",
      "STIS/G750L 5261.3-10252.3 (Actual: 5305.8-10244.1)\n",
      "Transition wavelengths tweaked\n",
      "Transition wavelengths tweaked\n",
      "Transition wavelengths tweaked\n",
      "Starting at the short wavelength end with grating STIS/G230LB\n",
      "Abutting STIS/G430L product to current result\n",
      "With a transition wavelength of 3069.734992255102\n",
      "Abutting STIS/G750L product to current result\n",
      "With a transition wavelength of 5700.765716054397\n",
      "Truncating current grating at 10244.073931818537\n",
      "bd_products/out-50/hst_9631_stis_bdp17d4708_g230lb-g430l-g750l_o8h101_cspec.fits already exists and overwrite=False, skipping write\n",
      "   Wrote bd_products/out-50/hst_9631_stis_bdp17d4708_g230lb-g430l-g750l_o8h101_cspec.fits\n",
      "Processing product (9631, '02')\n",
      "Targets in visit (9631, '02'): ['BD+17D4708']\n",
      "Processing target BD+17D4708 in visit (9631, '02')\n",
      "Processing grating STIS/G430L\n",
      "Importing files ['bd_data/o8h102010_sx1.fits', 'bd_data/o8h102020_sx1.fits']\n",
      "Processing file bd_data/o8h102010_sx1.fits\n",
      "Processing file bd_data/o8h102020_sx1.fits\n",
      "Using a maximum SNR of 20.0 in flux-based filtering\n",
      "bd_products/out-50/hst_9631_stis_bdp17d4708_g430l_o8h102_cspec.fits already exists and overwrite=False, skipping write\n",
      "   Wrote bd_products/out-50/hst_9631_stis_bdp17d4708_g430l_o8h102_cspec.fits\n",
      "Processing grating STIS/G230LB\n",
      "Importing files ['bd_data/o8h102030_sx1.fits']\n",
      "Processing file bd_data/o8h102030_sx1.fits\n",
      "Using a maximum SNR of 20.0 in flux-based filtering\n",
      "bd_products/out-50/hst_9631_stis_bdp17d4708_g230lb_o8h102_cspec.fits already exists and overwrite=False, skipping write\n",
      "   Wrote bd_products/out-50/hst_9631_stis_bdp17d4708_g230lb_o8h102_cspec.fits\n",
      "Processing grating STIS/G750L\n",
      "Importing files ['bd_data/o8h102040_sx1.fits']\n",
      "Processing file bd_data/o8h102040_sx1.fits\n",
      "Using a maximum SNR of 20.0 in flux-based filtering\n",
      "bd_products/out-50/hst_9631_stis_bdp17d4708_g750l_o8h102_cspec.fits already exists and overwrite=False, skipping write\n",
      "   Wrote bd_products/out-50/hst_9631_stis_bdp17d4708_g750l_o8h102_cspec.fits\n",
      "Making a product from these gratings\n",
      "STIS/G230LB 1667.1-3071.6 (Actual: 1668.1-3070.0)\n",
      "STIS/G430L 2895.9-5704.4 (Actual: 2971.5-5701.7)\n",
      "STIS/G750L 5261.3-10252.3 (Actual: 5306.5-10244.6)\n",
      "Transition wavelengths tweaked\n",
      "Transition wavelengths tweaked\n",
      "Transition wavelengths tweaked\n",
      "Starting at the short wavelength end with grating STIS/G230LB\n",
      "Abutting STIS/G430L product to current result\n",
      "With a transition wavelength of 3069.968660763374\n",
      "Abutting STIS/G750L product to current result\n",
      "With a transition wavelength of 5701.659531615402\n",
      "Truncating current grating at 10244.598050895449\n",
      "bd_products/out-50/hst_9631_stis_bdp17d4708_g230lb-g430l-g750l_o8h102_cspec.fits already exists and overwrite=False, skipping write\n",
      "   Wrote bd_products/out-50/hst_9631_stis_bdp17d4708_g230lb-g430l-g750l_o8h102_cspec.fits\n",
      "Processing product (9631, '03')\n",
      "Targets in visit (9631, '03'): ['BD+17D4708']\n",
      "Processing target BD+17D4708 in visit (9631, '03')\n",
      "Processing grating STIS/G430L\n",
      "Importing files ['bd_data/o8h103010_sx1.fits', 'bd_data/o8h103020_sx1.fits']\n",
      "Processing file bd_data/o8h103010_sx1.fits\n",
      "Processing file bd_data/o8h103020_sx1.fits\n",
      "Using a maximum SNR of 20.0 in flux-based filtering\n",
      "bd_products/out-50/hst_9631_stis_bdp17d4708_g430l_o8h103_cspec.fits already exists and overwrite=False, skipping write\n",
      "   Wrote bd_products/out-50/hst_9631_stis_bdp17d4708_g430l_o8h103_cspec.fits\n",
      "Processing grating STIS/G230LB\n",
      "Importing files ['bd_data/o8h103030_sx1.fits']\n",
      "Processing file bd_data/o8h103030_sx1.fits\n",
      "Using a maximum SNR of 20.0 in flux-based filtering\n",
      "bd_products/out-50/hst_9631_stis_bdp17d4708_g230lb_o8h103_cspec.fits already exists and overwrite=False, skipping write\n",
      "   Wrote bd_products/out-50/hst_9631_stis_bdp17d4708_g230lb_o8h103_cspec.fits\n",
      "Processing grating STIS/G750L\n",
      "Importing files ['bd_data/o8h103040_sx1.fits']\n",
      "Processing file bd_data/o8h103040_sx1.fits\n",
      "Using a maximum SNR of 20.0 in flux-based filtering\n",
      "bd_products/out-50/hst_9631_stis_bdp17d4708_g750l_o8h103_cspec.fits already exists and overwrite=False, skipping write\n",
      "   Wrote bd_products/out-50/hst_9631_stis_bdp17d4708_g750l_o8h103_cspec.fits\n",
      "Making a product from these gratings\n",
      "STIS/G230LB 1667.1-3071.6 (Actual: 1668.0-3069.9)\n",
      "STIS/G430L 2895.9-5704.4 (Actual: 2970.5-5700.6)\n",
      "STIS/G750L 5261.3-10252.3 (Actual: 5305.9-10243.9)\n",
      "Transition wavelengths tweaked\n",
      "Transition wavelengths tweaked\n",
      "Transition wavelengths tweaked\n",
      "Starting at the short wavelength end with grating STIS/G230LB\n",
      "Abutting STIS/G430L product to current result\n",
      "With a transition wavelength of 3069.8870475823132\n",
      "Abutting STIS/G750L product to current result\n",
      "With a transition wavelength of 5700.648567462054\n",
      "Truncating current grating at 10243.943530724338\n",
      "bd_products/out-50/hst_9631_stis_bdp17d4708_g230lb-g430l-g750l_o8h103_cspec.fits already exists and overwrite=False, skipping write\n",
      "   Wrote bd_products/out-50/hst_9631_stis_bdp17d4708_g230lb-g430l-g750l_o8h103_cspec.fits\n",
      "Looping over proposals\n",
      "Processing product 9631\n",
      "Targets in proposal 9631: ['BD+17D4708']\n",
      "Processing target BD+17D4708 in proposal 9631\n",
      "Processing grating STIS/G430L\n",
      "Importing files ['bd_data/o8h101010_sx1.fits', 'bd_data/o8h101020_sx1.fits', 'bd_data/o8h102010_sx1.fits', 'bd_data/o8h102020_sx1.fits', 'bd_data/o8h103010_sx1.fits', 'bd_data/o8h103020_sx1.fits']\n",
      "Processing file bd_data/o8h101010_sx1.fits\n",
      "Processing file bd_data/o8h101020_sx1.fits\n",
      "Processing file bd_data/o8h102010_sx1.fits\n",
      "Processing file bd_data/o8h102020_sx1.fits\n",
      "Processing file bd_data/o8h103010_sx1.fits\n",
      "Processing file bd_data/o8h103020_sx1.fits\n",
      "Using a maximum SNR of 20.0 in flux-based filtering\n",
      "bd_products/out-50/hst_9631_stis_bdp17d4708_g430l_o8h1_cspec.fits already exists and overwrite=False, skipping write\n",
      "   Wrote bd_products/out-50/hst_9631_stis_bdp17d4708_g430l_o8h1_cspec.fits\n",
      "Processing grating STIS/G230LB\n",
      "Importing files ['bd_data/o8h101030_sx1.fits', 'bd_data/o8h102030_sx1.fits', 'bd_data/o8h103030_sx1.fits']\n",
      "Processing file bd_data/o8h101030_sx1.fits\n",
      "Processing file bd_data/o8h102030_sx1.fits\n",
      "Processing file bd_data/o8h103030_sx1.fits\n",
      "Using a maximum SNR of 20.0 in flux-based filtering\n",
      "bd_products/out-50/hst_9631_stis_bdp17d4708_g230lb_o8h1_cspec.fits already exists and overwrite=False, skipping write\n",
      "   Wrote bd_products/out-50/hst_9631_stis_bdp17d4708_g230lb_o8h1_cspec.fits\n",
      "Processing grating STIS/G750L\n",
      "Importing files ['bd_data/o8h101040_sx1.fits', 'bd_data/o8h102040_sx1.fits', 'bd_data/o8h103040_sx1.fits']\n",
      "Processing file bd_data/o8h101040_sx1.fits\n",
      "Processing file bd_data/o8h102040_sx1.fits\n",
      "Processing file bd_data/o8h103040_sx1.fits\n",
      "Using a maximum SNR of 20.0 in flux-based filtering\n",
      "bd_products/out-50/hst_9631_stis_bdp17d4708_g750l_o8h1_cspec.fits already exists and overwrite=False, skipping write\n",
      "   Wrote bd_products/out-50/hst_9631_stis_bdp17d4708_g750l_o8h1_cspec.fits\n",
      "Making a product from these gratings\n",
      "STIS/G230LB 1667.1-3071.6 (Actual: 1667.4-3069.4)\n",
      "STIS/G430L 2895.9-5704.4 (Actual: 2970.5-5700.8)\n",
      "STIS/G750L 5261.3-10252.3 (Actual: 5305.8-10244.2)\n",
      "Transition wavelengths tweaked\n",
      "Transition wavelengths tweaked\n",
      "Transition wavelengths tweaked\n",
      "Starting at the short wavelength end with grating STIS/G230LB\n",
      "Abutting STIS/G430L product to current result\n",
      "With a transition wavelength of 3069.357664783157\n",
      "Abutting STIS/G750L product to current result\n",
      "With a transition wavelength of 5700.765716054397\n",
      "Truncating current grating at 10244.181165082162\n",
      "bd_products/out-50/hst_9631_stis_bdp17d4708_g230lb-g430l-g750l_o8h1_cspec.fits already exists and overwrite=False, skipping write\n",
      "   Wrote bd_products/out-50/hst_9631_stis_bdp17d4708_g230lb-g430l-g750l_o8h1_cspec.fits\n"
     ]
    }
   ],
   "source": [
    "run_script(bd_data_dir, bd_products_dir, thresholds)"
   ]
  },
  {
   "cell_type": "markdown",
   "id": "3b544942",
   "metadata": {},
   "source": [
    "<a id = analyzethresh></a>\n",
    "## 4.3 Analyzing the Different Co-added Spectra of Different Threshold Values\n",
    "\n",
    "Now that we've run the script on our dataset using differnet threshold values, we can start to analyze the differences between them. \n",
    "\n",
    "The `run_script` function created multiple folders for the abutted products; one folder for each threshold value (ex. `./out-50`). In each folder is the fully co-added spectra. At the time of this notebook, the fully co-added filename is:\n",
    "\n",
    "`hst_9631_stis_bdp17d4708_g230lb-g430l-g750l_o8h1_cspec.fits`\n",
    " \n",
    "Before you continue, make sure that the fully co-added filename is valid, as the filenaming structure may have changed since this notebook was published. Update and run the cell below."
   ]
  },
  {
   "cell_type": "code",
   "execution_count": 26,
   "id": "7e64c4fb",
   "metadata": {
    "execution": {
     "iopub.execute_input": "2024-01-04T14:45:20.171777Z",
     "iopub.status.busy": "2024-01-04T14:45:20.171413Z",
     "iopub.status.idle": "2024-01-04T14:45:20.173752Z",
     "shell.execute_reply": "2024-01-04T14:45:20.173373Z"
    }
   },
   "outputs": [],
   "source": [
    "bd_coadd_name = \"hst_9631_stis_bdp17d4708_g230lb-g430l-g750l_o8h1_cspec.fits\""
   ]
  },
  {
   "cell_type": "markdown",
   "id": "55724aa8",
   "metadata": {},
   "source": [
    "We can see how many files were used in the co-add by running next the cell."
   ]
  },
  {
   "cell_type": "code",
   "execution_count": 27,
   "id": "b8110dbf",
   "metadata": {
    "execution": {
     "iopub.execute_input": "2024-01-04T14:45:20.175547Z",
     "iopub.status.busy": "2024-01-04T14:45:20.175258Z",
     "iopub.status.idle": "2024-01-04T14:45:20.193676Z",
     "shell.execute_reply": "2024-01-04T14:45:20.193259Z"
    }
   },
   "outputs": [
    {
     "name": "stdout",
     "output_type": "stream",
     "text": [
      "The number of files co-added for t = -1 is 6 files\n",
      "The number of files co-added for t = -2 is 9 files\n",
      "The number of files co-added for t = -50 is 12 files\n"
     ]
    }
   ],
   "source": [
    "# Iterating through the threshold values\n",
    "for thresh in thresholds:\n",
    "    # Path to the co-added file\n",
    "    path_to_coadd = f\"{bd_products_dir}/out{thresh}/{bd_coadd_name}\"\n",
    "\n",
    "    # Opening the file to check num files, and printing\n",
    "    numfiles = len(fits.open(path_to_coadd)[2].data[\"FILENAME\"])\n",
    "\n",
    "    # Printing the number of files for the given threshold value\n",
    "    print(f\"The number of files co-added for t = {thresh} is {numfiles} files\")"
   ]
  },
  {
   "cell_type": "markdown",
   "id": "6b1fbf98",
   "metadata": {},
   "source": [
    "As we can see, as we increase the threshold value (`t = -50` -> `t = -1`) we went from 12 files being used to only 6. Since we are using more data with the lower threshold (`t = -50`), we should see an increase in SNR."
   ]
  },
  {
   "cell_type": "markdown",
   "id": "895ef427",
   "metadata": {},
   "source": [
    "### Looking at SNR:"
   ]
  },
  {
   "cell_type": "markdown",
   "id": "b92731fa",
   "metadata": {},
   "source": [
    "We'll plot the SNR of both coadds below. "
   ]
  },
  {
   "cell_type": "code",
   "execution_count": 28,
   "id": "92bff131",
   "metadata": {
    "execution": {
     "iopub.execute_input": "2024-01-04T14:45:20.195756Z",
     "iopub.status.busy": "2024-01-04T14:45:20.195404Z",
     "iopub.status.idle": "2024-01-04T14:45:20.810400Z",
     "shell.execute_reply": "2024-01-04T14:45:20.809929Z"
    }
   },
   "outputs": [
    {
     "data": {
      "image/png": "[encoded data removed]",
      "text/plain": [
       "<Figure size 1000x900 with 2 Axes>"
      ]
     },
     "metadata": {},
     "output_type": "display_data"
    }
   ],
   "source": [
    "# A list of the the non-default thresholds used.\n",
    "nondefault_thresholds = [thresh for thresh in thresholds if thresh != \"-50\"]\n",
    "\n",
    "# List of colors to be used when plotting\n",
    "colors = ['blue',\n",
    "          'red']\n",
    "\n",
    "# Creating our figure: 1 column and len(thresholds) rows\n",
    "figure, ax = plt.subplots(len(nondefault_thresholds), 1,\n",
    "                          figsize=(10, 9))\n",
    "\n",
    "# Iterating through threshold values to compare their SNR to default output\n",
    "for i, thresh in enumerate(nondefault_thresholds):\n",
    "\n",
    "    # The SNR and wavelength data for the default threshold co-add output\n",
    "    default_path = f\"{bd_products_dir}/out-50/{bd_coadd_name}\"\n",
    "    data50 = fits.open(default_path)[1].data\n",
    "    wavelength50 = data50[\"WAVELENGTH\"]\n",
    "    snr50 = data50[\"SNR\"]\n",
    "\n",
    "    # Getting wavelength and SNR for the current iteration's threshold value\n",
    "    curr_path = f\"{bd_products_dir}/out{thresh}/{bd_coadd_name}\"\n",
    "    data = fits.open(curr_path)[1].data\n",
    "    wavelength = data[\"WAVELENGTH\"]\n",
    "    snr = data[\"SNR\"]\n",
    "\n",
    "    # This is the number of files used in the particular co-add\n",
    "    numfiles = len(fits.open(curr_path)[2].data[\"FILENAME\"])\n",
    "    numfiles_default = len(fits.open(default_path)[2].data[\"FILENAME\"])\n",
    "\n",
    "    ax[i].scatter(wavelength50, snr50,\n",
    "                  label=f\"t = -50, {numfiles_default} files co-added\",\n",
    "                  s=1,\n",
    "                  color=\"black\")\n",
    "\n",
    "    ax[i].scatter(wavelength, snr,\n",
    "                  label=f\"t = {thresh}, {numfiles} files co-added\",\n",
    "                  color=colors[i],\n",
    "                  s=1,\n",
    "                  alpha=0.4)\n",
    "\n",
    "    ax[i].legend()\n",
    "\n",
    "    # Highlighting the region of the plot with the biggest SNR change\n",
    "    ax[i].axvspan(3050, 5700,\n",
    "                  alpha=0.3,\n",
    "                  color=\"grey\")\n",
    "\n",
    "    # Adding formatting\n",
    "    ax[i].set_title(f\"SNR vs Wavelength for t = {thresh}, -50\",\n",
    "                    weight=\"bold\")\n",
    "    ax[i].set_xlabel(r'Wavelength [$\\AA$]')\n",
    "    ax[i].set_ylabel(\"SNR\")\n",
    "\n",
    "figure.tight_layout()\n",
    "\n",
    "# Saving the figure to ./bd_products\n",
    "figure.savefig(f\"{bd_products_dir}/snr_wavelength.png\")"
   ]
  },
  {
   "cell_type": "markdown",
   "id": "ef5f4f6d",
   "metadata": {},
   "source": [
    "We can clearly see above that using more files in the co-add substantially increases SNR. This is especially prevalent in the grey highlighted section of the top plot, where we set `t = -1`. The number of files used with that threshold value were 6 files, whereas the default threshold value of `t = -50` used 12 files."
   ]
  },
  {
   "cell_type": "markdown",
   "id": "54a545ad",
   "metadata": {},
   "source": [
    "### Looking at Flux:\n",
    "We're going to create two diffrent plots to analyze our flux data: a standard flux vs wavelength plot, and a differential plot. We will also calculate the percent change in flux between the threshold values vs the default.\n",
    "\n",
    "A differential plot shows the absolute differences between two datasets; in our case, we will be seeing the flux difference at each wavelength between one threshold value's co-add and the default co-add. However, we will first need to interpolate the spectra to a common wavelength grid. Essentially, we will be adjusting the wavelength values so the two datasets can share the same wavelength points. "
   ]
  },
  {
   "cell_type": "code",
   "execution_count": 29,
   "id": "aa9d0c76",
   "metadata": {
    "execution": {
     "iopub.execute_input": "2024-01-04T14:45:20.813015Z",
     "iopub.status.busy": "2024-01-04T14:45:20.812579Z",
     "iopub.status.idle": "2024-01-04T14:45:22.059641Z",
     "shell.execute_reply": "2024-01-04T14:45:22.059090Z"
    }
   },
   "outputs": [
    {
     "data": {
      "image/png": "[encoded data removed]",
      "text/plain": [
       "<Figure size 1000x900 with 2 Axes>"
      ]
     },
     "metadata": {},
     "output_type": "display_data"
    },
    {
     "data": {
      "image/png": "[encoded data removed]",
      "text/plain": [
       "<Figure size 1000x900 with 2 Axes>"
      ]
     },
     "metadata": {},
     "output_type": "display_data"
    }
   ],
   "source": [
    "# Thresholds used that aren't the default\n",
    "nondefault_thresholds = [thresh for thresh in thresholds if thresh != \"-50\"]\n",
    "\n",
    "for i, thresh in enumerate(nondefault_thresholds):\n",
    "    # Getting the data for the co-add that uses default threshold of t = -50\n",
    "    default_path = f\"{bd_products_dir}/out-50/{bd_coadd_name}\"\n",
    "    thresh_data50 = fits.open(default_path)[1].data\n",
    "\n",
    "    wavelength50 = thresh_data50[\"WAVELENGTH\"]\n",
    "    flux50 = thresh_data50[\"FLUX\"]\n",
    "\n",
    "    # Getting data for the co-add that uses the current iteration's threshold\n",
    "    curr_path = f\"{bd_products_dir}/out{thresh}/{bd_coadd_name}\"\n",
    "    thresh_data_curr = fits.open(curr_path)[1].data\n",
    "\n",
    "    wavelength_curr = thresh_data_curr[\"WAVELENGTH\"]\n",
    "    flux_curr = thresh_data_curr[\"FLUX\"]\n",
    "\n",
    "    # Getting the number of files used in co-add, will put this in the plot\n",
    "    numfiles = len(fits.open(curr_path)[2].data[\"FILENAME\"])\n",
    "    numfiles_default = len(fits.open(default_path)[2].data[\"FILENAME\"])\n",
    "\n",
    "    # Minimum wavelength value in dataset\n",
    "    minwave = min(wavelength50[0].min(), wavelength_curr[0].min())\n",
    "\n",
    "    # Maximum wavelength value in dataset\n",
    "    maxwave = max(wavelength50[0].max(), wavelength_curr[0].max())\n",
    "\n",
    "    # Creating a common wavelength grid using shape of default wavelength axis\n",
    "    common_wavelength = np.arange(start=minwave,\n",
    "                                  stop=maxwave,\n",
    "                                  step=1)\n",
    "\n",
    "    # Interpolating the default + current threshold co-add onto new grid\n",
    "    interp_flux50 = interp1d(wavelength50[0],\n",
    "                             flux50,\n",
    "                             kind='linear',\n",
    "                             fill_value=\"extrapolate\")(common_wavelength)\n",
    "    \n",
    "    interp_flux_curr = interp1d(wavelength_curr[0],\n",
    "                                flux_curr,\n",
    "                                kind='linear',\n",
    "                                fill_value=\"extrapolate\")(common_wavelength)\n",
    "\n",
    "    # Creating two subplots, one flux vs wavelength and one differential plot\n",
    "    fig, [ax0, ax1] = plt.subplots(2, 1,\n",
    "                                   figsize=(10, 9))\n",
    "\n",
    "    # Plotting the top plot, a.k.a. the flux vs wavelength for t = -50\n",
    "    ax0.scatter(common_wavelength, interp_flux50,\n",
    "                label=f\"t = -50, {numfiles_default} files\",\n",
    "                color=\"black\",\n",
    "                s=1)\n",
    "\n",
    "    # Plotting flux vs wavelength on same plot for current co-add\n",
    "    ax0.scatter(common_wavelength, interp_flux_curr,\n",
    "                label=f\"t = {thresh}, {numfiles} files\",\n",
    "                color=colors[i],\n",
    "                s=1,\n",
    "                alpha=0.3)\n",
    "\n",
    "    # Calculating difference between current co-add and default flux values\n",
    "    flux_diff = interp_flux_curr - interp_flux50\n",
    "\n",
    "    # Plotting the differential plot\n",
    "    ax1.scatter(common_wavelength, flux_diff,\n",
    "                color=\"black\",\n",
    "                s=1)\n",
    "\n",
    "    # Calculating the percent difference and putting it on the plot\n",
    "    percent_difference = abs(interp_flux50 - interp_flux_curr) / ((interp_flux50 + interp_flux_curr) / 2) * 100\n",
    "\n",
    "    # Calculating the mean percent difference (ignoring NaNs)\n",
    "    percent_difference = round(np.nanmean(percent_difference), 2)\n",
    "\n",
    "    # Adding text box onto plot that displays newly calculated 5 difference\n",
    "    ax0.text(0.02, 0.9,\n",
    "             f\"Average percent difference: {str(percent_difference)}%\",\n",
    "             transform=ax0.transAxes,\n",
    "             weight=\"bold\",\n",
    "             bbox=dict(facecolor=colors[i],\n",
    "                       alpha=0.3))\n",
    "    \n",
    "    # Setting the y axis limits on both plots to be the same\n",
    "    ax0.set_ylim(0, 1e-12)\n",
    "    ax1.set_ylim(0, 1e-12)\n",
    "\n",
    "    # Adding formatting\n",
    "    ax0.set_title(f\"Flux vs Wavelength for t = {thresh}, -50\",\n",
    "                  weight=\"bold\")\n",
    "\n",
    "    ax0.set_xlabel(r'Wavelength [$\\AA$]')\n",
    "    ax0.set_ylabel(r'Flux [$erg\\ s^{-1}\\ cm^{-2}\\ \\AA^{-1}$]')\n",
    "\n",
    "    # Putting the legend on the flux plot\n",
    "    ax0.legend()\n",
    "\n",
    "    ax1.set_title(f\"Absolute Difference for t = {thresh}, -50\",\n",
    "                  weight=\"bold\")\n",
    "    \n",
    "    ax1.set_xlabel(r'Wavelength [$\\AA$]')\n",
    "    ax1.set_ylabel(r'Flux Difference [$erg\\ s^{-1}\\ cm^{-2}\\ \\AA^{-1}$]')\n",
    "\n",
    "    fig.tight_layout()\n",
    "\n",
    "    fig.savefig(f\"{bd_products_dir}/flux_differential.png\")\n",
    "\n",
    "    fig.show()"
   ]
  },
  {
   "cell_type": "markdown",
   "id": "8184adf4",
   "metadata": {},
   "source": [
    "# Congrats on completing the notebook!\n",
    "\n",
    "### There are more tutorial notebooks for custom co-addition cases in [this repo](https://github.com/spacetelescope/hst_notebooks/tree/main/notebooks/HASP), check them out!"
   ]
  },
  {
   "attachments": {},
   "cell_type": "markdown",
   "id": "551c86c8",
   "metadata": {},
   "source": [
    "## About this Notebook\n",
    "**Author:** Sierra Gomez (sigomez@stsci.edu)\n",
    "\n",
    "**Updated on:** 01/02/2024\n",
    "\n",
    "*This tutorial was generated to be in compliance with the [STScI style guides](https://github.com/spacetelescope/style-guides) and would like to cite the [Jupyter guide](https://github.com/spacetelescope/style-guides/blob/master/templates/example_notebook.ipynb) in particular.*\n"
   ]
  },
  {
   "attachments": {},
   "cell_type": "markdown",
   "id": "4b21e475",
   "metadata": {},
   "source": [
    "## Citations\n",
    "\n",
    "If you use the following packages for published research, please cite the authors. Follow these links for more information about citations:\n",
    "\n",
    "* [Citing `astropy`](https://docs.astropy.org/en/stable/index.html)\n",
    "\n",
    "* [Citing `astroquery`](https://astroquery.readthedocs.io/en/latest/)\n",
    "\n",
    "* [Citing `matplotlib`](https://matplotlib.org/stable/users/project/citing.html)\n",
    "\n",
    "* [Citing `numpy`](https://numpy.org/citing-numpy/)\n",
    "\n",
    "* [Citing `scipy`](https://scipy.org/citing-scipy/)"
   ]
  },
  {
   "attachments": {},
   "cell_type": "markdown",
   "id": "164f5842",
   "metadata": {},
   "source": [
    "<img style=\"float: right;\" src=\"https://raw.githubusercontent.com/spacetelescope/notebooks/master/assets/stsci_pri_combo_mark_horizonal_white_bkgd.png\" alt=\"Space Telescope Logo\" width=\"200px\"/>"
   ]
  }
 ],
 "metadata": {
  "kernelspec": {
   "display_name": "Python 3 (ipykernel)",
   "language": "python",
   "name": "python3"
  },
  "language_info": {
   "codemirror_mode": {
    "name": "ipython",
    "version": 3
   },
   "file_extension": ".py",
   "mimetype": "text/x-python",
   "name": "python",
   "nbconvert_exporter": "python",
   "pygments_lexer": "ipython3",
   "version": "3.11.5"
  }
 },
 "nbformat": 4,
 "nbformat_minor": 5
}
